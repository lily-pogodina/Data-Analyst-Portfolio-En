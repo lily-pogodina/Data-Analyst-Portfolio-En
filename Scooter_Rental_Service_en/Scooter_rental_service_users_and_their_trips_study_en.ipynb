{
 "cells": [
  {
   "cell_type": "markdown",
   "id": "fe409cff",
   "metadata": {},
   "source": [
    "# A Study of Scooter Rental Service Users and their Trips\n",
    "\n",
    "We have information on several GoFast mobile app users from several cities, as well as their trips. \\\n",
    "In the study, we will study the main parameters, calculate the monthly revenue from each user, and test a number of hypotheses that can help the business grow:\n",
    "\n",
    "* Do users with a subscription spend more time on trips?\n",
    "* Can we say that the average distance that users with a subscription travel per trip does not exceed the optimal distance from the point of view of scooter wear?\n",
    "* Will the monthly revenue from users with a subscription be higher than the revenue from users without a subscription?\n",
    "\n",
    "\n",
    "To travel around the city, GoFast users use a mobile app. The service can be used:\n",
    "\n",
    "* without a subscription:\n",
    "    * there is no subscription fee;\n",
    "    * the cost of one minute of travel is 8 rubles;\n",
    "    * the cost of starting the trip is 50 rubles;\n",
    "* with an Ultra subscription\n",
    "    * the subscription fee is 199 rubles per month;\n",
    "    * the cost of one minute of travel is 6 rubles;\n",
    "    * the cost of starting is free.\n",
    "\n",
    "\n",
    "**Data Description**\n",
    "\n",
    "The data is contained in three files:\n",
    "\n",
    "File `users_go.csv`:\n",
    "\n",
    "* `user_id` — уникальный идентификатор пользователя\n",
    "* `name` — имя пользователя\n",
    "* `age` — возраст\n",
    "* `city` — город\n",
    "* `subscription_type` —\tтип подписки (free, ultra)\n",
    "\n",
    "* `user_id` — unique user id\n",
    "* `name` — user name\n",
    "* `age` — age\n",
    "* `city` — city\n",
    "* `subscription_type` — subscription type (free, ultra)\n",
    "\n",
    "File `rides_go.csv`:\n",
    "\n",
    "* `user_id` — unique user id\n",
    "* `distance` — distance the user has traveled in the current session (in meters)\n",
    "* `duration` — session duration (in minutes) — time from the moment the user clicked the \"Start trip\" button until the moment he clicked the \"End trip\" button\n",
    "* `date` — date of the trip\n",
    "\n",
    "File `subscriptions_go.csv`:\n",
    "\n",
    "* `subscription_type` — subscription type\n",
    "* `minute_price` — cost of one minute of ride for this subscription\n",
    "* `start_ride_price` — cost of starting a ride\n",
    "* `subscription_fee` — cost of monthly payment"
   ]
  },
  {
   "cell_type": "markdown",
   "id": "d5660bdd",
   "metadata": {},
   "source": [
    "## Loading and examination of data"
   ]
  },
  {
   "cell_type": "code",
   "execution_count": 1,
   "id": "d90ef9dd-42a3-45ed-a3a2-32afd2b1edad",
   "metadata": {},
   "outputs": [],
   "source": [
    "#importing Python libraries\n",
    "import pandas as pd\n",
    "import numpy as np\n",
    "import matplotlib.pyplot as plt\n",
    "import seaborn as sns\n",
    "from scipy import stats as st\n",
    "from math import factorial\n",
    "from scipy.stats import binom\n",
    "from math import sqrt\n",
    "import warnings\n",
    "import jupyter_black"
   ]
  },
  {
   "cell_type": "code",
   "execution_count": 2,
   "id": "ed0ef3f6",
   "metadata": {},
   "outputs": [],
   "source": [
    "#save files into separate variables\n",
    "users = pd.read_csv('users_go.csv')\n",
    "rides = pd.read_csv('rides_go.csv')\n",
    "subscriptions = pd.read_csv('subscriptions_go.csv')"
   ]
  },
  {
   "cell_type": "code",
   "execution_count": 3,
   "id": "c7e17f19",
   "metadata": {},
   "outputs": [],
   "source": [
    "pd.set_option(\n",
    "    \"display.max_columns\", None\n",
    ")  # expand the output area so that all columns are visible\n",
    "warnings.filterwarnings(\"ignore\")  # disable warnings about changes in libraries\n",
    "pd.options.display.float_format = (\n",
    "    \"{:.3f}\".format\n",
    ")  # set the setting to display numbers in float format\n",
    "jupyter_black.load()  # beautify Python code"
   ]
  },
  {
   "cell_type": "markdown",
   "id": "3c903bb3",
   "metadata": {},
   "source": [
    "Let's display the first lines from each dataset and apply the info() method:"
   ]
  },
  {
   "cell_type": "code",
   "execution_count": 4,
   "id": "c013cd16",
   "metadata": {},
   "outputs": [
    {
     "data": {
      "text/html": [
       "<div>\n",
       "<style scoped>\n",
       "    .dataframe tbody tr th:only-of-type {\n",
       "        vertical-align: middle;\n",
       "    }\n",
       "\n",
       "    .dataframe tbody tr th {\n",
       "        vertical-align: top;\n",
       "    }\n",
       "\n",
       "    .dataframe thead th {\n",
       "        text-align: right;\n",
       "    }\n",
       "</style>\n",
       "<table border=\"1\" class=\"dataframe\">\n",
       "  <thead>\n",
       "    <tr style=\"text-align: right;\">\n",
       "      <th></th>\n",
       "      <th>user_id</th>\n",
       "      <th>name</th>\n",
       "      <th>age</th>\n",
       "      <th>city</th>\n",
       "      <th>subscription_type</th>\n",
       "    </tr>\n",
       "  </thead>\n",
       "  <tbody>\n",
       "    <tr>\n",
       "      <th>0</th>\n",
       "      <td>1</td>\n",
       "      <td>Кира</td>\n",
       "      <td>22</td>\n",
       "      <td>Тюмень</td>\n",
       "      <td>ultra</td>\n",
       "    </tr>\n",
       "    <tr>\n",
       "      <th>1</th>\n",
       "      <td>2</td>\n",
       "      <td>Станислав</td>\n",
       "      <td>31</td>\n",
       "      <td>Омск</td>\n",
       "      <td>ultra</td>\n",
       "    </tr>\n",
       "    <tr>\n",
       "      <th>2</th>\n",
       "      <td>3</td>\n",
       "      <td>Алексей</td>\n",
       "      <td>20</td>\n",
       "      <td>Москва</td>\n",
       "      <td>ultra</td>\n",
       "    </tr>\n",
       "    <tr>\n",
       "      <th>3</th>\n",
       "      <td>4</td>\n",
       "      <td>Константин</td>\n",
       "      <td>26</td>\n",
       "      <td>Ростов-на-Дону</td>\n",
       "      <td>ultra</td>\n",
       "    </tr>\n",
       "    <tr>\n",
       "      <th>4</th>\n",
       "      <td>5</td>\n",
       "      <td>Адель</td>\n",
       "      <td>28</td>\n",
       "      <td>Омск</td>\n",
       "      <td>ultra</td>\n",
       "    </tr>\n",
       "  </tbody>\n",
       "</table>\n",
       "</div>"
      ],
      "text/plain": [
       "   user_id        name  age            city subscription_type\n",
       "0        1        Кира   22          Тюмень             ultra\n",
       "1        2   Станислав   31            Омск             ultra\n",
       "2        3     Алексей   20          Москва             ultra\n",
       "3        4  Константин   26  Ростов-на-Дону             ultra\n",
       "4        5       Адель   28            Омск             ultra"
      ]
     },
     "execution_count": 4,
     "metadata": {},
     "output_type": "execute_result"
    }
   ],
   "source": [
    "users.head()"
   ]
  },
  {
   "cell_type": "code",
   "execution_count": 5,
   "id": "e05bb8f8",
   "metadata": {},
   "outputs": [
    {
     "name": "stdout",
     "output_type": "stream",
     "text": [
      "<class 'pandas.core.frame.DataFrame'>\n",
      "RangeIndex: 1565 entries, 0 to 1564\n",
      "Data columns (total 5 columns):\n",
      " #   Column             Non-Null Count  Dtype \n",
      "---  ------             --------------  ----- \n",
      " 0   user_id            1565 non-null   int64 \n",
      " 1   name               1565 non-null   object\n",
      " 2   age                1565 non-null   int64 \n",
      " 3   city               1565 non-null   object\n",
      " 4   subscription_type  1565 non-null   object\n",
      "dtypes: int64(2), object(3)\n",
      "memory usage: 61.3+ KB\n"
     ]
    }
   ],
   "source": [
    "users.info()"
   ]
  },
  {
   "cell_type": "code",
   "execution_count": 6,
   "id": "542eaf1a",
   "metadata": {},
   "outputs": [
    {
     "data": {
      "text/html": [
       "<div>\n",
       "<style scoped>\n",
       "    .dataframe tbody tr th:only-of-type {\n",
       "        vertical-align: middle;\n",
       "    }\n",
       "\n",
       "    .dataframe tbody tr th {\n",
       "        vertical-align: top;\n",
       "    }\n",
       "\n",
       "    .dataframe thead th {\n",
       "        text-align: right;\n",
       "    }\n",
       "</style>\n",
       "<table border=\"1\" class=\"dataframe\">\n",
       "  <thead>\n",
       "    <tr style=\"text-align: right;\">\n",
       "      <th></th>\n",
       "      <th>user_id</th>\n",
       "      <th>distance</th>\n",
       "      <th>duration</th>\n",
       "      <th>date</th>\n",
       "    </tr>\n",
       "  </thead>\n",
       "  <tbody>\n",
       "    <tr>\n",
       "      <th>0</th>\n",
       "      <td>1</td>\n",
       "      <td>4409.919</td>\n",
       "      <td>25.600</td>\n",
       "      <td>2021-01-01</td>\n",
       "    </tr>\n",
       "    <tr>\n",
       "      <th>1</th>\n",
       "      <td>1</td>\n",
       "      <td>2617.592</td>\n",
       "      <td>15.817</td>\n",
       "      <td>2021-01-18</td>\n",
       "    </tr>\n",
       "    <tr>\n",
       "      <th>2</th>\n",
       "      <td>1</td>\n",
       "      <td>754.160</td>\n",
       "      <td>6.232</td>\n",
       "      <td>2021-04-20</td>\n",
       "    </tr>\n",
       "    <tr>\n",
       "      <th>3</th>\n",
       "      <td>1</td>\n",
       "      <td>2694.783</td>\n",
       "      <td>18.511</td>\n",
       "      <td>2021-08-11</td>\n",
       "    </tr>\n",
       "    <tr>\n",
       "      <th>4</th>\n",
       "      <td>1</td>\n",
       "      <td>4028.687</td>\n",
       "      <td>26.266</td>\n",
       "      <td>2021-08-28</td>\n",
       "    </tr>\n",
       "  </tbody>\n",
       "</table>\n",
       "</div>"
      ],
      "text/plain": [
       "   user_id  distance  duration        date\n",
       "0        1  4409.919    25.600  2021-01-01\n",
       "1        1  2617.592    15.817  2021-01-18\n",
       "2        1   754.160     6.232  2021-04-20\n",
       "3        1  2694.783    18.511  2021-08-11\n",
       "4        1  4028.687    26.266  2021-08-28"
      ]
     },
     "execution_count": 6,
     "metadata": {},
     "output_type": "execute_result"
    }
   ],
   "source": [
    "rides.head()"
   ]
  },
  {
   "cell_type": "code",
   "execution_count": 7,
   "id": "1f853421",
   "metadata": {},
   "outputs": [
    {
     "name": "stdout",
     "output_type": "stream",
     "text": [
      "<class 'pandas.core.frame.DataFrame'>\n",
      "RangeIndex: 18068 entries, 0 to 18067\n",
      "Data columns (total 4 columns):\n",
      " #   Column    Non-Null Count  Dtype  \n",
      "---  ------    --------------  -----  \n",
      " 0   user_id   18068 non-null  int64  \n",
      " 1   distance  18068 non-null  float64\n",
      " 2   duration  18068 non-null  float64\n",
      " 3   date      18068 non-null  object \n",
      "dtypes: float64(2), int64(1), object(1)\n",
      "memory usage: 564.8+ KB\n"
     ]
    }
   ],
   "source": [
    "rides.info()"
   ]
  },
  {
   "cell_type": "code",
   "execution_count": 8,
   "id": "a354081f",
   "metadata": {},
   "outputs": [
    {
     "data": {
      "text/html": [
       "<div>\n",
       "<style scoped>\n",
       "    .dataframe tbody tr th:only-of-type {\n",
       "        vertical-align: middle;\n",
       "    }\n",
       "\n",
       "    .dataframe tbody tr th {\n",
       "        vertical-align: top;\n",
       "    }\n",
       "\n",
       "    .dataframe thead th {\n",
       "        text-align: right;\n",
       "    }\n",
       "</style>\n",
       "<table border=\"1\" class=\"dataframe\">\n",
       "  <thead>\n",
       "    <tr style=\"text-align: right;\">\n",
       "      <th></th>\n",
       "      <th>subscription_type</th>\n",
       "      <th>minute_price</th>\n",
       "      <th>start_ride_price</th>\n",
       "      <th>subscription_fee</th>\n",
       "    </tr>\n",
       "  </thead>\n",
       "  <tbody>\n",
       "    <tr>\n",
       "      <th>0</th>\n",
       "      <td>free</td>\n",
       "      <td>8</td>\n",
       "      <td>50</td>\n",
       "      <td>0</td>\n",
       "    </tr>\n",
       "    <tr>\n",
       "      <th>1</th>\n",
       "      <td>ultra</td>\n",
       "      <td>6</td>\n",
       "      <td>0</td>\n",
       "      <td>199</td>\n",
       "    </tr>\n",
       "  </tbody>\n",
       "</table>\n",
       "</div>"
      ],
      "text/plain": [
       "  subscription_type  minute_price  start_ride_price  subscription_fee\n",
       "0              free             8                50                 0\n",
       "1             ultra             6                 0               199"
      ]
     },
     "execution_count": 8,
     "metadata": {},
     "output_type": "execute_result"
    }
   ],
   "source": [
    "subscriptions.head()"
   ]
  },
  {
   "cell_type": "code",
   "execution_count": 9,
   "id": "6ca6e2f7",
   "metadata": {},
   "outputs": [
    {
     "name": "stdout",
     "output_type": "stream",
     "text": [
      "<class 'pandas.core.frame.DataFrame'>\n",
      "RangeIndex: 2 entries, 0 to 1\n",
      "Data columns (total 4 columns):\n",
      " #   Column             Non-Null Count  Dtype \n",
      "---  ------             --------------  ----- \n",
      " 0   subscription_type  2 non-null      object\n",
      " 1   minute_price       2 non-null      int64 \n",
      " 2   start_ride_price   2 non-null      int64 \n",
      " 3   subscription_fee   2 non-null      int64 \n",
      "dtypes: int64(3), object(1)\n",
      "memory usage: 196.0+ bytes\n"
     ]
    }
   ],
   "source": [
    "subscriptions.info()"
   ]
  },
  {
   "cell_type": "markdown",
   "id": "5d6449ac",
   "metadata": {},
   "source": [
    "### Interim conclusion\n",
    "\n",
    "* There are no missing values in any of the data sets.\n",
    "* It is worth checking `rides` and `users` for duplicates.\n",
    "* We need to change the `date` column type (`rides` dataframe) to datetime64."
   ]
  },
  {
   "cell_type": "markdown",
   "id": "ebc4a9b5",
   "metadata": {},
   "source": [
    "## Data preprocessing"
   ]
  },
  {
   "cell_type": "markdown",
   "id": "a967dcc6",
   "metadata": {},
   "source": [
    "### Changing data types"
   ]
  },
  {
   "cell_type": "code",
   "execution_count": 10,
   "id": "7621c1f6",
   "metadata": {},
   "outputs": [],
   "source": [
    "# changing the object type to datetime64.\n",
    "rides[\"date\"] = pd.to_datetime(rides[\"date\"], format=\"%Y-%m-%d\")"
   ]
  },
  {
   "cell_type": "markdown",
   "id": "d413cd90",
   "metadata": {},
   "source": [
    "### Adding new column"
   ]
  },
  {
   "cell_type": "markdown",
   "id": "b921dbd6",
   "metadata": {},
   "source": [
    "Let's add a column `month` to the `rides` dataframe, where we'll add data about the month of the trip."
   ]
  },
  {
   "cell_type": "code",
   "execution_count": 11,
   "id": "b7fec509",
   "metadata": {},
   "outputs": [],
   "source": [
    "rides[\"month\"] = rides[\"date\"].dt.month"
   ]
  },
  {
   "cell_type": "markdown",
   "id": "933f1e7a",
   "metadata": {},
   "source": [
    "Let's clarify the time period covered by the data:"
   ]
  },
  {
   "cell_type": "code",
   "execution_count": 12,
   "id": "00ba37b8",
   "metadata": {},
   "outputs": [
    {
     "name": "stdout",
     "output_type": "stream",
     "text": [
      "Earliest date in the dataset: 2021-01-01 00:00:00\n",
      "Latest date in the dataset: 2021-12-30 00:00:00\n"
     ]
    }
   ],
   "source": [
    "print(\"Earliest date in the dataset:\", rides[\"date\"].min())\n",
    "print(\"Latest date in the dataset:\", rides[\"date\"].max())"
   ]
  },
  {
   "cell_type": "markdown",
   "id": "468c9348",
   "metadata": {},
   "source": [
    "The data covers the period 2021."
   ]
  },
  {
   "cell_type": "markdown",
   "id": "461ff65f",
   "metadata": {},
   "source": [
    "### Finding and removing duplicate records"
   ]
  },
  {
   "cell_type": "markdown",
   "id": "832e28b2",
   "metadata": {},
   "source": [
    "#### Finding exact duplicate rows\n",
    "\n",
    "First, let's check the `rides` and `users` dataframes for exact rows."
   ]
  },
  {
   "cell_type": "code",
   "execution_count": 13,
   "id": "872850de",
   "metadata": {},
   "outputs": [
    {
     "data": {
      "text/plain": [
       "0"
      ]
     },
     "execution_count": 13,
     "metadata": {},
     "output_type": "execute_result"
    }
   ],
   "source": [
    "rides.duplicated().sum()"
   ]
  },
  {
   "cell_type": "code",
   "execution_count": 14,
   "id": "7008c214",
   "metadata": {},
   "outputs": [
    {
     "data": {
      "text/plain": [
       "31"
      ]
     },
     "execution_count": 14,
     "metadata": {},
     "output_type": "execute_result"
    }
   ],
   "source": [
    "users.duplicated().sum()"
   ]
  },
  {
   "cell_type": "markdown",
   "id": "a9248f0e",
   "metadata": {},
   "source": [
    "There are no obvious duplicates in `rides`, but 31 completely matching lines were found in `users`.\n",
    "\n",
    "This dataframe contains data on unique clients with a unique user id. So duplicates should be removed."
   ]
  },
  {
   "cell_type": "code",
   "execution_count": 15,
   "id": "f53c3404",
   "metadata": {},
   "outputs": [],
   "source": [
    "# remove duplicate lines\n",
    "users = users.drop_duplicates()"
   ]
  },
  {
   "cell_type": "markdown",
   "id": "a75d3fcf",
   "metadata": {},
   "source": [
    "#### Finding partial duplicates\n"
   ]
  },
  {
   "cell_type": "markdown",
   "id": "9e3159d5",
   "metadata": {},
   "source": [
    "In this case, we are only interested in the `users` dataframe, which has columns with string values. They may contain errors and typos.\n",
    "\n",
    "There are three such columns:\n",
    "* `name` - user name\n",
    "* `city` - city\n",
    "* `subscription_type` - subscription type (free, ultra)\n",
    "\n",
    "Also check the 'user_id' column for duplicated IDs."
   ]
  },
  {
   "cell_type": "code",
   "execution_count": 16,
   "id": "506f068e",
   "metadata": {},
   "outputs": [
    {
     "data": {
      "text/plain": [
       "1"
      ]
     },
     "execution_count": 16,
     "metadata": {},
     "output_type": "execute_result"
    }
   ],
   "source": [
    "# sort the 'user_id' column by unique values, output largest frequency\n",
    "users[\"user_id\"].value_counts().max()"
   ]
  },
  {
   "cell_type": "markdown",
   "id": "58f38c5f",
   "metadata": {},
   "source": [
    "All values in the `user_id` column occur only once.\n",
    "\n",
    "--- \n",
    "\n",
    "Next, examine the `'name'` column:"
   ]
  },
  {
   "cell_type": "code",
   "execution_count": 17,
   "id": "abf1b203",
   "metadata": {
    "scrolled": true
   },
   "outputs": [
    {
     "name": "stdout",
     "output_type": "stream",
     "text": [
      "Агата\n",
      "Аделина\n",
      "Адель\n",
      "Айдар\n",
      "Александр\n",
      "Александра\n",
      "Алексей\n",
      "Алина\n",
      "Алиса\n",
      "Алия\n",
      "Алла\n",
      "Альберт\n",
      "Альбина\n",
      "Алёна\n",
      "Амалия\n",
      "Амина\n",
      "Амир\n",
      "Анастасия\n",
      "Анатолий\n",
      "Ангелина\n",
      "Андрей\n",
      "Анжелика\n",
      "Анна\n",
      "Антон\n",
      "Антонина\n",
      "Ариана\n",
      "Арина\n",
      "Арсен\n",
      "Арсений\n",
      "Артемий\n",
      "Артур\n",
      "Артём\n",
      "Богдан\n",
      "Борис\n",
      "Вадим\n",
      "Валентина\n",
      "Валерий\n",
      "Валерия\n",
      "Варвара\n",
      "Василий\n",
      "Василина\n",
      "Василиса\n",
      "Вера\n",
      "Вероника\n",
      "Виктор\n",
      "Виктория\n",
      "Виолетта\n",
      "Виталий\n",
      "Виталина\n",
      "Влад\n",
      "Влада\n",
      "Владимир\n",
      "Владислав\n",
      "Владислава\n",
      "Всеволод\n",
      "Вячеслав\n",
      "Галина\n",
      "Георгий\n",
      "Герман\n",
      "Глеб\n",
      "Гордей\n",
      "Григорий\n",
      "Давид\n",
      "Дамир\n",
      "Даниил\n",
      "Данил\n",
      "Данила\n",
      "Даниэль\n",
      "Дарина\n",
      "Дарья\n",
      "Демид\n",
      "Денис\n",
      "Диана\n",
      "Дмитрий\n",
      "Ева\n",
      "Евгений\n",
      "Евгения\n",
      "Егор\n",
      "Екатерина\n",
      "Елена\n",
      "Елизавета\n",
      "Елисей\n",
      "Есения\n",
      "Жанна\n",
      "Зарина\n",
      "Захар\n",
      "Злата\n",
      "Иван\n",
      "Игнат\n",
      "Игорь\n",
      "Ильдар\n",
      "Илья\n",
      "Инна\n",
      "Ирина\n",
      "Камилла\n",
      "Карина\n",
      "Каролина\n",
      "Кира\n",
      "Кирилл\n",
      "Константин\n",
      "Кристина\n",
      "Ксения\n",
      "Лариса\n",
      "Лев\n",
      "Леонид\n",
      "Лиана\n",
      "Лидия\n",
      "Лилия\n",
      "Любовь\n",
      "Людмила\n",
      "Мадина\n",
      "Майя\n",
      "Макар\n",
      "Максим\n",
      "Марат\n",
      "Маргарита\n",
      "Марина\n",
      "Мария\n",
      "Марк\n",
      "Марсель\n",
      "Матвей\n",
      "Мелания\n",
      "Милана\n",
      "Милена\n",
      "Мирон\n",
      "Мирослав\n",
      "Мирослава\n",
      "Михаил\n",
      "Назар\n",
      "Наталия\n",
      "Наталья\n",
      "Наташа\n",
      "Нелли\n",
      "Ника\n",
      "Никита\n",
      "Николай\n",
      "Нина\n",
      "Одиссей\n",
      "Оксана\n",
      "Олег\n",
      "Олеся\n",
      "Ольга\n",
      "Павел\n",
      "Петр\n",
      "Платон\n",
      "Полина\n",
      "Радмир\n",
      "Рамиль\n",
      "Регина\n",
      "Роберт\n",
      "Родион\n",
      "Роман\n",
      "Ростислав\n",
      "Руслан\n",
      "Рустам\n",
      "Савелий\n",
      "Самир\n",
      "Самира\n",
      "Светлана\n",
      "Святогор\n",
      "Святослав\n",
      "Семен\n",
      "Сергей\n",
      "Снежана\n",
      "София\n",
      "Софья\n",
      "Станислав\n",
      "Степан\n",
      "Стефания\n",
      "Таисия\n",
      "Тамара\n",
      "Тамерлан\n",
      "Татьяна\n",
      "Тимофей\n",
      "Тимур\n",
      "Тихон\n",
      "Ульяна\n",
      "Федор\n",
      "Эвелина\n",
      "Эдуард\n",
      "Элина\n",
      "Эльвира\n",
      "Эльмира\n",
      "Эмилия\n",
      "Эмиль\n",
      "Юлиана\n",
      "Юлия\n",
      "Юрий\n",
      "Ян\n",
      "Яна\n",
      "Яромир\n",
      "Ярослав\n",
      "Ярослава\n",
      "Ясмина\n"
     ]
    }
   ],
   "source": [
    "# display unique values in alphabetical order\n",
    "names_unique = np.sort(users[\"name\"].unique())\n",
    "for name in names_unique:\n",
    "    print(name)"
   ]
  },
  {
   "cell_type": "markdown",
   "id": "e20db9cf",
   "metadata": {},
   "source": [
    "There are no typos, all names are written uniformly. There are pairs of similar names, for example `Sofia and Sofya`,\n",
    "`Natalia and Natalia`, but this can be attributed to different writing styles, and in the context of our study, such similarities in names are not critical. So we will leave them as is.\n",
    "\n",
    "We will study the `city` column similarly:"
   ]
  },
  {
   "cell_type": "code",
   "execution_count": 18,
   "id": "f54f0370",
   "metadata": {},
   "outputs": [
    {
     "name": "stdout",
     "output_type": "stream",
     "text": [
      "Екатеринбург\n",
      "Краснодар\n",
      "Москва\n",
      "Омск\n",
      "Пятигорск\n",
      "Ростов-на-Дону\n",
      "Сочи\n",
      "Тюмень\n"
     ]
    }
   ],
   "source": [
    "# display unique values in alphabetical order\n",
    "cities_unique = np.sort(users[\"city\"].unique())\n",
    "for name in cities_unique:\n",
    "    print(name)"
   ]
  },
  {
   "cell_type": "markdown",
   "id": "3e6346a6",
   "metadata": {},
   "source": [
    "Everything is fine here, the data in the table covers only 8 cities, there are no errors.\n",
    "\n",
    "Let's move on to checking the `subscription_type` column. It can contain only two unique values `ultra` and `free`."
   ]
  },
  {
   "cell_type": "code",
   "execution_count": 19,
   "id": "11325e49",
   "metadata": {},
   "outputs": [
    {
     "data": {
      "text/plain": [
       "array(['ultra', 'free'], dtype=object)"
      ]
     },
     "execution_count": 19,
     "metadata": {},
     "output_type": "execute_result"
    }
   ],
   "source": [
    "# show unique vallues in column\n",
    "users[\"subscription_type\"].unique()"
   ]
  },
  {
   "cell_type": "markdown",
   "id": "bae7c343",
   "metadata": {},
   "source": [
    "Everything is correct, there are no errors in the column."
   ]
  },
  {
   "cell_type": "markdown",
   "id": "1596387e",
   "metadata": {},
   "source": [
    "### Interim conclusion\n",
    "\n",
    "We have prepared the data for work:\n",
    "\n",
    "* Checked the data for missing values\n",
    "* In the `rides` dataset — added a new column `month`, and also corrected the type of the `date` column to datetime64"
   ]
  },
  {
   "cell_type": "markdown",
   "id": "a7385040",
   "metadata": {},
   "source": [
    "## Exploratory data analysis"
   ]
  },
  {
   "cell_type": "markdown",
   "id": "97b5c599",
   "metadata": {},
   "source": [
    "### Distribution of users by cities"
   ]
  },
  {
   "cell_type": "code",
   "execution_count": 20,
   "id": "ba35a2e3",
   "metadata": {},
   "outputs": [
    {
     "data": {
      "text/plain": [
       "city\n",
       "Пятигорск         219\n",
       "Екатеринбург      204\n",
       "Ростов-на-Дону    198\n",
       "Краснодар         193\n",
       "Сочи              189\n",
       "Омск              183\n",
       "Тюмень            180\n",
       "Москва            168\n",
       "Name: count, dtype: int64"
      ]
     },
     "execution_count": 20,
     "metadata": {},
     "output_type": "execute_result"
    }
   ],
   "source": [
    "# sort unique values by number of mentions\n",
    "users[\"city\"].value_counts()"
   ]
  },
  {
   "cell_type": "markdown",
   "id": "15a691fa",
   "metadata": {},
   "source": [
    "Visualizing data on a graph."
   ]
  },
  {
   "cell_type": "code",
   "execution_count": 21,
   "id": "eb0e6d19-c197-45ce-95c8-dbceb3093a4d",
   "metadata": {},
   "outputs": [
    {
     "data": {
      "image/png": "[encoded data removed]",
      "text/plain": [
       "<Figure size 640x480 with 1 Axes>"
      ]
     },
     "metadata": {},
     "output_type": "display_data"
    }
   ],
   "source": [
    "sns.set_palette(\"Blues_d\")  # setting colors for the seaborn library\n",
    "\n",
    "# preparing data for the graph\n",
    "cities_frequency = users[\"city\"].value_counts().reset_index()\n",
    "cities_frequency.columns = [\"City\", \"Number of users\"]\n",
    "\n",
    "# creating a barplot\n",
    "sns.barplot(data=cities_frequency, x=\"Number of users\", y=\"City\").set(\n",
    "    title=\"Distribution of users by cities\"\n",
    ");"
   ]
  },
  {
   "cell_type": "markdown",
   "id": "caeff088",
   "metadata": {},
   "source": [
    "**Observation:** It is interesting that the data has the most users from the small city of Pyatigorsk, and the least from the most populous city in Europe, Moscow."
   ]
  },
  {
   "cell_type": "markdown",
   "id": "a741e00f",
   "metadata": {},
   "source": [
    "### Ratio of users with and without subscription"
   ]
  },
  {
   "cell_type": "code",
   "execution_count": 22,
   "id": "e209549f",
   "metadata": {},
   "outputs": [
    {
     "data": {
      "text/plain": [
       "subscription_type\n",
       "free    54.433\n",
       "ultra   45.567\n",
       "Name: proportion, dtype: float64"
      ]
     },
     "execution_count": 22,
     "metadata": {},
     "output_type": "execute_result"
    }
   ],
   "source": [
    "# display the percentage for each option.\n",
    "users[\"subscription_type\"].value_counts(normalize=True) * 100"
   ]
  },
  {
   "cell_type": "markdown",
   "id": "747f0938-28ac-4ab2-92f5-5ad398a9d9a3",
   "metadata": {},
   "source": [
    "Visualize on a pie chart"
   ]
  },
  {
   "cell_type": "code",
   "execution_count": 23,
   "id": "8540cb3d",
   "metadata": {},
   "outputs": [
    {
     "data": {
      "image/png": "[encoded data removed]",
      "text/plain": [
       "<Figure size 640x480 with 1 Axes>"
      ]
     },
     "metadata": {},
     "output_type": "display_data"
    }
   ],
   "source": [
    "sns.set_palette(\"Set2\")  # setting colors for the seaborn library\n",
    "\n",
    "# creating a pie chart\n",
    "plt.title(\"User ratio\")\n",
    "plt.pie(\n",
    "    users[\"subscription_type\"].value_counts(),\n",
    "    labels=[\"Free\", \"Ultra\"],\n",
    "    autopct=\"%.0f%%\",\n",
    ");"
   ]
  },
  {
   "cell_type": "markdown",
   "id": "7b7ff4f2",
   "metadata": {},
   "source": [
    "**Observation:** There are 8% fewer users with a subscription than those who do without it."
   ]
  },
  {
   "cell_type": "markdown",
   "id": "09670a9d",
   "metadata": {},
   "source": [
    "### Age of users"
   ]
  },
  {
   "cell_type": "markdown",
   "id": "cbad458d",
   "metadata": {},
   "source": [
    "Let's apply the describe() method to the `age` column and build a histogram."
   ]
  },
  {
   "cell_type": "code",
   "execution_count": 24,
   "id": "67f0e310",
   "metadata": {},
   "outputs": [
    {
     "data": {
      "text/plain": [
       "count   1534.000\n",
       "mean      24.904\n",
       "std        4.572\n",
       "min       12.000\n",
       "25%       22.000\n",
       "50%       25.000\n",
       "75%       28.000\n",
       "max       43.000\n",
       "Name: age, dtype: float64"
      ]
     },
     "execution_count": 24,
     "metadata": {},
     "output_type": "execute_result"
    }
   ],
   "source": [
    "users[\"age\"].describe()"
   ]
  },
  {
   "cell_type": "code",
   "execution_count": 25,
   "id": "22410dfd",
   "metadata": {},
   "outputs": [
    {
     "data": {
      "image/png": "[encoded data removed]",
      "text/plain": [
       "<Figure size 640x480 with 1 Axes>"
      ]
     },
     "metadata": {},
     "output_type": "display_data"
    }
   ],
   "source": [
    "# create histogram\n",
    "users[\"age\"].hist(bins=32, range=(12, 43))\n",
    "\n",
    "# assign axes and titles\n",
    "plt.title(\"Age distribution of users\")\n",
    "plt.xlabel(\"Age, years\")\n",
    "plt.ylabel(\"Frequency\")\n",
    "\n",
    "# add median line\n",
    "plt.axvline(users[\"age\"].median(), color=\"r\", linestyle=\"-\", linewidth=1)\n",
    "plt.text(26, 140, \"median\", rotation=0);"
   ]
  },
  {
   "cell_type": "code",
   "execution_count": 26,
   "id": "67971945",
   "metadata": {},
   "outputs": [
    {
     "data": {
      "text/plain": [
       "age\n",
       "25    145\n",
       "24    132\n",
       "26    131\n",
       "23    129\n",
       "22    119\n",
       "Name: count, dtype: int64"
      ]
     },
     "execution_count": 26,
     "metadata": {},
     "output_type": "execute_result"
    }
   ],
   "source": [
    "# display top-5 most frequent ages in the dataset\n",
    "users[\"age\"].value_counts().head()"
   ]
  },
  {
   "cell_type": "markdown",
   "id": "24bb51e5",
   "metadata": {},
   "source": [
    "**Observation:** the distribution is similar to normal, without outliers. The minimum age of the application users is 12 years. Most likely, the application limits the ability to register to children under 12. The most common users are 25 years old, the same age is obtained when calculating the mean and median for the column."
   ]
  },
  {
   "cell_type": "markdown",
   "id": "46a25788",
   "metadata": {},
   "source": [
    "### Distance per trip\n",
    "\n",
    "Let's apply the describe() method to the `distance` column and build a histogram."
   ]
  },
  {
   "cell_type": "code",
   "execution_count": 27,
   "id": "a9f05ccb",
   "metadata": {},
   "outputs": [
    {
     "data": {
      "text/plain": [
       "count   18068.000\n",
       "mean     3070.660\n",
       "std      1116.831\n",
       "min         0.856\n",
       "25%      2543.226\n",
       "50%      3133.610\n",
       "75%      3776.223\n",
       "max      7211.008\n",
       "Name: distance, dtype: float64"
      ]
     },
     "execution_count": 27,
     "metadata": {},
     "output_type": "execute_result"
    }
   ],
   "source": [
    "rides[\"distance\"].describe()"
   ]
  },
  {
   "cell_type": "code",
   "execution_count": 28,
   "id": "e4a04458",
   "metadata": {},
   "outputs": [
    {
     "data": {
      "image/png": "[encoded data removed]",
      "text/plain": [
       "<Figure size 640x480 with 1 Axes>"
      ]
     },
     "metadata": {},
     "output_type": "display_data"
    }
   ],
   "source": [
    "# create histogram\n",
    "rides[\"distance\"].hist(bins=100)\n",
    "\n",
    "# assign axes and titles\n",
    "plt.title(\"Trip distance distribution\")\n",
    "plt.xlabel(\"Distance, m\")\n",
    "plt.ylabel(\"Frequency\")\n",
    "\n",
    "# add median line\n",
    "plt.axvline(rides[\"distance\"].median(), color=\"r\", linestyle=\"-\", linewidth=1)\n",
    "plt.text(3200, 650, \"median\", rotation=0);"
   ]
  },
  {
   "cell_type": "markdown",
   "id": "dadcf76e",
   "metadata": {},
   "source": [
    "**Observation:** The distribution has two distinct peaks, around 600 and 3100 meters. The median is located in the area of ​​the peak 3100 and is equal to 3133 m."
   ]
  },
  {
   "cell_type": "markdown",
   "id": "a030e6ad",
   "metadata": {},
   "source": [
    "### Duration of trips"
   ]
  },
  {
   "cell_type": "markdown",
   "id": "2181de2c",
   "metadata": {},
   "source": [
    "Let's apply the describe() method to the `duration` column and build a histogram."
   ]
  },
  {
   "cell_type": "code",
   "execution_count": 29,
   "id": "a777c5c5",
   "metadata": {},
   "outputs": [
    {
     "data": {
      "text/plain": [
       "count   18068.000\n",
       "mean       17.805\n",
       "std         6.091\n",
       "min         0.500\n",
       "25%        13.598\n",
       "50%        17.678\n",
       "75%        21.725\n",
       "max        40.824\n",
       "Name: duration, dtype: float64"
      ]
     },
     "execution_count": 29,
     "metadata": {},
     "output_type": "execute_result"
    }
   ],
   "source": [
    "rides[\"duration\"].describe()"
   ]
  },
  {
   "cell_type": "code",
   "execution_count": 30,
   "id": "da4cf16f",
   "metadata": {},
   "outputs": [
    {
     "data": {
      "image/png": "[encoded data removed]",
      "text/plain": [
       "<Figure size 640x480 with 1 Axes>"
      ]
     },
     "metadata": {},
     "output_type": "display_data"
    }
   ],
   "source": [
    "# create histogram\n",
    "rides[\"duration\"].hist(bins=50)\n",
    "\n",
    "# assign axes and titles\n",
    "plt.title(\"Trip duration distribution\")\n",
    "plt.xlabel(\"Trip duration, min\")\n",
    "plt.ylabel(\"Frequency\")\n",
    "\n",
    "# add median line\n",
    "plt.axvline(rides[\"duration\"].median(), color=\"r\", linestyle=\"-\", linewidth=1)\n",
    "plt.text(19, 800, \"median\", rotation=0);"
   ]
  },
  {
   "cell_type": "markdown",
   "id": "2c4f9a58",
   "metadata": {},
   "source": [
    "An interesting spike around 0.5 minutes. Let's slice the data for this duration and take a closer look."
   ]
  },
  {
   "cell_type": "code",
   "execution_count": 31,
   "id": "b44e6c8d",
   "metadata": {},
   "outputs": [
    {
     "data": {
      "text/html": [
       "<div>\n",
       "<style scoped>\n",
       "    .dataframe tbody tr th:only-of-type {\n",
       "        vertical-align: middle;\n",
       "    }\n",
       "\n",
       "    .dataframe tbody tr th {\n",
       "        vertical-align: top;\n",
       "    }\n",
       "\n",
       "    .dataframe thead th {\n",
       "        text-align: right;\n",
       "    }\n",
       "</style>\n",
       "<table border=\"1\" class=\"dataframe\">\n",
       "  <thead>\n",
       "    <tr style=\"text-align: right;\">\n",
       "      <th></th>\n",
       "      <th>user_id</th>\n",
       "      <th>distance</th>\n",
       "      <th>duration</th>\n",
       "      <th>date</th>\n",
       "      <th>month</th>\n",
       "    </tr>\n",
       "  </thead>\n",
       "  <tbody>\n",
       "    <tr>\n",
       "      <th>6531</th>\n",
       "      <td>701</td>\n",
       "      <td>4196.445</td>\n",
       "      <td>0.500</td>\n",
       "      <td>2021-08-31</td>\n",
       "      <td>8</td>\n",
       "    </tr>\n",
       "    <tr>\n",
       "      <th>6570</th>\n",
       "      <td>704</td>\n",
       "      <td>4830.824</td>\n",
       "      <td>0.500</td>\n",
       "      <td>2021-10-14</td>\n",
       "      <td>10</td>\n",
       "    </tr>\n",
       "    <tr>\n",
       "      <th>6680</th>\n",
       "      <td>712</td>\n",
       "      <td>4684.004</td>\n",
       "      <td>0.500</td>\n",
       "      <td>2021-03-04</td>\n",
       "      <td>3</td>\n",
       "    </tr>\n",
       "    <tr>\n",
       "      <th>6695</th>\n",
       "      <td>713</td>\n",
       "      <td>5215.643</td>\n",
       "      <td>0.500</td>\n",
       "      <td>2021-02-25</td>\n",
       "      <td>2</td>\n",
       "    </tr>\n",
       "    <tr>\n",
       "      <th>6768</th>\n",
       "      <td>718</td>\n",
       "      <td>5197.437</td>\n",
       "      <td>0.500</td>\n",
       "      <td>2021-02-11</td>\n",
       "      <td>2</td>\n",
       "    </tr>\n",
       "    <tr>\n",
       "      <th>...</th>\n",
       "      <td>...</td>\n",
       "      <td>...</td>\n",
       "      <td>...</td>\n",
       "      <td>...</td>\n",
       "      <td>...</td>\n",
       "    </tr>\n",
       "    <tr>\n",
       "      <th>17004</th>\n",
       "      <td>1460</td>\n",
       "      <td>5531.336</td>\n",
       "      <td>0.500</td>\n",
       "      <td>2021-01-19</td>\n",
       "      <td>1</td>\n",
       "    </tr>\n",
       "    <tr>\n",
       "      <th>17242</th>\n",
       "      <td>1477</td>\n",
       "      <td>6724.933</td>\n",
       "      <td>0.500</td>\n",
       "      <td>2021-01-12</td>\n",
       "      <td>1</td>\n",
       "    </tr>\n",
       "    <tr>\n",
       "      <th>17314</th>\n",
       "      <td>1483</td>\n",
       "      <td>4445.481</td>\n",
       "      <td>0.500</td>\n",
       "      <td>2021-03-06</td>\n",
       "      <td>3</td>\n",
       "    </tr>\n",
       "    <tr>\n",
       "      <th>17505</th>\n",
       "      <td>1496</td>\n",
       "      <td>5722.552</td>\n",
       "      <td>0.500</td>\n",
       "      <td>2021-02-14</td>\n",
       "      <td>2</td>\n",
       "    </tr>\n",
       "    <tr>\n",
       "      <th>17909</th>\n",
       "      <td>1524</td>\n",
       "      <td>4103.999</td>\n",
       "      <td>0.500</td>\n",
       "      <td>2021-06-18</td>\n",
       "      <td>6</td>\n",
       "    </tr>\n",
       "  </tbody>\n",
       "</table>\n",
       "<p>95 rows × 5 columns</p>\n",
       "</div>"
      ],
      "text/plain": [
       "       user_id  distance  duration       date  month\n",
       "6531       701  4196.445     0.500 2021-08-31      8\n",
       "6570       704  4830.824     0.500 2021-10-14     10\n",
       "6680       712  4684.004     0.500 2021-03-04      3\n",
       "6695       713  5215.643     0.500 2021-02-25      2\n",
       "6768       718  5197.437     0.500 2021-02-11      2\n",
       "...        ...       ...       ...        ...    ...\n",
       "17004     1460  5531.336     0.500 2021-01-19      1\n",
       "17242     1477  6724.933     0.500 2021-01-12      1\n",
       "17314     1483  4445.481     0.500 2021-03-06      3\n",
       "17505     1496  5722.552     0.500 2021-02-14      2\n",
       "17909     1524  4103.999     0.500 2021-06-18      6\n",
       "\n",
       "[95 rows x 5 columns]"
      ]
     },
     "execution_count": 31,
     "metadata": {},
     "output_type": "execute_result"
    }
   ],
   "source": [
    "rides.query(\"duration == 0.5\")"
   ]
  },
  {
   "cell_type": "markdown",
   "id": "e60829af",
   "metadata": {},
   "source": [
    "95 rows with a duration of 30 seconds. At the same time, the distance in many lines is more than a kilometer. It looks like a failure in the duration calculation system.\n",
    "\n",
    "Let's clarify what duration will be the shortest if we cut off 0.5"
   ]
  },
  {
   "cell_type": "code",
   "execution_count": 32,
   "id": "42156b52",
   "metadata": {},
   "outputs": [
    {
     "data": {
      "text/html": [
       "<div>\n",
       "<style scoped>\n",
       "    .dataframe tbody tr th:only-of-type {\n",
       "        vertical-align: middle;\n",
       "    }\n",
       "\n",
       "    .dataframe tbody tr th {\n",
       "        vertical-align: top;\n",
       "    }\n",
       "\n",
       "    .dataframe thead th {\n",
       "        text-align: right;\n",
       "    }\n",
       "</style>\n",
       "<table border=\"1\" class=\"dataframe\">\n",
       "  <thead>\n",
       "    <tr style=\"text-align: right;\">\n",
       "      <th></th>\n",
       "      <th>user_id</th>\n",
       "      <th>distance</th>\n",
       "      <th>duration</th>\n",
       "      <th>date</th>\n",
       "      <th>month</th>\n",
       "    </tr>\n",
       "  </thead>\n",
       "  <tbody>\n",
       "    <tr>\n",
       "      <th>8906</th>\n",
       "      <td>880</td>\n",
       "      <td>11.284</td>\n",
       "      <td>2.036</td>\n",
       "      <td>2021-03-28</td>\n",
       "      <td>3</td>\n",
       "    </tr>\n",
       "    <tr>\n",
       "      <th>6691</th>\n",
       "      <td>712</td>\n",
       "      <td>23.963</td>\n",
       "      <td>2.053</td>\n",
       "      <td>2021-11-22</td>\n",
       "      <td>11</td>\n",
       "    </tr>\n",
       "    <tr>\n",
       "      <th>13308</th>\n",
       "      <td>1198</td>\n",
       "      <td>84.410</td>\n",
       "      <td>2.181</td>\n",
       "      <td>2021-06-11</td>\n",
       "      <td>6</td>\n",
       "    </tr>\n",
       "    <tr>\n",
       "      <th>17309</th>\n",
       "      <td>1482</td>\n",
       "      <td>111.299</td>\n",
       "      <td>2.223</td>\n",
       "      <td>2021-07-24</td>\n",
       "      <td>7</td>\n",
       "    </tr>\n",
       "    <tr>\n",
       "      <th>14081</th>\n",
       "      <td>1251</td>\n",
       "      <td>41.213</td>\n",
       "      <td>2.225</td>\n",
       "      <td>2021-04-15</td>\n",
       "      <td>4</td>\n",
       "    </tr>\n",
       "  </tbody>\n",
       "</table>\n",
       "</div>"
      ],
      "text/plain": [
       "       user_id  distance  duration       date  month\n",
       "8906       880    11.284     2.036 2021-03-28      3\n",
       "6691       712    23.963     2.053 2021-11-22     11\n",
       "13308     1198    84.410     2.181 2021-06-11      6\n",
       "17309     1482   111.299     2.223 2021-07-24      7\n",
       "14081     1251    41.213     2.225 2021-04-15      4"
      ]
     },
     "execution_count": 32,
     "metadata": {},
     "output_type": "execute_result"
    }
   ],
   "source": [
    "rides[rides[\"duration\"] != 0.5].sort_values(by=\"duration\", ascending=True).head()"
   ]
  },
  {
   "cell_type": "markdown",
   "id": "165c61f8",
   "metadata": {},
   "source": [
    "Duration starts from 2 minutes.\n",
    "Let's leave outlier lines in the table for now, since their number is very small relative to the size of the table."
   ]
  },
  {
   "cell_type": "markdown",
   "id": "2874eacc",
   "metadata": {},
   "source": [
    "**Observation:** The frequency distribution of durations resembles normal, there is a small suspicious peak around 0.5 minutes, the origin of which would be good to clarify. The median and mean are very close in value, fall on the top of the histogram, and are equal to approximately 18 minutes."
   ]
  },
  {
   "cell_type": "markdown",
   "id": "e19725ef",
   "metadata": {},
   "source": [
    "###  The characteristics of users with and without the Ultra subscription"
   ]
  },
  {
   "cell_type": "markdown",
   "id": "e5eeff96-9d53-4c95-9e94-75c2a0ae4978",
   "metadata": {},
   "source": [
    "Let's prepare the data to study these two categories. We'll combine the `users, trips, and subscriptions` values into one dataframe.\n",
    "Then, based on the new dataframe, we'll create two more:\n",
    "* data about users without a subscription;\n",
    "* data about users with a subscription."
   ]
  },
  {
   "cell_type": "code",
   "execution_count": 33,
   "id": "b7639301",
   "metadata": {},
   "outputs": [
    {
     "data": {
      "text/html": [
       "<div>\n",
       "<style scoped>\n",
       "    .dataframe tbody tr th:only-of-type {\n",
       "        vertical-align: middle;\n",
       "    }\n",
       "\n",
       "    .dataframe tbody tr th {\n",
       "        vertical-align: top;\n",
       "    }\n",
       "\n",
       "    .dataframe thead th {\n",
       "        text-align: right;\n",
       "    }\n",
       "</style>\n",
       "<table border=\"1\" class=\"dataframe\">\n",
       "  <thead>\n",
       "    <tr style=\"text-align: right;\">\n",
       "      <th></th>\n",
       "      <th>user_id</th>\n",
       "      <th>distance</th>\n",
       "      <th>duration</th>\n",
       "      <th>date</th>\n",
       "      <th>month</th>\n",
       "      <th>name</th>\n",
       "      <th>age</th>\n",
       "      <th>city</th>\n",
       "      <th>subscription_type</th>\n",
       "      <th>minute_price</th>\n",
       "      <th>start_ride_price</th>\n",
       "      <th>subscription_fee</th>\n",
       "    </tr>\n",
       "  </thead>\n",
       "  <tbody>\n",
       "    <tr>\n",
       "      <th>0</th>\n",
       "      <td>1</td>\n",
       "      <td>4409.919</td>\n",
       "      <td>25.600</td>\n",
       "      <td>2021-01-01</td>\n",
       "      <td>1</td>\n",
       "      <td>Кира</td>\n",
       "      <td>22</td>\n",
       "      <td>Тюмень</td>\n",
       "      <td>ultra</td>\n",
       "      <td>6</td>\n",
       "      <td>0</td>\n",
       "      <td>199</td>\n",
       "    </tr>\n",
       "    <tr>\n",
       "      <th>1</th>\n",
       "      <td>1</td>\n",
       "      <td>2617.592</td>\n",
       "      <td>15.817</td>\n",
       "      <td>2021-01-18</td>\n",
       "      <td>1</td>\n",
       "      <td>Кира</td>\n",
       "      <td>22</td>\n",
       "      <td>Тюмень</td>\n",
       "      <td>ultra</td>\n",
       "      <td>6</td>\n",
       "      <td>0</td>\n",
       "      <td>199</td>\n",
       "    </tr>\n",
       "    <tr>\n",
       "      <th>2</th>\n",
       "      <td>1</td>\n",
       "      <td>754.160</td>\n",
       "      <td>6.232</td>\n",
       "      <td>2021-04-20</td>\n",
       "      <td>4</td>\n",
       "      <td>Кира</td>\n",
       "      <td>22</td>\n",
       "      <td>Тюмень</td>\n",
       "      <td>ultra</td>\n",
       "      <td>6</td>\n",
       "      <td>0</td>\n",
       "      <td>199</td>\n",
       "    </tr>\n",
       "    <tr>\n",
       "      <th>3</th>\n",
       "      <td>1</td>\n",
       "      <td>2694.783</td>\n",
       "      <td>18.511</td>\n",
       "      <td>2021-08-11</td>\n",
       "      <td>8</td>\n",
       "      <td>Кира</td>\n",
       "      <td>22</td>\n",
       "      <td>Тюмень</td>\n",
       "      <td>ultra</td>\n",
       "      <td>6</td>\n",
       "      <td>0</td>\n",
       "      <td>199</td>\n",
       "    </tr>\n",
       "    <tr>\n",
       "      <th>4</th>\n",
       "      <td>1</td>\n",
       "      <td>4028.687</td>\n",
       "      <td>26.266</td>\n",
       "      <td>2021-08-28</td>\n",
       "      <td>8</td>\n",
       "      <td>Кира</td>\n",
       "      <td>22</td>\n",
       "      <td>Тюмень</td>\n",
       "      <td>ultra</td>\n",
       "      <td>6</td>\n",
       "      <td>0</td>\n",
       "      <td>199</td>\n",
       "    </tr>\n",
       "  </tbody>\n",
       "</table>\n",
       "</div>"
      ],
      "text/plain": [
       "   user_id  distance  duration       date  month  name  age    city  \\\n",
       "0        1  4409.919    25.600 2021-01-01      1  Кира   22  Тюмень   \n",
       "1        1  2617.592    15.817 2021-01-18      1  Кира   22  Тюмень   \n",
       "2        1   754.160     6.232 2021-04-20      4  Кира   22  Тюмень   \n",
       "3        1  2694.783    18.511 2021-08-11      8  Кира   22  Тюмень   \n",
       "4        1  4028.687    26.266 2021-08-28      8  Кира   22  Тюмень   \n",
       "\n",
       "  subscription_type  minute_price  start_ride_price  subscription_fee  \n",
       "0             ultra             6                 0               199  \n",
       "1             ultra             6                 0               199  \n",
       "2             ultra             6                 0               199  \n",
       "3             ultra             6                 0               199  \n",
       "4             ultra             6                 0               199  "
      ]
     },
     "execution_count": 33,
     "metadata": {},
     "output_type": "execute_result"
    }
   ],
   "source": [
    "# dataframes merge\n",
    "merged_data = pd.merge(rides, users, how=\"left\", on=\"user_id\")\n",
    "merged_data = pd.merge(merged_data, subscriptions, how=\"left\", on=\"subscription_type\")\n",
    "\n",
    "# display five first rows\n",
    "merged_data.head()"
   ]
  },
  {
   "cell_type": "markdown",
   "id": "3c652288",
   "metadata": {},
   "source": [
    "Let's compare the number of rows in the original and new tables, and also check the new table for gaps and duplicates."
   ]
  },
  {
   "cell_type": "code",
   "execution_count": 34,
   "id": "eba88d37",
   "metadata": {},
   "outputs": [
    {
     "name": "stdout",
     "output_type": "stream",
     "text": [
      "Number of rows in the original dataframe 'rides' =  18068\n",
      "Number of rows in the new dataframe 'merged_data' =  18068\n",
      "Number of duplicates in the new dataframe 'merged_data' =  0\n",
      "\n",
      "Number of gaps in columns of the new dataframe 'merged_data':\n"
     ]
    },
    {
     "data": {
      "text/plain": [
       "user_id              0\n",
       "distance             0\n",
       "duration             0\n",
       "date                 0\n",
       "month                0\n",
       "name                 0\n",
       "age                  0\n",
       "city                 0\n",
       "subscription_type    0\n",
       "minute_price         0\n",
       "start_ride_price     0\n",
       "subscription_fee     0\n",
       "dtype: int64"
      ]
     },
     "execution_count": 34,
     "metadata": {},
     "output_type": "execute_result"
    }
   ],
   "source": [
    "print(\"Number of rows in the original dataframe 'rides' = \", rides.shape[0])\n",
    "print(\"Number of rows in the new dataframe 'merged_data' = \", merged_data.shape[0])\n",
    "print(\n",
    "    \"Number of duplicates in the new dataframe 'merged_data' = \",\n",
    "    merged_data.duplicated().sum(),\n",
    ")\n",
    "print()\n",
    "print(\"Number of gaps in columns of the new dataframe 'merged_data':\")\n",
    "merged_data.isna().sum()"
   ]
  },
  {
   "cell_type": "markdown",
   "id": "71d0a43d",
   "metadata": {},
   "source": [
    "Everything is fine, we can move on to creating additional dataframes."
   ]
  },
  {
   "cell_type": "markdown",
   "id": "71decb55",
   "metadata": {},
   "source": [
    "**Creating additional dataframes for two user categories.**\n",
    "\n",
    "* `subscription_free` — data about users without a subscription;\n",
    "* `subscription_ultra` — data about users with a subscription."
   ]
  },
  {
   "cell_type": "code",
   "execution_count": 35,
   "id": "59c2c0ae",
   "metadata": {},
   "outputs": [],
   "source": [
    "subscription_free = merged_data.query('subscription_type == \"free\"')\n",
    "subscription_ultra = merged_data.query('subscription_type == \"ultra\"')"
   ]
  },
  {
   "cell_type": "markdown",
   "id": "6abb28e0",
   "metadata": {},
   "source": [
    "**Visualizing information about travel distance and time for users of both categories**"
   ]
  },
  {
   "cell_type": "markdown",
   "id": "dcae381c",
   "metadata": {},
   "source": [
    "To compare information, first we will clarify the average and the sum of the columns for each category using a pivot table."
   ]
  },
  {
   "cell_type": "code",
   "execution_count": 36,
   "id": "4b03f8bd",
   "metadata": {},
   "outputs": [
    {
     "data": {
      "text/html": [
       "<div>\n",
       "<style scoped>\n",
       "    .dataframe tbody tr th:only-of-type {\n",
       "        vertical-align: middle;\n",
       "    }\n",
       "\n",
       "    .dataframe tbody tr th {\n",
       "        vertical-align: top;\n",
       "    }\n",
       "\n",
       "    .dataframe thead tr th {\n",
       "        text-align: left;\n",
       "    }\n",
       "\n",
       "    .dataframe thead tr:last-of-type th {\n",
       "        text-align: right;\n",
       "    }\n",
       "</style>\n",
       "<table border=\"1\" class=\"dataframe\">\n",
       "  <thead>\n",
       "    <tr>\n",
       "      <th></th>\n",
       "      <th colspan=\"2\" halign=\"left\">sum</th>\n",
       "      <th colspan=\"2\" halign=\"left\">mean</th>\n",
       "    </tr>\n",
       "    <tr>\n",
       "      <th></th>\n",
       "      <th>distance</th>\n",
       "      <th>duration</th>\n",
       "      <th>distance</th>\n",
       "      <th>duration</th>\n",
       "    </tr>\n",
       "    <tr>\n",
       "      <th>subscription_type</th>\n",
       "      <th></th>\n",
       "      <th></th>\n",
       "      <th></th>\n",
       "      <th></th>\n",
       "    </tr>\n",
       "  </thead>\n",
       "  <tbody>\n",
       "    <tr>\n",
       "      <th>free</th>\n",
       "      <td>35230289.418</td>\n",
       "      <td>201178.039</td>\n",
       "      <td>3045.495</td>\n",
       "      <td>17.391</td>\n",
       "    </tr>\n",
       "    <tr>\n",
       "      <th>ultra</th>\n",
       "      <td>20250395.022</td>\n",
       "      <td>120522.904</td>\n",
       "      <td>3115.445</td>\n",
       "      <td>18.542</td>\n",
       "    </tr>\n",
       "  </tbody>\n",
       "</table>\n",
       "</div>"
      ],
      "text/plain": [
       "                           sum                mean         \n",
       "                      distance   duration distance duration\n",
       "subscription_type                                          \n",
       "free              35230289.418 201178.039 3045.495   17.391\n",
       "ultra             20250395.022 120522.904 3115.445   18.542"
      ]
     },
     "execution_count": 36,
     "metadata": {},
     "output_type": "execute_result"
    }
   ],
   "source": [
    "merged_data.pivot_table(\n",
    "    index=\"subscription_type\", values=[\"duration\", \"distance\"], aggfunc=[\"sum\", \"mean\"]\n",
    ")"
   ]
  },
  {
   "cell_type": "markdown",
   "id": "221bef4d",
   "metadata": {},
   "source": [
    "**Observation:** On average, Ultra users take longer and more distant trips. But the difference is small, only 70 m and 1 minute.\n",
    "\n",
    "---\n",
    "\n",
    "Now let's compare the distribution of durations on the histogram, and also build a bar plot, where we compare the sum of the durations of all trips for the period covered by the dataframe."
   ]
  },
  {
   "cell_type": "code",
   "execution_count": 37,
   "id": "22925b55",
   "metadata": {},
   "outputs": [
    {
     "data": {
      "image/png": "[encoded data removed]",
      "text/plain": [
       "<Figure size 640x480 with 1 Axes>"
      ]
     },
     "metadata": {},
     "output_type": "display_data"
    }
   ],
   "source": [
    "# setting colors for the seaborn library\n",
    "sns.set_palette(\"Set2\")\n",
    "\n",
    "# assign axes and titles\n",
    "plt.xlabel(\"Trip duration, min\")\n",
    "plt.ylabel(\"Frequency\")\n",
    "\n",
    "# create histogram\n",
    "sns.histplot(data=merged_data, x=\"duration\", hue=\"subscription_type\").set(\n",
    "    title=\"Trip duration distriburion\"\n",
    ")\n",
    "plt.legend(\n",
    "    title=\"Users\",\n",
    "    loc=\"upper right\",\n",
    "    labels=[\"without subscribtion\", \"Ultra subscription\"],\n",
    ");"
   ]
  },
  {
   "cell_type": "code",
   "execution_count": 38,
   "id": "20bcbe7e",
   "metadata": {},
   "outputs": [
    {
     "data": {
      "image/png": "[encoded data removed]",
      "text/plain": [
       "<Figure size 640x480 with 1 Axes>"
      ]
     },
     "metadata": {},
     "output_type": "display_data"
    }
   ],
   "source": [
    "# creatin bar plot\n",
    "sns.barplot(data=merged_data, y=\"duration\", x=\"subscription_type\", estimator=sum).set(\n",
    "    title=\"Sum of durations of all trips\"\n",
    ")\n",
    "\n",
    "# подписываем оси\n",
    "plt.xlabel(\"Subscription type\")\n",
    "plt.ylabel(\"Trip duration, min\");"
   ]
  },
  {
   "cell_type": "markdown",
   "id": "f64bce7f",
   "metadata": {},
   "source": [
    "**Observation:** The distributions are quite similar in terms of the peak location (we know that subscription users have a slightly longer average duration). It is clear that subscription users have fewer trips.\n",
    "\n",
    "This is clearly visible in the bar plot above, which shows the sums of all durations. Subscription users used the service for 120,523 minutes (2,008 hours), while non-subscribers used the service for 201,178 minutes (3,353 hours).\n",
    "\n",
    "The abnormal value of 0.5 minutes is only found among non-subscribers. Let's note this for future reference.\n",
    "\n",
    "---\n",
    "\n",
    "Now let's plot the same graphs for trip distance information."
   ]
  },
  {
   "cell_type": "code",
   "execution_count": 39,
   "id": "cf6356c0",
   "metadata": {},
   "outputs": [
    {
     "data": {
      "image/png": "[encoded data removed]",
      "text/plain": [
       "<Figure size 640x480 with 1 Axes>"
      ]
     },
     "metadata": {},
     "output_type": "display_data"
    }
   ],
   "source": [
    "# assign axes and titles\n",
    "plt.xlabel(\"Distance, m\")\n",
    "plt.ylabel(\"Frequency\")\n",
    "\n",
    "# create histogram\n",
    "sns.histplot(data=merged_data, x=\"distance\", hue=\"subscription_type\").set(\n",
    "    title=\"Trip distance distriburion\"\n",
    ")\n",
    "plt.legend(\n",
    "    title=\"Users\",\n",
    "    loc=\"upper right\",\n",
    "    labels=[\"without subscribtion\", \"Ultra subscription\"],\n",
    ");"
   ]
  },
  {
   "cell_type": "code",
   "execution_count": 40,
   "id": "5118f9e5",
   "metadata": {},
   "outputs": [
    {
     "data": {
      "image/png": "[encoded data removed]",
      "text/plain": [
       "<Figure size 640x480 with 1 Axes>"
      ]
     },
     "metadata": {},
     "output_type": "display_data"
    }
   ],
   "source": [
    "# create bar plot\n",
    "sns.barplot(data=merged_data, y=\"distance\", x=\"subscription_type\", estimator=sum).set(\n",
    "    title=\"Sum of distances of all trips\"\n",
    ")\n",
    "\n",
    "# assign axes and titles\n",
    "plt.xlabel(\"Subscription type\")\n",
    "plt.ylabel(\"Trip distance, m\");"
   ]
  },
  {
   "cell_type": "markdown",
   "id": "46e4b924",
   "metadata": {},
   "source": [
    "**Observation:** The distribution of distances among ultra subscribers is shifted to the right, especially the small peak on the left.\n",
    "The overall distance among users with a subscription is lower."
   ]
  },
  {
   "cell_type": "markdown",
   "id": "43b98f2f",
   "metadata": {},
   "source": [
    "### Interim conclusion\n",
    "\n",
    "We have studied and described several parameters:\n",
    "* **Frequency of cities** — the most users are from Pyatigorsk, the least — from Moscow\n",
    "* **Ratio of users with and without a subscription** — users without a subscription — 54%, with a subscription — 45.6%\n",
    "* **Age of users** — from 12 to 43 years old, on average, the age of users is 25 years old.\n",
    "* **Distance covered by a user in one trip** — The distribution has two distinct peaks — about 600 and 3100 meters.\n",
    "* **Duration of trips** — the average trip duration is 18 minutes.\n",
    "* **Characteristics of users with and without an Ultra subscription** — on average, users with an Ultra subscription make longer and longer trips. But the difference is small, only 70 m and 1 minute. The total number of trips for users with a subscription is less."
   ]
  },
  {
   "cell_type": "markdown",
   "id": "c619bdac",
   "metadata": {},
   "source": [
    "## Revenue per user "
   ]
  },
  {
   "cell_type": "markdown",
   "id": "e9c29de0",
   "metadata": {},
   "source": [
    "#### Creating pivot table\n",
    "\n",
    "We are interested in: the total distance, number of trips and total time for each user for each month."
   ]
  },
  {
   "cell_type": "code",
   "execution_count": 41,
   "id": "f752f765",
   "metadata": {},
   "outputs": [],
   "source": [
    "# rounded up each value from the duration column:\n",
    "merged_data[\"duration\"] = np.ceil(merged_data[\"duration\"])"
   ]
  },
  {
   "cell_type": "code",
   "execution_count": 42,
   "id": "1562809c",
   "metadata": {},
   "outputs": [],
   "source": [
    "# create a pivot table with sorting by column 'user_id'\n",
    "merged_data_pivot = merged_data.pivot_table(\n",
    "    index=\"user_id\",\n",
    "    values=[\"duration\", \"distance\"],\n",
    "    columns=[\"month\"],\n",
    "    aggfunc=[\"sum\", \"count\"],\n",
    ")\n",
    "\n",
    "# add a new level (months) to the index\n",
    "merged_data_pivot = merged_data_pivot.stack()\n",
    "# remove extra column\n",
    "merged_data_pivot = merged_data_pivot.drop(\n",
    "    columns=[(\"count\", \"duration\")]\n",
    ").reset_index()\n",
    "# assign column names\n",
    "merged_data_pivot.columns = [\n",
    "    \"user_id\",\n",
    "    \"month\",\n",
    "    \"total_distance\",\n",
    "    \"total_time\",\n",
    "    \"rides_count\",\n",
    "]\n",
    "# change the data type in the 'rides_count' column\n",
    "merged_data_pivot[\"rides_count\"] = merged_data_pivot[\"rides_count\"].astype(\"int\")"
   ]
  },
  {
   "cell_type": "code",
   "execution_count": 43,
   "id": "fde2196e",
   "metadata": {},
   "outputs": [
    {
     "data": {
      "text/html": [
       "<div>\n",
       "<style scoped>\n",
       "    .dataframe tbody tr th:only-of-type {\n",
       "        vertical-align: middle;\n",
       "    }\n",
       "\n",
       "    .dataframe tbody tr th {\n",
       "        vertical-align: top;\n",
       "    }\n",
       "\n",
       "    .dataframe thead th {\n",
       "        text-align: right;\n",
       "    }\n",
       "</style>\n",
       "<table border=\"1\" class=\"dataframe\">\n",
       "  <thead>\n",
       "    <tr style=\"text-align: right;\">\n",
       "      <th></th>\n",
       "      <th>user_id</th>\n",
       "      <th>month</th>\n",
       "      <th>total_distance</th>\n",
       "      <th>total_time</th>\n",
       "      <th>rides_count</th>\n",
       "    </tr>\n",
       "  </thead>\n",
       "  <tbody>\n",
       "    <tr>\n",
       "      <th>0</th>\n",
       "      <td>1</td>\n",
       "      <td>1</td>\n",
       "      <td>7027.511</td>\n",
       "      <td>42.000</td>\n",
       "      <td>2</td>\n",
       "    </tr>\n",
       "    <tr>\n",
       "      <th>1</th>\n",
       "      <td>1</td>\n",
       "      <td>4</td>\n",
       "      <td>754.160</td>\n",
       "      <td>7.000</td>\n",
       "      <td>1</td>\n",
       "    </tr>\n",
       "    <tr>\n",
       "      <th>2</th>\n",
       "      <td>1</td>\n",
       "      <td>8</td>\n",
       "      <td>6723.471</td>\n",
       "      <td>46.000</td>\n",
       "      <td>2</td>\n",
       "    </tr>\n",
       "    <tr>\n",
       "      <th>3</th>\n",
       "      <td>1</td>\n",
       "      <td>10</td>\n",
       "      <td>5809.911</td>\n",
       "      <td>32.000</td>\n",
       "      <td>2</td>\n",
       "    </tr>\n",
       "    <tr>\n",
       "      <th>4</th>\n",
       "      <td>1</td>\n",
       "      <td>11</td>\n",
       "      <td>7003.499</td>\n",
       "      <td>56.000</td>\n",
       "      <td>3</td>\n",
       "    </tr>\n",
       "  </tbody>\n",
       "</table>\n",
       "</div>"
      ],
      "text/plain": [
       "   user_id  month  total_distance  total_time  rides_count\n",
       "0        1      1        7027.511      42.000            2\n",
       "1        1      4         754.160       7.000            1\n",
       "2        1      8        6723.471      46.000            2\n",
       "3        1     10        5809.911      32.000            2\n",
       "4        1     11        7003.499      56.000            3"
      ]
     },
     "execution_count": 43,
     "metadata": {},
     "output_type": "execute_result"
    }
   ],
   "source": [
    "# display the first rows of the resulting table\n",
    "merged_data_pivot.head()"
   ]
  },
  {
   "cell_type": "markdown",
   "id": "f2c7f03c",
   "metadata": {},
   "source": [
    "Looks good, let's move on."
   ]
  },
  {
   "cell_type": "markdown",
   "id": "018ce3bf",
   "metadata": {},
   "source": [
    "### Calculation of revenue by month\n",
    "\n",
    "In the same dataframe, we will add a column with the monthly revenue that each user brought in. First, we will create a table that will contain subscription information for each unique user."
   ]
  },
  {
   "cell_type": "code",
   "execution_count": 44,
   "id": "afb1cacf",
   "metadata": {},
   "outputs": [
    {
     "data": {
      "text/html": [
       "<div>\n",
       "<style scoped>\n",
       "    .dataframe tbody tr th:only-of-type {\n",
       "        vertical-align: middle;\n",
       "    }\n",
       "\n",
       "    .dataframe tbody tr th {\n",
       "        vertical-align: top;\n",
       "    }\n",
       "\n",
       "    .dataframe thead th {\n",
       "        text-align: right;\n",
       "    }\n",
       "</style>\n",
       "<table border=\"1\" class=\"dataframe\">\n",
       "  <thead>\n",
       "    <tr style=\"text-align: right;\">\n",
       "      <th></th>\n",
       "      <th>user_id</th>\n",
       "      <th>subscription_type</th>\n",
       "      <th>minute_price</th>\n",
       "      <th>start_ride_price</th>\n",
       "      <th>subscription_fee</th>\n",
       "    </tr>\n",
       "  </thead>\n",
       "  <tbody>\n",
       "    <tr>\n",
       "      <th>0</th>\n",
       "      <td>1</td>\n",
       "      <td>ultra</td>\n",
       "      <td>6</td>\n",
       "      <td>0</td>\n",
       "      <td>199</td>\n",
       "    </tr>\n",
       "    <tr>\n",
       "      <th>1</th>\n",
       "      <td>2</td>\n",
       "      <td>ultra</td>\n",
       "      <td>6</td>\n",
       "      <td>0</td>\n",
       "      <td>199</td>\n",
       "    </tr>\n",
       "    <tr>\n",
       "      <th>2</th>\n",
       "      <td>3</td>\n",
       "      <td>ultra</td>\n",
       "      <td>6</td>\n",
       "      <td>0</td>\n",
       "      <td>199</td>\n",
       "    </tr>\n",
       "    <tr>\n",
       "      <th>3</th>\n",
       "      <td>4</td>\n",
       "      <td>ultra</td>\n",
       "      <td>6</td>\n",
       "      <td>0</td>\n",
       "      <td>199</td>\n",
       "    </tr>\n",
       "    <tr>\n",
       "      <th>4</th>\n",
       "      <td>5</td>\n",
       "      <td>ultra</td>\n",
       "      <td>6</td>\n",
       "      <td>0</td>\n",
       "      <td>199</td>\n",
       "    </tr>\n",
       "  </tbody>\n",
       "</table>\n",
       "</div>"
      ],
      "text/plain": [
       "   user_id subscription_type  minute_price  start_ride_price  subscription_fee\n",
       "0        1             ultra             6                 0               199\n",
       "1        2             ultra             6                 0               199\n",
       "2        3             ultra             6                 0               199\n",
       "3        4             ultra             6                 0               199\n",
       "4        5             ultra             6                 0               199"
      ]
     },
     "execution_count": 44,
     "metadata": {},
     "output_type": "execute_result"
    }
   ],
   "source": [
    "# make a slice of the original 'users' dataframe\n",
    "users_slice = users[[\"user_id\", \"subscription_type\"]]\n",
    "# add information from the 'subscriptions' dataframe\n",
    "user_subscription = pd.merge(\n",
    "    users_slice, subscriptions, how=\"left\", on=\"subscription_type\"\n",
    ")\n",
    "\n",
    "user_subscription.head()"
   ]
  },
  {
   "cell_type": "markdown",
   "id": "db62299d",
   "metadata": {},
   "source": [
    "Now let's add this information to the pivot table we created earlier:"
   ]
  },
  {
   "cell_type": "code",
   "execution_count": 45,
   "id": "523dfab3",
   "metadata": {},
   "outputs": [
    {
     "data": {
      "text/html": [
       "<div>\n",
       "<style scoped>\n",
       "    .dataframe tbody tr th:only-of-type {\n",
       "        vertical-align: middle;\n",
       "    }\n",
       "\n",
       "    .dataframe tbody tr th {\n",
       "        vertical-align: top;\n",
       "    }\n",
       "\n",
       "    .dataframe thead th {\n",
       "        text-align: right;\n",
       "    }\n",
       "</style>\n",
       "<table border=\"1\" class=\"dataframe\">\n",
       "  <thead>\n",
       "    <tr style=\"text-align: right;\">\n",
       "      <th></th>\n",
       "      <th>user_id</th>\n",
       "      <th>month</th>\n",
       "      <th>total_distance</th>\n",
       "      <th>total_time</th>\n",
       "      <th>rides_count</th>\n",
       "      <th>subscription_type</th>\n",
       "      <th>minute_price</th>\n",
       "      <th>start_ride_price</th>\n",
       "      <th>subscription_fee</th>\n",
       "    </tr>\n",
       "  </thead>\n",
       "  <tbody>\n",
       "    <tr>\n",
       "      <th>0</th>\n",
       "      <td>1</td>\n",
       "      <td>1</td>\n",
       "      <td>7027.511</td>\n",
       "      <td>42.000</td>\n",
       "      <td>2</td>\n",
       "      <td>ultra</td>\n",
       "      <td>6</td>\n",
       "      <td>0</td>\n",
       "      <td>199</td>\n",
       "    </tr>\n",
       "    <tr>\n",
       "      <th>1</th>\n",
       "      <td>1</td>\n",
       "      <td>4</td>\n",
       "      <td>754.160</td>\n",
       "      <td>7.000</td>\n",
       "      <td>1</td>\n",
       "      <td>ultra</td>\n",
       "      <td>6</td>\n",
       "      <td>0</td>\n",
       "      <td>199</td>\n",
       "    </tr>\n",
       "    <tr>\n",
       "      <th>2</th>\n",
       "      <td>1</td>\n",
       "      <td>8</td>\n",
       "      <td>6723.471</td>\n",
       "      <td>46.000</td>\n",
       "      <td>2</td>\n",
       "      <td>ultra</td>\n",
       "      <td>6</td>\n",
       "      <td>0</td>\n",
       "      <td>199</td>\n",
       "    </tr>\n",
       "    <tr>\n",
       "      <th>3</th>\n",
       "      <td>1</td>\n",
       "      <td>10</td>\n",
       "      <td>5809.911</td>\n",
       "      <td>32.000</td>\n",
       "      <td>2</td>\n",
       "      <td>ultra</td>\n",
       "      <td>6</td>\n",
       "      <td>0</td>\n",
       "      <td>199</td>\n",
       "    </tr>\n",
       "    <tr>\n",
       "      <th>4</th>\n",
       "      <td>1</td>\n",
       "      <td>11</td>\n",
       "      <td>7003.499</td>\n",
       "      <td>56.000</td>\n",
       "      <td>3</td>\n",
       "      <td>ultra</td>\n",
       "      <td>6</td>\n",
       "      <td>0</td>\n",
       "      <td>199</td>\n",
       "    </tr>\n",
       "  </tbody>\n",
       "</table>\n",
       "</div>"
      ],
      "text/plain": [
       "   user_id  month  total_distance  total_time  rides_count subscription_type  \\\n",
       "0        1      1        7027.511      42.000            2             ultra   \n",
       "1        1      4         754.160       7.000            1             ultra   \n",
       "2        1      8        6723.471      46.000            2             ultra   \n",
       "3        1     10        5809.911      32.000            2             ultra   \n",
       "4        1     11        7003.499      56.000            3             ultra   \n",
       "\n",
       "   minute_price  start_ride_price  subscription_fee  \n",
       "0             6                 0               199  \n",
       "1             6                 0               199  \n",
       "2             6                 0               199  \n",
       "3             6                 0               199  \n",
       "4             6                 0               199  "
      ]
     },
     "execution_count": 45,
     "metadata": {},
     "output_type": "execute_result"
    }
   ],
   "source": [
    "merged_data_pivot = pd.merge(\n",
    "    merged_data_pivot, user_subscription, how=\"left\", on=\"user_id\"\n",
    ")\n",
    "merged_data_pivot.head()"
   ]
  },
  {
   "cell_type": "markdown",
   "id": "c6743a8c",
   "metadata": {},
   "source": [
    "Now you can calculate the monthly revenue for each user."
   ]
  },
  {
   "cell_type": "code",
   "execution_count": 46,
   "id": "5d528db4",
   "metadata": {},
   "outputs": [
    {
     "data": {
      "text/html": [
       "<div>\n",
       "<style scoped>\n",
       "    .dataframe tbody tr th:only-of-type {\n",
       "        vertical-align: middle;\n",
       "    }\n",
       "\n",
       "    .dataframe tbody tr th {\n",
       "        vertical-align: top;\n",
       "    }\n",
       "\n",
       "    .dataframe thead th {\n",
       "        text-align: right;\n",
       "    }\n",
       "</style>\n",
       "<table border=\"1\" class=\"dataframe\">\n",
       "  <thead>\n",
       "    <tr style=\"text-align: right;\">\n",
       "      <th></th>\n",
       "      <th>user_id</th>\n",
       "      <th>month</th>\n",
       "      <th>total_distance</th>\n",
       "      <th>total_time</th>\n",
       "      <th>rides_count</th>\n",
       "      <th>monthly_revenue</th>\n",
       "      <th>subscription_type</th>\n",
       "    </tr>\n",
       "  </thead>\n",
       "  <tbody>\n",
       "    <tr>\n",
       "      <th>0</th>\n",
       "      <td>1</td>\n",
       "      <td>1</td>\n",
       "      <td>7027.511</td>\n",
       "      <td>42.000</td>\n",
       "      <td>2</td>\n",
       "      <td>451.000</td>\n",
       "      <td>ultra</td>\n",
       "    </tr>\n",
       "    <tr>\n",
       "      <th>1</th>\n",
       "      <td>1</td>\n",
       "      <td>4</td>\n",
       "      <td>754.160</td>\n",
       "      <td>7.000</td>\n",
       "      <td>1</td>\n",
       "      <td>241.000</td>\n",
       "      <td>ultra</td>\n",
       "    </tr>\n",
       "    <tr>\n",
       "      <th>2</th>\n",
       "      <td>1</td>\n",
       "      <td>8</td>\n",
       "      <td>6723.471</td>\n",
       "      <td>46.000</td>\n",
       "      <td>2</td>\n",
       "      <td>475.000</td>\n",
       "      <td>ultra</td>\n",
       "    </tr>\n",
       "    <tr>\n",
       "      <th>3</th>\n",
       "      <td>1</td>\n",
       "      <td>10</td>\n",
       "      <td>5809.911</td>\n",
       "      <td>32.000</td>\n",
       "      <td>2</td>\n",
       "      <td>391.000</td>\n",
       "      <td>ultra</td>\n",
       "    </tr>\n",
       "    <tr>\n",
       "      <th>4</th>\n",
       "      <td>1</td>\n",
       "      <td>11</td>\n",
       "      <td>7003.499</td>\n",
       "      <td>56.000</td>\n",
       "      <td>3</td>\n",
       "      <td>535.000</td>\n",
       "      <td>ultra</td>\n",
       "    </tr>\n",
       "  </tbody>\n",
       "</table>\n",
       "</div>"
      ],
      "text/plain": [
       "   user_id  month  total_distance  total_time  rides_count  monthly_revenue  \\\n",
       "0        1      1        7027.511      42.000            2          451.000   \n",
       "1        1      4         754.160       7.000            1          241.000   \n",
       "2        1      8        6723.471      46.000            2          475.000   \n",
       "3        1     10        5809.911      32.000            2          391.000   \n",
       "4        1     11        7003.499      56.000            3          535.000   \n",
       "\n",
       "  subscription_type  \n",
       "0             ultra  \n",
       "1             ultra  \n",
       "2             ultra  \n",
       "3             ultra  \n",
       "4             ultra  "
      ]
     },
     "execution_count": 46,
     "metadata": {},
     "output_type": "execute_result"
    }
   ],
   "source": [
    "# we calculate the revenue and add it to a new column 'monthly revenue'\n",
    "merged_data_pivot[\"monthly_revenue\"] = (\n",
    "    (merged_data_pivot[\"start_ride_price\"] * merged_data_pivot[\"rides_count\"])\n",
    "    + (merged_data_pivot[\"minute_price\"] * merged_data_pivot[\"total_time\"])\n",
    "    + merged_data_pivot[\"subscription_fee\"]\n",
    ")\n",
    "# remove extra column\n",
    "merged_data_pivot = merged_data_pivot[\n",
    "    [\n",
    "        \"user_id\",\n",
    "        \"month\",\n",
    "        \"total_distance\",\n",
    "        \"total_time\",\n",
    "        \"rides_count\",\n",
    "        \"monthly_revenue\",\n",
    "        \"subscription_type\",\n",
    "    ]\n",
    "]\n",
    "\n",
    "merged_data_pivot.head()"
   ]
  },
  {
   "cell_type": "markdown",
   "id": "e3166d81",
   "metadata": {},
   "source": [
    "Let's look at the revenue distribution on the graph and apply the describe() method to the new column."
   ]
  },
  {
   "cell_type": "code",
   "execution_count": 47,
   "id": "1f981013",
   "metadata": {},
   "outputs": [
    {
     "data": {
      "image/png": "[encoded data removed]",
      "text/plain": [
       "<Figure size 640x480 with 1 Axes>"
      ]
     },
     "metadata": {},
     "output_type": "display_data"
    }
   ],
   "source": [
    "# setting colors\n",
    "sns.set_palette(\"Blues_d\")\n",
    "\n",
    "# assign axes and titles\n",
    "plt.title(\"Monthly revenue distribution\")\n",
    "plt.xlabel(\"Monthly revenue\")\n",
    "plt.ylabel(\"Frequency\")\n",
    "\n",
    "# create histogram\n",
    "merged_data_pivot[\"monthly_revenue\"].hist(bins=20)\n",
    "\n",
    "# add median line\n",
    "plt.axvline(\n",
    "    merged_data_pivot[\"monthly_revenue\"].median(), color=\"r\", linestyle=\"-\", linewidth=1\n",
    ")\n",
    "plt.text(350, 2200, \"median\", rotation=0);"
   ]
  },
  {
   "cell_type": "code",
   "execution_count": 48,
   "id": "e97df55f",
   "metadata": {},
   "outputs": [
    {
     "data": {
      "text/plain": [
       "count   11331.000\n",
       "mean      342.304\n",
       "std       153.875\n",
       "min        58.000\n",
       "25%       234.000\n",
       "50%       319.000\n",
       "75%       415.000\n",
       "max      1444.000\n",
       "Name: monthly_revenue, dtype: float64"
      ]
     },
     "execution_count": 48,
     "metadata": {},
     "output_type": "execute_result"
    }
   ],
   "source": [
    "merged_data_pivot[\"monthly_revenue\"].describe()"
   ]
  },
  {
   "cell_type": "markdown",
   "id": "a81ae73d-b4cc-4238-90db-79464be59d97",
   "metadata": {},
   "source": [
    "Let's look at the relationship between revenue and total distance."
   ]
  },
  {
   "cell_type": "code",
   "execution_count": 49,
   "id": "2e8c3a47-881e-42f0-9a22-efc6f1d2ef7c",
   "metadata": {},
   "outputs": [
    {
     "data": {
      "image/png": "[encoded data removed]",
      "text/plain": [
       "<Figure size 640x480 with 1 Axes>"
      ]
     },
     "metadata": {},
     "output_type": "display_data"
    }
   ],
   "source": [
    "# create a scatterplot\n",
    "sns.scatterplot(\n",
    "    data=merged_data_pivot, x=\"total_distance\", y=\"monthly_revenue\", alpha=0.5\n",
    ")\n",
    "\n",
    "# assign axes and titles\n",
    "plt.title(\"Distance and revenue corellation\")\n",
    "plt.xlabel(\"Distance for the month, m\")\n",
    "plt.ylabel(\"Monthly revenur\");"
   ]
  },
  {
   "cell_type": "code",
   "execution_count": 50,
   "id": "98f5b3f8-4ec7-41c1-bae7-3ebfb82780a5",
   "metadata": {},
   "outputs": [
    {
     "name": "stdout",
     "output_type": "stream",
     "text": [
      "The Pearson correlation coefficient of the total distance to revenue is equal 0.87\n"
     ]
    }
   ],
   "source": [
    "print(\n",
    "    \"The Pearson correlation coefficient of the total distance to revenue is equal\",\n",
    "    round(\n",
    "        merged_data_pivot[\"total_distance\"].corr(merged_data_pivot[\"monthly_revenue\"]),\n",
    "        2,\n",
    "    ),\n",
    ")"
   ]
  },
  {
   "cell_type": "markdown",
   "id": "480f30f2",
   "metadata": {},
   "source": [
    "### Interim conclusion\n",
    "\n",
    "We compiled a table with data on income from each client for each month and presented it in the form of a graph.\n",
    "\n",
    "* It turned out that the average income from one user is 320 conventional units per month. At the same time, there is a strong positive correlation between monthly revenue and total distance, although it is not taken into account when calculating the first indicator."
   ]
  },
  {
   "cell_type": "markdown",
   "id": "de33176d",
   "metadata": {},
   "source": [
    "## Hypothesis testing"
   ]
  },
  {
   "cell_type": "markdown",
   "id": "a32d2520",
   "metadata": {},
   "source": [
    "### Hypothesis #1\n",
    "\n",
    "It is important to understand whether users with a subscription spend more time on trips? If so, then users with a subscription may be “more profitable” for the company.\n",
    "\n",
    "**Let's formulate a hypothesis:**\n",
    "\n",
    "We will compare two samples:\n",
    "\n",
    "1 - durations of the category `'ultra subscription'`\\\n",
    "2 - durations of the category `'without subscription'`\n",
    "\n",
    "Null hypothesis - the average value of all durations of the category `'ultra subscription'` `=` the average value of all durations of the category `'without subscription'`\n",
    "\n",
    "Alternative hypothesis - the average value of all durations of the category `'ultra subscription'` `>` the average value of all durations of the category `'without subscription'`\n",
    "\n",
    "Thus, the alternative hypothesis is right-tailed."
   ]
  },
  {
   "cell_type": "code",
   "execution_count": 51,
   "id": "7f2e156b",
   "metadata": {},
   "outputs": [
    {
     "name": "stdout",
     "output_type": "stream",
     "text": [
      "p-value: 5.6757813771289775e-37\n",
      "Reject the null hypothesis\n"
     ]
    }
   ],
   "source": [
    "# set the significance level\n",
    "alpha = 0.05\n",
    "\n",
    "# durations of the first group of users (with ultra subscription)\n",
    "ultra_durations = subscription_ultra[\"duration\"]\n",
    "\n",
    "# durations of the second group of users (without subscription)\n",
    "free_durations = subscription_free[\"duration\"]\n",
    "\n",
    "# ttest for two samples, using the one-sided hypothesis \"greater\" as an alternative\n",
    "results = st.ttest_ind(\n",
    "    ultra_durations, free_durations, alternative=\"greater\", equal_var=False\n",
    ")\n",
    "\n",
    "print(f\"p-value: {results.pvalue}\")\n",
    "\n",
    "# check p-value\n",
    "if results.pvalue < alpha:\n",
    "    print(\"Reject the null hypothesis\")\n",
    "else:\n",
    "    print(\"There is no reason to reject the null hypothesis\")"
   ]
  },
  {
   "cell_type": "markdown",
   "id": "aae790be",
   "metadata": {},
   "source": [
    "**Conclusion**\n",
    "\n",
    "The obtained p-value is less than the specified significance level, so the null hypothesis can be rejected.\n",
    "There is reason to say that users with a subscription spend more time on trips."
   ]
  },
  {
   "cell_type": "markdown",
   "id": "f2a9cad2",
   "metadata": {},
   "source": [
    "### Hypothesis #2\n",
    "\n",
    "The distance of one trip of 3130 meters is optimal in terms of scooter wear.\n",
    "Can we say that the average distance that users with a subscription travel in one trip does not exceed 3130 meters?\n",
    "\n",
    "**Let's formulate a hypothesis:**\n",
    "\n",
    "We will compare one sample and the `true average`:\n",
    "\n",
    "1 - sample - distances traveled by users of the `'ultra subscription'`\\\n",
    "2 - `true average` - 3130 m.\n",
    "\n",
    "Null hypothesis - the average value of all distances in the `'ultra subscription'` category `=` `true average` - 3130 m.\n",
    "\n",
    "Alternative hypothesis - the average value of all durations of the `'ultra subscription'` category `>` the average value of all durations of the `'no subscription'` category\n",
    "\n",
    "Thus, the alternative hypothesis is right-tailed."
   ]
  },
  {
   "cell_type": "code",
   "execution_count": 52,
   "id": "859c3f8f",
   "metadata": {},
   "outputs": [
    {
     "name": "stdout",
     "output_type": "stream",
     "text": [
      "p-значение: 0.9195368847849785\n",
      "There is no reason to reject the null hypothesis\n"
     ]
    }
   ],
   "source": [
    "ultra_distances = subscription_ultra[\n",
    "    \"distance\"\n",
    "]  # # create a separate variable with distances of all subscribers\n",
    "\n",
    "optiman_distance = 3130  # assign true average\n",
    "\n",
    "alpha = 0.05  # set the significance level\n",
    "\n",
    "# perform a ttest for two samples, using the one-sided hypothesis \"greater\" as an alternative\n",
    "results = st.ttest_1samp(ultra_distances, optiman_distance, alternative=\"greater\")\n",
    "\n",
    "print(\"p-значение:\", results.pvalue)\n",
    "\n",
    "# check p-value\n",
    "if results.pvalue < alpha:\n",
    "    print(\"Reject the null hypothesis\")\n",
    "else:\n",
    "    print(\"There is no reason to reject the null hypothesis\")"
   ]
  },
  {
   "cell_type": "markdown",
   "id": "6f117fe1",
   "metadata": {},
   "source": [
    "**Conclusion**\n",
    "\n",
    "The obtained p-value is significantly greater than the specified significance level, there is reason to assume that the average value of all distances in the 'ultra subscription' category is about 3130 m or less."
   ]
  },
  {
   "cell_type": "markdown",
   "id": "fb1c5726",
   "metadata": {},
   "source": [
    "### Hypothesis #3\n",
    "\n",
    "Let's test the hypothesis of whether monthly revenue from users with a subscription will be higher than revenue from users without a subscription.\n",
    "\n",
    "**Let's formulate the hypothesis:**\n",
    "\n",
    "We will compare two samples:\n",
    "\n",
    "1 - monthly revenue of the user category `'ultra subscription'`\n",
    "2 - monthly revenue of the user category `'without a subscription'`\n",
    "\n",
    "Null hypothesis - the average value of monthly revenue of the user category 'ultra subscription' `=` the average value of monthly revenue of the user category `'without a subscription'`\n",
    "\n",
    "Alternative hypothesis - the average value of monthly revenue of the user category 'ultra subscription' `>` the average value of monthly revenue of the user category `'without a subscription'`\n",
    "\n",
    "Thus, the alternative hypothesis is right-tailed."
   ]
  },
  {
   "cell_type": "code",
   "execution_count": 53,
   "id": "15597c37",
   "metadata": {},
   "outputs": [
    {
     "name": "stdout",
     "output_type": "stream",
     "text": [
      "p-value: 8.874140893976874e-40\n",
      "Reject the null hypothesis\n"
     ]
    }
   ],
   "source": [
    "# set the significance level\n",
    "alpha = 0.05\n",
    "\n",
    "# revenue of the first group of users (with ultra subscription)\n",
    "ultra_income = merged_data_pivot.query('subscription_type == \"ultra\"')[\n",
    "    \"monthly_revenue\"\n",
    "]\n",
    "\n",
    "# revenue of the first group of users (without  subscription)\n",
    "free_income = merged_data_pivot.query('subscription_type == \"free\"')[\"monthly_revenue\"]\n",
    "\n",
    "# ttest for two samples, using the one-sided hypothesis \"greater\" as an alternative\n",
    "results = st.ttest_ind(\n",
    "    ultra_income, free_income, alternative=\"greater\", equal_var=False\n",
    ")\n",
    "\n",
    "print(f\"p-value: {results.pvalue}\")\n",
    "\n",
    "# check p-value\n",
    "if results.pvalue < alpha:\n",
    "    print(\"Reject the null hypothesis\")\n",
    "else:\n",
    "    print(\"There is no reason to reject the null hypothesis\")"
   ]
  },
  {
   "cell_type": "markdown",
   "id": "ab97552c",
   "metadata": {},
   "source": [
    "**Conclusion**\n",
    "\n",
    "The obtained p-value is less than the specified significance level, so the null hypothesis can be rejected.\n",
    "There is reason to say that the monthly revenue from users with a subscription is higher than the revenue from users without a subscription."
   ]
  },
  {
   "cell_type": "markdown",
   "id": "ae9ec822",
   "metadata": {},
   "source": [
    "### Interim conclusion\n",
    "\n",
    "During the study, we tested several hypotheses and came to the following conclusions:\n",
    "* Subscribed users are likely to spend more time on trips.\n",
    "* It can be assumed that the average trip distance of users with an ultra subscription is 3,130 meters or more.\n",
    "* Monthly revenue from users with subscriptions is higher than from users without a subscription."
   ]
  },
  {
   "cell_type": "markdown",
   "id": "1d7e59de",
   "metadata": {},
   "source": [
    "## Additional tasks"
   ]
  },
  {
   "cell_type": "markdown",
   "id": "c0bbf904",
   "metadata": {},
   "source": [
    "#### Additional task #1\n",
    "\n",
    "GoFast's marketing department was given the task of holding a promotion with the distribution of promo codes for one free month of subscription, within the framework of which at least 100 existing customers must renew this subscription. That is, at the end of the subscription period, the user can either cancel it or renew it by making the appropriate payment.\n",
    "\n",
    "This promotion has already been held before and as a result it turned out that after the free trial period, 10% of users renew their subscription. Find out what is the minimum number of promo codes that need to be sent out so that the probability of not fulfilling the plan is approximately 5%.\n",
    "\n",
    "**Our task** is to select the parameters of the distribution that describes this situation, build a distribution graph and formulate an answer to the question about the number of promo codes."
   ]
  },
  {
   "cell_type": "code",
   "execution_count": 54,
   "id": "eb40a54e",
   "metadata": {},
   "outputs": [
    {
     "data": {
      "image/png": "[encoded data removed]",
      "text/plain": [
       "<Figure size 640x480 with 1 Axes>"
      ]
     },
     "metadata": {},
     "output_type": "display_data"
    }
   ],
   "source": [
    "# 10% of users renew their subscription\n",
    "p = 0.1\n",
    "\n",
    "# selected this value by trial and error\n",
    "n = 1170  # number of attempts\n",
    "\n",
    "distr = []\n",
    "\n",
    "for k in range(0, n + 1):\n",
    "    current_value = binom.pmf(k, n, p)\n",
    "    distr.append(current_value)\n",
    "\n",
    "plt.bar(range(0, n + 1), distr)\n",
    "\n",
    "plt.title(\"Problem #1. Probability distribution graph\")\n",
    "plt.xlabel(\"Number of new subscribers (people)\")\n",
    "plt.ylabel(\"Probability density\")\n",
    "\n",
    "# trim the long tail of the histogram on the left\n",
    "plt.xlim(0, 200);"
   ]
  },
  {
   "cell_type": "markdown",
   "id": "63d25ea7",
   "metadata": {},
   "source": [
    "Let's check using the `cdf()` method"
   ]
  },
  {
   "cell_type": "code",
   "execution_count": 55,
   "id": "845c9c6d",
   "metadata": {},
   "outputs": [
    {
     "name": "stdout",
     "output_type": "stream",
     "text": [
      "4.88 %\n"
     ]
    }
   ],
   "source": [
    "# set the mean and standard deviation of the normal distribution equal to\n",
    "# mean and standard deviation of the binomial distribution\n",
    "mu = n * p\n",
    "sigma = sqrt(n * p * (1 - p))\n",
    "\n",
    "# set the normal distribution\n",
    "distr = st.norm(mu, sigma)\n",
    "\n",
    "# calculate the probability of the tail on the left\n",
    "result = distr.cdf(100)\n",
    "print(round(result * 100, 2), \"%\")"
   ]
  },
  {
   "cell_type": "markdown",
   "id": "e3971355",
   "metadata": {},
   "source": [
    "**Answer** \\\n",
    "With the number of promo codes sent out 1170, the probability of not fulfilling the plan\n",
    "(getting at least 100 new subscribers) will be approximately 5%."
   ]
  },
  {
   "cell_type": "markdown",
   "id": "b23f64be",
   "metadata": {},
   "source": [
    "#### Additional task #2\n",
    "\n",
    "The marketing department sends push notifications to customers in a mobile app. Customers can open it or not. It is known that about 40% of customers who receive notifications open them. The department plans to send out 1 million notifications.\n",
    "\n",
    "**Our task** is to use approximation to build an approximate distribution graph and estimate the probability that no more than 399.5 thousand users will open the notification."
   ]
  },
  {
   "cell_type": "code",
   "execution_count": 56,
   "id": "6665e015",
   "metadata": {},
   "outputs": [
    {
     "name": "stdout",
     "output_type": "stream",
     "text": [
      "15.37 %\n"
     ]
    }
   ],
   "source": [
    "# set the parameters of the binomial distribution\n",
    "n = 1000000\n",
    "p = 0.4\n",
    "\n",
    "# set the mean and standard deviation of the normal distribution equal to\n",
    "# mean and standard deviation of the binomial distribution\n",
    "mu = n * p\n",
    "sigma = sqrt(n * p * (1 - p))\n",
    "\n",
    "# set the normal distribution\n",
    "distr = st.norm(mu, sigma)\n",
    "\n",
    "# calculate the probability of the tail on the left\n",
    "result = distr.cdf(399500)\n",
    "print(round(result * 100, 2), \"%\")"
   ]
  },
  {
   "cell_type": "code",
   "execution_count": 57,
   "id": "92e1f1b8",
   "metadata": {},
   "outputs": [
    {
     "data": {
      "image/png": "[encoded data removed]",
      "text/plain": [
       "<Figure size 640x480 with 1 Axes>"
      ]
     },
     "metadata": {},
     "output_type": "display_data"
    }
   ],
   "source": [
    "x = np.linspace(mu - 3 * sigma, mu + 3 * sigma, 100)\n",
    "plt.plot(x, st.norm.pdf(x, mu, sigma))\n",
    "\n",
    "plt.title(\"Task #2. Probability distribution graph\")\n",
    "plt.xlabel(\"Number of open notifications (pcs.)\")\n",
    "plt.ylabel(\"Probability density\")\n",
    "\n",
    "plt.axvline(399500, color=\"r\", linestyle=\"-\", linewidth=1)\n",
    "plt.text(399520, 0.0003, \"399500\", rotation=0);"
   ]
  },
  {
   "cell_type": "markdown",
   "id": "1b0ed5e4",
   "metadata": {},
   "source": [
    "**Answer**\\\n",
    "The probability that a notification will be opened by no more than 399.5 thousand users when sending 1 million notifications is 15.37%"
   ]
  },
  {
   "cell_type": "markdown",
   "id": "2891b47e",
   "metadata": {},
   "source": [
    "## Research results"
   ]
  },
  {
   "cell_type": "markdown",
   "id": "53005988",
   "metadata": {},
   "source": [
    "**`Data preprocessing:`**\n",
    "\n",
    "* Checked the data for gaps, as well as explicit and implicit duplicates (removed explicit ones and found the absence of hidden ones)\n",
    "* In the `rides` dataset — added a new column `month`, and also corrected the `date` column type to datetime64\n",
    "\n",
    "**`Exploratory analysis:`**\n",
    "\n",
    "Studied and described several parameters:\n",
    "* **Frequency of occurrence of cities** — the most users are from Pyatigorsk, the least — from Moscow\n",
    "* **Ratio of users with and without a subscription** — users without a subscription — 54%, with a subscription — 45.6%\n",
    "* **Age of users** — from 12 to 43 years old, on average, the age of users is 25 years old.\n",
    "* **Distance that a user has covered in one trip** — The distribution has two distinct peaks — about 600 and 3100 meters.\n",
    "* **Ride duration** — the average ride duration is 18 minutes.\n",
    "* **Features of users with and without an Ultra subscription** — on average, users with an Ultra subscription make longer and longer rides. But the difference is small, only 70 m and 1 minute. The total number of rides for users with a subscription is less.\n",
    "\n",
    "**`Hypotheses testing and following conclusions:`**\n",
    "\n",
    "* Subscribed users probably spend more time on rides.\n",
    "* It can be assumed that the average ride distance for users with an ultra subscription is 3,130 meters or more.\n",
    "* Monthly revenue from users with subscriptions is higher than from users without a subscription.\n",
    "\n",
    "**`Recommendations:`**\n",
    "\n",
    "* The study showed that users with a subscription are more profitable for the company. Therefore, it is worth developing strategies to increase the share of subscribers among users and attract new customers.\n",
    "* It is worth paying attention to attracting new users over 33 years old.\n",
    "* We need to clarify the proportion of users by city and make a stratified sample.\n",
    "* It is necessary to investigate the presence of a second peak in the distribution of trip distances. Perhaps this is due to the type of trip (a walk or a trip to/from work) or other factors.\n",
    "* The dependence of the number of trips on the month, sorted by city, needs to be studied. If it's impossible to ride in the city in winter, we can offer a seasonal subscription only for spring, summer or autumn.\n",
    "* To better understand the business processes, we need to find out why users without a subscription have trips lasting half a minute. Is this a mistake or a promotion?"
   ]
  },
  {
   "cell_type": "code",
   "execution_count": null,
   "id": "72f6343e-9a62-4287-8d0f-70978f14d383",
   "metadata": {},
   "outputs": [],
   "source": []
  }
 ],
 "metadata": {
  "ExecuteTimeLog": [
   {
    "duration": 46,
    "start_time": "2024-07-10T08:31:08.658Z"
   },
   {
    "duration": 368,
    "start_time": "2024-07-10T08:31:12.643Z"
   },
   {
    "duration": 57,
    "start_time": "2024-07-10T08:31:13.598Z"
   },
   {
    "duration": 13,
    "start_time": "2024-07-10T08:31:33.612Z"
   },
   {
    "duration": 3,
    "start_time": "2024-07-10T08:31:37.089Z"
   },
   {
    "duration": 12,
    "start_time": "2024-07-10T08:31:44.524Z"
   },
   {
    "duration": 102,
    "start_time": "2024-07-10T08:32:14.658Z"
   },
   {
    "duration": 12,
    "start_time": "2024-07-10T08:32:15.413Z"
   },
   {
    "duration": 232,
    "start_time": "2024-07-10T08:32:21.441Z"
   },
   {
    "duration": 6,
    "start_time": "2024-07-10T08:32:22.872Z"
   },
   {
    "duration": 26,
    "start_time": "2024-07-10T08:32:28.374Z"
   },
   {
    "duration": 8,
    "start_time": "2024-07-10T08:32:29.792Z"
   },
   {
    "duration": 249,
    "start_time": "2024-07-10T08:33:39.319Z"
   },
   {
    "duration": 8,
    "start_time": "2024-07-10T08:33:39.806Z"
   },
   {
    "duration": 6,
    "start_time": "2024-07-10T08:33:48.849Z"
   },
   {
    "duration": 11,
    "start_time": "2024-07-10T08:34:02.989Z"
   },
   {
    "duration": 61,
    "start_time": "2024-07-10T08:34:31.951Z"
   },
   {
    "duration": 8,
    "start_time": "2024-07-10T08:34:32.595Z"
   },
   {
    "duration": 6,
    "start_time": "2024-07-10T08:34:33.152Z"
   },
   {
    "duration": 7,
    "start_time": "2024-07-10T08:34:34.260Z"
   },
   {
    "duration": 8,
    "start_time": "2024-07-10T08:34:37.881Z"
   },
   {
    "duration": 7,
    "start_time": "2024-07-10T08:34:41.440Z"
   },
   {
    "duration": 9,
    "start_time": "2024-07-10T08:35:14.079Z"
   },
   {
    "duration": 8,
    "start_time": "2024-07-10T08:36:35.888Z"
   },
   {
    "duration": 371,
    "start_time": "2024-07-10T08:36:48.545Z"
   },
   {
    "duration": 63,
    "start_time": "2024-07-10T08:36:48.920Z"
   },
   {
    "duration": 16,
    "start_time": "2024-07-10T08:36:48.985Z"
   },
   {
    "duration": 6,
    "start_time": "2024-07-10T08:36:49.003Z"
   },
   {
    "duration": 12,
    "start_time": "2024-07-10T08:36:49.011Z"
   },
   {
    "duration": 8,
    "start_time": "2024-07-10T08:36:54.585Z"
   },
   {
    "duration": 376,
    "start_time": "2024-07-10T08:39:43.086Z"
   },
   {
    "duration": 63,
    "start_time": "2024-07-10T08:39:43.463Z"
   },
   {
    "duration": 14,
    "start_time": "2024-07-10T08:39:43.527Z"
   },
   {
    "duration": 6,
    "start_time": "2024-07-10T08:39:43.543Z"
   },
   {
    "duration": 20,
    "start_time": "2024-07-10T08:39:43.550Z"
   },
   {
    "duration": 66,
    "start_time": "2024-07-10T08:39:43.571Z"
   },
   {
    "duration": 6,
    "start_time": "2024-07-10T08:40:10.909Z"
   },
   {
    "duration": 10,
    "start_time": "2024-07-10T08:40:16.094Z"
   },
   {
    "duration": 9,
    "start_time": "2024-07-10T08:40:33.047Z"
   },
   {
    "duration": 9,
    "start_time": "2024-07-10T08:40:41.196Z"
   },
   {
    "duration": 9,
    "start_time": "2024-07-10T08:41:27.512Z"
   },
   {
    "duration": 419,
    "start_time": "2024-07-10T09:03:21.997Z"
   },
   {
    "duration": 65,
    "start_time": "2024-07-10T09:03:22.417Z"
   },
   {
    "duration": 14,
    "start_time": "2024-07-10T09:03:22.483Z"
   },
   {
    "duration": 9,
    "start_time": "2024-07-10T09:03:22.498Z"
   },
   {
    "duration": 8,
    "start_time": "2024-07-10T09:03:22.509Z"
   },
   {
    "duration": 13,
    "start_time": "2024-07-10T09:03:22.518Z"
   },
   {
    "duration": 9,
    "start_time": "2024-07-10T09:03:22.532Z"
   },
   {
    "duration": 9,
    "start_time": "2024-07-10T09:03:22.543Z"
   },
   {
    "duration": 60,
    "start_time": "2024-07-10T09:10:13.098Z"
   },
   {
    "duration": 6,
    "start_time": "2024-07-10T09:10:22.469Z"
   },
   {
    "duration": 8,
    "start_time": "2024-07-10T09:10:29.231Z"
   },
   {
    "duration": 10,
    "start_time": "2024-07-10T09:10:38.177Z"
   },
   {
    "duration": 40,
    "start_time": "2024-07-10T09:15:30.027Z"
   },
   {
    "duration": 4,
    "start_time": "2024-07-10T09:16:00.302Z"
   },
   {
    "duration": 9,
    "start_time": "2024-07-10T09:16:08.315Z"
   },
   {
    "duration": 8,
    "start_time": "2024-07-10T09:16:29.731Z"
   },
   {
    "duration": 8,
    "start_time": "2024-07-10T09:16:32.004Z"
   },
   {
    "duration": 11,
    "start_time": "2024-07-10T09:17:01.146Z"
   },
   {
    "duration": 5,
    "start_time": "2024-07-10T09:17:51.602Z"
   },
   {
    "duration": 7,
    "start_time": "2024-07-10T09:17:54.964Z"
   },
   {
    "duration": 5,
    "start_time": "2024-07-10T09:18:13.220Z"
   },
   {
    "duration": 7,
    "start_time": "2024-07-10T09:19:11.021Z"
   },
   {
    "duration": 6,
    "start_time": "2024-07-10T09:19:20.069Z"
   },
   {
    "duration": 7,
    "start_time": "2024-07-10T09:19:37.497Z"
   },
   {
    "duration": 8,
    "start_time": "2024-07-10T09:20:15.185Z"
   },
   {
    "duration": 8,
    "start_time": "2024-07-10T09:22:50.903Z"
   },
   {
    "duration": 8,
    "start_time": "2024-07-10T09:23:02.653Z"
   },
   {
    "duration": 5,
    "start_time": "2024-07-10T09:26:58.581Z"
   },
   {
    "duration": 6,
    "start_time": "2024-07-10T09:27:01.184Z"
   },
   {
    "duration": 6,
    "start_time": "2024-07-10T09:27:12.416Z"
   },
   {
    "duration": 6,
    "start_time": "2024-07-10T09:29:52.061Z"
   },
   {
    "duration": 4,
    "start_time": "2024-07-10T09:30:00.622Z"
   },
   {
    "duration": 6,
    "start_time": "2024-07-10T10:04:39.011Z"
   },
   {
    "duration": 7,
    "start_time": "2024-07-10T10:07:28.894Z"
   },
   {
    "duration": 1253,
    "start_time": "2024-07-10T10:07:34.062Z"
   },
   {
    "duration": 65,
    "start_time": "2024-07-10T10:07:35.317Z"
   },
   {
    "duration": 11,
    "start_time": "2024-07-10T10:07:35.384Z"
   },
   {
    "duration": 16,
    "start_time": "2024-07-10T10:07:35.396Z"
   },
   {
    "duration": 16,
    "start_time": "2024-07-10T10:07:35.414Z"
   },
   {
    "duration": 24,
    "start_time": "2024-07-10T10:07:35.432Z"
   },
   {
    "duration": 10,
    "start_time": "2024-07-10T10:07:35.458Z"
   },
   {
    "duration": 30,
    "start_time": "2024-07-10T10:07:35.469Z"
   },
   {
    "duration": 19,
    "start_time": "2024-07-10T10:07:35.500Z"
   },
   {
    "duration": 9,
    "start_time": "2024-07-10T10:07:35.520Z"
   },
   {
    "duration": 11,
    "start_time": "2024-07-10T10:07:35.530Z"
   },
   {
    "duration": 15,
    "start_time": "2024-07-10T10:07:35.542Z"
   },
   {
    "duration": 20,
    "start_time": "2024-07-10T10:07:35.559Z"
   },
   {
    "duration": 36,
    "start_time": "2024-07-10T10:07:35.581Z"
   },
   {
    "duration": 211,
    "start_time": "2024-07-10T10:07:35.618Z"
   },
   {
    "duration": 22,
    "start_time": "2024-07-10T10:07:59.380Z"
   },
   {
    "duration": 21,
    "start_time": "2024-07-10T10:10:30.233Z"
   },
   {
    "duration": 4,
    "start_time": "2024-07-10T10:10:42.260Z"
   },
   {
    "duration": 1112,
    "start_time": "2024-07-10T10:11:49.099Z"
   },
   {
    "duration": 64,
    "start_time": "2024-07-10T10:11:50.213Z"
   },
   {
    "duration": 12,
    "start_time": "2024-07-10T10:11:50.278Z"
   },
   {
    "duration": 10,
    "start_time": "2024-07-10T10:11:50.292Z"
   },
   {
    "duration": 20,
    "start_time": "2024-07-10T10:11:50.303Z"
   },
   {
    "duration": 25,
    "start_time": "2024-07-10T10:11:50.325Z"
   },
   {
    "duration": 10,
    "start_time": "2024-07-10T10:11:50.352Z"
   },
   {
    "duration": 10,
    "start_time": "2024-07-10T10:11:50.363Z"
   },
   {
    "duration": 18,
    "start_time": "2024-07-10T10:11:50.374Z"
   },
   {
    "duration": 13,
    "start_time": "2024-07-10T10:11:50.394Z"
   },
   {
    "duration": 17,
    "start_time": "2024-07-10T10:11:50.408Z"
   },
   {
    "duration": 5,
    "start_time": "2024-07-10T10:11:50.427Z"
   },
   {
    "duration": 5,
    "start_time": "2024-07-10T10:11:50.433Z"
   },
   {
    "duration": 9,
    "start_time": "2024-07-10T10:11:50.439Z"
   },
   {
    "duration": 20,
    "start_time": "2024-07-10T10:11:50.449Z"
   },
   {
    "duration": 5,
    "start_time": "2024-07-10T10:11:50.470Z"
   },
   {
    "duration": 5,
    "start_time": "2024-07-10T10:27:02.792Z"
   },
   {
    "duration": 7,
    "start_time": "2024-07-10T10:27:48.574Z"
   },
   {
    "duration": 6,
    "start_time": "2024-07-10T10:27:52.886Z"
   },
   {
    "duration": 7,
    "start_time": "2024-07-10T10:28:19.903Z"
   },
   {
    "duration": 23,
    "start_time": "2024-07-10T10:29:44.075Z"
   },
   {
    "duration": 25,
    "start_time": "2024-07-10T10:29:46.812Z"
   },
   {
    "duration": 5,
    "start_time": "2024-07-10T10:32:10.917Z"
   },
   {
    "duration": 4,
    "start_time": "2024-07-10T10:41:02.336Z"
   },
   {
    "duration": 1085,
    "start_time": "2024-07-10T10:49:01.915Z"
   },
   {
    "duration": 69,
    "start_time": "2024-07-10T10:49:03.002Z"
   },
   {
    "duration": 24,
    "start_time": "2024-07-10T10:49:03.073Z"
   },
   {
    "duration": 49,
    "start_time": "2024-07-10T10:49:03.098Z"
   },
   {
    "duration": 10,
    "start_time": "2024-07-10T10:49:03.149Z"
   },
   {
    "duration": 15,
    "start_time": "2024-07-10T10:49:03.160Z"
   },
   {
    "duration": 14,
    "start_time": "2024-07-10T10:49:03.176Z"
   },
   {
    "duration": 20,
    "start_time": "2024-07-10T10:49:03.191Z"
   },
   {
    "duration": 25,
    "start_time": "2024-07-10T10:49:03.212Z"
   },
   {
    "duration": 6,
    "start_time": "2024-07-10T10:49:03.239Z"
   },
   {
    "duration": 12,
    "start_time": "2024-07-10T10:49:03.247Z"
   },
   {
    "duration": 14,
    "start_time": "2024-07-10T10:49:03.260Z"
   },
   {
    "duration": 24,
    "start_time": "2024-07-10T10:49:03.275Z"
   },
   {
    "duration": 7,
    "start_time": "2024-07-10T10:49:03.302Z"
   },
   {
    "duration": 34,
    "start_time": "2024-07-10T10:49:03.311Z"
   },
   {
    "duration": 4,
    "start_time": "2024-07-10T10:49:03.347Z"
   },
   {
    "duration": 4,
    "start_time": "2024-07-10T10:49:03.352Z"
   },
   {
    "duration": 6,
    "start_time": "2024-07-10T10:56:08.361Z"
   },
   {
    "duration": 140,
    "start_time": "2024-07-10T10:56:55.292Z"
   },
   {
    "duration": 4,
    "start_time": "2024-07-10T10:57:30.905Z"
   },
   {
    "duration": 9,
    "start_time": "2024-07-10T10:58:24.579Z"
   },
   {
    "duration": 93,
    "start_time": "2024-07-10T10:58:44.596Z"
   },
   {
    "duration": 102,
    "start_time": "2024-07-10T10:59:48.068Z"
   },
   {
    "duration": 117,
    "start_time": "2024-07-10T11:00:02.284Z"
   },
   {
    "duration": 4,
    "start_time": "2024-07-10T11:00:26.269Z"
   },
   {
    "duration": 4,
    "start_time": "2024-07-10T11:00:30.101Z"
   },
   {
    "duration": 114,
    "start_time": "2024-07-10T11:00:48.709Z"
   },
   {
    "duration": 10,
    "start_time": "2024-07-10T11:01:09.458Z"
   },
   {
    "duration": 5,
    "start_time": "2024-07-10T11:01:15.631Z"
   },
   {
    "duration": 7,
    "start_time": "2024-07-10T11:01:18.983Z"
   },
   {
    "duration": 136,
    "start_time": "2024-07-10T11:01:48.116Z"
   },
   {
    "duration": 4,
    "start_time": "2024-07-10T11:02:47.348Z"
   },
   {
    "duration": 124,
    "start_time": "2024-07-10T11:02:48.321Z"
   },
   {
    "duration": 6,
    "start_time": "2024-07-10T11:05:43.013Z"
   },
   {
    "duration": 5,
    "start_time": "2024-07-10T11:06:12.945Z"
   },
   {
    "duration": 120,
    "start_time": "2024-07-10T11:07:20.837Z"
   },
   {
    "duration": 13,
    "start_time": "2024-07-10T11:09:08.290Z"
   },
   {
    "duration": 12,
    "start_time": "2024-07-10T11:09:13.679Z"
   },
   {
    "duration": 126,
    "start_time": "2024-07-10T11:09:28.127Z"
   },
   {
    "duration": 183,
    "start_time": "2024-07-10T11:11:35.096Z"
   },
   {
    "duration": 5,
    "start_time": "2024-07-10T11:11:49.763Z"
   },
   {
    "duration": 5,
    "start_time": "2024-07-10T11:12:08.236Z"
   },
   {
    "duration": 6,
    "start_time": "2024-07-10T11:12:40.928Z"
   },
   {
    "duration": 6,
    "start_time": "2024-07-10T11:13:03.681Z"
   },
   {
    "duration": 47,
    "start_time": "2024-07-10T11:13:13.824Z"
   },
   {
    "duration": 45,
    "start_time": "2024-07-10T11:13:19.926Z"
   },
   {
    "duration": 44,
    "start_time": "2024-07-10T11:13:26.145Z"
   },
   {
    "duration": 45,
    "start_time": "2024-07-10T11:13:30.828Z"
   },
   {
    "duration": 52,
    "start_time": "2024-07-10T11:13:34.212Z"
   },
   {
    "duration": 6,
    "start_time": "2024-07-10T11:13:39.369Z"
   },
   {
    "duration": 5,
    "start_time": "2024-07-10T11:13:49.421Z"
   },
   {
    "duration": 5,
    "start_time": "2024-07-10T11:13:51.991Z"
   },
   {
    "duration": 5,
    "start_time": "2024-07-10T11:14:04.181Z"
   },
   {
    "duration": 46,
    "start_time": "2024-07-10T11:15:20.338Z"
   },
   {
    "duration": 5,
    "start_time": "2024-07-10T11:15:23.361Z"
   },
   {
    "duration": 6,
    "start_time": "2024-07-10T11:15:29.496Z"
   },
   {
    "duration": 5,
    "start_time": "2024-07-10T11:15:48.652Z"
   },
   {
    "duration": 5,
    "start_time": "2024-07-10T11:15:58.832Z"
   },
   {
    "duration": 5,
    "start_time": "2024-07-10T11:16:54.652Z"
   },
   {
    "duration": 5,
    "start_time": "2024-07-10T11:18:45.209Z"
   },
   {
    "duration": 5,
    "start_time": "2024-07-10T11:18:49.581Z"
   },
   {
    "duration": 128,
    "start_time": "2024-07-10T11:19:30.712Z"
   },
   {
    "duration": 125,
    "start_time": "2024-07-10T11:19:46.099Z"
   },
   {
    "duration": 111,
    "start_time": "2024-07-10T11:19:49.900Z"
   },
   {
    "duration": 103,
    "start_time": "2024-07-10T11:20:00.440Z"
   },
   {
    "duration": 158,
    "start_time": "2024-07-10T11:21:23.259Z"
   },
   {
    "duration": 154,
    "start_time": "2024-07-10T11:21:36.425Z"
   },
   {
    "duration": 5,
    "start_time": "2024-07-10T11:21:52.637Z"
   },
   {
    "duration": 4,
    "start_time": "2024-07-10T11:21:54.573Z"
   },
   {
    "duration": 160,
    "start_time": "2024-07-10T11:22:16.539Z"
   },
   {
    "duration": 5,
    "start_time": "2024-07-10T11:22:18.584Z"
   },
   {
    "duration": 226,
    "start_time": "2024-07-10T11:22:27.098Z"
   },
   {
    "duration": 5,
    "start_time": "2024-07-10T11:22:30.454Z"
   },
   {
    "duration": 1015,
    "start_time": "2024-07-10T11:22:36.679Z"
   },
   {
    "duration": 63,
    "start_time": "2024-07-10T11:22:37.696Z"
   },
   {
    "duration": 11,
    "start_time": "2024-07-10T11:22:37.760Z"
   },
   {
    "duration": 22,
    "start_time": "2024-07-10T11:22:37.772Z"
   },
   {
    "duration": 31,
    "start_time": "2024-07-10T11:22:37.796Z"
   },
   {
    "duration": 14,
    "start_time": "2024-07-10T11:22:37.828Z"
   },
   {
    "duration": 6,
    "start_time": "2024-07-10T11:22:37.843Z"
   },
   {
    "duration": 25,
    "start_time": "2024-07-10T11:22:37.850Z"
   },
   {
    "duration": 15,
    "start_time": "2024-07-10T11:22:37.877Z"
   },
   {
    "duration": 4,
    "start_time": "2024-07-10T11:22:37.893Z"
   },
   {
    "duration": 9,
    "start_time": "2024-07-10T11:22:37.898Z"
   },
   {
    "duration": 5,
    "start_time": "2024-07-10T11:22:37.908Z"
   },
   {
    "duration": 6,
    "start_time": "2024-07-10T11:22:37.914Z"
   },
   {
    "duration": 5,
    "start_time": "2024-07-10T11:22:37.922Z"
   },
   {
    "duration": 27,
    "start_time": "2024-07-10T11:22:37.929Z"
   },
   {
    "duration": 4,
    "start_time": "2024-07-10T11:22:37.957Z"
   },
   {
    "duration": 15,
    "start_time": "2024-07-10T11:22:37.962Z"
   },
   {
    "duration": 5,
    "start_time": "2024-07-10T11:22:37.978Z"
   },
   {
    "duration": 162,
    "start_time": "2024-07-10T11:22:37.984Z"
   },
   {
    "duration": 7,
    "start_time": "2024-07-10T11:22:38.148Z"
   },
   {
    "duration": 110,
    "start_time": "2024-07-10T11:22:38.156Z"
   },
   {
    "duration": 5,
    "start_time": "2024-07-10T11:22:38.268Z"
   },
   {
    "duration": 201,
    "start_time": "2024-07-10T11:22:38.274Z"
   },
   {
    "duration": 9,
    "start_time": "2024-07-10T11:25:05.231Z"
   },
   {
    "duration": 6,
    "start_time": "2024-07-10T11:26:54.378Z"
   },
   {
    "duration": 7,
    "start_time": "2024-07-10T11:27:02.124Z"
   },
   {
    "duration": 157,
    "start_time": "2024-07-10T11:27:17.800Z"
   },
   {
    "duration": 219,
    "start_time": "2024-07-10T11:27:30.269Z"
   },
   {
    "duration": 207,
    "start_time": "2024-07-10T11:27:34.992Z"
   },
   {
    "duration": 181,
    "start_time": "2024-07-10T11:28:22.306Z"
   },
   {
    "duration": 8,
    "start_time": "2024-07-10T11:28:23.558Z"
   },
   {
    "duration": 12,
    "start_time": "2024-07-10T11:35:10.314Z"
   },
   {
    "duration": 11,
    "start_time": "2024-07-10T11:35:17.352Z"
   },
   {
    "duration": 17,
    "start_time": "2024-07-10T11:35:31.601Z"
   },
   {
    "duration": 103,
    "start_time": "2024-07-10T11:36:01.998Z"
   },
   {
    "duration": 12,
    "start_time": "2024-07-10T11:36:10.028Z"
   },
   {
    "duration": 17,
    "start_time": "2024-07-10T11:37:01.255Z"
   },
   {
    "duration": 50,
    "start_time": "2024-07-10T15:08:50.784Z"
   },
   {
    "duration": 3,
    "start_time": "2024-07-10T15:12:13.186Z"
   },
   {
    "duration": 69,
    "start_time": "2024-07-10T15:12:13.190Z"
   },
   {
    "duration": 8,
    "start_time": "2024-07-10T15:12:13.260Z"
   },
   {
    "duration": 11,
    "start_time": "2024-07-10T15:12:13.269Z"
   },
   {
    "duration": 7,
    "start_time": "2024-07-10T15:12:13.282Z"
   },
   {
    "duration": 15,
    "start_time": "2024-07-10T15:12:13.291Z"
   },
   {
    "duration": 6,
    "start_time": "2024-07-10T15:12:13.308Z"
   },
   {
    "duration": 11,
    "start_time": "2024-07-10T15:12:13.316Z"
   },
   {
    "duration": 9,
    "start_time": "2024-07-10T15:12:13.329Z"
   },
   {
    "duration": 4,
    "start_time": "2024-07-10T15:12:13.339Z"
   },
   {
    "duration": 8,
    "start_time": "2024-07-10T15:12:13.344Z"
   },
   {
    "duration": 7,
    "start_time": "2024-07-10T15:12:13.353Z"
   },
   {
    "duration": 13,
    "start_time": "2024-07-10T15:12:13.362Z"
   },
   {
    "duration": 11,
    "start_time": "2024-07-10T15:12:13.376Z"
   },
   {
    "duration": 23,
    "start_time": "2024-07-10T15:12:13.388Z"
   },
   {
    "duration": 4,
    "start_time": "2024-07-10T15:12:13.412Z"
   },
   {
    "duration": 5,
    "start_time": "2024-07-10T15:12:13.418Z"
   },
   {
    "duration": 7,
    "start_time": "2024-07-10T15:12:13.425Z"
   },
   {
    "duration": 150,
    "start_time": "2024-07-10T15:12:13.433Z"
   },
   {
    "duration": 6,
    "start_time": "2024-07-10T15:12:13.585Z"
   },
   {
    "duration": 138,
    "start_time": "2024-07-10T15:12:13.592Z"
   },
   {
    "duration": 5,
    "start_time": "2024-07-10T15:12:13.731Z"
   },
   {
    "duration": 202,
    "start_time": "2024-07-10T15:12:13.738Z"
   },
   {
    "duration": 7,
    "start_time": "2024-07-10T15:12:13.942Z"
   },
   {
    "duration": 8,
    "start_time": "2024-07-10T15:12:13.950Z"
   },
   {
    "duration": 279,
    "start_time": "2024-07-10T15:12:13.960Z"
   },
   {
    "duration": 190,
    "start_time": "2024-07-10T15:12:14.240Z"
   },
   {
    "duration": 8,
    "start_time": "2024-07-10T15:12:14.432Z"
   },
   {
    "duration": 202,
    "start_time": "2024-07-10T15:12:14.441Z"
   },
   {
    "duration": 17,
    "start_time": "2024-07-10T15:12:14.644Z"
   },
   {
    "duration": 90,
    "start_time": "2024-07-10T15:12:14.663Z"
   },
   {
    "duration": 19,
    "start_time": "2024-07-10T15:12:14.755Z"
   },
   {
    "duration": 1194,
    "start_time": "2024-07-10T15:19:23.132Z"
   },
   {
    "duration": 68,
    "start_time": "2024-07-10T15:19:24.328Z"
   },
   {
    "duration": 14,
    "start_time": "2024-07-10T15:19:24.398Z"
   },
   {
    "duration": 13,
    "start_time": "2024-07-10T15:19:24.414Z"
   },
   {
    "duration": 28,
    "start_time": "2024-07-10T15:19:24.429Z"
   },
   {
    "duration": 17,
    "start_time": "2024-07-10T15:19:24.458Z"
   },
   {
    "duration": 9,
    "start_time": "2024-07-10T15:19:24.477Z"
   },
   {
    "duration": 23,
    "start_time": "2024-07-10T15:19:24.488Z"
   },
   {
    "duration": 20,
    "start_time": "2024-07-10T15:19:24.513Z"
   },
   {
    "duration": 11,
    "start_time": "2024-07-10T15:19:24.535Z"
   },
   {
    "duration": 14,
    "start_time": "2024-07-10T15:19:24.548Z"
   },
   {
    "duration": 7,
    "start_time": "2024-07-10T15:19:24.564Z"
   },
   {
    "duration": 10,
    "start_time": "2024-07-10T15:19:24.573Z"
   },
   {
    "duration": 18,
    "start_time": "2024-07-10T15:19:24.587Z"
   },
   {
    "duration": 19,
    "start_time": "2024-07-10T15:19:24.607Z"
   },
   {
    "duration": 8,
    "start_time": "2024-07-10T15:19:24.643Z"
   },
   {
    "duration": 14,
    "start_time": "2024-07-10T15:19:24.653Z"
   },
   {
    "duration": 31,
    "start_time": "2024-07-10T15:19:24.669Z"
   },
   {
    "duration": 257,
    "start_time": "2024-07-10T15:19:24.704Z"
   },
   {
    "duration": 7,
    "start_time": "2024-07-10T15:19:24.963Z"
   },
   {
    "duration": 134,
    "start_time": "2024-07-10T15:19:24.972Z"
   },
   {
    "duration": 5,
    "start_time": "2024-07-10T15:19:25.108Z"
   },
   {
    "duration": 229,
    "start_time": "2024-07-10T15:19:25.115Z"
   },
   {
    "duration": 8,
    "start_time": "2024-07-10T15:19:25.345Z"
   },
   {
    "duration": 9,
    "start_time": "2024-07-10T15:19:25.355Z"
   },
   {
    "duration": 210,
    "start_time": "2024-07-10T15:19:25.365Z"
   },
   {
    "duration": 194,
    "start_time": "2024-07-10T15:19:25.577Z"
   },
   {
    "duration": 8,
    "start_time": "2024-07-10T15:19:25.773Z"
   },
   {
    "duration": 203,
    "start_time": "2024-07-10T15:19:25.783Z"
   },
   {
    "duration": 29,
    "start_time": "2024-07-10T15:19:25.987Z"
   },
   {
    "duration": 108,
    "start_time": "2024-07-10T15:19:26.018Z"
   },
   {
    "duration": 19,
    "start_time": "2024-07-10T15:19:26.127Z"
   },
   {
    "duration": 175,
    "start_time": "2024-07-10T15:19:43.828Z"
   },
   {
    "duration": 1159,
    "start_time": "2024-07-10T15:25:08.867Z"
   },
   {
    "duration": 68,
    "start_time": "2024-07-10T15:25:10.028Z"
   },
   {
    "duration": 35,
    "start_time": "2024-07-10T15:25:10.098Z"
   },
   {
    "duration": 110,
    "start_time": "2024-07-10T15:25:10.135Z"
   },
   {
    "duration": 27,
    "start_time": "2024-07-10T15:25:10.246Z"
   },
   {
    "duration": 14,
    "start_time": "2024-07-10T15:25:10.275Z"
   },
   {
    "duration": 37,
    "start_time": "2024-07-10T15:25:10.290Z"
   },
   {
    "duration": 52,
    "start_time": "2024-07-10T15:25:10.329Z"
   },
   {
    "duration": 66,
    "start_time": "2024-07-10T15:25:10.383Z"
   },
   {
    "duration": 8,
    "start_time": "2024-07-10T15:25:10.453Z"
   },
   {
    "duration": 46,
    "start_time": "2024-07-10T15:25:10.463Z"
   },
   {
    "duration": 105,
    "start_time": "2024-07-10T15:25:10.511Z"
   },
   {
    "duration": 38,
    "start_time": "2024-07-10T15:25:10.618Z"
   },
   {
    "duration": 6,
    "start_time": "2024-07-10T15:25:10.658Z"
   },
   {
    "duration": 47,
    "start_time": "2024-07-10T15:25:10.665Z"
   },
   {
    "duration": 54,
    "start_time": "2024-07-10T15:25:10.714Z"
   },
   {
    "duration": 27,
    "start_time": "2024-07-10T15:25:10.770Z"
   },
   {
    "duration": 65,
    "start_time": "2024-07-10T15:25:10.799Z"
   },
   {
    "duration": 185,
    "start_time": "2024-07-10T15:25:10.865Z"
   },
   {
    "duration": 7,
    "start_time": "2024-07-10T15:25:11.052Z"
   },
   {
    "duration": 190,
    "start_time": "2024-07-10T15:25:11.060Z"
   },
   {
    "duration": 6,
    "start_time": "2024-07-10T15:25:11.251Z"
   },
   {
    "duration": 212,
    "start_time": "2024-07-10T15:25:11.258Z"
   },
   {
    "duration": 8,
    "start_time": "2024-07-10T15:25:11.471Z"
   },
   {
    "duration": 11,
    "start_time": "2024-07-10T15:25:11.481Z"
   },
   {
    "duration": 200,
    "start_time": "2024-07-10T15:25:11.506Z"
   },
   {
    "duration": 9,
    "start_time": "2024-07-10T15:25:11.708Z"
   },
   {
    "duration": 208,
    "start_time": "2024-07-10T15:25:11.721Z"
   },
   {
    "duration": 19,
    "start_time": "2024-07-10T15:25:11.930Z"
   },
   {
    "duration": 20,
    "start_time": "2024-07-10T15:25:11.950Z"
   },
   {
    "duration": 45,
    "start_time": "2024-07-10T15:25:11.972Z"
   },
   {
    "duration": 267,
    "start_time": "2024-07-10T15:26:39.601Z"
   },
   {
    "duration": 7,
    "start_time": "2024-07-10T15:33:37.725Z"
   },
   {
    "duration": 7,
    "start_time": "2024-07-10T15:35:30.417Z"
   },
   {
    "duration": 6,
    "start_time": "2024-07-10T15:35:38.341Z"
   },
   {
    "duration": 7,
    "start_time": "2024-07-10T15:35:59.701Z"
   },
   {
    "duration": 11,
    "start_time": "2024-07-10T15:36:16.522Z"
   },
   {
    "duration": 7,
    "start_time": "2024-07-10T15:37:12.461Z"
   },
   {
    "duration": 183,
    "start_time": "2024-07-10T15:37:14.514Z"
   },
   {
    "duration": 119,
    "start_time": "2024-07-10T15:37:34.775Z"
   },
   {
    "duration": 187,
    "start_time": "2024-07-10T15:37:44.060Z"
   },
   {
    "duration": 9,
    "start_time": "2024-07-10T15:39:02.841Z"
   },
   {
    "duration": 152,
    "start_time": "2024-07-10T15:39:29.430Z"
   },
   {
    "duration": 160,
    "start_time": "2024-07-10T15:39:40.854Z"
   },
   {
    "duration": 160,
    "start_time": "2024-07-10T15:40:42.074Z"
   },
   {
    "duration": 178,
    "start_time": "2024-07-10T15:56:40.605Z"
   },
   {
    "duration": 8,
    "start_time": "2024-07-10T15:57:08.561Z"
   },
   {
    "duration": 7,
    "start_time": "2024-07-10T15:57:14.379Z"
   },
   {
    "duration": 5,
    "start_time": "2024-07-10T15:57:43.272Z"
   },
   {
    "duration": 5,
    "start_time": "2024-07-10T15:57:46.981Z"
   },
   {
    "duration": 185,
    "start_time": "2024-07-10T16:02:39.572Z"
   },
   {
    "duration": 1103,
    "start_time": "2024-07-10T16:02:50.907Z"
   },
   {
    "duration": 955,
    "start_time": "2024-07-10T16:03:02.916Z"
   },
   {
    "duration": 965,
    "start_time": "2024-07-10T16:03:11.223Z"
   },
   {
    "duration": 1113,
    "start_time": "2024-07-10T16:03:13.632Z"
   },
   {
    "duration": 7,
    "start_time": "2024-07-10T16:03:22.104Z"
   },
   {
    "duration": 1470,
    "start_time": "2024-07-10T16:03:56.101Z"
   },
   {
    "duration": 361,
    "start_time": "2024-07-10T16:04:02.450Z"
   },
   {
    "duration": 229,
    "start_time": "2024-07-10T16:04:35.770Z"
   },
   {
    "duration": 239,
    "start_time": "2024-07-10T16:04:44.606Z"
   },
   {
    "duration": 248,
    "start_time": "2024-07-10T16:05:00.808Z"
   },
   {
    "duration": 436,
    "start_time": "2024-07-10T16:08:08.534Z"
   },
   {
    "duration": 392,
    "start_time": "2024-07-10T16:08:20.643Z"
   },
   {
    "duration": 519,
    "start_time": "2024-07-10T16:08:29.407Z"
   },
   {
    "duration": 23,
    "start_time": "2024-07-10T16:15:32.971Z"
   },
   {
    "duration": 23,
    "start_time": "2024-07-10T16:16:37.189Z"
   },
   {
    "duration": 15,
    "start_time": "2024-07-10T16:16:39.528Z"
   },
   {
    "duration": 15,
    "start_time": "2024-07-10T16:17:39.458Z"
   },
   {
    "duration": 16,
    "start_time": "2024-07-10T16:20:59.625Z"
   },
   {
    "duration": 14,
    "start_time": "2024-07-10T16:21:04.846Z"
   },
   {
    "duration": 4,
    "start_time": "2024-07-10T16:22:23.559Z"
   },
   {
    "duration": 13,
    "start_time": "2024-07-10T16:22:26.888Z"
   },
   {
    "duration": 181,
    "start_time": "2024-07-10T16:23:08.654Z"
   },
   {
    "duration": 162,
    "start_time": "2024-07-10T16:24:18.200Z"
   },
   {
    "duration": 142,
    "start_time": "2024-07-10T16:24:22.254Z"
   },
   {
    "duration": 171,
    "start_time": "2024-07-10T16:24:32.140Z"
   },
   {
    "duration": 873,
    "start_time": "2024-07-10T16:24:50.225Z"
   },
   {
    "duration": 867,
    "start_time": "2024-07-10T16:24:56.522Z"
   },
   {
    "duration": 962,
    "start_time": "2024-07-10T16:25:01.579Z"
   },
   {
    "duration": 912,
    "start_time": "2024-07-10T16:25:04.108Z"
   },
   {
    "duration": 375,
    "start_time": "2024-07-10T16:25:34.069Z"
   },
   {
    "duration": 478,
    "start_time": "2024-07-10T16:25:54.480Z"
   },
   {
    "duration": 269,
    "start_time": "2024-07-10T16:26:09.744Z"
   },
   {
    "duration": 263,
    "start_time": "2024-07-10T16:26:18.220Z"
   },
   {
    "duration": 9,
    "start_time": "2024-07-10T16:27:23.522Z"
   },
   {
    "duration": 66,
    "start_time": "2024-07-10T16:28:24.456Z"
   },
   {
    "duration": 66,
    "start_time": "2024-07-10T16:36:39.884Z"
   },
   {
    "duration": 65,
    "start_time": "2024-07-10T16:36:42.136Z"
   },
   {
    "duration": 66,
    "start_time": "2024-07-10T16:36:46.636Z"
   },
   {
    "duration": 66,
    "start_time": "2024-07-10T16:36:56.802Z"
   },
   {
    "duration": 307,
    "start_time": "2024-07-10T16:37:15.862Z"
   },
   {
    "duration": 289,
    "start_time": "2024-07-10T16:37:25.575Z"
   },
   {
    "duration": 1172,
    "start_time": "2024-07-10T16:40:08.833Z"
   },
   {
    "duration": 68,
    "start_time": "2024-07-10T16:40:10.007Z"
   },
   {
    "duration": 13,
    "start_time": "2024-07-10T16:40:10.077Z"
   },
   {
    "duration": 25,
    "start_time": "2024-07-10T16:40:10.091Z"
   },
   {
    "duration": 15,
    "start_time": "2024-07-10T16:40:10.118Z"
   },
   {
    "duration": 16,
    "start_time": "2024-07-10T16:40:10.135Z"
   },
   {
    "duration": 7,
    "start_time": "2024-07-10T16:40:10.153Z"
   },
   {
    "duration": 13,
    "start_time": "2024-07-10T16:40:10.162Z"
   },
   {
    "duration": 12,
    "start_time": "2024-07-10T16:40:10.177Z"
   },
   {
    "duration": 18,
    "start_time": "2024-07-10T16:40:10.191Z"
   },
   {
    "duration": 9,
    "start_time": "2024-07-10T16:40:10.210Z"
   },
   {
    "duration": 6,
    "start_time": "2024-07-10T16:40:10.221Z"
   },
   {
    "duration": 5,
    "start_time": "2024-07-10T16:40:10.229Z"
   },
   {
    "duration": 6,
    "start_time": "2024-07-10T16:40:10.237Z"
   },
   {
    "duration": 62,
    "start_time": "2024-07-10T16:40:10.245Z"
   },
   {
    "duration": 5,
    "start_time": "2024-07-10T16:40:10.309Z"
   },
   {
    "duration": 6,
    "start_time": "2024-07-10T16:40:10.315Z"
   },
   {
    "duration": 6,
    "start_time": "2024-07-10T16:40:10.322Z"
   },
   {
    "duration": 176,
    "start_time": "2024-07-10T16:40:10.329Z"
   },
   {
    "duration": 7,
    "start_time": "2024-07-10T16:40:10.507Z"
   },
   {
    "duration": 20,
    "start_time": "2024-07-10T16:40:10.516Z"
   },
   {
    "duration": 276,
    "start_time": "2024-07-10T16:40:10.537Z"
   },
   {
    "duration": 6,
    "start_time": "2024-07-10T16:40:10.814Z"
   },
   {
    "duration": 20,
    "start_time": "2024-07-10T16:40:10.822Z"
   },
   {
    "duration": 416,
    "start_time": "2024-07-10T16:40:10.844Z"
   },
   {
    "duration": 10,
    "start_time": "2024-07-10T16:40:11.261Z"
   },
   {
    "duration": 235,
    "start_time": "2024-07-10T16:40:11.272Z"
   },
   {
    "duration": 16,
    "start_time": "2024-07-10T16:40:11.509Z"
   },
   {
    "duration": 14,
    "start_time": "2024-07-10T16:40:11.527Z"
   },
   {
    "duration": 8,
    "start_time": "2024-07-10T16:40:11.542Z"
   },
   {
    "duration": 322,
    "start_time": "2024-07-10T16:40:11.551Z"
   },
   {
    "duration": 10,
    "start_time": "2024-07-10T16:51:50.982Z"
   },
   {
    "duration": 19,
    "start_time": "2024-07-10T16:51:53.774Z"
   },
   {
    "duration": 5,
    "start_time": "2024-07-10T16:52:03.341Z"
   },
   {
    "duration": 4,
    "start_time": "2024-07-10T16:52:10.175Z"
   },
   {
    "duration": 6,
    "start_time": "2024-07-10T16:55:43.044Z"
   },
   {
    "duration": 17,
    "start_time": "2024-07-10T16:55:49.984Z"
   },
   {
    "duration": 2,
    "start_time": "2024-07-10T16:56:22.179Z"
   },
   {
    "duration": 1195,
    "start_time": "2024-07-10T16:56:27.503Z"
   },
   {
    "duration": 65,
    "start_time": "2024-07-10T16:56:28.700Z"
   },
   {
    "duration": 2,
    "start_time": "2024-07-10T16:56:28.769Z"
   },
   {
    "duration": 16,
    "start_time": "2024-07-10T16:56:28.773Z"
   },
   {
    "duration": 10,
    "start_time": "2024-07-10T16:56:28.791Z"
   },
   {
    "duration": 9,
    "start_time": "2024-07-10T16:56:28.803Z"
   },
   {
    "duration": 11,
    "start_time": "2024-07-10T16:56:28.814Z"
   },
   {
    "duration": 7,
    "start_time": "2024-07-10T16:56:28.826Z"
   },
   {
    "duration": 9,
    "start_time": "2024-07-10T16:56:28.836Z"
   },
   {
    "duration": 20,
    "start_time": "2024-07-10T16:56:28.847Z"
   },
   {
    "duration": 4,
    "start_time": "2024-07-10T16:56:28.869Z"
   },
   {
    "duration": 36,
    "start_time": "2024-07-10T16:56:28.875Z"
   },
   {
    "duration": 14,
    "start_time": "2024-07-10T16:56:28.914Z"
   },
   {
    "duration": 5,
    "start_time": "2024-07-10T16:56:28.930Z"
   },
   {
    "duration": 5,
    "start_time": "2024-07-10T16:56:28.936Z"
   },
   {
    "duration": 28,
    "start_time": "2024-07-10T16:56:28.942Z"
   },
   {
    "duration": 35,
    "start_time": "2024-07-10T16:56:28.971Z"
   },
   {
    "duration": 8,
    "start_time": "2024-07-10T16:56:29.008Z"
   },
   {
    "duration": 6,
    "start_time": "2024-07-10T16:56:29.017Z"
   },
   {
    "duration": 176,
    "start_time": "2024-07-10T16:56:29.024Z"
   },
   {
    "duration": 9,
    "start_time": "2024-07-10T16:56:29.201Z"
   },
   {
    "duration": 8,
    "start_time": "2024-07-10T16:56:29.211Z"
   },
   {
    "duration": 259,
    "start_time": "2024-07-10T16:56:29.220Z"
   },
   {
    "duration": 5,
    "start_time": "2024-07-10T16:56:29.480Z"
   },
   {
    "duration": 23,
    "start_time": "2024-07-10T16:56:29.487Z"
   },
   {
    "duration": 338,
    "start_time": "2024-07-10T16:56:29.512Z"
   },
   {
    "duration": 8,
    "start_time": "2024-07-10T16:56:29.852Z"
   },
   {
    "duration": 185,
    "start_time": "2024-07-10T16:56:29.862Z"
   },
   {
    "duration": 16,
    "start_time": "2024-07-10T16:56:30.049Z"
   },
   {
    "duration": 69,
    "start_time": "2024-07-10T16:56:30.067Z"
   },
   {
    "duration": 48,
    "start_time": "2024-07-10T16:56:30.138Z"
   },
   {
    "duration": 287,
    "start_time": "2024-07-10T16:56:30.188Z"
   },
   {
    "duration": 30,
    "start_time": "2024-07-10T16:56:30.477Z"
   },
   {
    "duration": 43,
    "start_time": "2024-07-10T16:56:30.509Z"
   },
   {
    "duration": 30,
    "start_time": "2024-07-10T16:56:30.554Z"
   },
   {
    "duration": 15,
    "start_time": "2024-07-10T16:57:12.841Z"
   },
   {
    "duration": 14,
    "start_time": "2024-07-10T16:57:23.805Z"
   },
   {
    "duration": 16,
    "start_time": "2024-07-10T16:58:34.345Z"
   },
   {
    "duration": 13,
    "start_time": "2024-07-10T16:59:45.859Z"
   },
   {
    "duration": 21,
    "start_time": "2024-07-10T17:00:12.398Z"
   },
   {
    "duration": 18,
    "start_time": "2024-07-10T17:01:02.487Z"
   },
   {
    "duration": 28,
    "start_time": "2024-07-10T17:04:38.488Z"
   },
   {
    "duration": 62,
    "start_time": "2024-07-10T17:09:43.298Z"
   },
   {
    "duration": 88,
    "start_time": "2024-07-10T17:09:50.522Z"
   },
   {
    "duration": 9,
    "start_time": "2024-07-10T17:10:09.168Z"
   },
   {
    "duration": 4,
    "start_time": "2024-07-10T17:10:17.286Z"
   },
   {
    "duration": 4,
    "start_time": "2024-07-10T17:10:23.685Z"
   },
   {
    "duration": 20,
    "start_time": "2024-07-10T17:10:46.991Z"
   },
   {
    "duration": 19,
    "start_time": "2024-07-10T17:10:54.459Z"
   },
   {
    "duration": 21,
    "start_time": "2024-07-10T17:11:01.862Z"
   },
   {
    "duration": 22,
    "start_time": "2024-07-10T17:11:10.795Z"
   },
   {
    "duration": 274,
    "start_time": "2024-07-10T17:16:34.585Z"
   },
   {
    "duration": 230,
    "start_time": "2024-07-10T17:16:42.299Z"
   },
   {
    "duration": 174,
    "start_time": "2024-07-10T17:17:20.412Z"
   },
   {
    "duration": 200,
    "start_time": "2024-07-10T17:17:28.770Z"
   },
   {
    "duration": 155,
    "start_time": "2024-07-10T17:17:45.052Z"
   },
   {
    "duration": 159,
    "start_time": "2024-07-10T17:17:48.010Z"
   },
   {
    "duration": 205,
    "start_time": "2024-07-10T17:19:58.209Z"
   },
   {
    "duration": 628,
    "start_time": "2024-07-10T17:21:25.147Z"
   },
   {
    "duration": 708,
    "start_time": "2024-07-10T17:21:36.120Z"
   },
   {
    "duration": 719,
    "start_time": "2024-07-10T17:22:05.650Z"
   },
   {
    "duration": 841,
    "start_time": "2024-07-10T17:22:22.126Z"
   },
   {
    "duration": 731,
    "start_time": "2024-07-10T17:23:02.982Z"
   },
   {
    "duration": 755,
    "start_time": "2024-07-10T17:23:24.159Z"
   },
   {
    "duration": 914,
    "start_time": "2024-07-10T17:25:52.145Z"
   },
   {
    "duration": 768,
    "start_time": "2024-07-10T17:26:04.620Z"
   },
   {
    "duration": 911,
    "start_time": "2024-07-10T17:27:46.633Z"
   },
   {
    "duration": 755,
    "start_time": "2024-07-10T17:33:22.577Z"
   },
   {
    "duration": 821,
    "start_time": "2024-07-10T17:33:54.448Z"
   },
   {
    "duration": 931,
    "start_time": "2024-07-10T17:34:14.266Z"
   },
   {
    "duration": 77,
    "start_time": "2024-07-10T17:35:52.708Z"
   },
   {
    "duration": 80,
    "start_time": "2024-07-10T17:36:00.014Z"
   },
   {
    "duration": 766,
    "start_time": "2024-07-10T17:36:04.035Z"
   },
   {
    "duration": 607,
    "start_time": "2024-07-10T17:39:17.007Z"
   },
   {
    "duration": 497,
    "start_time": "2024-07-10T17:40:55.851Z"
   },
   {
    "duration": 640,
    "start_time": "2024-07-10T17:41:08.704Z"
   },
   {
    "duration": 753,
    "start_time": "2024-07-10T17:41:16.079Z"
   },
   {
    "duration": 310,
    "start_time": "2024-07-10T17:43:49.715Z"
   },
   {
    "duration": 123,
    "start_time": "2024-07-10T17:44:07.321Z"
   },
   {
    "duration": 312,
    "start_time": "2024-07-10T17:44:25.046Z"
   },
   {
    "duration": 422,
    "start_time": "2024-07-10T17:44:35.706Z"
   },
   {
    "duration": 267,
    "start_time": "2024-07-10T17:44:53.895Z"
   },
   {
    "duration": 15,
    "start_time": "2024-07-10T17:45:27.662Z"
   },
   {
    "duration": 13,
    "start_time": "2024-07-10T17:48:35.418Z"
   },
   {
    "duration": 14,
    "start_time": "2024-07-10T17:49:37.228Z"
   },
   {
    "duration": 336,
    "start_time": "2024-07-10T17:56:56.148Z"
   },
   {
    "duration": 775,
    "start_time": "2024-07-10T17:57:22.711Z"
   },
   {
    "duration": 908,
    "start_time": "2024-07-10T17:57:42.162Z"
   },
   {
    "duration": 780,
    "start_time": "2024-07-10T17:57:53.054Z"
   },
   {
    "duration": 768,
    "start_time": "2024-07-10T17:58:19.302Z"
   },
   {
    "duration": 898,
    "start_time": "2024-07-10T18:00:26.853Z"
   },
   {
    "duration": 811,
    "start_time": "2024-07-10T18:01:01.708Z"
   },
   {
    "duration": 138,
    "start_time": "2024-07-10T18:03:16.083Z"
   },
   {
    "duration": 156,
    "start_time": "2024-07-10T18:03:39.571Z"
   },
   {
    "duration": 268,
    "start_time": "2024-07-10T18:03:56.655Z"
   },
   {
    "duration": 387,
    "start_time": "2024-07-10T18:04:12.453Z"
   },
   {
    "duration": 304,
    "start_time": "2024-07-10T18:04:24.608Z"
   },
   {
    "duration": 301,
    "start_time": "2024-07-10T18:05:08.160Z"
   },
   {
    "duration": 263,
    "start_time": "2024-07-10T18:05:27.049Z"
   },
   {
    "duration": 299,
    "start_time": "2024-07-10T18:05:46.347Z"
   },
   {
    "duration": 530,
    "start_time": "2024-07-10T18:07:21.012Z"
   },
   {
    "duration": 437,
    "start_time": "2024-07-10T18:08:08.341Z"
   },
   {
    "duration": 393,
    "start_time": "2024-07-10T18:15:14.652Z"
   },
   {
    "duration": 360,
    "start_time": "2024-07-10T18:15:19.017Z"
   },
   {
    "duration": 357,
    "start_time": "2024-07-10T18:15:22.366Z"
   },
   {
    "duration": 555,
    "start_time": "2024-07-10T18:15:36.814Z"
   },
   {
    "duration": 382,
    "start_time": "2024-07-10T18:16:23.282Z"
   },
   {
    "duration": 367,
    "start_time": "2024-07-10T18:17:03.470Z"
   },
   {
    "duration": 379,
    "start_time": "2024-07-10T18:17:18.374Z"
   },
   {
    "duration": 359,
    "start_time": "2024-07-10T18:17:21.733Z"
   },
   {
    "duration": 358,
    "start_time": "2024-07-10T18:17:35.466Z"
   },
   {
    "duration": 543,
    "start_time": "2024-07-10T18:17:38.989Z"
   },
   {
    "duration": 364,
    "start_time": "2024-07-10T18:17:53.571Z"
   },
   {
    "duration": 354,
    "start_time": "2024-07-10T18:17:56.353Z"
   },
   {
    "duration": 400,
    "start_time": "2024-07-10T18:18:08.392Z"
   },
   {
    "duration": 383,
    "start_time": "2024-07-10T18:18:11.786Z"
   },
   {
    "duration": 421,
    "start_time": "2024-07-10T18:18:16.014Z"
   },
   {
    "duration": 275,
    "start_time": "2024-07-10T18:18:19.451Z"
   },
   {
    "duration": 1004,
    "start_time": "2024-07-10T18:18:27.041Z"
   },
   {
    "duration": 258,
    "start_time": "2024-07-10T18:18:32.326Z"
   },
   {
    "duration": 346,
    "start_time": "2024-07-10T18:18:38.279Z"
   },
   {
    "duration": 377,
    "start_time": "2024-07-10T18:19:00.143Z"
   },
   {
    "duration": 1959,
    "start_time": "2024-07-10T18:19:08.076Z"
   },
   {
    "duration": 67,
    "start_time": "2024-07-10T18:19:10.038Z"
   },
   {
    "duration": 2,
    "start_time": "2024-07-10T18:19:10.107Z"
   },
   {
    "duration": 25,
    "start_time": "2024-07-10T18:19:10.111Z"
   },
   {
    "duration": 11,
    "start_time": "2024-07-10T18:19:10.138Z"
   },
   {
    "duration": 9,
    "start_time": "2024-07-10T18:19:10.150Z"
   },
   {
    "duration": 12,
    "start_time": "2024-07-10T18:19:10.160Z"
   },
   {
    "duration": 7,
    "start_time": "2024-07-10T18:19:10.173Z"
   },
   {
    "duration": 30,
    "start_time": "2024-07-10T18:19:10.181Z"
   },
   {
    "duration": 7,
    "start_time": "2024-07-10T18:19:10.213Z"
   },
   {
    "duration": 7,
    "start_time": "2024-07-10T18:19:10.222Z"
   },
   {
    "duration": 11,
    "start_time": "2024-07-10T18:19:10.231Z"
   },
   {
    "duration": 15,
    "start_time": "2024-07-10T18:19:10.244Z"
   },
   {
    "duration": 8,
    "start_time": "2024-07-10T18:19:10.260Z"
   },
   {
    "duration": 19,
    "start_time": "2024-07-10T18:19:10.269Z"
   },
   {
    "duration": 28,
    "start_time": "2024-07-10T18:19:10.290Z"
   },
   {
    "duration": 4,
    "start_time": "2024-07-10T18:19:10.320Z"
   },
   {
    "duration": 6,
    "start_time": "2024-07-10T18:19:10.326Z"
   },
   {
    "duration": 8,
    "start_time": "2024-07-10T18:19:10.334Z"
   },
   {
    "duration": 185,
    "start_time": "2024-07-10T18:19:10.343Z"
   },
   {
    "duration": 8,
    "start_time": "2024-07-10T18:19:10.531Z"
   },
   {
    "duration": 9,
    "start_time": "2024-07-10T18:19:10.540Z"
   },
   {
    "duration": 325,
    "start_time": "2024-07-10T18:19:10.551Z"
   },
   {
    "duration": 6,
    "start_time": "2024-07-10T18:19:10.877Z"
   },
   {
    "duration": 26,
    "start_time": "2024-07-10T18:19:10.885Z"
   },
   {
    "duration": 350,
    "start_time": "2024-07-10T18:19:10.913Z"
   },
   {
    "duration": 8,
    "start_time": "2024-07-10T18:19:11.264Z"
   },
   {
    "duration": 195,
    "start_time": "2024-07-10T18:19:11.275Z"
   },
   {
    "duration": 16,
    "start_time": "2024-07-10T18:19:11.471Z"
   },
   {
    "duration": 28,
    "start_time": "2024-07-10T18:19:11.489Z"
   },
   {
    "duration": 7,
    "start_time": "2024-07-10T18:19:11.519Z"
   },
   {
    "duration": 291,
    "start_time": "2024-07-10T18:19:11.528Z"
   },
   {
    "duration": 26,
    "start_time": "2024-07-10T18:19:11.821Z"
   },
   {
    "duration": 11,
    "start_time": "2024-07-10T18:19:11.849Z"
   },
   {
    "duration": 895,
    "start_time": "2024-07-10T18:19:11.862Z"
   },
   {
    "duration": 15,
    "start_time": "2024-07-10T18:19:12.760Z"
   },
   {
    "duration": 297,
    "start_time": "2024-07-10T18:19:12.778Z"
   },
   {
    "duration": 400,
    "start_time": "2024-07-10T18:19:13.077Z"
   },
   {
    "duration": 444,
    "start_time": "2024-07-10T18:19:13.479Z"
   },
   {
    "duration": 470,
    "start_time": "2024-07-10T18:19:21.561Z"
   },
   {
    "duration": 401,
    "start_time": "2024-07-10T18:19:52.267Z"
   },
   {
    "duration": 98,
    "start_time": "2024-07-10T18:19:59.394Z"
   },
   {
    "duration": 380,
    "start_time": "2024-07-10T18:20:05.616Z"
   },
   {
    "duration": 413,
    "start_time": "2024-07-10T18:20:14.054Z"
   },
   {
    "duration": 70,
    "start_time": "2024-07-10T18:20:40.178Z"
   },
   {
    "duration": 388,
    "start_time": "2024-07-10T18:20:42.112Z"
   },
   {
    "duration": 533,
    "start_time": "2024-07-10T18:20:44.812Z"
   },
   {
    "duration": 412,
    "start_time": "2024-07-10T18:20:49.659Z"
   },
   {
    "duration": 14,
    "start_time": "2024-07-10T18:21:00.391Z"
   },
   {
    "duration": 390,
    "start_time": "2024-07-10T18:21:00.966Z"
   },
   {
    "duration": 447,
    "start_time": "2024-07-10T18:21:02.222Z"
   },
   {
    "duration": 15,
    "start_time": "2024-07-10T18:21:10.980Z"
   },
   {
    "duration": 499,
    "start_time": "2024-07-10T18:23:37.024Z"
   },
   {
    "duration": 354,
    "start_time": "2024-07-10T18:23:56.959Z"
   },
   {
    "duration": 356,
    "start_time": "2024-07-10T18:24:01.830Z"
   },
   {
    "duration": 383,
    "start_time": "2024-07-10T18:24:06.203Z"
   },
   {
    "duration": 335,
    "start_time": "2024-07-10T18:24:13.504Z"
   },
   {
    "duration": 340,
    "start_time": "2024-07-10T18:24:50.461Z"
   },
   {
    "duration": 530,
    "start_time": "2024-07-10T18:24:57.615Z"
   },
   {
    "duration": 359,
    "start_time": "2024-07-10T18:25:08.378Z"
   },
   {
    "duration": 379,
    "start_time": "2024-07-10T18:25:55.677Z"
   },
   {
    "duration": 342,
    "start_time": "2024-07-10T18:26:14.620Z"
   },
   {
    "duration": 335,
    "start_time": "2024-07-10T18:26:43.760Z"
   },
   {
    "duration": 30,
    "start_time": "2024-07-10T18:30:41.731Z"
   },
   {
    "duration": 32,
    "start_time": "2024-07-10T18:30:52.812Z"
   },
   {
    "duration": 21,
    "start_time": "2024-07-10T18:31:44.649Z"
   },
   {
    "duration": 27,
    "start_time": "2024-07-10T18:33:50.199Z"
   },
   {
    "duration": 1237,
    "start_time": "2024-07-10T18:34:43.913Z"
   },
   {
    "duration": 67,
    "start_time": "2024-07-10T18:34:45.152Z"
   },
   {
    "duration": 3,
    "start_time": "2024-07-10T18:34:45.221Z"
   },
   {
    "duration": 104,
    "start_time": "2024-07-10T18:34:45.225Z"
   },
   {
    "duration": 66,
    "start_time": "2024-07-10T18:34:45.331Z"
   },
   {
    "duration": 59,
    "start_time": "2024-07-10T18:34:45.398Z"
   },
   {
    "duration": 27,
    "start_time": "2024-07-10T18:34:45.459Z"
   },
   {
    "duration": 51,
    "start_time": "2024-07-10T18:34:45.488Z"
   },
   {
    "duration": 13,
    "start_time": "2024-07-10T18:34:45.541Z"
   },
   {
    "duration": 116,
    "start_time": "2024-07-10T18:34:45.556Z"
   },
   {
    "duration": 15,
    "start_time": "2024-07-10T18:34:45.674Z"
   },
   {
    "duration": 13,
    "start_time": "2024-07-10T18:34:45.691Z"
   },
   {
    "duration": 6,
    "start_time": "2024-07-10T18:34:45.706Z"
   },
   {
    "duration": 5,
    "start_time": "2024-07-10T18:34:45.717Z"
   },
   {
    "duration": 6,
    "start_time": "2024-07-10T18:34:45.724Z"
   },
   {
    "duration": 21,
    "start_time": "2024-07-10T18:34:45.732Z"
   },
   {
    "duration": 50,
    "start_time": "2024-07-10T18:34:45.755Z"
   },
   {
    "duration": 5,
    "start_time": "2024-07-10T18:34:45.807Z"
   },
   {
    "duration": 24,
    "start_time": "2024-07-10T18:34:45.814Z"
   },
   {
    "duration": 159,
    "start_time": "2024-07-10T18:34:45.839Z"
   },
   {
    "duration": 10,
    "start_time": "2024-07-10T18:34:46.005Z"
   },
   {
    "duration": 12,
    "start_time": "2024-07-10T18:34:46.018Z"
   },
   {
    "duration": 309,
    "start_time": "2024-07-10T18:34:46.032Z"
   },
   {
    "duration": 6,
    "start_time": "2024-07-10T18:34:46.344Z"
   },
   {
    "duration": 21,
    "start_time": "2024-07-10T18:34:46.352Z"
   },
   {
    "duration": 397,
    "start_time": "2024-07-10T18:34:46.375Z"
   },
   {
    "duration": 8,
    "start_time": "2024-07-10T18:34:46.774Z"
   },
   {
    "duration": 213,
    "start_time": "2024-07-10T18:34:46.784Z"
   },
   {
    "duration": 21,
    "start_time": "2024-07-10T18:34:46.998Z"
   },
   {
    "duration": 14,
    "start_time": "2024-07-10T18:34:47.021Z"
   },
   {
    "duration": 8,
    "start_time": "2024-07-10T18:34:47.037Z"
   },
   {
    "duration": 335,
    "start_time": "2024-07-10T18:34:47.047Z"
   },
   {
    "duration": 50,
    "start_time": "2024-07-10T18:34:47.385Z"
   },
   {
    "duration": 11,
    "start_time": "2024-07-10T18:34:47.437Z"
   },
   {
    "duration": 459,
    "start_time": "2024-07-10T18:34:47.449Z"
   },
   {
    "duration": 446,
    "start_time": "2024-07-10T18:34:47.910Z"
   },
   {
    "duration": 24,
    "start_time": "2024-07-10T18:34:48.358Z"
   },
   {
    "duration": 15,
    "start_time": "2024-07-10T18:35:55.070Z"
   },
   {
    "duration": 250,
    "start_time": "2024-07-10T18:37:02.775Z"
   },
   {
    "duration": 253,
    "start_time": "2024-07-10T18:37:30.675Z"
   },
   {
    "duration": 110,
    "start_time": "2024-07-10T18:38:25.372Z"
   },
   {
    "duration": 1617,
    "start_time": "2024-07-10T18:38:31.272Z"
   },
   {
    "duration": 14,
    "start_time": "2024-07-10T18:38:51.415Z"
   },
   {
    "duration": 19,
    "start_time": "2024-07-10T18:39:02.529Z"
   },
   {
    "duration": 1637,
    "start_time": "2024-07-10T18:39:21.472Z"
   },
   {
    "duration": 515,
    "start_time": "2024-07-10T18:54:33.765Z"
   },
   {
    "duration": 382,
    "start_time": "2024-07-10T18:54:50.843Z"
   },
   {
    "duration": 1975,
    "start_time": "2024-07-10T18:55:20.264Z"
   },
   {
    "duration": 346,
    "start_time": "2024-07-10T18:55:28.027Z"
   },
   {
    "duration": 1615,
    "start_time": "2024-07-10T18:55:41.394Z"
   },
   {
    "duration": 349,
    "start_time": "2024-07-10T18:56:03.045Z"
   },
   {
    "duration": 29,
    "start_time": "2024-07-10T18:56:43.227Z"
   },
   {
    "duration": 1676,
    "start_time": "2024-07-10T18:58:53.364Z"
   },
   {
    "duration": 338,
    "start_time": "2024-07-10T18:59:14.745Z"
   },
   {
    "duration": 1603,
    "start_time": "2024-07-10T18:59:40.804Z"
   },
   {
    "duration": 383,
    "start_time": "2024-07-10T18:59:56.973Z"
   },
   {
    "duration": 1634,
    "start_time": "2024-07-10T19:00:19.492Z"
   },
   {
    "duration": 16,
    "start_time": "2024-07-10T19:00:36.385Z"
   },
   {
    "duration": 14,
    "start_time": "2024-07-10T19:00:59.941Z"
   },
   {
    "duration": 14,
    "start_time": "2024-07-10T19:03:09.127Z"
   },
   {
    "duration": 27,
    "start_time": "2024-07-10T19:11:11.708Z"
   },
   {
    "duration": 3,
    "start_time": "2024-07-10T19:12:05.078Z"
   },
   {
    "duration": 1128,
    "start_time": "2024-07-10T19:12:09.520Z"
   },
   {
    "duration": 73,
    "start_time": "2024-07-10T19:12:10.650Z"
   },
   {
    "duration": 3,
    "start_time": "2024-07-10T19:12:10.724Z"
   },
   {
    "duration": 12,
    "start_time": "2024-07-10T19:12:10.729Z"
   },
   {
    "duration": 11,
    "start_time": "2024-07-10T19:12:10.743Z"
   },
   {
    "duration": 18,
    "start_time": "2024-07-10T19:12:10.755Z"
   },
   {
    "duration": 11,
    "start_time": "2024-07-10T19:12:10.774Z"
   },
   {
    "duration": 21,
    "start_time": "2024-07-10T19:12:10.786Z"
   },
   {
    "duration": 11,
    "start_time": "2024-07-10T19:12:10.808Z"
   },
   {
    "duration": 8,
    "start_time": "2024-07-10T19:12:10.821Z"
   },
   {
    "duration": 8,
    "start_time": "2024-07-10T19:12:10.830Z"
   },
   {
    "duration": 9,
    "start_time": "2024-07-10T19:12:10.839Z"
   },
   {
    "duration": 6,
    "start_time": "2024-07-10T19:12:10.849Z"
   },
   {
    "duration": 51,
    "start_time": "2024-07-10T19:12:10.857Z"
   },
   {
    "duration": 6,
    "start_time": "2024-07-10T19:12:10.909Z"
   },
   {
    "duration": 29,
    "start_time": "2024-07-10T19:12:10.917Z"
   },
   {
    "duration": 4,
    "start_time": "2024-07-10T19:12:10.948Z"
   },
   {
    "duration": 7,
    "start_time": "2024-07-10T19:12:10.954Z"
   },
   {
    "duration": 46,
    "start_time": "2024-07-10T19:12:10.963Z"
   },
   {
    "duration": 162,
    "start_time": "2024-07-10T19:12:11.011Z"
   },
   {
    "duration": 7,
    "start_time": "2024-07-10T19:12:11.175Z"
   },
   {
    "duration": 7,
    "start_time": "2024-07-10T19:12:11.184Z"
   },
   {
    "duration": 283,
    "start_time": "2024-07-10T19:12:11.205Z"
   },
   {
    "duration": 6,
    "start_time": "2024-07-10T19:12:11.489Z"
   },
   {
    "duration": 15,
    "start_time": "2024-07-10T19:12:11.496Z"
   },
   {
    "duration": 354,
    "start_time": "2024-07-10T19:12:11.512Z"
   },
   {
    "duration": 8,
    "start_time": "2024-07-10T19:12:11.868Z"
   },
   {
    "duration": 189,
    "start_time": "2024-07-10T19:12:11.879Z"
   },
   {
    "duration": 14,
    "start_time": "2024-07-10T19:12:12.070Z"
   },
   {
    "duration": 26,
    "start_time": "2024-07-10T19:12:12.086Z"
   },
   {
    "duration": 8,
    "start_time": "2024-07-10T19:12:12.113Z"
   },
   {
    "duration": 275,
    "start_time": "2024-07-10T19:12:12.123Z"
   },
   {
    "duration": 33,
    "start_time": "2024-07-10T19:12:12.408Z"
   },
   {
    "duration": 13,
    "start_time": "2024-07-10T19:12:12.443Z"
   },
   {
    "duration": 113,
    "start_time": "2024-07-10T19:12:12.458Z"
   },
   {
    "duration": 356,
    "start_time": "2024-07-10T19:12:12.573Z"
   },
   {
    "duration": 1656,
    "start_time": "2024-07-10T19:12:12.930Z"
   },
   {
    "duration": 389,
    "start_time": "2024-07-10T19:12:14.587Z"
   },
   {
    "duration": 1682,
    "start_time": "2024-07-10T19:12:14.977Z"
   },
   {
    "duration": 371,
    "start_time": "2024-07-10T19:15:26.225Z"
   },
   {
    "duration": 489,
    "start_time": "2024-07-10T19:27:01.697Z"
   },
   {
    "duration": 376,
    "start_time": "2024-07-10T19:32:39.409Z"
   },
   {
    "duration": 1231,
    "start_time": "2024-07-10T19:42:05.013Z"
   },
   {
    "duration": 67,
    "start_time": "2024-07-10T19:42:06.246Z"
   },
   {
    "duration": 2,
    "start_time": "2024-07-10T19:42:06.315Z"
   },
   {
    "duration": 12,
    "start_time": "2024-07-10T19:42:06.319Z"
   },
   {
    "duration": 10,
    "start_time": "2024-07-10T19:42:06.333Z"
   },
   {
    "duration": 7,
    "start_time": "2024-07-10T19:42:06.345Z"
   },
   {
    "duration": 36,
    "start_time": "2024-07-10T19:42:06.354Z"
   },
   {
    "duration": 9,
    "start_time": "2024-07-10T19:42:06.400Z"
   },
   {
    "duration": 10,
    "start_time": "2024-07-10T19:42:06.411Z"
   },
   {
    "duration": 9,
    "start_time": "2024-07-10T19:42:06.422Z"
   },
   {
    "duration": 14,
    "start_time": "2024-07-10T19:42:06.433Z"
   },
   {
    "duration": 8,
    "start_time": "2024-07-10T19:42:06.448Z"
   },
   {
    "duration": 5,
    "start_time": "2024-07-10T19:42:06.458Z"
   },
   {
    "duration": 5,
    "start_time": "2024-07-10T19:42:06.466Z"
   },
   {
    "duration": 35,
    "start_time": "2024-07-10T19:42:06.472Z"
   },
   {
    "duration": 21,
    "start_time": "2024-07-10T19:42:06.509Z"
   },
   {
    "duration": 5,
    "start_time": "2024-07-10T19:42:06.531Z"
   },
   {
    "duration": 4,
    "start_time": "2024-07-10T19:42:06.537Z"
   },
   {
    "duration": 5,
    "start_time": "2024-07-10T19:42:06.542Z"
   },
   {
    "duration": 186,
    "start_time": "2024-07-10T19:42:06.549Z"
   },
   {
    "duration": 6,
    "start_time": "2024-07-10T19:42:06.737Z"
   },
   {
    "duration": 8,
    "start_time": "2024-07-10T19:42:06.745Z"
   },
   {
    "duration": 331,
    "start_time": "2024-07-10T19:42:06.754Z"
   },
   {
    "duration": 6,
    "start_time": "2024-07-10T19:42:07.086Z"
   },
   {
    "duration": 8,
    "start_time": "2024-07-10T19:42:07.106Z"
   },
   {
    "duration": 370,
    "start_time": "2024-07-10T19:42:07.115Z"
   },
   {
    "duration": 22,
    "start_time": "2024-07-10T19:42:07.487Z"
   },
   {
    "duration": 190,
    "start_time": "2024-07-10T19:42:07.510Z"
   },
   {
    "duration": 15,
    "start_time": "2024-07-10T19:42:07.704Z"
   },
   {
    "duration": 12,
    "start_time": "2024-07-10T19:42:07.720Z"
   },
   {
    "duration": 7,
    "start_time": "2024-07-10T19:42:07.734Z"
   },
   {
    "duration": 356,
    "start_time": "2024-07-10T19:42:07.742Z"
   },
   {
    "duration": 28,
    "start_time": "2024-07-10T19:42:08.104Z"
   },
   {
    "duration": 14,
    "start_time": "2024-07-10T19:42:08.133Z"
   },
   {
    "duration": 126,
    "start_time": "2024-07-10T19:42:08.149Z"
   },
   {
    "duration": 348,
    "start_time": "2024-07-10T19:42:08.276Z"
   },
   {
    "duration": 1604,
    "start_time": "2024-07-10T19:42:08.626Z"
   },
   {
    "duration": 358,
    "start_time": "2024-07-10T19:42:10.231Z"
   },
   {
    "duration": 1638,
    "start_time": "2024-07-10T19:42:10.590Z"
   },
   {
    "duration": 16,
    "start_time": "2024-07-10T19:50:52.714Z"
   },
   {
    "duration": 13,
    "start_time": "2024-07-10T19:50:59.067Z"
   },
   {
    "duration": 50,
    "start_time": "2024-07-10T19:51:57.512Z"
   },
   {
    "duration": 1219,
    "start_time": "2024-07-10T19:52:04.307Z"
   },
   {
    "duration": 203,
    "start_time": "2024-07-10T19:52:05.528Z"
   },
   {
    "duration": 3,
    "start_time": "2024-07-10T19:52:05.732Z"
   },
   {
    "duration": 13,
    "start_time": "2024-07-10T19:52:05.737Z"
   },
   {
    "duration": 12,
    "start_time": "2024-07-10T19:52:05.752Z"
   },
   {
    "duration": 23,
    "start_time": "2024-07-10T19:52:05.765Z"
   },
   {
    "duration": 20,
    "start_time": "2024-07-10T19:52:05.789Z"
   },
   {
    "duration": 7,
    "start_time": "2024-07-10T19:52:05.811Z"
   },
   {
    "duration": 10,
    "start_time": "2024-07-10T19:52:05.820Z"
   },
   {
    "duration": 140,
    "start_time": "2024-07-10T19:52:05.832Z"
   },
   {
    "duration": 6,
    "start_time": "2024-07-10T19:52:05.973Z"
   },
   {
    "duration": 8,
    "start_time": "2024-07-10T19:52:05.980Z"
   },
   {
    "duration": 24,
    "start_time": "2024-07-10T19:52:05.990Z"
   },
   {
    "duration": 6,
    "start_time": "2024-07-10T19:52:06.016Z"
   },
   {
    "duration": 7,
    "start_time": "2024-07-10T19:52:06.024Z"
   },
   {
    "duration": 23,
    "start_time": "2024-07-10T19:52:06.033Z"
   },
   {
    "duration": 6,
    "start_time": "2024-07-10T19:52:06.058Z"
   },
   {
    "duration": 17,
    "start_time": "2024-07-10T19:52:06.065Z"
   },
   {
    "duration": 6,
    "start_time": "2024-07-10T19:52:06.104Z"
   },
   {
    "duration": 161,
    "start_time": "2024-07-10T19:52:06.111Z"
   },
   {
    "duration": 8,
    "start_time": "2024-07-10T19:52:06.273Z"
   },
   {
    "duration": 24,
    "start_time": "2024-07-10T19:52:06.283Z"
   },
   {
    "duration": 299,
    "start_time": "2024-07-10T19:52:06.309Z"
   },
   {
    "duration": 5,
    "start_time": "2024-07-10T19:52:06.610Z"
   },
   {
    "duration": 14,
    "start_time": "2024-07-10T19:52:06.617Z"
   },
   {
    "duration": 399,
    "start_time": "2024-07-10T19:52:06.633Z"
   },
   {
    "duration": 9,
    "start_time": "2024-07-10T19:52:07.034Z"
   },
   {
    "duration": 194,
    "start_time": "2024-07-10T19:52:07.047Z"
   },
   {
    "duration": 15,
    "start_time": "2024-07-10T19:52:07.243Z"
   },
   {
    "duration": 17,
    "start_time": "2024-07-10T19:52:07.260Z"
   },
   {
    "duration": 30,
    "start_time": "2024-07-10T19:52:07.279Z"
   },
   {
    "duration": 280,
    "start_time": "2024-07-10T19:52:07.311Z"
   },
   {
    "duration": 36,
    "start_time": "2024-07-10T19:52:07.593Z"
   },
   {
    "duration": 13,
    "start_time": "2024-07-10T19:52:07.631Z"
   },
   {
    "duration": 119,
    "start_time": "2024-07-10T19:52:07.645Z"
   },
   {
    "duration": 377,
    "start_time": "2024-07-10T19:52:07.766Z"
   },
   {
    "duration": 1663,
    "start_time": "2024-07-10T19:52:08.144Z"
   },
   {
    "duration": 377,
    "start_time": "2024-07-10T19:52:09.808Z"
   },
   {
    "duration": 2445,
    "start_time": "2024-07-10T19:52:10.187Z"
   },
   {
    "duration": 16,
    "start_time": "2024-07-10T19:52:12.633Z"
   },
   {
    "duration": 12,
    "start_time": "2024-07-10T19:52:12.650Z"
   },
   {
    "duration": 5,
    "start_time": "2024-07-10T19:52:45.905Z"
   },
   {
    "duration": 12,
    "start_time": "2024-07-10T19:53:07.754Z"
   },
   {
    "duration": 4,
    "start_time": "2024-07-10T19:53:17.987Z"
   },
   {
    "duration": 421,
    "start_time": "2024-07-10T19:53:42.121Z"
   },
   {
    "duration": 228,
    "start_time": "2024-07-10T19:53:48.526Z"
   },
   {
    "duration": 3251,
    "start_time": "2024-07-10T19:54:36.363Z"
   },
   {
    "duration": 0,
    "start_time": "2024-07-10T19:54:39.616Z"
   },
   {
    "duration": 13,
    "start_time": "2024-07-10T19:54:59.021Z"
   },
   {
    "duration": 4,
    "start_time": "2024-07-10T19:55:05.798Z"
   },
   {
    "duration": 5,
    "start_time": "2024-07-10T19:55:09.226Z"
   },
   {
    "duration": 9,
    "start_time": "2024-07-10T19:55:11.669Z"
   },
   {
    "duration": 16,
    "start_time": "2024-07-10T19:55:18.259Z"
   },
   {
    "duration": 6,
    "start_time": "2024-07-10T19:55:20.135Z"
   },
   {
    "duration": 12,
    "start_time": "2024-07-10T19:55:21.694Z"
   },
   {
    "duration": 3,
    "start_time": "2024-07-10T19:55:58.883Z"
   },
   {
    "duration": 9,
    "start_time": "2024-07-10T19:55:59.550Z"
   },
   {
    "duration": 2,
    "start_time": "2024-07-10T19:56:17.474Z"
   },
   {
    "duration": 9,
    "start_time": "2024-07-10T19:56:19.445Z"
   },
   {
    "duration": 6,
    "start_time": "2024-07-10T19:57:40.932Z"
   },
   {
    "duration": 7,
    "start_time": "2024-07-10T19:57:53.001Z"
   },
   {
    "duration": 6,
    "start_time": "2024-07-10T19:58:13.029Z"
   },
   {
    "duration": 4,
    "start_time": "2024-07-10T20:03:00.416Z"
   },
   {
    "duration": 13,
    "start_time": "2024-07-10T20:03:04.018Z"
   },
   {
    "duration": 16,
    "start_time": "2024-07-10T20:04:33.851Z"
   },
   {
    "duration": 3,
    "start_time": "2024-07-10T20:04:35.481Z"
   },
   {
    "duration": 4,
    "start_time": "2024-07-10T20:04:36.512Z"
   },
   {
    "duration": 11,
    "start_time": "2024-07-10T20:04:37.127Z"
   },
   {
    "duration": 17,
    "start_time": "2024-07-10T20:04:54.309Z"
   },
   {
    "duration": 62,
    "start_time": "2024-07-10T20:05:12.157Z"
   },
   {
    "duration": 17,
    "start_time": "2024-07-10T20:05:16.289Z"
   },
   {
    "duration": 24,
    "start_time": "2024-07-10T20:05:23.842Z"
   },
   {
    "duration": 1184,
    "start_time": "2024-07-10T20:05:39.613Z"
   },
   {
    "duration": 73,
    "start_time": "2024-07-10T20:05:40.799Z"
   },
   {
    "duration": 3,
    "start_time": "2024-07-10T20:05:40.875Z"
   },
   {
    "duration": 59,
    "start_time": "2024-07-10T20:05:40.880Z"
   },
   {
    "duration": 10,
    "start_time": "2024-07-10T20:05:40.941Z"
   },
   {
    "duration": 8,
    "start_time": "2024-07-10T20:05:40.952Z"
   },
   {
    "duration": 12,
    "start_time": "2024-07-10T20:05:40.962Z"
   },
   {
    "duration": 7,
    "start_time": "2024-07-10T20:05:40.975Z"
   },
   {
    "duration": 30,
    "start_time": "2024-07-10T20:05:40.983Z"
   },
   {
    "duration": 11,
    "start_time": "2024-07-10T20:05:41.014Z"
   },
   {
    "duration": 7,
    "start_time": "2024-07-10T20:05:41.027Z"
   },
   {
    "duration": 15,
    "start_time": "2024-07-10T20:05:41.036Z"
   },
   {
    "duration": 13,
    "start_time": "2024-07-10T20:05:41.054Z"
   },
   {
    "duration": 13,
    "start_time": "2024-07-10T20:05:41.069Z"
   },
   {
    "duration": 14,
    "start_time": "2024-07-10T20:05:41.084Z"
   },
   {
    "duration": 29,
    "start_time": "2024-07-10T20:05:41.100Z"
   },
   {
    "duration": 4,
    "start_time": "2024-07-10T20:05:41.131Z"
   },
   {
    "duration": 46,
    "start_time": "2024-07-10T20:05:41.137Z"
   },
   {
    "duration": 37,
    "start_time": "2024-07-10T20:05:41.185Z"
   },
   {
    "duration": 178,
    "start_time": "2024-07-10T20:05:41.224Z"
   },
   {
    "duration": 8,
    "start_time": "2024-07-10T20:05:41.403Z"
   },
   {
    "duration": 26,
    "start_time": "2024-07-10T20:05:41.412Z"
   },
   {
    "duration": 266,
    "start_time": "2024-07-10T20:05:41.440Z"
   },
   {
    "duration": 5,
    "start_time": "2024-07-10T20:05:41.708Z"
   },
   {
    "duration": 8,
    "start_time": "2024-07-10T20:05:41.715Z"
   },
   {
    "duration": 420,
    "start_time": "2024-07-10T20:05:41.724Z"
   },
   {
    "duration": 8,
    "start_time": "2024-07-10T20:05:42.145Z"
   },
   {
    "duration": 200,
    "start_time": "2024-07-10T20:05:42.155Z"
   },
   {
    "duration": 14,
    "start_time": "2024-07-10T20:05:42.358Z"
   },
   {
    "duration": 12,
    "start_time": "2024-07-10T20:05:42.373Z"
   },
   {
    "duration": 24,
    "start_time": "2024-07-10T20:05:42.387Z"
   },
   {
    "duration": 278,
    "start_time": "2024-07-10T20:05:42.412Z"
   },
   {
    "duration": 44,
    "start_time": "2024-07-10T20:05:42.692Z"
   },
   {
    "duration": 16,
    "start_time": "2024-07-10T20:05:42.738Z"
   },
   {
    "duration": 118,
    "start_time": "2024-07-10T20:05:42.757Z"
   },
   {
    "duration": 362,
    "start_time": "2024-07-10T20:05:42.876Z"
   },
   {
    "duration": 1715,
    "start_time": "2024-07-10T20:05:43.240Z"
   },
   {
    "duration": 412,
    "start_time": "2024-07-10T20:05:44.957Z"
   },
   {
    "duration": 1734,
    "start_time": "2024-07-10T20:05:45.370Z"
   },
   {
    "duration": 21,
    "start_time": "2024-07-10T20:05:47.108Z"
   },
   {
    "duration": 18,
    "start_time": "2024-07-10T20:05:47.130Z"
   },
   {
    "duration": 7,
    "start_time": "2024-07-10T20:06:10.711Z"
   },
   {
    "duration": 40,
    "start_time": "2024-07-10T20:08:57.731Z"
   },
   {
    "duration": 43,
    "start_time": "2024-07-10T20:09:01.494Z"
   },
   {
    "duration": 17,
    "start_time": "2024-07-10T20:09:43.535Z"
   },
   {
    "duration": 17,
    "start_time": "2024-07-10T20:09:52.394Z"
   },
   {
    "duration": 24,
    "start_time": "2024-07-10T20:09:52.925Z"
   },
   {
    "duration": 8,
    "start_time": "2024-07-10T20:11:48.390Z"
   },
   {
    "duration": 6,
    "start_time": "2024-07-10T20:12:26.964Z"
   },
   {
    "duration": 4,
    "start_time": "2024-07-10T20:12:31.361Z"
   },
   {
    "duration": 491,
    "start_time": "2024-07-10T20:13:21.732Z"
   },
   {
    "duration": 233,
    "start_time": "2024-07-10T20:13:45.804Z"
   },
   {
    "duration": 0,
    "start_time": "2024-07-10T20:13:46.042Z"
   },
   {
    "duration": 17,
    "start_time": "2024-07-10T20:14:38.526Z"
   },
   {
    "duration": 24,
    "start_time": "2024-07-10T20:14:39.136Z"
   },
   {
    "duration": 14,
    "start_time": "2024-07-10T20:17:13.062Z"
   },
   {
    "duration": 12,
    "start_time": "2024-07-10T20:17:23.118Z"
   },
   {
    "duration": 8,
    "start_time": "2024-07-10T20:17:46.456Z"
   },
   {
    "duration": 8,
    "start_time": "2024-07-10T20:17:48.577Z"
   },
   {
    "duration": 4,
    "start_time": "2024-07-10T20:17:54.291Z"
   },
   {
    "duration": 27,
    "start_time": "2024-07-10T20:18:30.469Z"
   },
   {
    "duration": 7,
    "start_time": "2024-07-10T20:18:35.906Z"
   },
   {
    "duration": 11,
    "start_time": "2024-07-10T20:18:36.352Z"
   },
   {
    "duration": 25,
    "start_time": "2024-07-10T20:18:47.876Z"
   },
   {
    "duration": 33,
    "start_time": "2024-07-10T20:19:44.483Z"
   },
   {
    "duration": 13,
    "start_time": "2024-07-10T20:19:45.054Z"
   },
   {
    "duration": 14,
    "start_time": "2024-07-10T20:19:45.506Z"
   },
   {
    "duration": 16,
    "start_time": "2024-07-10T20:19:54.176Z"
   },
   {
    "duration": 5,
    "start_time": "2024-07-10T20:19:55.478Z"
   },
   {
    "duration": 6,
    "start_time": "2024-07-10T20:21:16.297Z"
   },
   {
    "duration": 15,
    "start_time": "2024-07-10T20:21:18.724Z"
   },
   {
    "duration": 31,
    "start_time": "2024-07-10T20:22:07.722Z"
   },
   {
    "duration": 5,
    "start_time": "2024-07-10T20:22:17.400Z"
   },
   {
    "duration": 10,
    "start_time": "2024-07-10T20:22:36.006Z"
   },
   {
    "duration": 3,
    "start_time": "2024-07-10T20:23:08.087Z"
   },
   {
    "duration": 9,
    "start_time": "2024-07-10T20:23:09.254Z"
   },
   {
    "duration": 9,
    "start_time": "2024-07-10T20:23:15.274Z"
   },
   {
    "duration": 9,
    "start_time": "2024-07-10T20:23:18.819Z"
   },
   {
    "duration": 2,
    "start_time": "2024-07-10T20:23:21.464Z"
   },
   {
    "duration": 4,
    "start_time": "2024-07-10T20:23:31.577Z"
   },
   {
    "duration": 3,
    "start_time": "2024-07-10T20:23:48.661Z"
   },
   {
    "duration": 5,
    "start_time": "2024-07-10T20:23:49.022Z"
   },
   {
    "duration": 9,
    "start_time": "2024-07-10T20:23:53.201Z"
   },
   {
    "duration": 4,
    "start_time": "2024-07-10T20:23:53.866Z"
   },
   {
    "duration": 13,
    "start_time": "2024-07-10T20:24:11.465Z"
   },
   {
    "duration": 16,
    "start_time": "2024-07-10T20:24:26.569Z"
   },
   {
    "duration": 18,
    "start_time": "2024-07-10T20:24:28.323Z"
   },
   {
    "duration": 3,
    "start_time": "2024-07-10T20:24:39.153Z"
   },
   {
    "duration": 4,
    "start_time": "2024-07-10T20:24:39.633Z"
   },
   {
    "duration": 11,
    "start_time": "2024-07-10T20:25:00.712Z"
   },
   {
    "duration": 8,
    "start_time": "2024-07-10T20:25:06.817Z"
   },
   {
    "duration": 10,
    "start_time": "2024-07-10T20:25:19.195Z"
   },
   {
    "duration": 1218,
    "start_time": "2024-07-10T20:26:15.811Z"
   },
   {
    "duration": 69,
    "start_time": "2024-07-10T20:26:17.031Z"
   },
   {
    "duration": 3,
    "start_time": "2024-07-10T20:26:17.101Z"
   },
   {
    "duration": 14,
    "start_time": "2024-07-10T20:26:17.106Z"
   },
   {
    "duration": 12,
    "start_time": "2024-07-10T20:26:17.122Z"
   },
   {
    "duration": 47,
    "start_time": "2024-07-10T20:26:17.135Z"
   },
   {
    "duration": 19,
    "start_time": "2024-07-10T20:26:17.183Z"
   },
   {
    "duration": 7,
    "start_time": "2024-07-10T20:26:17.204Z"
   },
   {
    "duration": 15,
    "start_time": "2024-07-10T20:26:17.213Z"
   },
   {
    "duration": 17,
    "start_time": "2024-07-10T20:26:17.230Z"
   },
   {
    "duration": 6,
    "start_time": "2024-07-10T20:26:17.248Z"
   },
   {
    "duration": 17,
    "start_time": "2024-07-10T20:26:17.256Z"
   },
   {
    "duration": 15,
    "start_time": "2024-07-10T20:26:17.274Z"
   },
   {
    "duration": 13,
    "start_time": "2024-07-10T20:26:17.292Z"
   },
   {
    "duration": 5,
    "start_time": "2024-07-10T20:26:17.307Z"
   },
   {
    "duration": 22,
    "start_time": "2024-07-10T20:26:17.314Z"
   },
   {
    "duration": 5,
    "start_time": "2024-07-10T20:26:17.337Z"
   },
   {
    "duration": 7,
    "start_time": "2024-07-10T20:26:17.343Z"
   },
   {
    "duration": 6,
    "start_time": "2024-07-10T20:26:17.352Z"
   },
   {
    "duration": 164,
    "start_time": "2024-07-10T20:26:17.404Z"
   },
   {
    "duration": 7,
    "start_time": "2024-07-10T20:26:17.569Z"
   },
   {
    "duration": 8,
    "start_time": "2024-07-10T20:26:17.578Z"
   },
   {
    "duration": 291,
    "start_time": "2024-07-10T20:26:17.606Z"
   },
   {
    "duration": 7,
    "start_time": "2024-07-10T20:26:17.904Z"
   },
   {
    "duration": 13,
    "start_time": "2024-07-10T20:26:17.912Z"
   },
   {
    "duration": 444,
    "start_time": "2024-07-10T20:26:17.927Z"
   },
   {
    "duration": 9,
    "start_time": "2024-07-10T20:26:18.372Z"
   },
   {
    "duration": 200,
    "start_time": "2024-07-10T20:26:18.382Z"
   },
   {
    "duration": 22,
    "start_time": "2024-07-10T20:26:18.584Z"
   },
   {
    "duration": 14,
    "start_time": "2024-07-10T20:26:18.607Z"
   },
   {
    "duration": 26,
    "start_time": "2024-07-10T20:26:18.622Z"
   },
   {
    "duration": 324,
    "start_time": "2024-07-10T20:26:18.650Z"
   },
   {
    "duration": 35,
    "start_time": "2024-07-10T20:26:18.975Z"
   },
   {
    "duration": 12,
    "start_time": "2024-07-10T20:26:19.012Z"
   },
   {
    "duration": 118,
    "start_time": "2024-07-10T20:26:19.026Z"
   },
   {
    "duration": 351,
    "start_time": "2024-07-10T20:26:19.146Z"
   },
   {
    "duration": 1677,
    "start_time": "2024-07-10T20:26:19.499Z"
   },
   {
    "duration": 380,
    "start_time": "2024-07-10T20:26:21.178Z"
   },
   {
    "duration": 1661,
    "start_time": "2024-07-10T20:26:21.560Z"
   },
   {
    "duration": 19,
    "start_time": "2024-07-10T20:26:23.223Z"
   },
   {
    "duration": 8,
    "start_time": "2024-07-10T20:26:23.246Z"
   },
   {
    "duration": 54,
    "start_time": "2024-07-10T20:26:23.256Z"
   },
   {
    "duration": 12,
    "start_time": "2024-07-10T20:26:23.312Z"
   },
   {
    "duration": 14,
    "start_time": "2024-07-10T20:26:23.325Z"
   },
   {
    "duration": 4,
    "start_time": "2024-07-10T20:26:23.341Z"
   },
   {
    "duration": 7,
    "start_time": "2024-07-10T20:26:23.346Z"
   },
   {
    "duration": 7,
    "start_time": "2024-07-10T20:26:23.354Z"
   },
   {
    "duration": 9,
    "start_time": "2024-07-10T20:26:23.363Z"
   },
   {
    "duration": 36,
    "start_time": "2024-07-10T20:26:23.374Z"
   },
   {
    "duration": 11,
    "start_time": "2024-07-10T20:26:23.411Z"
   },
   {
    "duration": 5,
    "start_time": "2024-07-10T20:26:23.423Z"
   },
   {
    "duration": 26,
    "start_time": "2024-07-10T20:26:23.430Z"
   },
   {
    "duration": 1114,
    "start_time": "2024-07-10T20:37:55.511Z"
   },
   {
    "duration": 66,
    "start_time": "2024-07-10T20:37:56.627Z"
   },
   {
    "duration": 3,
    "start_time": "2024-07-10T20:37:56.695Z"
   },
   {
    "duration": 12,
    "start_time": "2024-07-10T20:37:56.699Z"
   },
   {
    "duration": 10,
    "start_time": "2024-07-10T20:37:56.713Z"
   },
   {
    "duration": 19,
    "start_time": "2024-07-10T20:37:56.724Z"
   },
   {
    "duration": 10,
    "start_time": "2024-07-10T20:37:56.745Z"
   },
   {
    "duration": 6,
    "start_time": "2024-07-10T20:37:56.757Z"
   },
   {
    "duration": 9,
    "start_time": "2024-07-10T20:37:56.764Z"
   },
   {
    "duration": 7,
    "start_time": "2024-07-10T20:37:56.774Z"
   },
   {
    "duration": 22,
    "start_time": "2024-07-10T20:37:56.783Z"
   },
   {
    "duration": 16,
    "start_time": "2024-07-10T20:37:56.807Z"
   },
   {
    "duration": 8,
    "start_time": "2024-07-10T20:37:56.825Z"
   },
   {
    "duration": 8,
    "start_time": "2024-07-10T20:37:56.836Z"
   },
   {
    "duration": 5,
    "start_time": "2024-07-10T20:37:56.846Z"
   },
   {
    "duration": 53,
    "start_time": "2024-07-10T20:37:56.853Z"
   },
   {
    "duration": 3,
    "start_time": "2024-07-10T20:37:56.908Z"
   },
   {
    "duration": 8,
    "start_time": "2024-07-10T20:37:56.913Z"
   },
   {
    "duration": 6,
    "start_time": "2024-07-10T20:37:56.922Z"
   },
   {
    "duration": 164,
    "start_time": "2024-07-10T20:37:56.930Z"
   },
   {
    "duration": 12,
    "start_time": "2024-07-10T20:37:57.096Z"
   },
   {
    "duration": 7,
    "start_time": "2024-07-10T20:37:57.109Z"
   },
   {
    "duration": 290,
    "start_time": "2024-07-10T20:37:57.118Z"
   },
   {
    "duration": 6,
    "start_time": "2024-07-10T20:37:57.409Z"
   },
   {
    "duration": 16,
    "start_time": "2024-07-10T20:37:57.416Z"
   },
   {
    "duration": 387,
    "start_time": "2024-07-10T20:37:57.434Z"
   },
   {
    "duration": 9,
    "start_time": "2024-07-10T20:37:57.822Z"
   },
   {
    "duration": 226,
    "start_time": "2024-07-10T20:37:57.833Z"
   },
   {
    "duration": 17,
    "start_time": "2024-07-10T20:37:58.061Z"
   },
   {
    "duration": 43,
    "start_time": "2024-07-10T20:37:58.079Z"
   },
   {
    "duration": 8,
    "start_time": "2024-07-10T20:37:58.124Z"
   },
   {
    "duration": 277,
    "start_time": "2024-07-10T20:37:58.133Z"
   },
   {
    "duration": 25,
    "start_time": "2024-07-10T20:37:58.412Z"
   },
   {
    "duration": 12,
    "start_time": "2024-07-10T20:37:58.439Z"
   },
   {
    "duration": 115,
    "start_time": "2024-07-10T20:37:58.453Z"
   },
   {
    "duration": 375,
    "start_time": "2024-07-10T20:37:58.569Z"
   },
   {
    "duration": 1709,
    "start_time": "2024-07-10T20:37:58.946Z"
   },
   {
    "duration": 405,
    "start_time": "2024-07-10T20:38:00.656Z"
   },
   {
    "duration": 1642,
    "start_time": "2024-07-10T20:38:01.063Z"
   },
   {
    "duration": 17,
    "start_time": "2024-07-10T20:38:02.706Z"
   },
   {
    "duration": 7,
    "start_time": "2024-07-10T20:38:02.726Z"
   },
   {
    "duration": 29,
    "start_time": "2024-07-10T20:38:02.735Z"
   },
   {
    "duration": 11,
    "start_time": "2024-07-10T20:38:02.766Z"
   },
   {
    "duration": 40,
    "start_time": "2024-07-10T20:38:02.779Z"
   },
   {
    "duration": 5,
    "start_time": "2024-07-10T20:38:02.820Z"
   },
   {
    "duration": 6,
    "start_time": "2024-07-10T20:38:02.826Z"
   },
   {
    "duration": 3,
    "start_time": "2024-07-10T20:38:02.834Z"
   },
   {
    "duration": 6,
    "start_time": "2024-07-10T20:38:02.839Z"
   },
   {
    "duration": 10,
    "start_time": "2024-07-10T20:38:02.846Z"
   },
   {
    "duration": 13,
    "start_time": "2024-07-10T20:38:02.858Z"
   },
   {
    "duration": 18,
    "start_time": "2024-07-10T20:38:08.549Z"
   },
   {
    "duration": 8,
    "start_time": "2024-07-10T20:38:08.994Z"
   },
   {
    "duration": 27,
    "start_time": "2024-07-10T20:38:11.621Z"
   },
   {
    "duration": 12,
    "start_time": "2024-07-10T20:38:12.272Z"
   },
   {
    "duration": 14,
    "start_time": "2024-07-10T20:38:13.459Z"
   },
   {
    "duration": 4,
    "start_time": "2024-07-10T20:38:16.405Z"
   },
   {
    "duration": 75,
    "start_time": "2024-07-10T20:38:47.397Z"
   },
   {
    "duration": 13,
    "start_time": "2024-07-10T20:38:51.553Z"
   },
   {
    "duration": 4,
    "start_time": "2024-07-10T20:39:02.332Z"
   },
   {
    "duration": 5,
    "start_time": "2024-07-10T20:39:03.652Z"
   },
   {
    "duration": 4,
    "start_time": "2024-07-10T20:39:09.660Z"
   },
   {
    "duration": 6,
    "start_time": "2024-07-10T20:39:10.063Z"
   },
   {
    "duration": 2,
    "start_time": "2024-07-10T20:39:10.537Z"
   },
   {
    "duration": 4,
    "start_time": "2024-07-10T20:39:10.991Z"
   },
   {
    "duration": 13,
    "start_time": "2024-07-10T20:39:14.039Z"
   },
   {
    "duration": 2,
    "start_time": "2024-07-10T20:40:16.668Z"
   },
   {
    "duration": 4,
    "start_time": "2024-07-10T20:40:17.232Z"
   },
   {
    "duration": 3,
    "start_time": "2024-07-10T20:40:21.419Z"
   },
   {
    "duration": 11,
    "start_time": "2024-07-10T20:40:25.688Z"
   },
   {
    "duration": 10,
    "start_time": "2024-07-10T20:40:33.803Z"
   },
   {
    "duration": 4,
    "start_time": "2024-07-10T20:41:42.065Z"
   },
   {
    "duration": 12,
    "start_time": "2024-07-10T20:41:46.635Z"
   },
   {
    "duration": 4,
    "start_time": "2024-07-10T20:43:40.986Z"
   },
   {
    "duration": 4,
    "start_time": "2024-07-10T20:43:45.792Z"
   },
   {
    "duration": 4,
    "start_time": "2024-07-10T20:43:57.682Z"
   },
   {
    "duration": 29,
    "start_time": "2024-07-10T20:45:25.551Z"
   },
   {
    "duration": 1254,
    "start_time": "2024-07-10T20:45:53.703Z"
   },
   {
    "duration": 76,
    "start_time": "2024-07-10T20:45:54.959Z"
   },
   {
    "duration": 3,
    "start_time": "2024-07-10T20:45:55.036Z"
   },
   {
    "duration": 16,
    "start_time": "2024-07-10T20:45:55.041Z"
   },
   {
    "duration": 11,
    "start_time": "2024-07-10T20:45:55.058Z"
   },
   {
    "duration": 19,
    "start_time": "2024-07-10T20:45:55.070Z"
   },
   {
    "duration": 26,
    "start_time": "2024-07-10T20:45:55.091Z"
   },
   {
    "duration": 8,
    "start_time": "2024-07-10T20:45:55.119Z"
   },
   {
    "duration": 12,
    "start_time": "2024-07-10T20:45:55.128Z"
   },
   {
    "duration": 8,
    "start_time": "2024-07-10T20:45:55.143Z"
   },
   {
    "duration": 7,
    "start_time": "2024-07-10T20:45:55.152Z"
   },
   {
    "duration": 8,
    "start_time": "2024-07-10T20:45:55.160Z"
   },
   {
    "duration": 5,
    "start_time": "2024-07-10T20:45:55.170Z"
   },
   {
    "duration": 31,
    "start_time": "2024-07-10T20:45:55.177Z"
   },
   {
    "duration": 6,
    "start_time": "2024-07-10T20:45:55.210Z"
   },
   {
    "duration": 24,
    "start_time": "2024-07-10T20:45:55.218Z"
   },
   {
    "duration": 5,
    "start_time": "2024-07-10T20:45:55.243Z"
   },
   {
    "duration": 5,
    "start_time": "2024-07-10T20:45:55.250Z"
   },
   {
    "duration": 7,
    "start_time": "2024-07-10T20:45:55.257Z"
   },
   {
    "duration": 194,
    "start_time": "2024-07-10T20:45:55.266Z"
   },
   {
    "duration": 7,
    "start_time": "2024-07-10T20:45:55.461Z"
   },
   {
    "duration": 8,
    "start_time": "2024-07-10T20:45:55.470Z"
   },
   {
    "duration": 301,
    "start_time": "2024-07-10T20:45:55.479Z"
   },
   {
    "duration": 5,
    "start_time": "2024-07-10T20:45:55.782Z"
   },
   {
    "duration": 30,
    "start_time": "2024-07-10T20:45:55.788Z"
   },
   {
    "duration": 396,
    "start_time": "2024-07-10T20:45:55.820Z"
   },
   {
    "duration": 10,
    "start_time": "2024-07-10T20:45:56.218Z"
   },
   {
    "duration": 187,
    "start_time": "2024-07-10T20:45:56.232Z"
   },
   {
    "duration": 14,
    "start_time": "2024-07-10T20:45:56.421Z"
   },
   {
    "duration": 13,
    "start_time": "2024-07-10T20:45:56.436Z"
   },
   {
    "duration": 7,
    "start_time": "2024-07-10T20:45:56.451Z"
   },
   {
    "duration": 324,
    "start_time": "2024-07-10T20:45:56.460Z"
   },
   {
    "duration": 39,
    "start_time": "2024-07-10T20:45:56.786Z"
   },
   {
    "duration": 13,
    "start_time": "2024-07-10T20:45:56.827Z"
   },
   {
    "duration": 124,
    "start_time": "2024-07-10T20:45:56.842Z"
   },
   {
    "duration": 377,
    "start_time": "2024-07-10T20:45:56.968Z"
   },
   {
    "duration": 1975,
    "start_time": "2024-07-10T20:45:57.348Z"
   },
   {
    "duration": 452,
    "start_time": "2024-07-10T20:45:59.325Z"
   },
   {
    "duration": 1792,
    "start_time": "2024-07-10T20:45:59.779Z"
   },
   {
    "duration": 5,
    "start_time": "2024-07-10T20:46:01.573Z"
   },
   {
    "duration": 83,
    "start_time": "2024-07-10T20:46:01.579Z"
   },
   {
    "duration": 62,
    "start_time": "2024-07-10T20:46:01.663Z"
   },
   {
    "duration": 26,
    "start_time": "2024-07-10T20:46:01.726Z"
   },
   {
    "duration": 29,
    "start_time": "2024-07-10T20:46:01.754Z"
   },
   {
    "duration": 37,
    "start_time": "2024-07-10T20:46:01.785Z"
   },
   {
    "duration": 143,
    "start_time": "2024-07-10T20:46:01.824Z"
   },
   {
    "duration": 4,
    "start_time": "2024-07-10T20:46:08.791Z"
   },
   {
    "duration": 13,
    "start_time": "2024-07-10T20:46:11.885Z"
   },
   {
    "duration": 46,
    "start_time": "2024-07-10T20:48:29.022Z"
   },
   {
    "duration": 276,
    "start_time": "2024-07-10T20:48:39.041Z"
   },
   {
    "duration": 1106,
    "start_time": "2024-07-10T20:48:55.940Z"
   },
   {
    "duration": 71,
    "start_time": "2024-07-10T20:48:57.048Z"
   },
   {
    "duration": 3,
    "start_time": "2024-07-10T20:48:57.121Z"
   },
   {
    "duration": 37,
    "start_time": "2024-07-10T20:48:57.127Z"
   },
   {
    "duration": 11,
    "start_time": "2024-07-10T20:48:57.166Z"
   },
   {
    "duration": 13,
    "start_time": "2024-07-10T20:48:57.178Z"
   },
   {
    "duration": 16,
    "start_time": "2024-07-10T20:48:57.194Z"
   },
   {
    "duration": 7,
    "start_time": "2024-07-10T20:48:57.221Z"
   },
   {
    "duration": 10,
    "start_time": "2024-07-10T20:48:57.230Z"
   },
   {
    "duration": 7,
    "start_time": "2024-07-10T20:48:57.243Z"
   },
   {
    "duration": 8,
    "start_time": "2024-07-10T20:48:57.252Z"
   },
   {
    "duration": 17,
    "start_time": "2024-07-10T20:48:57.261Z"
   },
   {
    "duration": 6,
    "start_time": "2024-07-10T20:48:57.279Z"
   },
   {
    "duration": 30,
    "start_time": "2024-07-10T20:48:57.286Z"
   },
   {
    "duration": 6,
    "start_time": "2024-07-10T20:48:57.318Z"
   },
   {
    "duration": 25,
    "start_time": "2024-07-10T20:48:57.326Z"
   },
   {
    "duration": 5,
    "start_time": "2024-07-10T20:48:57.353Z"
   },
   {
    "duration": 6,
    "start_time": "2024-07-10T20:48:57.359Z"
   },
   {
    "duration": 6,
    "start_time": "2024-07-10T20:48:57.366Z"
   },
   {
    "duration": 192,
    "start_time": "2024-07-10T20:48:57.373Z"
   },
   {
    "duration": 7,
    "start_time": "2024-07-10T20:48:57.567Z"
   },
   {
    "duration": 11,
    "start_time": "2024-07-10T20:48:57.575Z"
   },
   {
    "duration": 297,
    "start_time": "2024-07-10T20:48:57.588Z"
   },
   {
    "duration": 5,
    "start_time": "2024-07-10T20:48:57.887Z"
   },
   {
    "duration": 10,
    "start_time": "2024-07-10T20:48:57.913Z"
   },
   {
    "duration": 401,
    "start_time": "2024-07-10T20:48:57.925Z"
   },
   {
    "duration": 9,
    "start_time": "2024-07-10T20:48:58.328Z"
   },
   {
    "duration": 229,
    "start_time": "2024-07-10T20:48:58.340Z"
   },
   {
    "duration": 17,
    "start_time": "2024-07-10T20:48:58.571Z"
   },
   {
    "duration": 32,
    "start_time": "2024-07-10T20:48:58.589Z"
   },
   {
    "duration": 8,
    "start_time": "2024-07-10T20:48:58.623Z"
   },
   {
    "duration": 297,
    "start_time": "2024-07-10T20:48:58.632Z"
   },
   {
    "duration": 27,
    "start_time": "2024-07-10T20:48:58.931Z"
   },
   {
    "duration": 11,
    "start_time": "2024-07-10T20:48:58.959Z"
   },
   {
    "duration": 125,
    "start_time": "2024-07-10T20:48:58.971Z"
   },
   {
    "duration": 369,
    "start_time": "2024-07-10T20:48:59.097Z"
   },
   {
    "duration": 1876,
    "start_time": "2024-07-10T20:48:59.468Z"
   },
   {
    "duration": 410,
    "start_time": "2024-07-10T20:49:01.346Z"
   },
   {
    "duration": 1816,
    "start_time": "2024-07-10T20:49:01.758Z"
   },
   {
    "duration": 4,
    "start_time": "2024-07-10T20:49:03.576Z"
   },
   {
    "duration": 60,
    "start_time": "2024-07-10T20:49:03.582Z"
   },
   {
    "duration": 12,
    "start_time": "2024-07-10T20:49:05.030Z"
   },
   {
    "duration": 46,
    "start_time": "2024-07-10T20:54:03.416Z"
   },
   {
    "duration": 8,
    "start_time": "2024-07-10T20:54:32.585Z"
   },
   {
    "duration": 12,
    "start_time": "2024-07-10T20:54:36.060Z"
   },
   {
    "duration": 5,
    "start_time": "2024-07-10T20:55:06.840Z"
   },
   {
    "duration": 4,
    "start_time": "2024-07-10T20:55:13.904Z"
   },
   {
    "duration": 3,
    "start_time": "2024-07-10T20:58:16.782Z"
   },
   {
    "duration": 3,
    "start_time": "2024-07-10T21:00:23.276Z"
   },
   {
    "duration": 112,
    "start_time": "2024-07-10T21:00:26.808Z"
   },
   {
    "duration": 13,
    "start_time": "2024-07-10T21:00:57.005Z"
   },
   {
    "duration": 15,
    "start_time": "2024-07-10T21:01:03.595Z"
   },
   {
    "duration": 71,
    "start_time": "2024-07-10T21:02:12.165Z"
   },
   {
    "duration": 79,
    "start_time": "2024-07-10T21:02:16.906Z"
   },
   {
    "duration": 44,
    "start_time": "2024-07-10T21:02:42.301Z"
   },
   {
    "duration": 54,
    "start_time": "2024-07-10T21:03:03.214Z"
   },
   {
    "duration": 44,
    "start_time": "2024-07-10T21:03:32.136Z"
   },
   {
    "duration": 98,
    "start_time": "2024-07-10T21:04:46.005Z"
   },
   {
    "duration": 55,
    "start_time": "2024-07-10T21:04:59.258Z"
   },
   {
    "duration": 58,
    "start_time": "2024-07-10T21:05:05.181Z"
   },
   {
    "duration": 43,
    "start_time": "2024-07-10T21:05:34.029Z"
   },
   {
    "duration": 65,
    "start_time": "2024-07-10T21:07:13.484Z"
   },
   {
    "duration": 13,
    "start_time": "2024-07-10T21:08:32.014Z"
   },
   {
    "duration": 5,
    "start_time": "2024-07-10T21:08:57.829Z"
   },
   {
    "duration": 42,
    "start_time": "2024-07-10T21:09:02.057Z"
   },
   {
    "duration": 10,
    "start_time": "2024-07-10T21:09:03.425Z"
   },
   {
    "duration": 1395,
    "start_time": "2024-07-10T21:09:19.696Z"
   },
   {
    "duration": 88,
    "start_time": "2024-07-10T21:09:21.093Z"
   },
   {
    "duration": 3,
    "start_time": "2024-07-10T21:09:21.184Z"
   },
   {
    "duration": 35,
    "start_time": "2024-07-10T21:09:21.190Z"
   },
   {
    "duration": 20,
    "start_time": "2024-07-10T21:09:21.227Z"
   },
   {
    "duration": 10,
    "start_time": "2024-07-10T21:09:21.250Z"
   },
   {
    "duration": 22,
    "start_time": "2024-07-10T21:09:21.262Z"
   },
   {
    "duration": 10,
    "start_time": "2024-07-10T21:09:21.286Z"
   },
   {
    "duration": 38,
    "start_time": "2024-07-10T21:09:21.298Z"
   },
   {
    "duration": 10,
    "start_time": "2024-07-10T21:09:21.339Z"
   },
   {
    "duration": 6,
    "start_time": "2024-07-10T21:09:21.351Z"
   },
   {
    "duration": 11,
    "start_time": "2024-07-10T21:09:21.359Z"
   },
   {
    "duration": 7,
    "start_time": "2024-07-10T21:09:21.372Z"
   },
   {
    "duration": 40,
    "start_time": "2024-07-10T21:09:21.380Z"
   },
   {
    "duration": 7,
    "start_time": "2024-07-10T21:09:21.422Z"
   },
   {
    "duration": 34,
    "start_time": "2024-07-10T21:09:21.437Z"
   },
   {
    "duration": 4,
    "start_time": "2024-07-10T21:09:21.473Z"
   },
   {
    "duration": 5,
    "start_time": "2024-07-10T21:09:21.479Z"
   },
   {
    "duration": 24,
    "start_time": "2024-07-10T21:09:21.512Z"
   },
   {
    "duration": 183,
    "start_time": "2024-07-10T21:09:21.537Z"
   },
   {
    "duration": 9,
    "start_time": "2024-07-10T21:09:21.729Z"
   },
   {
    "duration": 9,
    "start_time": "2024-07-10T21:09:21.740Z"
   },
   {
    "duration": 272,
    "start_time": "2024-07-10T21:09:21.750Z"
   },
   {
    "duration": 13,
    "start_time": "2024-07-10T21:09:22.026Z"
   },
   {
    "duration": 15,
    "start_time": "2024-07-10T21:09:22.041Z"
   },
   {
    "duration": 487,
    "start_time": "2024-07-10T21:09:22.058Z"
   },
   {
    "duration": 9,
    "start_time": "2024-07-10T21:09:22.547Z"
   },
   {
    "duration": 289,
    "start_time": "2024-07-10T21:09:22.561Z"
   },
   {
    "duration": 24,
    "start_time": "2024-07-10T21:09:22.853Z"
   },
   {
    "duration": 19,
    "start_time": "2024-07-10T21:09:22.878Z"
   },
   {
    "duration": 25,
    "start_time": "2024-07-10T21:09:22.899Z"
   },
   {
    "duration": 304,
    "start_time": "2024-07-10T21:09:22.925Z"
   },
   {
    "duration": 29,
    "start_time": "2024-07-10T21:09:23.231Z"
   },
   {
    "duration": 11,
    "start_time": "2024-07-10T21:09:23.262Z"
   },
   {
    "duration": 114,
    "start_time": "2024-07-10T21:09:23.275Z"
   },
   {
    "duration": 393,
    "start_time": "2024-07-10T21:09:23.390Z"
   },
   {
    "duration": 2182,
    "start_time": "2024-07-10T21:09:23.785Z"
   },
   {
    "duration": 534,
    "start_time": "2024-07-10T21:09:25.969Z"
   },
   {
    "duration": 2134,
    "start_time": "2024-07-10T21:09:26.505Z"
   },
   {
    "duration": 6,
    "start_time": "2024-07-10T21:09:28.641Z"
   },
   {
    "duration": 17,
    "start_time": "2024-07-10T21:09:28.649Z"
   },
   {
    "duration": 82,
    "start_time": "2024-07-10T21:09:28.668Z"
   },
   {
    "duration": 8,
    "start_time": "2024-07-10T21:09:28.752Z"
   },
   {
    "duration": 16,
    "start_time": "2024-07-10T21:09:28.762Z"
   },
   {
    "duration": 182,
    "start_time": "2024-07-10T21:09:28.780Z"
   },
   {
    "duration": 85,
    "start_time": "2024-07-10T21:11:29.093Z"
   },
   {
    "duration": 108,
    "start_time": "2024-07-10T21:11:57.490Z"
   },
   {
    "duration": 82,
    "start_time": "2024-07-10T21:14:16.118Z"
   },
   {
    "duration": 93,
    "start_time": "2024-07-10T21:14:44.037Z"
   },
   {
    "duration": 121,
    "start_time": "2024-07-10T21:16:02.721Z"
   },
   {
    "duration": 3,
    "start_time": "2024-07-10T21:16:20.629Z"
   },
   {
    "duration": 247,
    "start_time": "2024-07-10T21:16:21.569Z"
   },
   {
    "duration": 213,
    "start_time": "2024-07-10T21:17:37.713Z"
   },
   {
    "duration": 286,
    "start_time": "2024-07-10T21:18:37.392Z"
   },
   {
    "duration": 334,
    "start_time": "2024-07-10T21:20:00.938Z"
   },
   {
    "duration": 175,
    "start_time": "2024-07-10T21:20:30.597Z"
   },
   {
    "duration": 40933,
    "start_time": "2024-07-10T21:20:51.363Z"
   },
   {
    "duration": 0,
    "start_time": "2024-07-10T21:21:32.297Z"
   },
   {
    "duration": 1200,
    "start_time": "2024-07-10T21:22:37.061Z"
   },
   {
    "duration": 77,
    "start_time": "2024-07-10T21:22:38.263Z"
   },
   {
    "duration": 3,
    "start_time": "2024-07-10T21:22:38.342Z"
   },
   {
    "duration": 18,
    "start_time": "2024-07-10T21:22:38.346Z"
   },
   {
    "duration": 12,
    "start_time": "2024-07-10T21:22:38.366Z"
   },
   {
    "duration": 9,
    "start_time": "2024-07-10T21:22:38.380Z"
   },
   {
    "duration": 24,
    "start_time": "2024-07-10T21:22:38.390Z"
   },
   {
    "duration": 12,
    "start_time": "2024-07-10T21:22:38.421Z"
   },
   {
    "duration": 14,
    "start_time": "2024-07-10T21:22:38.435Z"
   },
   {
    "duration": 20,
    "start_time": "2024-07-10T21:22:38.451Z"
   },
   {
    "duration": 7,
    "start_time": "2024-07-10T21:22:38.473Z"
   },
   {
    "duration": 9,
    "start_time": "2024-07-10T21:22:38.481Z"
   },
   {
    "duration": 7,
    "start_time": "2024-07-10T21:22:38.491Z"
   },
   {
    "duration": 12,
    "start_time": "2024-07-10T21:22:38.507Z"
   },
   {
    "duration": 10,
    "start_time": "2024-07-10T21:22:38.526Z"
   },
   {
    "duration": 21,
    "start_time": "2024-07-10T21:22:38.537Z"
   },
   {
    "duration": 5,
    "start_time": "2024-07-10T21:22:38.559Z"
   },
   {
    "duration": 5,
    "start_time": "2024-07-10T21:22:38.566Z"
   },
   {
    "duration": 39,
    "start_time": "2024-07-10T21:22:38.572Z"
   },
   {
    "duration": 173,
    "start_time": "2024-07-10T21:22:38.618Z"
   },
   {
    "duration": 18,
    "start_time": "2024-07-10T21:22:38.793Z"
   },
   {
    "duration": 21,
    "start_time": "2024-07-10T21:22:38.813Z"
   },
   {
    "duration": 290,
    "start_time": "2024-07-10T21:22:38.835Z"
   },
   {
    "duration": 9,
    "start_time": "2024-07-10T21:22:39.129Z"
   },
   {
    "duration": 14,
    "start_time": "2024-07-10T21:22:39.140Z"
   },
   {
    "duration": 407,
    "start_time": "2024-07-10T21:22:39.156Z"
   },
   {
    "duration": 8,
    "start_time": "2024-07-10T21:22:39.565Z"
   },
   {
    "duration": 207,
    "start_time": "2024-07-10T21:22:39.575Z"
   },
   {
    "duration": 23,
    "start_time": "2024-07-10T21:22:39.783Z"
   },
   {
    "duration": 17,
    "start_time": "2024-07-10T21:22:39.807Z"
   },
   {
    "duration": 10,
    "start_time": "2024-07-10T21:22:39.825Z"
   },
   {
    "duration": 298,
    "start_time": "2024-07-10T21:22:39.836Z"
   },
   {
    "duration": 25,
    "start_time": "2024-07-10T21:22:40.135Z"
   },
   {
    "duration": 32,
    "start_time": "2024-07-10T21:22:40.161Z"
   },
   {
    "duration": 102,
    "start_time": "2024-07-10T21:22:40.194Z"
   },
   {
    "duration": 382,
    "start_time": "2024-07-10T21:22:40.297Z"
   },
   {
    "duration": 2036,
    "start_time": "2024-07-10T21:22:40.681Z"
   },
   {
    "duration": 416,
    "start_time": "2024-07-10T21:22:42.719Z"
   },
   {
    "duration": 1976,
    "start_time": "2024-07-10T21:22:43.136Z"
   },
   {
    "duration": 8,
    "start_time": "2024-07-10T21:22:45.113Z"
   },
   {
    "duration": 16,
    "start_time": "2024-07-10T21:22:45.125Z"
   },
   {
    "duration": 85,
    "start_time": "2024-07-10T21:22:45.143Z"
   },
   {
    "duration": 12,
    "start_time": "2024-07-10T21:22:45.231Z"
   },
   {
    "duration": 13,
    "start_time": "2024-07-10T21:22:45.245Z"
   },
   {
    "duration": 1392,
    "start_time": "2024-07-10T21:22:45.259Z"
   },
   {
    "duration": 0,
    "start_time": "2024-07-10T21:22:46.654Z"
   },
   {
    "duration": 1147,
    "start_time": "2024-07-10T21:23:55.631Z"
   },
   {
    "duration": 70,
    "start_time": "2024-07-10T21:24:12.569Z"
   },
   {
    "duration": 16,
    "start_time": "2024-07-10T21:24:16.148Z"
   },
   {
    "duration": 65,
    "start_time": "2024-07-10T21:24:28.533Z"
   },
   {
    "duration": 13,
    "start_time": "2024-07-10T21:24:29.455Z"
   },
   {
    "duration": 111,
    "start_time": "2024-07-10T21:24:40.156Z"
   },
   {
    "duration": 16,
    "start_time": "2024-07-10T21:24:42.224Z"
   },
   {
    "duration": 140,
    "start_time": "2024-07-10T21:24:52.707Z"
   },
   {
    "duration": 18,
    "start_time": "2024-07-10T21:24:54.025Z"
   },
   {
    "duration": 127,
    "start_time": "2024-07-10T21:25:01.334Z"
   },
   {
    "duration": 176,
    "start_time": "2024-07-10T21:25:06.836Z"
   },
   {
    "duration": 24,
    "start_time": "2024-07-10T21:25:07.705Z"
   },
   {
    "duration": 202,
    "start_time": "2024-07-10T21:25:14.410Z"
   },
   {
    "duration": 221,
    "start_time": "2024-07-10T21:25:28.254Z"
   },
   {
    "duration": 227,
    "start_time": "2024-07-10T21:25:30.499Z"
   },
   {
    "duration": 173,
    "start_time": "2024-07-10T21:25:34.234Z"
   },
   {
    "duration": 23,
    "start_time": "2024-07-10T21:25:36.088Z"
   },
   {
    "duration": 1186,
    "start_time": "2024-07-10T21:25:43.158Z"
   },
   {
    "duration": 83,
    "start_time": "2024-07-10T21:25:44.346Z"
   },
   {
    "duration": 3,
    "start_time": "2024-07-10T21:25:44.430Z"
   },
   {
    "duration": 16,
    "start_time": "2024-07-10T21:25:44.436Z"
   },
   {
    "duration": 11,
    "start_time": "2024-07-10T21:25:44.453Z"
   },
   {
    "duration": 14,
    "start_time": "2024-07-10T21:25:44.465Z"
   },
   {
    "duration": 13,
    "start_time": "2024-07-10T21:25:44.481Z"
   },
   {
    "duration": 7,
    "start_time": "2024-07-10T21:25:44.495Z"
   },
   {
    "duration": 22,
    "start_time": "2024-07-10T21:25:44.504Z"
   },
   {
    "duration": 9,
    "start_time": "2024-07-10T21:25:44.528Z"
   },
   {
    "duration": 8,
    "start_time": "2024-07-10T21:25:44.539Z"
   },
   {
    "duration": 8,
    "start_time": "2024-07-10T21:25:44.548Z"
   },
   {
    "duration": 5,
    "start_time": "2024-07-10T21:25:44.557Z"
   },
   {
    "duration": 4,
    "start_time": "2024-07-10T21:25:44.565Z"
   },
   {
    "duration": 4,
    "start_time": "2024-07-10T21:25:44.571Z"
   },
   {
    "duration": 55,
    "start_time": "2024-07-10T21:25:44.577Z"
   },
   {
    "duration": 15,
    "start_time": "2024-07-10T21:25:44.634Z"
   },
   {
    "duration": 5,
    "start_time": "2024-07-10T21:25:44.650Z"
   },
   {
    "duration": 8,
    "start_time": "2024-07-10T21:25:44.656Z"
   },
   {
    "duration": 204,
    "start_time": "2024-07-10T21:25:44.665Z"
   },
   {
    "duration": 8,
    "start_time": "2024-07-10T21:25:44.871Z"
   },
   {
    "duration": 40,
    "start_time": "2024-07-10T21:25:44.881Z"
   },
   {
    "duration": 289,
    "start_time": "2024-07-10T21:25:44.927Z"
   },
   {
    "duration": 7,
    "start_time": "2024-07-10T21:25:45.218Z"
   },
   {
    "duration": 35,
    "start_time": "2024-07-10T21:25:45.226Z"
   },
   {
    "duration": 405,
    "start_time": "2024-07-10T21:25:45.263Z"
   },
   {
    "duration": 8,
    "start_time": "2024-07-10T21:25:45.669Z"
   },
   {
    "duration": 211,
    "start_time": "2024-07-10T21:25:45.679Z"
   },
   {
    "duration": 32,
    "start_time": "2024-07-10T21:25:45.892Z"
   },
   {
    "duration": 15,
    "start_time": "2024-07-10T21:25:45.925Z"
   },
   {
    "duration": 7,
    "start_time": "2024-07-10T21:25:45.942Z"
   },
   {
    "duration": 338,
    "start_time": "2024-07-10T21:25:45.951Z"
   },
   {
    "duration": 45,
    "start_time": "2024-07-10T21:25:46.291Z"
   },
   {
    "duration": 12,
    "start_time": "2024-07-10T21:25:46.338Z"
   },
   {
    "duration": 116,
    "start_time": "2024-07-10T21:25:46.351Z"
   },
   {
    "duration": 398,
    "start_time": "2024-07-10T21:25:46.469Z"
   },
   {
    "duration": 1984,
    "start_time": "2024-07-10T21:25:46.869Z"
   },
   {
    "duration": 420,
    "start_time": "2024-07-10T21:25:48.854Z"
   },
   {
    "duration": 1912,
    "start_time": "2024-07-10T21:25:49.276Z"
   },
   {
    "duration": 4,
    "start_time": "2024-07-10T21:25:51.190Z"
   },
   {
    "duration": 9,
    "start_time": "2024-07-10T21:25:51.207Z"
   },
   {
    "duration": 46,
    "start_time": "2024-07-10T21:25:51.223Z"
   },
   {
    "duration": 18,
    "start_time": "2024-07-10T21:25:51.271Z"
   },
   {
    "duration": 11,
    "start_time": "2024-07-10T21:25:51.290Z"
   },
   {
    "duration": 1287,
    "start_time": "2024-07-10T21:25:51.302Z"
   },
   {
    "duration": 0,
    "start_time": "2024-07-10T21:25:52.591Z"
   },
   {
    "duration": 21,
    "start_time": "2024-07-10T21:26:12.504Z"
   },
   {
    "duration": 192,
    "start_time": "2024-07-10T21:26:26.126Z"
   },
   {
    "duration": 14,
    "start_time": "2024-07-10T21:26:26.782Z"
   },
   {
    "duration": 1226,
    "start_time": "2024-07-10T21:26:45.119Z"
   },
   {
    "duration": 73,
    "start_time": "2024-07-10T21:26:46.347Z"
   },
   {
    "duration": 2,
    "start_time": "2024-07-10T21:26:46.424Z"
   },
   {
    "duration": 18,
    "start_time": "2024-07-10T21:26:46.428Z"
   },
   {
    "duration": 11,
    "start_time": "2024-07-10T21:26:46.448Z"
   },
   {
    "duration": 14,
    "start_time": "2024-07-10T21:26:46.461Z"
   },
   {
    "duration": 11,
    "start_time": "2024-07-10T21:26:46.477Z"
   },
   {
    "duration": 6,
    "start_time": "2024-07-10T21:26:46.490Z"
   },
   {
    "duration": 23,
    "start_time": "2024-07-10T21:26:46.498Z"
   },
   {
    "duration": 9,
    "start_time": "2024-07-10T21:26:46.522Z"
   },
   {
    "duration": 10,
    "start_time": "2024-07-10T21:26:46.532Z"
   },
   {
    "duration": 10,
    "start_time": "2024-07-10T21:26:46.543Z"
   },
   {
    "duration": 6,
    "start_time": "2024-07-10T21:26:46.554Z"
   },
   {
    "duration": 4,
    "start_time": "2024-07-10T21:26:46.563Z"
   },
   {
    "duration": 41,
    "start_time": "2024-07-10T21:26:46.569Z"
   },
   {
    "duration": 18,
    "start_time": "2024-07-10T21:26:46.614Z"
   },
   {
    "duration": 5,
    "start_time": "2024-07-10T21:26:46.636Z"
   },
   {
    "duration": 5,
    "start_time": "2024-07-10T21:26:46.643Z"
   },
   {
    "duration": 12,
    "start_time": "2024-07-10T21:26:46.650Z"
   },
   {
    "duration": 192,
    "start_time": "2024-07-10T21:26:46.663Z"
   },
   {
    "duration": 9,
    "start_time": "2024-07-10T21:26:46.857Z"
   },
   {
    "duration": 19,
    "start_time": "2024-07-10T21:26:46.867Z"
   },
   {
    "duration": 290,
    "start_time": "2024-07-10T21:26:46.887Z"
   },
   {
    "duration": 5,
    "start_time": "2024-07-10T21:26:47.179Z"
   },
   {
    "duration": 27,
    "start_time": "2024-07-10T21:26:47.185Z"
   },
   {
    "duration": 374,
    "start_time": "2024-07-10T21:26:47.219Z"
   },
   {
    "duration": 18,
    "start_time": "2024-07-10T21:26:47.595Z"
   },
   {
    "duration": 203,
    "start_time": "2024-07-10T21:26:47.618Z"
   },
   {
    "duration": 14,
    "start_time": "2024-07-10T21:26:47.823Z"
   },
   {
    "duration": 14,
    "start_time": "2024-07-10T21:26:47.839Z"
   },
   {
    "duration": 9,
    "start_time": "2024-07-10T21:26:47.855Z"
   },
   {
    "duration": 332,
    "start_time": "2024-07-10T21:26:47.866Z"
   },
   {
    "duration": 33,
    "start_time": "2024-07-10T21:26:48.204Z"
   },
   {
    "duration": 12,
    "start_time": "2024-07-10T21:26:48.238Z"
   },
   {
    "duration": 126,
    "start_time": "2024-07-10T21:26:48.252Z"
   },
   {
    "duration": 365,
    "start_time": "2024-07-10T21:26:48.380Z"
   },
   {
    "duration": 2021,
    "start_time": "2024-07-10T21:26:48.747Z"
   },
   {
    "duration": 446,
    "start_time": "2024-07-10T21:26:50.769Z"
   },
   {
    "duration": 1939,
    "start_time": "2024-07-10T21:26:51.224Z"
   },
   {
    "duration": 5,
    "start_time": "2024-07-10T21:26:53.164Z"
   },
   {
    "duration": 4,
    "start_time": "2024-07-10T21:26:53.172Z"
   },
   {
    "duration": 64,
    "start_time": "2024-07-10T21:26:53.177Z"
   },
   {
    "duration": 7,
    "start_time": "2024-07-10T21:26:53.243Z"
   },
   {
    "duration": 4,
    "start_time": "2024-07-10T21:26:53.252Z"
   },
   {
    "duration": 183,
    "start_time": "2024-07-10T21:26:53.257Z"
   },
   {
    "duration": 13,
    "start_time": "2024-07-10T21:26:53.442Z"
   },
   {
    "duration": 13,
    "start_time": "2024-07-10T21:27:18.630Z"
   },
   {
    "duration": 112,
    "start_time": "2024-07-10T21:28:58.608Z"
   },
   {
    "duration": 4,
    "start_time": "2024-07-10T21:31:05.465Z"
   },
   {
    "duration": 13,
    "start_time": "2024-07-10T21:31:07.620Z"
   },
   {
    "duration": 9,
    "start_time": "2024-07-10T21:31:54.988Z"
   },
   {
    "duration": 1009,
    "start_time": "2024-07-10T21:33:31.037Z"
   },
   {
    "duration": 12,
    "start_time": "2024-07-10T21:33:53.561Z"
   },
   {
    "duration": 11,
    "start_time": "2024-07-10T21:34:05.202Z"
   },
   {
    "duration": 13,
    "start_time": "2024-07-10T21:34:06.785Z"
   },
   {
    "duration": 9,
    "start_time": "2024-07-10T21:34:09.361Z"
   },
   {
    "duration": 7,
    "start_time": "2024-07-10T21:35:23.019Z"
   },
   {
    "duration": 7,
    "start_time": "2024-07-10T21:36:09.166Z"
   },
   {
    "duration": 13,
    "start_time": "2024-07-10T21:36:12.035Z"
   },
   {
    "duration": 9,
    "start_time": "2024-07-10T21:37:23.379Z"
   },
   {
    "duration": 18,
    "start_time": "2024-07-10T21:37:25.974Z"
   },
   {
    "duration": 1297,
    "start_time": "2024-07-10T21:37:55.166Z"
   },
   {
    "duration": 73,
    "start_time": "2024-07-10T21:37:56.465Z"
   },
   {
    "duration": 3,
    "start_time": "2024-07-10T21:37:56.540Z"
   },
   {
    "duration": 11,
    "start_time": "2024-07-10T21:37:56.545Z"
   },
   {
    "duration": 13,
    "start_time": "2024-07-10T21:37:56.558Z"
   },
   {
    "duration": 8,
    "start_time": "2024-07-10T21:37:56.573Z"
   },
   {
    "duration": 13,
    "start_time": "2024-07-10T21:37:56.583Z"
   },
   {
    "duration": 18,
    "start_time": "2024-07-10T21:37:56.598Z"
   },
   {
    "duration": 19,
    "start_time": "2024-07-10T21:37:56.617Z"
   },
   {
    "duration": 7,
    "start_time": "2024-07-10T21:37:56.641Z"
   },
   {
    "duration": 13,
    "start_time": "2024-07-10T21:37:56.649Z"
   },
   {
    "duration": 10,
    "start_time": "2024-07-10T21:37:56.663Z"
   },
   {
    "duration": 6,
    "start_time": "2024-07-10T21:37:56.675Z"
   },
   {
    "duration": 6,
    "start_time": "2024-07-10T21:37:56.682Z"
   },
   {
    "duration": 14,
    "start_time": "2024-07-10T21:37:56.708Z"
   },
   {
    "duration": 23,
    "start_time": "2024-07-10T21:37:56.723Z"
   },
   {
    "duration": 5,
    "start_time": "2024-07-10T21:37:56.748Z"
   },
   {
    "duration": 10,
    "start_time": "2024-07-10T21:37:56.755Z"
   },
   {
    "duration": 6,
    "start_time": "2024-07-10T21:37:56.767Z"
   },
   {
    "duration": 213,
    "start_time": "2024-07-10T21:37:56.774Z"
   },
   {
    "duration": 6,
    "start_time": "2024-07-10T21:37:56.989Z"
   },
   {
    "duration": 26,
    "start_time": "2024-07-10T21:37:56.997Z"
   },
   {
    "duration": 270,
    "start_time": "2024-07-10T21:37:57.028Z"
   },
   {
    "duration": 21,
    "start_time": "2024-07-10T21:37:57.300Z"
   },
   {
    "duration": 14,
    "start_time": "2024-07-10T21:37:57.323Z"
   },
   {
    "duration": 418,
    "start_time": "2024-07-10T21:37:57.340Z"
   },
   {
    "duration": 10,
    "start_time": "2024-07-10T21:37:57.760Z"
   },
   {
    "duration": 251,
    "start_time": "2024-07-10T21:37:57.775Z"
   },
   {
    "duration": 18,
    "start_time": "2024-07-10T21:37:58.032Z"
   },
   {
    "duration": 13,
    "start_time": "2024-07-10T21:37:58.051Z"
   },
   {
    "duration": 11,
    "start_time": "2024-07-10T21:37:58.065Z"
   },
   {
    "duration": 340,
    "start_time": "2024-07-10T21:37:58.078Z"
   },
   {
    "duration": 32,
    "start_time": "2024-07-10T21:37:58.419Z"
   },
   {
    "duration": 11,
    "start_time": "2024-07-10T21:37:58.453Z"
   },
   {
    "duration": 122,
    "start_time": "2024-07-10T21:37:58.466Z"
   },
   {
    "duration": 493,
    "start_time": "2024-07-10T21:37:58.589Z"
   },
   {
    "duration": 2248,
    "start_time": "2024-07-10T21:37:59.084Z"
   },
   {
    "duration": 421,
    "start_time": "2024-07-10T21:38:01.340Z"
   },
   {
    "duration": 2121,
    "start_time": "2024-07-10T21:38:01.763Z"
   },
   {
    "duration": 5,
    "start_time": "2024-07-10T21:38:03.886Z"
   },
   {
    "duration": 18,
    "start_time": "2024-07-10T21:38:03.893Z"
   },
   {
    "duration": 55,
    "start_time": "2024-07-10T21:38:03.916Z"
   },
   {
    "duration": 8,
    "start_time": "2024-07-10T21:38:03.972Z"
   },
   {
    "duration": 9,
    "start_time": "2024-07-10T21:38:03.982Z"
   },
   {
    "duration": 15,
    "start_time": "2024-07-10T21:38:03.993Z"
   },
   {
    "duration": 11,
    "start_time": "2024-07-10T21:38:04.009Z"
   },
   {
    "duration": 15,
    "start_time": "2024-07-10T21:38:04.021Z"
   },
   {
    "duration": 16,
    "start_time": "2024-07-10T21:38:04.038Z"
   },
   {
    "duration": 13,
    "start_time": "2024-07-10T21:38:04.056Z"
   },
   {
    "duration": 8,
    "start_time": "2024-07-10T21:38:04.070Z"
   },
   {
    "duration": 14,
    "start_time": "2024-07-10T21:38:04.080Z"
   },
   {
    "duration": 3,
    "start_time": "2024-07-10T21:41:29.038Z"
   },
   {
    "duration": 104,
    "start_time": "2024-07-10T21:41:39.236Z"
   },
   {
    "duration": 938,
    "start_time": "2024-07-10T21:41:48.350Z"
   },
   {
    "duration": 3,
    "start_time": "2024-07-10T21:42:04.597Z"
   },
   {
    "duration": 196,
    "start_time": "2024-07-10T21:42:05.500Z"
   },
   {
    "duration": 23,
    "start_time": "2024-07-10T21:42:13.031Z"
   },
   {
    "duration": 5,
    "start_time": "2024-07-10T21:45:15.720Z"
   },
   {
    "duration": 8233,
    "start_time": "2024-07-10T21:45:16.321Z"
   },
   {
    "duration": 4,
    "start_time": "2024-07-10T21:45:52.199Z"
   },
   {
    "duration": 9677,
    "start_time": "2024-07-10T21:45:52.890Z"
   },
   {
    "duration": 4,
    "start_time": "2024-07-10T21:46:22.995Z"
   },
   {
    "duration": 9312,
    "start_time": "2024-07-10T21:46:33.254Z"
   },
   {
    "duration": 17,
    "start_time": "2024-07-10T21:46:42.623Z"
   },
   {
    "duration": 48,
    "start_time": "2024-07-11T06:21:25.795Z"
   },
   {
    "duration": 1799,
    "start_time": "2024-07-11T06:27:03.128Z"
   },
   {
    "duration": 197,
    "start_time": "2024-07-11T06:27:04.929Z"
   },
   {
    "duration": 3,
    "start_time": "2024-07-11T06:27:05.128Z"
   },
   {
    "duration": 19,
    "start_time": "2024-07-11T06:27:05.134Z"
   },
   {
    "duration": 15,
    "start_time": "2024-07-11T06:27:05.154Z"
   },
   {
    "duration": 8,
    "start_time": "2024-07-11T06:27:05.171Z"
   },
   {
    "duration": 11,
    "start_time": "2024-07-11T06:27:05.181Z"
   },
   {
    "duration": 6,
    "start_time": "2024-07-11T06:27:05.193Z"
   },
   {
    "duration": 24,
    "start_time": "2024-07-11T06:27:05.201Z"
   },
   {
    "duration": 7,
    "start_time": "2024-07-11T06:27:05.227Z"
   },
   {
    "duration": 10,
    "start_time": "2024-07-11T06:27:05.236Z"
   },
   {
    "duration": 21,
    "start_time": "2024-07-11T06:27:05.247Z"
   },
   {
    "duration": 5,
    "start_time": "2024-07-11T06:27:05.269Z"
   },
   {
    "duration": 4,
    "start_time": "2024-07-11T06:27:05.276Z"
   },
   {
    "duration": 5,
    "start_time": "2024-07-11T06:27:05.281Z"
   },
   {
    "duration": 42,
    "start_time": "2024-07-11T06:27:05.287Z"
   },
   {
    "duration": 4,
    "start_time": "2024-07-11T06:27:05.331Z"
   },
   {
    "duration": 4,
    "start_time": "2024-07-11T06:27:05.336Z"
   },
   {
    "duration": 6,
    "start_time": "2024-07-11T06:27:05.342Z"
   },
   {
    "duration": 166,
    "start_time": "2024-07-11T06:27:05.350Z"
   },
   {
    "duration": 6,
    "start_time": "2024-07-11T06:27:05.518Z"
   },
   {
    "duration": 11,
    "start_time": "2024-07-11T06:27:05.526Z"
   },
   {
    "duration": 279,
    "start_time": "2024-07-11T06:27:05.539Z"
   },
   {
    "duration": 5,
    "start_time": "2024-07-11T06:27:05.820Z"
   },
   {
    "duration": 12,
    "start_time": "2024-07-11T06:27:05.827Z"
   },
   {
    "duration": 383,
    "start_time": "2024-07-11T06:27:05.841Z"
   },
   {
    "duration": 8,
    "start_time": "2024-07-11T06:27:06.225Z"
   },
   {
    "duration": 176,
    "start_time": "2024-07-11T06:27:06.236Z"
   },
   {
    "duration": 15,
    "start_time": "2024-07-11T06:27:06.414Z"
   },
   {
    "duration": 18,
    "start_time": "2024-07-11T06:27:06.431Z"
   },
   {
    "duration": 8,
    "start_time": "2024-07-11T06:27:06.451Z"
   },
   {
    "duration": 307,
    "start_time": "2024-07-11T06:27:06.461Z"
   },
   {
    "duration": 24,
    "start_time": "2024-07-11T06:27:06.769Z"
   },
   {
    "duration": 23,
    "start_time": "2024-07-11T06:27:06.795Z"
   },
   {
    "duration": 80,
    "start_time": "2024-07-11T06:27:06.820Z"
   },
   {
    "duration": 332,
    "start_time": "2024-07-11T06:27:06.901Z"
   },
   {
    "duration": 1588,
    "start_time": "2024-07-11T06:27:07.235Z"
   },
   {
    "duration": 338,
    "start_time": "2024-07-11T06:27:08.825Z"
   },
   {
    "duration": 1575,
    "start_time": "2024-07-11T06:27:09.165Z"
   },
   {
    "duration": 5,
    "start_time": "2024-07-11T06:27:10.742Z"
   },
   {
    "duration": 8,
    "start_time": "2024-07-11T06:27:10.749Z"
   },
   {
    "duration": 43,
    "start_time": "2024-07-11T06:27:10.758Z"
   },
   {
    "duration": 8,
    "start_time": "2024-07-11T06:27:10.811Z"
   },
   {
    "duration": 20,
    "start_time": "2024-07-11T06:27:10.820Z"
   },
   {
    "duration": 14,
    "start_time": "2024-07-11T06:27:10.842Z"
   },
   {
    "duration": 8,
    "start_time": "2024-07-11T06:27:10.858Z"
   },
   {
    "duration": 5,
    "start_time": "2024-07-11T06:27:10.868Z"
   },
   {
    "duration": 1865,
    "start_time": "2024-07-11T06:27:10.874Z"
   },
   {
    "duration": 15,
    "start_time": "2024-07-11T06:27:12.740Z"
   },
   {
    "duration": 3,
    "start_time": "2024-07-11T06:27:24.547Z"
   },
   {
    "duration": 203,
    "start_time": "2024-07-11T06:27:24.967Z"
   },
   {
    "duration": 12,
    "start_time": "2024-07-11T06:27:38.544Z"
   },
   {
    "duration": 11,
    "start_time": "2024-07-11T06:28:43.762Z"
   },
   {
    "duration": 11,
    "start_time": "2024-07-11T06:31:16.791Z"
   },
   {
    "duration": 12,
    "start_time": "2024-07-11T06:31:21.129Z"
   },
   {
    "duration": 17,
    "start_time": "2024-07-11T06:31:45.611Z"
   },
   {
    "duration": 17,
    "start_time": "2024-07-11T06:31:48.767Z"
   },
   {
    "duration": 8,
    "start_time": "2024-07-11T06:32:35.212Z"
   },
   {
    "duration": 22,
    "start_time": "2024-07-11T06:32:39.451Z"
   },
   {
    "duration": 25,
    "start_time": "2024-07-11T06:32:43.750Z"
   },
   {
    "duration": 1199,
    "start_time": "2024-07-11T06:32:59.988Z"
   },
   {
    "duration": 66,
    "start_time": "2024-07-11T06:33:01.189Z"
   },
   {
    "duration": 61,
    "start_time": "2024-07-11T06:33:01.256Z"
   },
   {
    "duration": 85,
    "start_time": "2024-07-11T06:33:01.319Z"
   },
   {
    "duration": 131,
    "start_time": "2024-07-11T06:33:01.407Z"
   },
   {
    "duration": 343,
    "start_time": "2024-07-11T06:33:01.540Z"
   },
   {
    "duration": 26,
    "start_time": "2024-07-11T06:33:01.885Z"
   },
   {
    "duration": 20,
    "start_time": "2024-07-11T06:33:01.913Z"
   },
   {
    "duration": 10,
    "start_time": "2024-07-11T06:33:01.936Z"
   },
   {
    "duration": 27,
    "start_time": "2024-07-11T06:33:01.948Z"
   },
   {
    "duration": 22,
    "start_time": "2024-07-11T06:33:01.976Z"
   },
   {
    "duration": 37,
    "start_time": "2024-07-11T06:33:01.999Z"
   },
   {
    "duration": 7,
    "start_time": "2024-07-11T06:33:02.038Z"
   },
   {
    "duration": 23,
    "start_time": "2024-07-11T06:33:02.048Z"
   },
   {
    "duration": 22,
    "start_time": "2024-07-11T06:33:02.072Z"
   },
   {
    "duration": 28,
    "start_time": "2024-07-11T06:33:02.096Z"
   },
   {
    "duration": 4,
    "start_time": "2024-07-11T06:33:02.129Z"
   },
   {
    "duration": 10,
    "start_time": "2024-07-11T06:33:02.134Z"
   },
   {
    "duration": 22,
    "start_time": "2024-07-11T06:33:02.147Z"
   },
   {
    "duration": 210,
    "start_time": "2024-07-11T06:33:02.171Z"
   },
   {
    "duration": 9,
    "start_time": "2024-07-11T06:33:02.382Z"
   },
   {
    "duration": 20,
    "start_time": "2024-07-11T06:33:02.393Z"
   },
   {
    "duration": 265,
    "start_time": "2024-07-11T06:33:02.415Z"
   },
   {
    "duration": 5,
    "start_time": "2024-07-11T06:33:02.681Z"
   },
   {
    "duration": 28,
    "start_time": "2024-07-11T06:33:02.687Z"
   },
   {
    "duration": 376,
    "start_time": "2024-07-11T06:33:02.717Z"
   },
   {
    "duration": 20,
    "start_time": "2024-07-11T06:33:03.095Z"
   },
   {
    "duration": 182,
    "start_time": "2024-07-11T06:33:03.117Z"
   },
   {
    "duration": 29,
    "start_time": "2024-07-11T06:33:03.300Z"
   },
   {
    "duration": 18,
    "start_time": "2024-07-11T06:33:03.330Z"
   },
   {
    "duration": 8,
    "start_time": "2024-07-11T06:33:03.349Z"
   },
   {
    "duration": 341,
    "start_time": "2024-07-11T06:33:03.359Z"
   },
   {
    "duration": 44,
    "start_time": "2024-07-11T06:33:03.702Z"
   },
   {
    "duration": 12,
    "start_time": "2024-07-11T06:33:03.748Z"
   },
   {
    "duration": 109,
    "start_time": "2024-07-11T06:33:03.761Z"
   },
   {
    "duration": 327,
    "start_time": "2024-07-11T06:33:03.872Z"
   },
   {
    "duration": 1649,
    "start_time": "2024-07-11T06:33:04.200Z"
   },
   {
    "duration": 354,
    "start_time": "2024-07-11T06:33:05.851Z"
   },
   {
    "duration": 1738,
    "start_time": "2024-07-11T06:33:06.207Z"
   },
   {
    "duration": 5,
    "start_time": "2024-07-11T06:33:07.947Z"
   },
   {
    "duration": 3,
    "start_time": "2024-07-11T06:33:07.955Z"
   },
   {
    "duration": 57,
    "start_time": "2024-07-11T06:33:07.960Z"
   },
   {
    "duration": 9,
    "start_time": "2024-07-11T06:33:08.018Z"
   },
   {
    "duration": 18,
    "start_time": "2024-07-11T06:33:08.028Z"
   },
   {
    "duration": 16,
    "start_time": "2024-07-11T06:33:08.048Z"
   },
   {
    "duration": 8,
    "start_time": "2024-07-11T06:33:08.065Z"
   },
   {
    "duration": 38,
    "start_time": "2024-07-11T06:33:08.074Z"
   },
   {
    "duration": 1062,
    "start_time": "2024-07-11T06:33:08.114Z"
   },
   {
    "duration": 0,
    "start_time": "2024-07-11T06:33:09.177Z"
   },
   {
    "duration": 4,
    "start_time": "2024-07-11T06:35:12.326Z"
   },
   {
    "duration": 10,
    "start_time": "2024-07-11T06:36:00.942Z"
   },
   {
    "duration": 10,
    "start_time": "2024-07-11T06:36:11.065Z"
   },
   {
    "duration": 4,
    "start_time": "2024-07-11T06:36:21.822Z"
   },
   {
    "duration": 983,
    "start_time": "2024-07-11T06:36:22.258Z"
   },
   {
    "duration": 0,
    "start_time": "2024-07-11T06:36:23.243Z"
   },
   {
    "duration": 1168,
    "start_time": "2024-07-11T06:37:24.722Z"
   },
   {
    "duration": 75,
    "start_time": "2024-07-11T06:37:25.892Z"
   },
   {
    "duration": 2,
    "start_time": "2024-07-11T06:37:25.971Z"
   },
   {
    "duration": 26,
    "start_time": "2024-07-11T06:37:25.975Z"
   },
   {
    "duration": 19,
    "start_time": "2024-07-11T06:37:26.002Z"
   },
   {
    "duration": 11,
    "start_time": "2024-07-11T06:37:26.023Z"
   },
   {
    "duration": 18,
    "start_time": "2024-07-11T06:37:26.035Z"
   },
   {
    "duration": 17,
    "start_time": "2024-07-11T06:37:26.055Z"
   },
   {
    "duration": 10,
    "start_time": "2024-07-11T06:37:26.073Z"
   },
   {
    "duration": 40,
    "start_time": "2024-07-11T06:37:26.085Z"
   },
   {
    "duration": 22,
    "start_time": "2024-07-11T06:37:26.127Z"
   },
   {
    "duration": 15,
    "start_time": "2024-07-11T06:37:26.150Z"
   },
   {
    "duration": 6,
    "start_time": "2024-07-11T06:37:26.169Z"
   },
   {
    "duration": 6,
    "start_time": "2024-07-11T06:37:26.176Z"
   },
   {
    "duration": 5,
    "start_time": "2024-07-11T06:37:26.184Z"
   },
   {
    "duration": 33,
    "start_time": "2024-07-11T06:37:26.191Z"
   },
   {
    "duration": 5,
    "start_time": "2024-07-11T06:37:26.226Z"
   },
   {
    "duration": 9,
    "start_time": "2024-07-11T06:37:26.233Z"
   },
   {
    "duration": 8,
    "start_time": "2024-07-11T06:37:26.243Z"
   },
   {
    "duration": 145,
    "start_time": "2024-07-11T06:37:26.252Z"
   },
   {
    "duration": 23,
    "start_time": "2024-07-11T06:37:26.398Z"
   },
   {
    "duration": 7,
    "start_time": "2024-07-11T06:37:26.423Z"
   },
   {
    "duration": 240,
    "start_time": "2024-07-11T06:37:26.431Z"
   },
   {
    "duration": 5,
    "start_time": "2024-07-11T06:37:26.673Z"
   },
   {
    "duration": 13,
    "start_time": "2024-07-11T06:37:26.712Z"
   },
   {
    "duration": 339,
    "start_time": "2024-07-11T06:37:26.726Z"
   },
   {
    "duration": 9,
    "start_time": "2024-07-11T06:37:27.067Z"
   },
   {
    "duration": 180,
    "start_time": "2024-07-11T06:37:27.078Z"
   },
   {
    "duration": 14,
    "start_time": "2024-07-11T06:37:27.260Z"
   },
   {
    "duration": 12,
    "start_time": "2024-07-11T06:37:27.275Z"
   },
   {
    "duration": 32,
    "start_time": "2024-07-11T06:37:27.289Z"
   },
   {
    "duration": 256,
    "start_time": "2024-07-11T06:37:27.327Z"
   },
   {
    "duration": 46,
    "start_time": "2024-07-11T06:37:27.584Z"
   },
   {
    "duration": 12,
    "start_time": "2024-07-11T06:37:27.632Z"
   },
   {
    "duration": 94,
    "start_time": "2024-07-11T06:37:27.645Z"
   },
   {
    "duration": 298,
    "start_time": "2024-07-11T06:37:27.740Z"
   },
   {
    "duration": 1661,
    "start_time": "2024-07-11T06:37:28.039Z"
   },
   {
    "duration": 355,
    "start_time": "2024-07-11T06:37:29.702Z"
   },
   {
    "duration": 1690,
    "start_time": "2024-07-11T06:37:30.058Z"
   },
   {
    "duration": 4,
    "start_time": "2024-07-11T06:37:31.751Z"
   },
   {
    "duration": 86,
    "start_time": "2024-07-11T06:37:31.757Z"
   },
   {
    "duration": 60,
    "start_time": "2024-07-11T06:37:31.845Z"
   },
   {
    "duration": 16,
    "start_time": "2024-07-11T06:37:31.907Z"
   },
   {
    "duration": 26,
    "start_time": "2024-07-11T06:37:31.924Z"
   },
   {
    "duration": 33,
    "start_time": "2024-07-11T06:37:31.952Z"
   },
   {
    "duration": 19,
    "start_time": "2024-07-11T06:37:31.986Z"
   },
   {
    "duration": 227,
    "start_time": "2024-07-11T06:37:32.006Z"
   },
   {
    "duration": 9,
    "start_time": "2024-07-11T06:37:32.235Z"
   },
   {
    "duration": 19,
    "start_time": "2024-07-11T06:37:32.246Z"
   },
   {
    "duration": 3,
    "start_time": "2024-07-11T06:38:55.078Z"
   },
   {
    "duration": 9,
    "start_time": "2024-07-11T06:38:58.502Z"
   },
   {
    "duration": 118,
    "start_time": "2024-07-11T06:39:02.638Z"
   },
   {
    "duration": 12,
    "start_time": "2024-07-11T06:39:05.444Z"
   },
   {
    "duration": 1051,
    "start_time": "2024-07-11T06:39:13.042Z"
   },
   {
    "duration": 70,
    "start_time": "2024-07-11T06:39:14.094Z"
   },
   {
    "duration": 3,
    "start_time": "2024-07-11T06:39:14.165Z"
   },
   {
    "duration": 18,
    "start_time": "2024-07-11T06:39:14.170Z"
   },
   {
    "duration": 10,
    "start_time": "2024-07-11T06:39:14.189Z"
   },
   {
    "duration": 9,
    "start_time": "2024-07-11T06:39:14.200Z"
   },
   {
    "duration": 19,
    "start_time": "2024-07-11T06:39:14.210Z"
   },
   {
    "duration": 6,
    "start_time": "2024-07-11T06:39:14.231Z"
   },
   {
    "duration": 12,
    "start_time": "2024-07-11T06:39:14.238Z"
   },
   {
    "duration": 8,
    "start_time": "2024-07-11T06:39:14.252Z"
   },
   {
    "duration": 6,
    "start_time": "2024-07-11T06:39:14.261Z"
   },
   {
    "duration": 8,
    "start_time": "2024-07-11T06:39:14.268Z"
   },
   {
    "duration": 5,
    "start_time": "2024-07-11T06:39:14.277Z"
   },
   {
    "duration": 19,
    "start_time": "2024-07-11T06:39:14.283Z"
   },
   {
    "duration": 19,
    "start_time": "2024-07-11T06:39:14.303Z"
   },
   {
    "duration": 26,
    "start_time": "2024-07-11T06:39:14.324Z"
   },
   {
    "duration": 4,
    "start_time": "2024-07-11T06:39:14.352Z"
   },
   {
    "duration": 5,
    "start_time": "2024-07-11T06:39:14.357Z"
   },
   {
    "duration": 6,
    "start_time": "2024-07-11T06:39:14.364Z"
   },
   {
    "duration": 176,
    "start_time": "2024-07-11T06:39:14.371Z"
   },
   {
    "duration": 6,
    "start_time": "2024-07-11T06:39:14.549Z"
   },
   {
    "duration": 7,
    "start_time": "2024-07-11T06:39:14.557Z"
   },
   {
    "duration": 309,
    "start_time": "2024-07-11T06:39:14.566Z"
   },
   {
    "duration": 7,
    "start_time": "2024-07-11T06:39:14.877Z"
   },
   {
    "duration": 20,
    "start_time": "2024-07-11T06:39:14.885Z"
   },
   {
    "duration": 375,
    "start_time": "2024-07-11T06:39:14.906Z"
   },
   {
    "duration": 7,
    "start_time": "2024-07-11T06:39:15.283Z"
   },
   {
    "duration": 175,
    "start_time": "2024-07-11T06:39:15.294Z"
   },
   {
    "duration": 15,
    "start_time": "2024-07-11T06:39:15.470Z"
   },
   {
    "duration": 31,
    "start_time": "2024-07-11T06:39:15.486Z"
   },
   {
    "duration": 18,
    "start_time": "2024-07-11T06:39:15.519Z"
   },
   {
    "duration": 260,
    "start_time": "2024-07-11T06:39:15.538Z"
   },
   {
    "duration": 26,
    "start_time": "2024-07-11T06:39:15.815Z"
   },
   {
    "duration": 11,
    "start_time": "2024-07-11T06:39:15.843Z"
   },
   {
    "duration": 96,
    "start_time": "2024-07-11T06:39:15.855Z"
   },
   {
    "duration": 318,
    "start_time": "2024-07-11T06:39:15.952Z"
   },
   {
    "duration": 1724,
    "start_time": "2024-07-11T06:39:16.271Z"
   },
   {
    "duration": 340,
    "start_time": "2024-07-11T06:39:17.996Z"
   },
   {
    "duration": 1743,
    "start_time": "2024-07-11T06:39:18.338Z"
   },
   {
    "duration": 4,
    "start_time": "2024-07-11T06:39:20.082Z"
   },
   {
    "duration": 4,
    "start_time": "2024-07-11T06:39:20.088Z"
   },
   {
    "duration": 56,
    "start_time": "2024-07-11T06:39:20.093Z"
   },
   {
    "duration": 7,
    "start_time": "2024-07-11T06:39:20.151Z"
   },
   {
    "duration": 11,
    "start_time": "2024-07-11T06:39:20.159Z"
   },
   {
    "duration": 11,
    "start_time": "2024-07-11T06:39:20.172Z"
   },
   {
    "duration": 3,
    "start_time": "2024-07-11T06:39:20.185Z"
   },
   {
    "duration": 245,
    "start_time": "2024-07-11T06:39:20.189Z"
   },
   {
    "duration": 10,
    "start_time": "2024-07-11T06:39:20.436Z"
   },
   {
    "duration": 11,
    "start_time": "2024-07-11T06:39:20.447Z"
   },
   {
    "duration": 69,
    "start_time": "2024-07-11T06:41:36.922Z"
   },
   {
    "duration": 9,
    "start_time": "2024-07-11T06:41:59.875Z"
   },
   {
    "duration": 18,
    "start_time": "2024-07-11T06:43:44.404Z"
   },
   {
    "duration": 11,
    "start_time": "2024-07-11T06:44:42.175Z"
   },
   {
    "duration": 11,
    "start_time": "2024-07-11T06:45:16.167Z"
   },
   {
    "duration": 12,
    "start_time": "2024-07-11T06:45:43.025Z"
   },
   {
    "duration": 12,
    "start_time": "2024-07-11T06:45:54.873Z"
   },
   {
    "duration": 155,
    "start_time": "2024-07-11T06:47:06.558Z"
   },
   {
    "duration": 156,
    "start_time": "2024-07-11T06:47:30.869Z"
   },
   {
    "duration": 162,
    "start_time": "2024-07-11T06:47:39.942Z"
   },
   {
    "duration": 231,
    "start_time": "2024-07-11T06:47:44.752Z"
   },
   {
    "duration": 152,
    "start_time": "2024-07-11T06:47:54.436Z"
   },
   {
    "duration": 119,
    "start_time": "2024-07-11T06:48:11.957Z"
   },
   {
    "duration": 126,
    "start_time": "2024-07-11T06:49:42.186Z"
   },
   {
    "duration": 113,
    "start_time": "2024-07-11T06:49:56.418Z"
   },
   {
    "duration": 141,
    "start_time": "2024-07-11T06:50:05.945Z"
   },
   {
    "duration": 124,
    "start_time": "2024-07-11T06:51:03.789Z"
   },
   {
    "duration": 126,
    "start_time": "2024-07-11T06:51:15.944Z"
   },
   {
    "duration": 336,
    "start_time": "2024-07-11T06:51:25.596Z"
   },
   {
    "duration": 1043,
    "start_time": "2024-07-11T06:51:35.349Z"
   },
   {
    "duration": 66,
    "start_time": "2024-07-11T06:51:36.393Z"
   },
   {
    "duration": 3,
    "start_time": "2024-07-11T06:51:36.460Z"
   },
   {
    "duration": 28,
    "start_time": "2024-07-11T06:51:36.464Z"
   },
   {
    "duration": 13,
    "start_time": "2024-07-11T06:51:36.495Z"
   },
   {
    "duration": 10,
    "start_time": "2024-07-11T06:51:36.509Z"
   },
   {
    "duration": 20,
    "start_time": "2024-07-11T06:51:36.520Z"
   },
   {
    "duration": 8,
    "start_time": "2024-07-11T06:51:36.543Z"
   },
   {
    "duration": 24,
    "start_time": "2024-07-11T06:51:36.553Z"
   },
   {
    "duration": 11,
    "start_time": "2024-07-11T06:51:36.579Z"
   },
   {
    "duration": 21,
    "start_time": "2024-07-11T06:51:36.592Z"
   },
   {
    "duration": 23,
    "start_time": "2024-07-11T06:51:36.614Z"
   },
   {
    "duration": 10,
    "start_time": "2024-07-11T06:51:36.638Z"
   },
   {
    "duration": 7,
    "start_time": "2024-07-11T06:51:36.651Z"
   },
   {
    "duration": 5,
    "start_time": "2024-07-11T06:51:36.659Z"
   },
   {
    "duration": 26,
    "start_time": "2024-07-11T06:51:36.666Z"
   },
   {
    "duration": 48,
    "start_time": "2024-07-11T06:51:36.693Z"
   },
   {
    "duration": 4,
    "start_time": "2024-07-11T06:51:36.742Z"
   },
   {
    "duration": 13,
    "start_time": "2024-07-11T06:51:36.748Z"
   },
   {
    "duration": 144,
    "start_time": "2024-07-11T06:51:36.762Z"
   },
   {
    "duration": 7,
    "start_time": "2024-07-11T06:51:36.907Z"
   },
   {
    "duration": 8,
    "start_time": "2024-07-11T06:51:36.915Z"
   },
   {
    "duration": 265,
    "start_time": "2024-07-11T06:51:36.924Z"
   },
   {
    "duration": 5,
    "start_time": "2024-07-11T06:51:37.191Z"
   },
   {
    "duration": 21,
    "start_time": "2024-07-11T06:51:37.197Z"
   },
   {
    "duration": 316,
    "start_time": "2024-07-11T06:51:37.219Z"
   },
   {
    "duration": 7,
    "start_time": "2024-07-11T06:51:37.537Z"
   },
   {
    "duration": 167,
    "start_time": "2024-07-11T06:51:37.545Z"
   },
   {
    "duration": 13,
    "start_time": "2024-07-11T06:51:37.713Z"
   },
   {
    "duration": 17,
    "start_time": "2024-07-11T06:51:37.728Z"
   },
   {
    "duration": 8,
    "start_time": "2024-07-11T06:51:37.746Z"
   },
   {
    "duration": 314,
    "start_time": "2024-07-11T06:51:37.755Z"
   },
   {
    "duration": 25,
    "start_time": "2024-07-11T06:51:38.071Z"
   },
   {
    "duration": 12,
    "start_time": "2024-07-11T06:51:38.111Z"
   },
   {
    "duration": 94,
    "start_time": "2024-07-11T06:51:38.125Z"
   },
   {
    "duration": 297,
    "start_time": "2024-07-11T06:51:38.221Z"
   },
   {
    "duration": 1593,
    "start_time": "2024-07-11T06:51:38.520Z"
   },
   {
    "duration": 349,
    "start_time": "2024-07-11T06:51:40.115Z"
   },
   {
    "duration": 1585,
    "start_time": "2024-07-11T06:51:40.466Z"
   },
   {
    "duration": 4,
    "start_time": "2024-07-11T06:51:42.052Z"
   },
   {
    "duration": 33,
    "start_time": "2024-07-11T06:51:42.059Z"
   },
   {
    "duration": 56,
    "start_time": "2024-07-11T06:51:42.093Z"
   },
   {
    "duration": 7,
    "start_time": "2024-07-11T06:51:42.151Z"
   },
   {
    "duration": 25,
    "start_time": "2024-07-11T06:51:42.159Z"
   },
   {
    "duration": 21,
    "start_time": "2024-07-11T06:51:42.185Z"
   },
   {
    "duration": 7,
    "start_time": "2024-07-11T06:51:42.207Z"
   },
   {
    "duration": 199,
    "start_time": "2024-07-11T06:51:42.216Z"
   },
   {
    "duration": 11,
    "start_time": "2024-07-11T06:51:42.416Z"
   },
   {
    "duration": 134,
    "start_time": "2024-07-11T06:51:42.428Z"
   },
   {
    "duration": 7,
    "start_time": "2024-07-11T06:52:34.159Z"
   },
   {
    "duration": 129,
    "start_time": "2024-07-11T06:52:47.400Z"
   },
   {
    "duration": 238,
    "start_time": "2024-07-11T06:53:20.018Z"
   },
   {
    "duration": 259,
    "start_time": "2024-07-11T06:53:26.286Z"
   },
   {
    "duration": 300,
    "start_time": "2024-07-11T06:54:36.262Z"
   },
   {
    "duration": 43,
    "start_time": "2024-07-11T11:08:31.608Z"
   },
   {
    "duration": 4,
    "start_time": "2024-07-11T11:08:39.110Z"
   },
   {
    "duration": 1153,
    "start_time": "2024-07-11T11:08:43.101Z"
   },
   {
    "duration": 194,
    "start_time": "2024-07-11T11:08:44.256Z"
   },
   {
    "duration": 3,
    "start_time": "2024-07-11T11:08:44.452Z"
   },
   {
    "duration": 25,
    "start_time": "2024-07-11T11:08:44.456Z"
   },
   {
    "duration": 9,
    "start_time": "2024-07-11T11:08:44.483Z"
   },
   {
    "duration": 22,
    "start_time": "2024-07-11T11:08:44.494Z"
   },
   {
    "duration": 9,
    "start_time": "2024-07-11T11:08:44.517Z"
   },
   {
    "duration": 5,
    "start_time": "2024-07-11T11:08:44.528Z"
   },
   {
    "duration": 9,
    "start_time": "2024-07-11T11:08:44.534Z"
   },
   {
    "duration": 6,
    "start_time": "2024-07-11T11:08:44.545Z"
   },
   {
    "duration": 8,
    "start_time": "2024-07-11T11:08:44.552Z"
   },
   {
    "duration": 13,
    "start_time": "2024-07-11T11:08:44.561Z"
   },
   {
    "duration": 5,
    "start_time": "2024-07-11T11:08:44.575Z"
   },
   {
    "duration": 5,
    "start_time": "2024-07-11T11:08:44.584Z"
   },
   {
    "duration": 10,
    "start_time": "2024-07-11T11:08:44.591Z"
   },
   {
    "duration": 35,
    "start_time": "2024-07-11T11:08:44.603Z"
   },
   {
    "duration": 19,
    "start_time": "2024-07-11T11:08:44.640Z"
   },
   {
    "duration": 9,
    "start_time": "2024-07-11T11:08:44.661Z"
   },
   {
    "duration": 8,
    "start_time": "2024-07-11T11:08:44.671Z"
   },
   {
    "duration": 137,
    "start_time": "2024-07-11T11:08:44.680Z"
   },
   {
    "duration": 6,
    "start_time": "2024-07-11T11:08:44.818Z"
   },
   {
    "duration": 18,
    "start_time": "2024-07-11T11:08:44.826Z"
   },
   {
    "duration": 289,
    "start_time": "2024-07-11T11:08:44.845Z"
   },
   {
    "duration": 22,
    "start_time": "2024-07-11T11:08:45.135Z"
   },
   {
    "duration": 6,
    "start_time": "2024-07-11T11:08:45.159Z"
   },
   {
    "duration": 369,
    "start_time": "2024-07-11T11:08:45.166Z"
   },
   {
    "duration": 6,
    "start_time": "2024-07-11T11:08:45.537Z"
   },
   {
    "duration": 162,
    "start_time": "2024-07-11T11:08:45.545Z"
   },
   {
    "duration": 12,
    "start_time": "2024-07-11T11:08:45.708Z"
   },
   {
    "duration": 19,
    "start_time": "2024-07-11T11:08:45.722Z"
   },
   {
    "duration": 6,
    "start_time": "2024-07-11T11:08:45.742Z"
   },
   {
    "duration": 252,
    "start_time": "2024-07-11T11:08:45.757Z"
   },
   {
    "duration": 23,
    "start_time": "2024-07-11T11:08:46.010Z"
   },
   {
    "duration": 28,
    "start_time": "2024-07-11T11:08:46.035Z"
   },
   {
    "duration": 66,
    "start_time": "2024-07-11T11:08:46.065Z"
   },
   {
    "duration": 277,
    "start_time": "2024-07-11T11:08:46.132Z"
   },
   {
    "duration": 1450,
    "start_time": "2024-07-11T11:08:46.411Z"
   },
   {
    "duration": 302,
    "start_time": "2024-07-11T11:08:47.863Z"
   },
   {
    "duration": 1460,
    "start_time": "2024-07-11T11:08:48.166Z"
   },
   {
    "duration": 4,
    "start_time": "2024-07-11T11:08:49.628Z"
   },
   {
    "duration": 8,
    "start_time": "2024-07-11T11:08:49.635Z"
   },
   {
    "duration": 43,
    "start_time": "2024-07-11T11:08:49.645Z"
   },
   {
    "duration": 7,
    "start_time": "2024-07-11T11:08:49.689Z"
   },
   {
    "duration": 10,
    "start_time": "2024-07-11T11:08:49.697Z"
   },
   {
    "duration": 10,
    "start_time": "2024-07-11T11:08:49.708Z"
   },
   {
    "duration": 3,
    "start_time": "2024-07-11T11:08:49.720Z"
   },
   {
    "duration": 195,
    "start_time": "2024-07-11T11:08:49.724Z"
   },
   {
    "duration": 10,
    "start_time": "2024-07-11T11:08:49.921Z"
   },
   {
    "duration": 251,
    "start_time": "2024-07-11T11:08:49.932Z"
   },
   {
    "duration": 6,
    "start_time": "2024-07-11T11:08:50.185Z"
   },
   {
    "duration": 13,
    "start_time": "2024-07-11T11:08:50.193Z"
   },
   {
    "duration": 26,
    "start_time": "2024-07-11T11:08:50.207Z"
   },
   {
    "duration": 14,
    "start_time": "2024-07-11T11:08:50.235Z"
   },
   {
    "duration": 22,
    "start_time": "2024-07-11T11:08:50.250Z"
   },
   {
    "duration": 1004,
    "start_time": "2024-07-11T11:10:29.708Z"
   },
   {
    "duration": 64,
    "start_time": "2024-07-11T11:10:30.714Z"
   },
   {
    "duration": 108,
    "start_time": "2024-07-11T11:10:30.779Z"
   },
   {
    "duration": 186,
    "start_time": "2024-07-11T11:10:30.889Z"
   },
   {
    "duration": 32,
    "start_time": "2024-07-11T11:10:31.076Z"
   },
   {
    "duration": 45,
    "start_time": "2024-07-11T11:10:31.109Z"
   },
   {
    "duration": 36,
    "start_time": "2024-07-11T11:10:31.156Z"
   },
   {
    "duration": 18,
    "start_time": "2024-07-11T11:10:31.194Z"
   },
   {
    "duration": 71,
    "start_time": "2024-07-11T11:10:31.214Z"
   },
   {
    "duration": 32,
    "start_time": "2024-07-11T11:10:31.288Z"
   },
   {
    "duration": 10,
    "start_time": "2024-07-11T11:10:31.321Z"
   },
   {
    "duration": 14,
    "start_time": "2024-07-11T11:10:31.332Z"
   },
   {
    "duration": 5,
    "start_time": "2024-07-11T11:10:31.347Z"
   },
   {
    "duration": 12,
    "start_time": "2024-07-11T11:10:31.353Z"
   },
   {
    "duration": 6,
    "start_time": "2024-07-11T11:10:31.367Z"
   },
   {
    "duration": 47,
    "start_time": "2024-07-11T11:10:31.374Z"
   },
   {
    "duration": 5,
    "start_time": "2024-07-11T11:10:31.425Z"
   },
   {
    "duration": 15,
    "start_time": "2024-07-11T11:10:31.431Z"
   },
   {
    "duration": 6,
    "start_time": "2024-07-11T11:10:31.448Z"
   },
   {
    "duration": 134,
    "start_time": "2024-07-11T11:10:31.455Z"
   },
   {
    "duration": 6,
    "start_time": "2024-07-11T11:10:31.590Z"
   },
   {
    "duration": 15,
    "start_time": "2024-07-11T11:10:31.597Z"
   },
   {
    "duration": 274,
    "start_time": "2024-07-11T11:10:31.613Z"
   },
   {
    "duration": 4,
    "start_time": "2024-07-11T11:10:31.889Z"
   },
   {
    "duration": 28,
    "start_time": "2024-07-11T11:10:31.894Z"
   },
   {
    "duration": 324,
    "start_time": "2024-07-11T11:10:31.924Z"
   },
   {
    "duration": 7,
    "start_time": "2024-07-11T11:10:32.256Z"
   },
   {
    "duration": 153,
    "start_time": "2024-07-11T11:10:32.266Z"
   },
   {
    "duration": 13,
    "start_time": "2024-07-11T11:10:32.421Z"
   },
   {
    "duration": 28,
    "start_time": "2024-07-11T11:10:32.436Z"
   },
   {
    "duration": 12,
    "start_time": "2024-07-11T11:10:32.465Z"
   },
   {
    "duration": 241,
    "start_time": "2024-07-11T11:10:32.479Z"
   },
   {
    "duration": 22,
    "start_time": "2024-07-11T11:10:32.721Z"
   },
   {
    "duration": 10,
    "start_time": "2024-07-11T11:10:32.757Z"
   },
   {
    "duration": 77,
    "start_time": "2024-07-11T11:10:32.768Z"
   },
   {
    "duration": 262,
    "start_time": "2024-07-11T11:10:32.847Z"
   },
   {
    "duration": 1459,
    "start_time": "2024-07-11T11:10:33.111Z"
   },
   {
    "duration": 303,
    "start_time": "2024-07-11T11:10:34.572Z"
   },
   {
    "duration": 1447,
    "start_time": "2024-07-11T11:10:34.876Z"
   },
   {
    "duration": 4,
    "start_time": "2024-07-11T11:10:36.324Z"
   },
   {
    "duration": 6,
    "start_time": "2024-07-11T11:10:36.329Z"
   },
   {
    "duration": 45,
    "start_time": "2024-07-11T11:10:36.336Z"
   },
   {
    "duration": 7,
    "start_time": "2024-07-11T11:10:36.382Z"
   },
   {
    "duration": 11,
    "start_time": "2024-07-11T11:10:36.390Z"
   },
   {
    "duration": 12,
    "start_time": "2024-07-11T11:10:36.403Z"
   },
   {
    "duration": 4,
    "start_time": "2024-07-11T11:10:36.416Z"
   },
   {
    "duration": 214,
    "start_time": "2024-07-11T11:10:36.421Z"
   },
   {
    "duration": 11,
    "start_time": "2024-07-11T11:10:36.636Z"
   },
   {
    "duration": 242,
    "start_time": "2024-07-11T11:10:36.649Z"
   },
   {
    "duration": 7,
    "start_time": "2024-07-11T11:10:36.892Z"
   },
   {
    "duration": 6,
    "start_time": "2024-07-11T11:10:36.900Z"
   },
   {
    "duration": 6,
    "start_time": "2024-07-11T11:10:36.908Z"
   },
   {
    "duration": 15,
    "start_time": "2024-07-11T11:10:36.915Z"
   },
   {
    "duration": 33,
    "start_time": "2024-07-11T11:10:36.931Z"
   },
   {
    "duration": 5,
    "start_time": "2024-07-11T11:12:02.154Z"
   },
   {
    "duration": 5,
    "start_time": "2024-07-11T11:13:02.406Z"
   },
   {
    "duration": 5,
    "start_time": "2024-07-11T11:16:15.690Z"
   },
   {
    "duration": 5,
    "start_time": "2024-07-11T11:16:18.697Z"
   },
   {
    "duration": 1019,
    "start_time": "2024-07-11T11:16:29.112Z"
   },
   {
    "duration": 64,
    "start_time": "2024-07-11T11:16:30.132Z"
   },
   {
    "duration": 13,
    "start_time": "2024-07-11T11:16:30.197Z"
   },
   {
    "duration": 87,
    "start_time": "2024-07-11T11:16:30.212Z"
   },
   {
    "duration": 41,
    "start_time": "2024-07-11T11:16:30.300Z"
   },
   {
    "duration": 44,
    "start_time": "2024-07-11T11:16:30.343Z"
   },
   {
    "duration": 43,
    "start_time": "2024-07-11T11:16:30.389Z"
   },
   {
    "duration": 40,
    "start_time": "2024-07-11T11:16:30.434Z"
   },
   {
    "duration": 39,
    "start_time": "2024-07-11T11:16:30.475Z"
   },
   {
    "duration": 41,
    "start_time": "2024-07-11T11:16:30.516Z"
   },
   {
    "duration": 46,
    "start_time": "2024-07-11T11:16:30.558Z"
   },
   {
    "duration": 53,
    "start_time": "2024-07-11T11:16:30.606Z"
   },
   {
    "duration": 34,
    "start_time": "2024-07-11T11:16:30.660Z"
   },
   {
    "duration": 38,
    "start_time": "2024-07-11T11:16:30.695Z"
   },
   {
    "duration": 43,
    "start_time": "2024-07-11T11:16:30.734Z"
   },
   {
    "duration": 61,
    "start_time": "2024-07-11T11:16:30.778Z"
   },
   {
    "duration": 27,
    "start_time": "2024-07-11T11:16:30.840Z"
   },
   {
    "duration": 44,
    "start_time": "2024-07-11T11:16:30.868Z"
   },
   {
    "duration": 41,
    "start_time": "2024-07-11T11:16:30.913Z"
   },
   {
    "duration": 161,
    "start_time": "2024-07-11T11:16:30.956Z"
   },
   {
    "duration": 6,
    "start_time": "2024-07-11T11:16:31.119Z"
   },
   {
    "duration": 56,
    "start_time": "2024-07-11T11:16:31.126Z"
   },
   {
    "duration": 217,
    "start_time": "2024-07-11T11:16:31.184Z"
   },
   {
    "duration": 5,
    "start_time": "2024-07-11T11:16:31.403Z"
   },
   {
    "duration": 31,
    "start_time": "2024-07-11T11:16:31.409Z"
   },
   {
    "duration": 310,
    "start_time": "2024-07-11T11:16:31.441Z"
   },
   {
    "duration": 8,
    "start_time": "2024-07-11T11:16:31.757Z"
   },
   {
    "duration": 171,
    "start_time": "2024-07-11T11:16:31.770Z"
   },
   {
    "duration": 15,
    "start_time": "2024-07-11T11:16:31.943Z"
   },
   {
    "duration": 30,
    "start_time": "2024-07-11T11:16:31.959Z"
   },
   {
    "duration": 7,
    "start_time": "2024-07-11T11:16:31.990Z"
   },
   {
    "duration": 224,
    "start_time": "2024-07-11T11:16:31.998Z"
   },
   {
    "duration": 53,
    "start_time": "2024-07-11T11:16:32.224Z"
   },
   {
    "duration": 10,
    "start_time": "2024-07-11T11:16:32.278Z"
   },
   {
    "duration": 83,
    "start_time": "2024-07-11T11:16:32.289Z"
   },
   {
    "duration": 285,
    "start_time": "2024-07-11T11:16:32.374Z"
   },
   {
    "duration": 1475,
    "start_time": "2024-07-11T11:16:32.661Z"
   },
   {
    "duration": 305,
    "start_time": "2024-07-11T11:16:34.137Z"
   },
   {
    "duration": 1464,
    "start_time": "2024-07-11T11:16:34.444Z"
   },
   {
    "duration": 4,
    "start_time": "2024-07-11T11:16:35.910Z"
   },
   {
    "duration": 9,
    "start_time": "2024-07-11T11:16:35.915Z"
   },
   {
    "duration": 49,
    "start_time": "2024-07-11T11:16:35.925Z"
   },
   {
    "duration": 7,
    "start_time": "2024-07-11T11:16:35.975Z"
   },
   {
    "duration": 20,
    "start_time": "2024-07-11T11:16:35.983Z"
   },
   {
    "duration": 11,
    "start_time": "2024-07-11T11:16:36.004Z"
   },
   {
    "duration": 3,
    "start_time": "2024-07-11T11:16:36.017Z"
   },
   {
    "duration": 194,
    "start_time": "2024-07-11T11:16:36.021Z"
   },
   {
    "duration": 11,
    "start_time": "2024-07-11T11:16:36.216Z"
   },
   {
    "duration": 254,
    "start_time": "2024-07-11T11:16:36.228Z"
   },
   {
    "duration": 6,
    "start_time": "2024-07-11T11:16:36.483Z"
   },
   {
    "duration": 34,
    "start_time": "2024-07-11T11:16:36.491Z"
   },
   {
    "duration": 6,
    "start_time": "2024-07-11T11:16:36.527Z"
   },
   {
    "duration": 22,
    "start_time": "2024-07-11T11:16:36.534Z"
   },
   {
    "duration": 14,
    "start_time": "2024-07-11T11:16:36.557Z"
   },
   {
    "duration": 6,
    "start_time": "2024-07-11T11:16:54.162Z"
   },
   {
    "duration": 6,
    "start_time": "2024-07-11T11:16:57.846Z"
   },
   {
    "duration": 8,
    "start_time": "2024-07-11T11:28:36.848Z"
   },
   {
    "duration": 4,
    "start_time": "2024-07-11T11:46:37.913Z"
   },
   {
    "duration": 5,
    "start_time": "2024-07-11T11:47:53.504Z"
   },
   {
    "duration": 1020,
    "start_time": "2024-07-11T11:57:59.003Z"
   },
   {
    "duration": 67,
    "start_time": "2024-07-11T11:58:00.025Z"
   },
   {
    "duration": 3,
    "start_time": "2024-07-11T11:58:00.093Z"
   },
   {
    "duration": 96,
    "start_time": "2024-07-11T11:58:00.097Z"
   },
   {
    "duration": 49,
    "start_time": "2024-07-11T11:58:00.195Z"
   },
   {
    "duration": 65,
    "start_time": "2024-07-11T11:58:00.246Z"
   },
   {
    "duration": 51,
    "start_time": "2024-07-11T11:58:00.312Z"
   },
   {
    "duration": 27,
    "start_time": "2024-07-11T11:58:00.365Z"
   },
   {
    "duration": 58,
    "start_time": "2024-07-11T11:58:00.393Z"
   },
   {
    "duration": 50,
    "start_time": "2024-07-11T11:58:00.454Z"
   },
   {
    "duration": 61,
    "start_time": "2024-07-11T11:58:00.505Z"
   },
   {
    "duration": 100,
    "start_time": "2024-07-11T11:58:00.568Z"
   },
   {
    "duration": 190,
    "start_time": "2024-07-11T11:58:00.670Z"
   },
   {
    "duration": 29,
    "start_time": "2024-07-11T11:58:00.861Z"
   },
   {
    "duration": 55,
    "start_time": "2024-07-11T11:58:00.891Z"
   },
   {
    "duration": 61,
    "start_time": "2024-07-11T11:58:00.948Z"
   },
   {
    "duration": 29,
    "start_time": "2024-07-11T11:58:01.012Z"
   },
   {
    "duration": 36,
    "start_time": "2024-07-11T11:58:01.042Z"
   },
   {
    "duration": 46,
    "start_time": "2024-07-11T11:58:01.080Z"
   },
   {
    "duration": 179,
    "start_time": "2024-07-11T11:58:01.127Z"
   },
   {
    "duration": 15,
    "start_time": "2024-07-11T11:58:01.308Z"
   },
   {
    "duration": 30,
    "start_time": "2024-07-11T11:58:01.324Z"
   },
   {
    "duration": 266,
    "start_time": "2024-07-11T11:58:01.355Z"
   },
   {
    "duration": 5,
    "start_time": "2024-07-11T11:58:01.622Z"
   },
   {
    "duration": 26,
    "start_time": "2024-07-11T11:58:01.629Z"
   },
   {
    "duration": 321,
    "start_time": "2024-07-11T11:58:01.656Z"
   },
   {
    "duration": 7,
    "start_time": "2024-07-11T11:58:01.978Z"
   },
   {
    "duration": 170,
    "start_time": "2024-07-11T11:58:01.989Z"
   },
   {
    "duration": 12,
    "start_time": "2024-07-11T11:58:02.160Z"
   },
   {
    "duration": 26,
    "start_time": "2024-07-11T11:58:02.174Z"
   },
   {
    "duration": 13,
    "start_time": "2024-07-11T11:58:02.202Z"
   },
   {
    "duration": 284,
    "start_time": "2024-07-11T11:58:02.216Z"
   },
   {
    "duration": 24,
    "start_time": "2024-07-11T11:58:02.502Z"
   },
   {
    "duration": 30,
    "start_time": "2024-07-11T11:58:02.527Z"
   },
   {
    "duration": 86,
    "start_time": "2024-07-11T11:58:02.559Z"
   },
   {
    "duration": 299,
    "start_time": "2024-07-11T11:58:02.646Z"
   },
   {
    "duration": 1534,
    "start_time": "2024-07-11T11:58:02.946Z"
   },
   {
    "duration": 329,
    "start_time": "2024-07-11T11:58:04.482Z"
   },
   {
    "duration": 1524,
    "start_time": "2024-07-11T11:58:04.812Z"
   },
   {
    "duration": 4,
    "start_time": "2024-07-11T11:58:06.338Z"
   },
   {
    "duration": 13,
    "start_time": "2024-07-11T11:58:06.344Z"
   },
   {
    "duration": 36,
    "start_time": "2024-07-11T11:58:06.359Z"
   },
   {
    "duration": 7,
    "start_time": "2024-07-11T11:58:06.396Z"
   },
   {
    "duration": 10,
    "start_time": "2024-07-11T11:58:06.405Z"
   },
   {
    "duration": 17,
    "start_time": "2024-07-11T11:58:06.416Z"
   },
   {
    "duration": 3,
    "start_time": "2024-07-11T11:58:06.457Z"
   },
   {
    "duration": 196,
    "start_time": "2024-07-11T11:58:06.461Z"
   },
   {
    "duration": 8,
    "start_time": "2024-07-11T11:58:06.659Z"
   },
   {
    "duration": 234,
    "start_time": "2024-07-11T11:58:06.668Z"
   },
   {
    "duration": 6,
    "start_time": "2024-07-11T11:58:06.903Z"
   },
   {
    "duration": 7,
    "start_time": "2024-07-11T11:58:06.911Z"
   },
   {
    "duration": 4,
    "start_time": "2024-07-11T11:58:06.920Z"
   },
   {
    "duration": 852,
    "start_time": "2024-07-11T11:58:06.925Z"
   },
   {
    "duration": 752,
    "start_time": "2024-07-11T11:58:43.864Z"
   },
   {
    "duration": 16,
    "start_time": "2024-07-11T11:58:52.066Z"
   },
   {
    "duration": 3,
    "start_time": "2024-07-11T11:59:11.295Z"
   },
   {
    "duration": 5,
    "start_time": "2024-07-11T11:59:50.880Z"
   },
   {
    "duration": 5,
    "start_time": "2024-07-11T12:01:08.425Z"
   },
   {
    "duration": 5,
    "start_time": "2024-07-11T12:01:12.866Z"
   },
   {
    "duration": 4,
    "start_time": "2024-07-11T12:03:54.431Z"
   },
   {
    "duration": 4,
    "start_time": "2024-07-11T12:04:01.436Z"
   },
   {
    "duration": 5,
    "start_time": "2024-07-11T12:06:40.120Z"
   },
   {
    "duration": 4,
    "start_time": "2024-07-11T12:11:11.354Z"
   },
   {
    "duration": 10,
    "start_time": "2024-07-11T12:17:47.700Z"
   },
   {
    "duration": 13,
    "start_time": "2024-07-11T12:17:51.839Z"
   },
   {
    "duration": 11,
    "start_time": "2024-07-11T12:18:16.429Z"
   },
   {
    "duration": 21,
    "start_time": "2024-07-11T12:18:25.629Z"
   },
   {
    "duration": 13,
    "start_time": "2024-07-11T12:18:38.900Z"
   },
   {
    "duration": 9,
    "start_time": "2024-07-11T12:18:46.255Z"
   },
   {
    "duration": 1064,
    "start_time": "2024-07-11T12:18:51.766Z"
   },
   {
    "duration": 66,
    "start_time": "2024-07-11T12:18:52.831Z"
   },
   {
    "duration": 3,
    "start_time": "2024-07-11T12:18:52.898Z"
   },
   {
    "duration": 33,
    "start_time": "2024-07-11T12:18:52.903Z"
   },
   {
    "duration": 13,
    "start_time": "2024-07-11T12:18:52.938Z"
   },
   {
    "duration": 21,
    "start_time": "2024-07-11T12:18:52.953Z"
   },
   {
    "duration": 14,
    "start_time": "2024-07-11T12:18:52.976Z"
   },
   {
    "duration": 6,
    "start_time": "2024-07-11T12:18:52.991Z"
   },
   {
    "duration": 16,
    "start_time": "2024-07-11T12:18:52.998Z"
   },
   {
    "duration": 27,
    "start_time": "2024-07-11T12:18:53.016Z"
   },
   {
    "duration": 3,
    "start_time": "2024-07-11T12:18:53.045Z"
   },
   {
    "duration": 19,
    "start_time": "2024-07-11T12:18:53.049Z"
   },
   {
    "duration": 4,
    "start_time": "2024-07-11T12:18:53.070Z"
   },
   {
    "duration": 5,
    "start_time": "2024-07-11T12:18:53.075Z"
   },
   {
    "duration": 5,
    "start_time": "2024-07-11T12:18:53.081Z"
   },
   {
    "duration": 26,
    "start_time": "2024-07-11T12:18:53.087Z"
   },
   {
    "duration": 3,
    "start_time": "2024-07-11T12:18:53.115Z"
   },
   {
    "duration": 6,
    "start_time": "2024-07-11T12:18:53.119Z"
   },
   {
    "duration": 34,
    "start_time": "2024-07-11T12:18:53.126Z"
   },
   {
    "duration": 139,
    "start_time": "2024-07-11T12:18:53.161Z"
   },
   {
    "duration": 6,
    "start_time": "2024-07-11T12:18:53.302Z"
   },
   {
    "duration": 24,
    "start_time": "2024-07-11T12:18:53.309Z"
   },
   {
    "duration": 265,
    "start_time": "2024-07-11T12:18:53.334Z"
   },
   {
    "duration": 4,
    "start_time": "2024-07-11T12:18:53.600Z"
   },
   {
    "duration": 12,
    "start_time": "2024-07-11T12:18:53.605Z"
   },
   {
    "duration": 366,
    "start_time": "2024-07-11T12:18:53.618Z"
   },
   {
    "duration": 7,
    "start_time": "2024-07-11T12:18:53.986Z"
   },
   {
    "duration": 169,
    "start_time": "2024-07-11T12:18:53.997Z"
   },
   {
    "duration": 18,
    "start_time": "2024-07-11T12:18:54.168Z"
   },
   {
    "duration": 26,
    "start_time": "2024-07-11T12:18:54.188Z"
   },
   {
    "duration": 7,
    "start_time": "2024-07-11T12:18:54.216Z"
   },
   {
    "duration": 289,
    "start_time": "2024-07-11T12:18:54.225Z"
   },
   {
    "duration": 22,
    "start_time": "2024-07-11T12:18:54.516Z"
   },
   {
    "duration": 24,
    "start_time": "2024-07-11T12:18:54.540Z"
   },
   {
    "duration": 68,
    "start_time": "2024-07-11T12:18:54.566Z"
   },
   {
    "duration": 283,
    "start_time": "2024-07-11T12:18:54.635Z"
   },
   {
    "duration": 1528,
    "start_time": "2024-07-11T12:18:54.919Z"
   },
   {
    "duration": 303,
    "start_time": "2024-07-11T12:18:56.449Z"
   },
   {
    "duration": 1468,
    "start_time": "2024-07-11T12:18:56.753Z"
   },
   {
    "duration": 5,
    "start_time": "2024-07-11T12:18:58.222Z"
   },
   {
    "duration": 16,
    "start_time": "2024-07-11T12:18:58.228Z"
   },
   {
    "duration": 40,
    "start_time": "2024-07-11T12:18:58.245Z"
   },
   {
    "duration": 6,
    "start_time": "2024-07-11T12:18:58.287Z"
   },
   {
    "duration": 30,
    "start_time": "2024-07-11T12:18:58.295Z"
   },
   {
    "duration": 21,
    "start_time": "2024-07-11T12:18:58.327Z"
   },
   {
    "duration": 4,
    "start_time": "2024-07-11T12:18:58.349Z"
   },
   {
    "duration": 201,
    "start_time": "2024-07-11T12:18:58.354Z"
   },
   {
    "duration": 9,
    "start_time": "2024-07-11T12:18:58.556Z"
   },
   {
    "duration": 228,
    "start_time": "2024-07-11T12:18:58.566Z"
   },
   {
    "duration": 7,
    "start_time": "2024-07-11T12:18:58.795Z"
   },
   {
    "duration": 8,
    "start_time": "2024-07-11T12:18:58.803Z"
   },
   {
    "duration": 16,
    "start_time": "2024-07-11T12:18:58.812Z"
   },
   {
    "duration": 14,
    "start_time": "2024-07-11T12:18:58.829Z"
   },
   {
    "duration": 21,
    "start_time": "2024-07-11T12:18:58.844Z"
   },
   {
    "duration": 14,
    "start_time": "2024-07-11T12:19:48.253Z"
   },
   {
    "duration": 8,
    "start_time": "2024-07-11T12:20:01.250Z"
   },
   {
    "duration": 10,
    "start_time": "2024-07-11T12:20:30.646Z"
   },
   {
    "duration": 98,
    "start_time": "2024-07-11T12:20:50.287Z"
   },
   {
    "duration": 4,
    "start_time": "2024-07-11T12:20:55.151Z"
   },
   {
    "duration": 5,
    "start_time": "2024-07-11T12:20:56.304Z"
   },
   {
    "duration": 5,
    "start_time": "2024-07-11T12:48:50.331Z"
   },
   {
    "duration": 2,
    "start_time": "2024-07-11T13:29:49.625Z"
   },
   {
    "duration": 1051,
    "start_time": "2024-07-11T13:30:05.908Z"
   },
   {
    "duration": 64,
    "start_time": "2024-07-11T13:30:06.960Z"
   },
   {
    "duration": 3,
    "start_time": "2024-07-11T13:30:07.025Z"
   },
   {
    "duration": 13,
    "start_time": "2024-07-11T13:30:07.030Z"
   },
   {
    "duration": 9,
    "start_time": "2024-07-11T13:30:07.044Z"
   },
   {
    "duration": 19,
    "start_time": "2024-07-11T13:30:07.055Z"
   },
   {
    "duration": 14,
    "start_time": "2024-07-11T13:30:07.075Z"
   },
   {
    "duration": 7,
    "start_time": "2024-07-11T13:30:07.090Z"
   },
   {
    "duration": 17,
    "start_time": "2024-07-11T13:30:07.099Z"
   },
   {
    "duration": 19,
    "start_time": "2024-07-11T13:30:07.119Z"
   },
   {
    "duration": 5,
    "start_time": "2024-07-11T13:30:07.139Z"
   },
   {
    "duration": 9,
    "start_time": "2024-07-11T13:30:07.145Z"
   },
   {
    "duration": 10,
    "start_time": "2024-07-11T13:30:07.156Z"
   },
   {
    "duration": 8,
    "start_time": "2024-07-11T13:30:07.168Z"
   },
   {
    "duration": 5,
    "start_time": "2024-07-11T13:30:07.178Z"
   },
   {
    "duration": 19,
    "start_time": "2024-07-11T13:30:07.184Z"
   },
   {
    "duration": 4,
    "start_time": "2024-07-11T13:30:07.209Z"
   },
   {
    "duration": 18,
    "start_time": "2024-07-11T13:30:07.214Z"
   },
   {
    "duration": 11,
    "start_time": "2024-07-11T13:30:07.233Z"
   },
   {
    "duration": 140,
    "start_time": "2024-07-11T13:30:07.258Z"
   },
   {
    "duration": 6,
    "start_time": "2024-07-11T13:30:07.400Z"
   },
   {
    "duration": 14,
    "start_time": "2024-07-11T13:30:07.407Z"
   },
   {
    "duration": 264,
    "start_time": "2024-07-11T13:30:07.422Z"
   },
   {
    "duration": 5,
    "start_time": "2024-07-11T13:30:07.687Z"
   },
   {
    "duration": 11,
    "start_time": "2024-07-11T13:30:07.693Z"
   },
   {
    "duration": 337,
    "start_time": "2024-07-11T13:30:07.706Z"
   },
   {
    "duration": 14,
    "start_time": "2024-07-11T13:30:08.044Z"
   },
   {
    "duration": 155,
    "start_time": "2024-07-11T13:30:08.061Z"
   },
   {
    "duration": 13,
    "start_time": "2024-07-11T13:30:08.217Z"
   },
   {
    "duration": 12,
    "start_time": "2024-07-11T13:30:08.231Z"
   },
   {
    "duration": 17,
    "start_time": "2024-07-11T13:30:08.245Z"
   },
   {
    "duration": 271,
    "start_time": "2024-07-11T13:30:08.263Z"
   },
   {
    "duration": 33,
    "start_time": "2024-07-11T13:30:08.536Z"
   },
   {
    "duration": 11,
    "start_time": "2024-07-11T13:30:08.571Z"
   },
   {
    "duration": 80,
    "start_time": "2024-07-11T13:30:08.583Z"
   },
   {
    "duration": 269,
    "start_time": "2024-07-11T13:30:08.664Z"
   },
   {
    "duration": 1505,
    "start_time": "2024-07-11T13:30:08.934Z"
   },
   {
    "duration": 304,
    "start_time": "2024-07-11T13:30:10.440Z"
   },
   {
    "duration": 1452,
    "start_time": "2024-07-11T13:30:10.745Z"
   },
   {
    "duration": 4,
    "start_time": "2024-07-11T13:30:12.198Z"
   },
   {
    "duration": 20,
    "start_time": "2024-07-11T13:30:12.203Z"
   },
   {
    "duration": 36,
    "start_time": "2024-07-11T13:30:12.224Z"
   },
   {
    "duration": 6,
    "start_time": "2024-07-11T13:30:12.262Z"
   },
   {
    "duration": 15,
    "start_time": "2024-07-11T13:30:12.269Z"
   },
   {
    "duration": 22,
    "start_time": "2024-07-11T13:30:12.285Z"
   },
   {
    "duration": 3,
    "start_time": "2024-07-11T13:30:12.309Z"
   },
   {
    "duration": 195,
    "start_time": "2024-07-11T13:30:12.314Z"
   },
   {
    "duration": 10,
    "start_time": "2024-07-11T13:30:12.510Z"
   },
   {
    "duration": 262,
    "start_time": "2024-07-11T13:30:12.522Z"
   },
   {
    "duration": 7,
    "start_time": "2024-07-11T13:30:12.785Z"
   },
   {
    "duration": 8,
    "start_time": "2024-07-11T13:30:12.793Z"
   },
   {
    "duration": 7,
    "start_time": "2024-07-11T13:30:12.802Z"
   },
   {
    "duration": 4,
    "start_time": "2024-07-11T13:30:12.810Z"
   },
   {
    "duration": 8,
    "start_time": "2024-07-11T13:30:12.815Z"
   },
   {
    "duration": 4,
    "start_time": "2024-07-11T13:30:12.824Z"
   },
   {
    "duration": 30,
    "start_time": "2024-07-11T13:30:12.830Z"
   },
   {
    "duration": 4,
    "start_time": "2024-07-11T13:30:24.986Z"
   },
   {
    "duration": 186,
    "start_time": "2024-07-11T13:32:45.279Z"
   },
   {
    "duration": 1113,
    "start_time": "2024-07-11T13:33:32.624Z"
   },
   {
    "duration": 156,
    "start_time": "2024-07-11T13:35:18.102Z"
   },
   {
    "duration": 305,
    "start_time": "2024-07-11T13:35:28.310Z"
   },
   {
    "duration": 1129,
    "start_time": "2024-07-11T13:35:37.277Z"
   },
   {
    "duration": 158,
    "start_time": "2024-07-11T13:37:47.734Z"
   },
   {
    "duration": 74,
    "start_time": "2024-07-11T13:38:00.663Z"
   },
   {
    "duration": 237,
    "start_time": "2024-07-11T13:38:05.115Z"
   },
   {
    "duration": 233,
    "start_time": "2024-07-11T13:38:08.904Z"
   },
   {
    "duration": 246,
    "start_time": "2024-07-11T13:38:30.109Z"
   },
   {
    "duration": 133,
    "start_time": "2024-07-11T13:39:19.941Z"
   },
   {
    "duration": 347,
    "start_time": "2024-07-11T13:39:39.433Z"
   },
   {
    "duration": 182,
    "start_time": "2024-07-11T13:39:43.527Z"
   },
   {
    "duration": 178,
    "start_time": "2024-07-11T13:39:50.478Z"
   },
   {
    "duration": 79,
    "start_time": "2024-07-11T13:40:12.474Z"
   },
   {
    "duration": 103,
    "start_time": "2024-07-11T13:40:15.556Z"
   },
   {
    "duration": 1197,
    "start_time": "2024-07-11T13:40:28.105Z"
   },
   {
    "duration": 12,
    "start_time": "2024-07-11T13:41:23.219Z"
   },
   {
    "duration": 9,
    "start_time": "2024-07-11T13:41:49.472Z"
   },
   {
    "duration": 64,
    "start_time": "2024-07-11T13:43:04.744Z"
   },
   {
    "duration": 1237,
    "start_time": "2024-07-11T13:43:18.891Z"
   },
   {
    "duration": 46,
    "start_time": "2024-07-11T13:45:07.264Z"
   },
   {
    "duration": 49,
    "start_time": "2024-07-11T13:45:21.416Z"
   },
   {
    "duration": 41,
    "start_time": "2024-07-11T13:45:29.928Z"
   },
   {
    "duration": 40,
    "start_time": "2024-07-11T13:45:32.192Z"
   },
   {
    "duration": 1228,
    "start_time": "2024-07-11T13:45:34.892Z"
   },
   {
    "duration": 1260,
    "start_time": "2024-07-11T13:46:15.950Z"
   },
   {
    "duration": 3,
    "start_time": "2024-07-11T13:47:41.455Z"
   },
   {
    "duration": 40,
    "start_time": "2024-07-11T13:49:49.972Z"
   },
   {
    "duration": 45,
    "start_time": "2024-07-11T13:51:16.549Z"
   },
   {
    "duration": 1237,
    "start_time": "2024-07-11T13:54:31.348Z"
   },
   {
    "duration": 83,
    "start_time": "2024-07-11T14:04:27.865Z"
   },
   {
    "duration": 78,
    "start_time": "2024-07-11T14:24:55.062Z"
   },
   {
    "duration": 1276,
    "start_time": "2024-07-11T14:25:06.640Z"
   },
   {
    "duration": 44,
    "start_time": "2024-07-11T14:25:12.112Z"
   },
   {
    "duration": 220,
    "start_time": "2024-07-11T14:25:35.337Z"
   },
   {
    "duration": 42,
    "start_time": "2024-07-11T14:25:47.218Z"
   },
   {
    "duration": 41,
    "start_time": "2024-07-11T14:25:59.936Z"
   },
   {
    "duration": 64,
    "start_time": "2024-07-11T14:26:27.184Z"
   },
   {
    "duration": 83,
    "start_time": "2024-07-11T14:26:34.616Z"
   },
   {
    "duration": 40,
    "start_time": "2024-07-11T14:26:43.905Z"
   },
   {
    "duration": 41,
    "start_time": "2024-07-11T14:27:05.033Z"
   },
   {
    "duration": 124,
    "start_time": "2024-07-11T14:27:14.238Z"
   },
   {
    "duration": 44,
    "start_time": "2024-07-11T14:28:30.403Z"
   },
   {
    "duration": 42,
    "start_time": "2024-07-11T14:31:35.912Z"
   },
   {
    "duration": 39,
    "start_time": "2024-07-11T14:32:17.749Z"
   },
   {
    "duration": 75,
    "start_time": "2024-07-11T14:34:42.780Z"
   },
   {
    "duration": 133,
    "start_time": "2024-07-11T16:01:06.469Z"
   },
   {
    "duration": 2538,
    "start_time": "2024-07-11T16:01:13.849Z"
   },
   {
    "duration": 2805,
    "start_time": "2024-07-11T16:01:28.763Z"
   },
   {
    "duration": 390,
    "start_time": "2024-07-11T16:01:40.610Z"
   },
   {
    "duration": 2573,
    "start_time": "2024-07-11T16:01:49.977Z"
   },
   {
    "duration": 622,
    "start_time": "2024-07-11T16:02:30.179Z"
   },
   {
    "duration": 14948,
    "start_time": "2024-07-11T16:03:51.358Z"
   },
   {
    "duration": 267,
    "start_time": "2024-07-11T16:04:25.174Z"
   },
   {
    "duration": 222,
    "start_time": "2024-07-11T16:04:53.849Z"
   },
   {
    "duration": 322,
    "start_time": "2024-07-11T16:05:38.897Z"
   },
   {
    "duration": 406,
    "start_time": "2024-07-11T16:05:51.237Z"
   },
   {
    "duration": 371,
    "start_time": "2024-07-11T16:05:54.924Z"
   },
   {
    "duration": 872,
    "start_time": "2024-07-11T16:06:10.545Z"
   },
   {
    "duration": 466,
    "start_time": "2024-07-11T16:06:16.037Z"
   },
   {
    "duration": 229,
    "start_time": "2024-07-11T16:06:30.891Z"
   },
   {
    "duration": 146,
    "start_time": "2024-07-11T16:06:55.937Z"
   },
   {
    "duration": 108,
    "start_time": "2024-07-11T16:07:04.679Z"
   },
   {
    "duration": 135,
    "start_time": "2024-07-11T16:07:08.177Z"
   },
   {
    "duration": 1189,
    "start_time": "2024-07-11T16:08:56.997Z"
   },
   {
    "duration": 6,
    "start_time": "2024-07-11T16:09:27.196Z"
   },
   {
    "duration": 4,
    "start_time": "2024-07-11T16:09:45.945Z"
   },
   {
    "duration": 4,
    "start_time": "2024-07-11T16:10:07.028Z"
   },
   {
    "duration": 1176,
    "start_time": "2024-07-11T16:13:51.896Z"
   },
   {
    "duration": 1683,
    "start_time": "2024-07-11T16:14:01.517Z"
   },
   {
    "duration": 1684,
    "start_time": "2024-07-11T16:14:12.668Z"
   },
   {
    "duration": 1951,
    "start_time": "2024-07-11T16:14:26.136Z"
   },
   {
    "duration": 4,
    "start_time": "2024-07-11T16:16:13.465Z"
   },
   {
    "duration": 1044,
    "start_time": "2024-07-11T16:16:19.087Z"
   },
   {
    "duration": 67,
    "start_time": "2024-07-11T16:16:20.133Z"
   },
   {
    "duration": 3,
    "start_time": "2024-07-11T16:16:20.201Z"
   },
   {
    "duration": 15,
    "start_time": "2024-07-11T16:16:20.206Z"
   },
   {
    "duration": 10,
    "start_time": "2024-07-11T16:16:20.223Z"
   },
   {
    "duration": 26,
    "start_time": "2024-07-11T16:16:20.234Z"
   },
   {
    "duration": 60,
    "start_time": "2024-07-11T16:16:20.261Z"
   },
   {
    "duration": 12,
    "start_time": "2024-07-11T16:16:20.323Z"
   },
   {
    "duration": 8,
    "start_time": "2024-07-11T16:16:20.337Z"
   },
   {
    "duration": 11,
    "start_time": "2024-07-11T16:16:20.346Z"
   },
   {
    "duration": 5,
    "start_time": "2024-07-11T16:16:20.359Z"
   },
   {
    "duration": 11,
    "start_time": "2024-07-11T16:16:20.365Z"
   },
   {
    "duration": 44,
    "start_time": "2024-07-11T16:16:20.377Z"
   },
   {
    "duration": 9,
    "start_time": "2024-07-11T16:16:20.423Z"
   },
   {
    "duration": 6,
    "start_time": "2024-07-11T16:16:20.433Z"
   },
   {
    "duration": 9,
    "start_time": "2024-07-11T16:16:20.440Z"
   },
   {
    "duration": 4,
    "start_time": "2024-07-11T16:16:20.460Z"
   },
   {
    "duration": 8,
    "start_time": "2024-07-11T16:16:20.465Z"
   },
   {
    "duration": 6,
    "start_time": "2024-07-11T16:16:20.475Z"
   },
   {
    "duration": 150,
    "start_time": "2024-07-11T16:16:20.482Z"
   },
   {
    "duration": 6,
    "start_time": "2024-07-11T16:16:20.634Z"
   },
   {
    "duration": 18,
    "start_time": "2024-07-11T16:16:20.641Z"
   },
   {
    "duration": 247,
    "start_time": "2024-07-11T16:16:20.661Z"
   },
   {
    "duration": 4,
    "start_time": "2024-07-11T16:16:20.910Z"
   },
   {
    "duration": 8,
    "start_time": "2024-07-11T16:16:20.916Z"
   },
   {
    "duration": 321,
    "start_time": "2024-07-11T16:16:20.925Z"
   },
   {
    "duration": 16,
    "start_time": "2024-07-11T16:16:21.247Z"
   },
   {
    "duration": 157,
    "start_time": "2024-07-11T16:16:21.264Z"
   },
   {
    "duration": 11,
    "start_time": "2024-07-11T16:16:21.422Z"
   },
   {
    "duration": 13,
    "start_time": "2024-07-11T16:16:21.434Z"
   },
   {
    "duration": 12,
    "start_time": "2024-07-11T16:16:21.448Z"
   },
   {
    "duration": 255,
    "start_time": "2024-07-11T16:16:21.462Z"
   },
   {
    "duration": 22,
    "start_time": "2024-07-11T16:16:21.719Z"
   },
   {
    "duration": 23,
    "start_time": "2024-07-11T16:16:21.742Z"
   },
   {
    "duration": 70,
    "start_time": "2024-07-11T16:16:21.766Z"
   },
   {
    "duration": 292,
    "start_time": "2024-07-11T16:16:21.837Z"
   },
   {
    "duration": 1567,
    "start_time": "2024-07-11T16:16:22.131Z"
   },
   {
    "duration": 315,
    "start_time": "2024-07-11T16:16:23.699Z"
   },
   {
    "duration": 1556,
    "start_time": "2024-07-11T16:16:24.015Z"
   },
   {
    "duration": 4,
    "start_time": "2024-07-11T16:16:25.573Z"
   },
   {
    "duration": 6,
    "start_time": "2024-07-11T16:16:25.582Z"
   },
   {
    "duration": 41,
    "start_time": "2024-07-11T16:16:25.589Z"
   },
   {
    "duration": 7,
    "start_time": "2024-07-11T16:16:25.631Z"
   },
   {
    "duration": 33,
    "start_time": "2024-07-11T16:16:25.639Z"
   },
   {
    "duration": 18,
    "start_time": "2024-07-11T16:16:25.673Z"
   },
   {
    "duration": 8,
    "start_time": "2024-07-11T16:16:25.692Z"
   },
   {
    "duration": 214,
    "start_time": "2024-07-11T16:16:25.702Z"
   },
   {
    "duration": 11,
    "start_time": "2024-07-11T16:16:25.917Z"
   },
   {
    "duration": 264,
    "start_time": "2024-07-11T16:16:25.929Z"
   },
   {
    "duration": 7,
    "start_time": "2024-07-11T16:16:26.195Z"
   },
   {
    "duration": 6,
    "start_time": "2024-07-11T16:16:26.204Z"
   },
   {
    "duration": 5,
    "start_time": "2024-07-11T16:16:26.211Z"
   },
   {
    "duration": 6,
    "start_time": "2024-07-11T16:16:26.217Z"
   },
   {
    "duration": 38,
    "start_time": "2024-07-11T16:16:26.224Z"
   },
   {
    "duration": 4,
    "start_time": "2024-07-11T16:16:26.263Z"
   },
   {
    "duration": 15,
    "start_time": "2024-07-11T16:16:26.268Z"
   },
   {
    "duration": 1511,
    "start_time": "2024-07-11T16:16:26.285Z"
   },
   {
    "duration": 3,
    "start_time": "2024-07-11T16:16:27.797Z"
   },
   {
    "duration": 1331,
    "start_time": "2024-07-11T21:25:28.620Z"
   },
   {
    "duration": 305,
    "start_time": "2024-07-11T21:25:29.953Z"
   },
   {
    "duration": 3,
    "start_time": "2024-07-11T21:25:30.260Z"
   },
   {
    "duration": 31,
    "start_time": "2024-07-11T21:25:30.265Z"
   },
   {
    "duration": 33,
    "start_time": "2024-07-11T21:25:30.298Z"
   },
   {
    "duration": 65,
    "start_time": "2024-07-11T21:25:30.332Z"
   },
   {
    "duration": 84,
    "start_time": "2024-07-11T21:25:30.399Z"
   },
   {
    "duration": 29,
    "start_time": "2024-07-11T21:25:30.484Z"
   },
   {
    "duration": 105,
    "start_time": "2024-07-11T21:25:30.514Z"
   },
   {
    "duration": 134,
    "start_time": "2024-07-11T21:25:30.621Z"
   },
   {
    "duration": 324,
    "start_time": "2024-07-11T21:25:30.757Z"
   },
   {
    "duration": 79,
    "start_time": "2024-07-11T21:25:31.082Z"
   },
   {
    "duration": 68,
    "start_time": "2024-07-11T21:25:31.163Z"
   },
   {
    "duration": 16,
    "start_time": "2024-07-11T21:25:31.234Z"
   },
   {
    "duration": 25,
    "start_time": "2024-07-11T21:25:31.252Z"
   },
   {
    "duration": 31,
    "start_time": "2024-07-11T21:25:31.279Z"
   },
   {
    "duration": 28,
    "start_time": "2024-07-11T21:25:31.312Z"
   },
   {
    "duration": 21,
    "start_time": "2024-07-11T21:25:31.342Z"
   },
   {
    "duration": 78,
    "start_time": "2024-07-11T21:25:31.365Z"
   },
   {
    "duration": 202,
    "start_time": "2024-07-11T21:25:31.445Z"
   },
   {
    "duration": 6,
    "start_time": "2024-07-11T21:25:31.649Z"
   },
   {
    "duration": 11,
    "start_time": "2024-07-11T21:25:31.657Z"
   },
   {
    "duration": 351,
    "start_time": "2024-07-11T21:25:31.669Z"
   },
   {
    "duration": 5,
    "start_time": "2024-07-11T21:25:32.021Z"
   },
   {
    "duration": 48,
    "start_time": "2024-07-11T21:25:32.028Z"
   },
   {
    "duration": 397,
    "start_time": "2024-07-11T21:25:32.077Z"
   },
   {
    "duration": 8,
    "start_time": "2024-07-11T21:25:32.476Z"
   },
   {
    "duration": 196,
    "start_time": "2024-07-11T21:25:32.485Z"
   },
   {
    "duration": 15,
    "start_time": "2024-07-11T21:25:32.682Z"
   },
   {
    "duration": 12,
    "start_time": "2024-07-11T21:25:32.707Z"
   },
   {
    "duration": 25,
    "start_time": "2024-07-11T21:25:32.721Z"
   },
   {
    "duration": 309,
    "start_time": "2024-07-11T21:25:32.747Z"
   },
   {
    "duration": 26,
    "start_time": "2024-07-11T21:25:33.057Z"
   },
   {
    "duration": 11,
    "start_time": "2024-07-11T21:25:33.084Z"
   },
   {
    "duration": 124,
    "start_time": "2024-07-11T21:25:33.108Z"
   },
   {
    "duration": 340,
    "start_time": "2024-07-11T21:25:33.233Z"
   },
   {
    "duration": 1675,
    "start_time": "2024-07-11T21:25:33.575Z"
   },
   {
    "duration": 390,
    "start_time": "2024-07-11T21:25:35.251Z"
   },
   {
    "duration": 1673,
    "start_time": "2024-07-11T21:25:35.643Z"
   },
   {
    "duration": 6,
    "start_time": "2024-07-11T21:25:37.318Z"
   },
   {
    "duration": 10,
    "start_time": "2024-07-11T21:25:37.328Z"
   },
   {
    "duration": 48,
    "start_time": "2024-07-11T21:25:37.340Z"
   },
   {
    "duration": 20,
    "start_time": "2024-07-11T21:25:37.389Z"
   },
   {
    "duration": 65,
    "start_time": "2024-07-11T21:25:37.410Z"
   },
   {
    "duration": 14,
    "start_time": "2024-07-11T21:25:37.477Z"
   },
   {
    "duration": 4,
    "start_time": "2024-07-11T21:25:37.492Z"
   },
   {
    "duration": 210,
    "start_time": "2024-07-11T21:25:37.497Z"
   },
   {
    "duration": 11,
    "start_time": "2024-07-11T21:25:37.709Z"
   },
   {
    "duration": 270,
    "start_time": "2024-07-11T21:25:37.721Z"
   },
   {
    "duration": 19,
    "start_time": "2024-07-11T21:25:37.993Z"
   },
   {
    "duration": 39,
    "start_time": "2024-07-11T21:25:38.013Z"
   },
   {
    "duration": 24,
    "start_time": "2024-07-11T21:25:38.054Z"
   },
   {
    "duration": 4,
    "start_time": "2024-07-11T21:25:38.081Z"
   },
   {
    "duration": 12,
    "start_time": "2024-07-11T21:25:38.087Z"
   },
   {
    "duration": 4,
    "start_time": "2024-07-11T21:25:38.101Z"
   },
   {
    "duration": 4,
    "start_time": "2024-07-11T21:25:38.107Z"
   },
   {
    "duration": 1863,
    "start_time": "2024-07-11T21:25:38.113Z"
   },
   {
    "duration": 102,
    "start_time": "2024-07-11T21:42:58.514Z"
   },
   {
    "duration": 6,
    "start_time": "2024-07-11T21:43:13.939Z"
   },
   {
    "duration": 12,
    "start_time": "2024-07-11T21:43:44.265Z"
   },
   {
    "duration": 13,
    "start_time": "2024-07-11T21:45:19.930Z"
   },
   {
    "duration": 12,
    "start_time": "2024-07-11T21:46:05.492Z"
   },
   {
    "duration": 5,
    "start_time": "2024-07-11T21:46:24.221Z"
   },
   {
    "duration": 5,
    "start_time": "2024-07-11T21:46:39.943Z"
   },
   {
    "duration": 354,
    "start_time": "2024-07-11T21:47:32.679Z"
   },
   {
    "duration": 170,
    "start_time": "2024-07-11T21:47:54.124Z"
   },
   {
    "duration": 211,
    "start_time": "2024-07-11T21:48:07.627Z"
   },
   {
    "duration": 1183,
    "start_time": "2024-07-11T21:49:01.263Z"
   },
   {
    "duration": 67,
    "start_time": "2024-07-11T21:49:02.448Z"
   },
   {
    "duration": 3,
    "start_time": "2024-07-11T21:49:02.517Z"
   },
   {
    "duration": 13,
    "start_time": "2024-07-11T21:49:02.522Z"
   },
   {
    "duration": 12,
    "start_time": "2024-07-11T21:49:02.536Z"
   },
   {
    "duration": 21,
    "start_time": "2024-07-11T21:49:02.549Z"
   },
   {
    "duration": 22,
    "start_time": "2024-07-11T21:49:02.572Z"
   },
   {
    "duration": 7,
    "start_time": "2024-07-11T21:49:02.596Z"
   },
   {
    "duration": 64,
    "start_time": "2024-07-11T21:49:02.607Z"
   },
   {
    "duration": 13,
    "start_time": "2024-07-11T21:49:02.673Z"
   },
   {
    "duration": 13,
    "start_time": "2024-07-11T21:49:02.687Z"
   },
   {
    "duration": 8,
    "start_time": "2024-07-11T21:49:02.701Z"
   },
   {
    "duration": 13,
    "start_time": "2024-07-11T21:49:02.710Z"
   },
   {
    "duration": 5,
    "start_time": "2024-07-11T21:49:02.724Z"
   },
   {
    "duration": 40,
    "start_time": "2024-07-11T21:49:02.731Z"
   },
   {
    "duration": 36,
    "start_time": "2024-07-11T21:49:02.772Z"
   },
   {
    "duration": 5,
    "start_time": "2024-07-11T21:49:02.810Z"
   },
   {
    "duration": 68,
    "start_time": "2024-07-11T21:49:02.817Z"
   },
   {
    "duration": 23,
    "start_time": "2024-07-11T21:49:02.887Z"
   },
   {
    "duration": 178,
    "start_time": "2024-07-11T21:49:02.912Z"
   },
   {
    "duration": 8,
    "start_time": "2024-07-11T21:49:03.091Z"
   },
   {
    "duration": 12,
    "start_time": "2024-07-11T21:49:03.100Z"
   },
   {
    "duration": 264,
    "start_time": "2024-07-11T21:49:03.113Z"
   },
   {
    "duration": 5,
    "start_time": "2024-07-11T21:49:03.379Z"
   },
   {
    "duration": 23,
    "start_time": "2024-07-11T21:49:03.385Z"
   },
   {
    "duration": 343,
    "start_time": "2024-07-11T21:49:03.409Z"
   },
   {
    "duration": 8,
    "start_time": "2024-07-11T21:49:03.754Z"
   },
   {
    "duration": 189,
    "start_time": "2024-07-11T21:49:03.765Z"
   },
   {
    "duration": 15,
    "start_time": "2024-07-11T21:49:03.955Z"
   },
   {
    "duration": 13,
    "start_time": "2024-07-11T21:49:03.971Z"
   },
   {
    "duration": 24,
    "start_time": "2024-07-11T21:49:03.985Z"
   },
   {
    "duration": 285,
    "start_time": "2024-07-11T21:49:04.011Z"
   },
   {
    "duration": 33,
    "start_time": "2024-07-11T21:49:04.298Z"
   },
   {
    "duration": 11,
    "start_time": "2024-07-11T21:49:04.333Z"
   },
   {
    "duration": 112,
    "start_time": "2024-07-11T21:49:04.346Z"
   },
   {
    "duration": 348,
    "start_time": "2024-07-11T21:49:04.460Z"
   },
   {
    "duration": 1688,
    "start_time": "2024-07-11T21:49:04.809Z"
   },
   {
    "duration": 382,
    "start_time": "2024-07-11T21:49:06.498Z"
   },
   {
    "duration": 1763,
    "start_time": "2024-07-11T21:49:06.882Z"
   },
   {
    "duration": 4,
    "start_time": "2024-07-11T21:49:08.647Z"
   },
   {
    "duration": 36,
    "start_time": "2024-07-11T21:49:08.653Z"
   },
   {
    "duration": 47,
    "start_time": "2024-07-11T21:49:08.690Z"
   },
   {
    "duration": 8,
    "start_time": "2024-07-11T21:49:08.738Z"
   },
   {
    "duration": 14,
    "start_time": "2024-07-11T21:49:08.747Z"
   },
   {
    "duration": 13,
    "start_time": "2024-07-11T21:49:08.762Z"
   },
   {
    "duration": 3,
    "start_time": "2024-07-11T21:49:08.777Z"
   },
   {
    "duration": 220,
    "start_time": "2024-07-11T21:49:08.782Z"
   },
   {
    "duration": 10,
    "start_time": "2024-07-11T21:49:09.004Z"
   },
   {
    "duration": 247,
    "start_time": "2024-07-11T21:49:09.016Z"
   },
   {
    "duration": 8,
    "start_time": "2024-07-11T21:49:09.264Z"
   },
   {
    "duration": 7,
    "start_time": "2024-07-11T21:49:09.273Z"
   },
   {
    "duration": 5,
    "start_time": "2024-07-11T21:49:09.281Z"
   },
   {
    "duration": 4,
    "start_time": "2024-07-11T21:49:09.307Z"
   },
   {
    "duration": 10,
    "start_time": "2024-07-11T21:49:09.312Z"
   },
   {
    "duration": 4,
    "start_time": "2024-07-11T21:49:09.324Z"
   },
   {
    "duration": 6,
    "start_time": "2024-07-11T21:49:09.329Z"
   },
   {
    "duration": 1871,
    "start_time": "2024-07-11T21:49:09.336Z"
   },
   {
    "duration": 6,
    "start_time": "2024-07-11T21:49:11.209Z"
   },
   {
    "duration": 8,
    "start_time": "2024-07-11T21:49:55.283Z"
   },
   {
    "duration": 5,
    "start_time": "2024-07-11T21:51:36.519Z"
   },
   {
    "duration": 1929,
    "start_time": "2024-07-11T21:51:58.797Z"
   },
   {
    "duration": 1989,
    "start_time": "2024-07-11T21:52:02.536Z"
   },
   {
    "duration": 101,
    "start_time": "2024-07-11T21:54:49.050Z"
   },
   {
    "duration": 6,
    "start_time": "2024-07-11T21:55:40.784Z"
   },
   {
    "duration": 4,
    "start_time": "2024-07-11T21:55:49.477Z"
   },
   {
    "duration": 4,
    "start_time": "2024-07-11T21:57:31.011Z"
   },
   {
    "duration": 5,
    "start_time": "2024-07-11T21:57:34.186Z"
   },
   {
    "duration": 5,
    "start_time": "2024-07-11T21:58:08.034Z"
   },
   {
    "duration": 6,
    "start_time": "2024-07-11T22:02:57.478Z"
   },
   {
    "duration": 6,
    "start_time": "2024-07-11T22:04:04.208Z"
   },
   {
    "duration": 1979,
    "start_time": "2024-07-11T22:04:12.301Z"
   },
   {
    "duration": 5,
    "start_time": "2024-07-11T22:04:14.558Z"
   },
   {
    "duration": 16,
    "start_time": "2024-07-11T22:12:40.305Z"
   },
   {
    "duration": 44,
    "start_time": "2024-07-12T05:28:04.354Z"
   },
   {
    "duration": 1125,
    "start_time": "2024-07-12T05:28:18.906Z"
   },
   {
    "duration": 198,
    "start_time": "2024-07-12T05:28:20.033Z"
   },
   {
    "duration": 3,
    "start_time": "2024-07-12T05:28:20.233Z"
   },
   {
    "duration": 13,
    "start_time": "2024-07-12T05:28:20.237Z"
   },
   {
    "duration": 18,
    "start_time": "2024-07-12T05:28:20.251Z"
   },
   {
    "duration": 6,
    "start_time": "2024-07-12T05:28:20.270Z"
   },
   {
    "duration": 16,
    "start_time": "2024-07-12T05:28:20.277Z"
   },
   {
    "duration": 17,
    "start_time": "2024-07-12T05:28:20.294Z"
   },
   {
    "duration": 13,
    "start_time": "2024-07-12T05:28:20.312Z"
   },
   {
    "duration": 10,
    "start_time": "2024-07-12T05:28:20.328Z"
   },
   {
    "duration": 4,
    "start_time": "2024-07-12T05:28:20.339Z"
   },
   {
    "duration": 14,
    "start_time": "2024-07-12T05:28:20.344Z"
   },
   {
    "duration": 4,
    "start_time": "2024-07-12T05:28:20.359Z"
   },
   {
    "duration": 4,
    "start_time": "2024-07-12T05:28:20.364Z"
   },
   {
    "duration": 4,
    "start_time": "2024-07-12T05:28:20.369Z"
   },
   {
    "duration": 19,
    "start_time": "2024-07-12T05:28:20.375Z"
   },
   {
    "duration": 4,
    "start_time": "2024-07-12T05:28:20.395Z"
   },
   {
    "duration": 5,
    "start_time": "2024-07-12T05:28:20.400Z"
   },
   {
    "duration": 11,
    "start_time": "2024-07-12T05:28:20.406Z"
   },
   {
    "duration": 161,
    "start_time": "2024-07-12T05:28:20.418Z"
   },
   {
    "duration": 6,
    "start_time": "2024-07-12T05:28:20.581Z"
   },
   {
    "duration": 12,
    "start_time": "2024-07-12T05:28:20.589Z"
   },
   {
    "duration": 331,
    "start_time": "2024-07-12T05:28:20.602Z"
   },
   {
    "duration": 5,
    "start_time": "2024-07-12T05:28:20.935Z"
   },
   {
    "duration": 7,
    "start_time": "2024-07-12T05:28:20.957Z"
   },
   {
    "duration": 297,
    "start_time": "2024-07-12T05:28:20.966Z"
   },
   {
    "duration": 8,
    "start_time": "2024-07-12T05:28:21.265Z"
   },
   {
    "duration": 152,
    "start_time": "2024-07-12T05:28:21.277Z"
   },
   {
    "duration": 12,
    "start_time": "2024-07-12T05:28:21.430Z"
   },
   {
    "duration": 21,
    "start_time": "2024-07-12T05:28:21.444Z"
   },
   {
    "duration": 7,
    "start_time": "2024-07-12T05:28:21.467Z"
   },
   {
    "duration": 239,
    "start_time": "2024-07-12T05:28:21.475Z"
   },
   {
    "duration": 24,
    "start_time": "2024-07-12T05:28:21.715Z"
   },
   {
    "duration": 23,
    "start_time": "2024-07-12T05:28:21.740Z"
   },
   {
    "duration": 66,
    "start_time": "2024-07-12T05:28:21.764Z"
   },
   {
    "duration": 286,
    "start_time": "2024-07-12T05:28:21.832Z"
   },
   {
    "duration": 2032,
    "start_time": "2024-07-12T05:28:22.120Z"
   },
   {
    "duration": 289,
    "start_time": "2024-07-12T05:28:24.154Z"
   },
   {
    "duration": 1413,
    "start_time": "2024-07-12T05:28:24.444Z"
   },
   {
    "duration": 4,
    "start_time": "2024-07-12T05:28:25.858Z"
   },
   {
    "duration": 3,
    "start_time": "2024-07-12T05:28:25.864Z"
   },
   {
    "duration": 35,
    "start_time": "2024-07-12T05:28:25.868Z"
   },
   {
    "duration": 6,
    "start_time": "2024-07-12T05:28:25.904Z"
   },
   {
    "duration": 10,
    "start_time": "2024-07-12T05:28:25.911Z"
   },
   {
    "duration": 37,
    "start_time": "2024-07-12T05:28:25.923Z"
   },
   {
    "duration": 3,
    "start_time": "2024-07-12T05:28:25.961Z"
   },
   {
    "duration": 185,
    "start_time": "2024-07-12T05:28:25.965Z"
   },
   {
    "duration": 10,
    "start_time": "2024-07-12T05:28:26.152Z"
   },
   {
    "duration": 229,
    "start_time": "2024-07-12T05:28:26.163Z"
   },
   {
    "duration": 6,
    "start_time": "2024-07-12T05:28:26.394Z"
   },
   {
    "duration": 7,
    "start_time": "2024-07-12T05:28:26.401Z"
   },
   {
    "duration": 6,
    "start_time": "2024-07-12T05:28:26.409Z"
   },
   {
    "duration": 3,
    "start_time": "2024-07-12T05:28:26.416Z"
   },
   {
    "duration": 12,
    "start_time": "2024-07-12T05:28:26.420Z"
   },
   {
    "duration": 27,
    "start_time": "2024-07-12T05:28:26.433Z"
   },
   {
    "duration": 6,
    "start_time": "2024-07-12T05:28:26.461Z"
   },
   {
    "duration": 1546,
    "start_time": "2024-07-12T05:28:26.468Z"
   },
   {
    "duration": 96,
    "start_time": "2024-07-12T05:28:28.015Z"
   },
   {
    "duration": 0,
    "start_time": "2024-07-12T05:28:28.112Z"
   },
   {
    "duration": 7,
    "start_time": "2024-07-12T05:28:38.426Z"
   },
   {
    "duration": 9,
    "start_time": "2024-07-12T05:38:56.979Z"
   },
   {
    "duration": 5,
    "start_time": "2024-07-12T05:39:02.292Z"
   },
   {
    "duration": 1021,
    "start_time": "2024-07-12T05:53:15.094Z"
   },
   {
    "duration": 63,
    "start_time": "2024-07-12T05:53:16.117Z"
   },
   {
    "duration": 3,
    "start_time": "2024-07-12T05:53:16.182Z"
   },
   {
    "duration": 35,
    "start_time": "2024-07-12T05:53:16.187Z"
   },
   {
    "duration": 10,
    "start_time": "2024-07-12T05:53:16.223Z"
   },
   {
    "duration": 8,
    "start_time": "2024-07-12T05:53:16.234Z"
   },
   {
    "duration": 8,
    "start_time": "2024-07-12T05:53:16.244Z"
   },
   {
    "duration": 5,
    "start_time": "2024-07-12T05:53:16.254Z"
   },
   {
    "duration": 24,
    "start_time": "2024-07-12T05:53:16.260Z"
   },
   {
    "duration": 9,
    "start_time": "2024-07-12T05:53:16.287Z"
   },
   {
    "duration": 5,
    "start_time": "2024-07-12T05:53:16.298Z"
   },
   {
    "duration": 15,
    "start_time": "2024-07-12T05:53:16.305Z"
   },
   {
    "duration": 6,
    "start_time": "2024-07-12T05:53:16.321Z"
   },
   {
    "duration": 7,
    "start_time": "2024-07-12T05:53:16.329Z"
   },
   {
    "duration": 20,
    "start_time": "2024-07-12T05:53:16.338Z"
   },
   {
    "duration": 22,
    "start_time": "2024-07-12T05:53:16.360Z"
   },
   {
    "duration": 5,
    "start_time": "2024-07-12T05:53:16.384Z"
   },
   {
    "duration": 10,
    "start_time": "2024-07-12T05:53:16.391Z"
   },
   {
    "duration": 7,
    "start_time": "2024-07-12T05:53:16.403Z"
   },
   {
    "duration": 202,
    "start_time": "2024-07-12T05:53:16.411Z"
   },
   {
    "duration": 6,
    "start_time": "2024-07-12T05:53:16.615Z"
   },
   {
    "duration": 13,
    "start_time": "2024-07-12T05:53:16.623Z"
   },
   {
    "duration": 274,
    "start_time": "2024-07-12T05:53:16.637Z"
   },
   {
    "duration": 4,
    "start_time": "2024-07-12T05:53:16.913Z"
   },
   {
    "duration": 10,
    "start_time": "2024-07-12T05:53:16.919Z"
   },
   {
    "duration": 340,
    "start_time": "2024-07-12T05:53:16.931Z"
   },
   {
    "duration": 97,
    "start_time": "2024-07-12T05:53:17.273Z"
   },
   {
    "duration": 0,
    "start_time": "2024-07-12T05:53:17.373Z"
   },
   {
    "duration": 0,
    "start_time": "2024-07-12T05:53:17.374Z"
   },
   {
    "duration": 0,
    "start_time": "2024-07-12T05:53:17.375Z"
   },
   {
    "duration": 0,
    "start_time": "2024-07-12T05:53:17.376Z"
   },
   {
    "duration": 0,
    "start_time": "2024-07-12T05:53:17.378Z"
   },
   {
    "duration": 0,
    "start_time": "2024-07-12T05:53:17.379Z"
   },
   {
    "duration": 0,
    "start_time": "2024-07-12T05:53:17.380Z"
   },
   {
    "duration": 0,
    "start_time": "2024-07-12T05:53:17.381Z"
   },
   {
    "duration": 0,
    "start_time": "2024-07-12T05:53:17.382Z"
   },
   {
    "duration": 0,
    "start_time": "2024-07-12T05:53:17.383Z"
   },
   {
    "duration": 0,
    "start_time": "2024-07-12T05:53:17.384Z"
   },
   {
    "duration": 0,
    "start_time": "2024-07-12T05:53:17.385Z"
   },
   {
    "duration": 0,
    "start_time": "2024-07-12T05:53:17.386Z"
   },
   {
    "duration": 0,
    "start_time": "2024-07-12T05:53:17.387Z"
   },
   {
    "duration": 0,
    "start_time": "2024-07-12T05:53:17.388Z"
   },
   {
    "duration": 0,
    "start_time": "2024-07-12T05:53:17.388Z"
   },
   {
    "duration": 0,
    "start_time": "2024-07-12T05:53:17.389Z"
   },
   {
    "duration": 0,
    "start_time": "2024-07-12T05:53:17.390Z"
   },
   {
    "duration": 0,
    "start_time": "2024-07-12T05:53:17.392Z"
   },
   {
    "duration": 0,
    "start_time": "2024-07-12T05:53:17.393Z"
   },
   {
    "duration": 0,
    "start_time": "2024-07-12T05:53:17.394Z"
   },
   {
    "duration": 0,
    "start_time": "2024-07-12T05:53:17.395Z"
   },
   {
    "duration": 0,
    "start_time": "2024-07-12T05:53:17.396Z"
   },
   {
    "duration": 0,
    "start_time": "2024-07-12T05:53:17.397Z"
   },
   {
    "duration": 0,
    "start_time": "2024-07-12T05:53:17.397Z"
   },
   {
    "duration": 0,
    "start_time": "2024-07-12T05:53:17.398Z"
   },
   {
    "duration": 0,
    "start_time": "2024-07-12T05:53:17.399Z"
   },
   {
    "duration": 0,
    "start_time": "2024-07-12T05:53:17.400Z"
   },
   {
    "duration": 0,
    "start_time": "2024-07-12T05:53:17.401Z"
   },
   {
    "duration": 0,
    "start_time": "2024-07-12T05:53:17.402Z"
   },
   {
    "duration": 0,
    "start_time": "2024-07-12T05:53:17.402Z"
   },
   {
    "duration": 0,
    "start_time": "2024-07-12T05:53:17.403Z"
   },
   {
    "duration": 0,
    "start_time": "2024-07-12T05:53:17.404Z"
   },
   {
    "duration": 1054,
    "start_time": "2024-07-12T05:53:52.157Z"
   },
   {
    "duration": 61,
    "start_time": "2024-07-12T05:53:53.213Z"
   },
   {
    "duration": 3,
    "start_time": "2024-07-12T05:53:53.275Z"
   },
   {
    "duration": 27,
    "start_time": "2024-07-12T05:53:53.280Z"
   },
   {
    "duration": 37,
    "start_time": "2024-07-12T05:53:53.308Z"
   },
   {
    "duration": 16,
    "start_time": "2024-07-12T05:53:53.347Z"
   },
   {
    "duration": 23,
    "start_time": "2024-07-12T05:53:53.365Z"
   },
   {
    "duration": 10,
    "start_time": "2024-07-12T05:53:53.389Z"
   },
   {
    "duration": 13,
    "start_time": "2024-07-12T05:53:53.400Z"
   },
   {
    "duration": 16,
    "start_time": "2024-07-12T05:53:53.416Z"
   },
   {
    "duration": 17,
    "start_time": "2024-07-12T05:53:53.433Z"
   },
   {
    "duration": 13,
    "start_time": "2024-07-12T05:53:53.452Z"
   },
   {
    "duration": 5,
    "start_time": "2024-07-12T05:53:53.467Z"
   },
   {
    "duration": 7,
    "start_time": "2024-07-12T05:53:53.474Z"
   },
   {
    "duration": 12,
    "start_time": "2024-07-12T05:53:53.482Z"
   },
   {
    "duration": 21,
    "start_time": "2024-07-12T05:53:53.496Z"
   },
   {
    "duration": 4,
    "start_time": "2024-07-12T05:53:53.522Z"
   },
   {
    "duration": 31,
    "start_time": "2024-07-12T05:53:53.528Z"
   },
   {
    "duration": 5,
    "start_time": "2024-07-12T05:53:53.561Z"
   },
   {
    "duration": 131,
    "start_time": "2024-07-12T05:53:53.568Z"
   },
   {
    "duration": 57,
    "start_time": "2024-07-12T05:53:53.700Z"
   },
   {
    "duration": 5,
    "start_time": "2024-07-12T05:53:53.759Z"
   },
   {
    "duration": 316,
    "start_time": "2024-07-12T05:53:53.765Z"
   },
   {
    "duration": 4,
    "start_time": "2024-07-12T05:53:54.082Z"
   },
   {
    "duration": 75,
    "start_time": "2024-07-12T05:53:54.087Z"
   },
   {
    "duration": 499,
    "start_time": "2024-07-12T05:53:54.163Z"
   },
   {
    "duration": 7,
    "start_time": "2024-07-12T05:53:54.664Z"
   },
   {
    "duration": 296,
    "start_time": "2024-07-12T05:53:54.674Z"
   },
   {
    "duration": 13,
    "start_time": "2024-07-12T05:53:54.971Z"
   },
   {
    "duration": 11,
    "start_time": "2024-07-12T05:53:54.985Z"
   },
   {
    "duration": 67,
    "start_time": "2024-07-12T05:53:54.997Z"
   },
   {
    "duration": 308,
    "start_time": "2024-07-12T05:53:55.066Z"
   },
   {
    "duration": 21,
    "start_time": "2024-07-12T05:53:55.375Z"
   },
   {
    "duration": 10,
    "start_time": "2024-07-12T05:53:55.397Z"
   },
   {
    "duration": 21,
    "start_time": "2024-07-12T05:53:55.408Z"
   },
   {
    "duration": 342,
    "start_time": "2024-07-12T05:53:55.431Z"
   },
   {
    "duration": 1489,
    "start_time": "2024-07-12T05:53:55.774Z"
   },
   {
    "duration": 288,
    "start_time": "2024-07-12T05:53:57.264Z"
   },
   {
    "duration": 1466,
    "start_time": "2024-07-12T05:53:57.554Z"
   },
   {
    "duration": 5,
    "start_time": "2024-07-12T05:53:59.021Z"
   },
   {
    "duration": 4,
    "start_time": "2024-07-12T05:53:59.027Z"
   },
   {
    "duration": 50,
    "start_time": "2024-07-12T05:53:59.032Z"
   },
   {
    "duration": 7,
    "start_time": "2024-07-12T05:53:59.083Z"
   },
   {
    "duration": 11,
    "start_time": "2024-07-12T05:53:59.091Z"
   },
   {
    "duration": 11,
    "start_time": "2024-07-12T05:53:59.103Z"
   },
   {
    "duration": 3,
    "start_time": "2024-07-12T05:53:59.115Z"
   },
   {
    "duration": 190,
    "start_time": "2024-07-12T05:53:59.119Z"
   },
   {
    "duration": 9,
    "start_time": "2024-07-12T05:53:59.310Z"
   },
   {
    "duration": 246,
    "start_time": "2024-07-12T05:53:59.320Z"
   },
   {
    "duration": 7,
    "start_time": "2024-07-12T05:53:59.567Z"
   },
   {
    "duration": 5,
    "start_time": "2024-07-12T05:53:59.575Z"
   },
   {
    "duration": 16,
    "start_time": "2024-07-12T05:53:59.582Z"
   },
   {
    "duration": 3,
    "start_time": "2024-07-12T05:53:59.600Z"
   },
   {
    "duration": 9,
    "start_time": "2024-07-12T05:53:59.604Z"
   },
   {
    "duration": 5,
    "start_time": "2024-07-12T05:53:59.614Z"
   },
   {
    "duration": 3,
    "start_time": "2024-07-12T05:53:59.620Z"
   },
   {
    "duration": 1587,
    "start_time": "2024-07-12T05:53:59.625Z"
   },
   {
    "duration": 94,
    "start_time": "2024-07-12T05:54:01.214Z"
   },
   {
    "duration": 0,
    "start_time": "2024-07-12T05:54:01.309Z"
   },
   {
    "duration": 59,
    "start_time": "2024-07-12T05:56:31.806Z"
   },
   {
    "duration": 60,
    "start_time": "2024-07-12T05:56:47.293Z"
   },
   {
    "duration": 13,
    "start_time": "2024-07-12T05:57:00.201Z"
   },
   {
    "duration": 11,
    "start_time": "2024-07-12T05:57:39.909Z"
   },
   {
    "duration": 14,
    "start_time": "2024-07-12T06:09:48.660Z"
   },
   {
    "duration": 9,
    "start_time": "2024-07-12T06:11:04.534Z"
   },
   {
    "duration": 4,
    "start_time": "2024-07-12T06:11:09.892Z"
   },
   {
    "duration": 15,
    "start_time": "2024-07-12T06:11:16.608Z"
   },
   {
    "duration": 4,
    "start_time": "2024-07-12T06:11:32.146Z"
   },
   {
    "duration": 7,
    "start_time": "2024-07-12T06:11:46.732Z"
   },
   {
    "duration": 5,
    "start_time": "2024-07-12T06:11:52.351Z"
   },
   {
    "duration": 4,
    "start_time": "2024-07-12T06:11:56.978Z"
   },
   {
    "duration": 4,
    "start_time": "2024-07-12T06:12:06.756Z"
   },
   {
    "duration": 4,
    "start_time": "2024-07-12T06:12:22.343Z"
   },
   {
    "duration": 4,
    "start_time": "2024-07-12T06:13:18.001Z"
   },
   {
    "duration": 18,
    "start_time": "2024-07-12T06:15:14.978Z"
   },
   {
    "duration": 5,
    "start_time": "2024-07-12T06:16:48.317Z"
   },
   {
    "duration": 5,
    "start_time": "2024-07-12T06:16:49.688Z"
   },
   {
    "duration": 12,
    "start_time": "2024-07-12T06:20:23.840Z"
   },
   {
    "duration": 7,
    "start_time": "2024-07-12T06:26:22.199Z"
   },
   {
    "duration": 6,
    "start_time": "2024-07-12T06:26:25.824Z"
   },
   {
    "duration": 7,
    "start_time": "2024-07-12T06:26:27.527Z"
   },
   {
    "duration": 6,
    "start_time": "2024-07-12T06:30:58.395Z"
   },
   {
    "duration": 4,
    "start_time": "2024-07-12T06:33:24.429Z"
   },
   {
    "duration": 4,
    "start_time": "2024-07-12T06:33:39.990Z"
   },
   {
    "duration": 4,
    "start_time": "2024-07-12T06:46:02.248Z"
   },
   {
    "duration": 1481,
    "start_time": "2024-07-12T06:47:10.034Z"
   },
   {
    "duration": 6,
    "start_time": "2024-07-12T06:47:52.136Z"
   },
   {
    "duration": 1441,
    "start_time": "2024-07-12T06:48:12.216Z"
   },
   {
    "duration": 5,
    "start_time": "2024-07-12T06:48:13.970Z"
   },
   {
    "duration": 5,
    "start_time": "2024-07-12T06:48:16.352Z"
   },
   {
    "duration": 1312,
    "start_time": "2024-07-12T06:49:04.825Z"
   },
   {
    "duration": 6,
    "start_time": "2024-07-12T06:49:08.314Z"
   },
   {
    "duration": 1359,
    "start_time": "2024-07-12T06:49:14.211Z"
   },
   {
    "duration": 5,
    "start_time": "2024-07-12T06:49:17.766Z"
   },
   {
    "duration": 1367,
    "start_time": "2024-07-12T06:49:23.155Z"
   },
   {
    "duration": 4,
    "start_time": "2024-07-12T06:49:26.379Z"
   },
   {
    "duration": 1374,
    "start_time": "2024-07-12T06:49:31.258Z"
   },
   {
    "duration": 5,
    "start_time": "2024-07-12T06:49:34.681Z"
   },
   {
    "duration": 1313,
    "start_time": "2024-07-12T06:49:42.277Z"
   },
   {
    "duration": 5,
    "start_time": "2024-07-12T06:49:44.928Z"
   },
   {
    "duration": 1318,
    "start_time": "2024-07-12T06:49:48.175Z"
   },
   {
    "duration": 6,
    "start_time": "2024-07-12T06:49:49.804Z"
   },
   {
    "duration": 1400,
    "start_time": "2024-07-12T06:49:58.021Z"
   },
   {
    "duration": 5,
    "start_time": "2024-07-12T06:50:02.200Z"
   },
   {
    "duration": 1367,
    "start_time": "2024-07-12T06:50:05.982Z"
   },
   {
    "duration": 4,
    "start_time": "2024-07-12T06:50:07.584Z"
   },
   {
    "duration": 1460,
    "start_time": "2024-07-12T06:50:12.470Z"
   },
   {
    "duration": 5,
    "start_time": "2024-07-12T06:50:14.276Z"
   },
   {
    "duration": 5,
    "start_time": "2024-07-12T06:50:30.460Z"
   },
   {
    "duration": 5,
    "start_time": "2024-07-12T06:50:34.256Z"
   },
   {
    "duration": 10,
    "start_time": "2024-07-12T06:50:48.679Z"
   },
   {
    "duration": 9,
    "start_time": "2024-07-12T06:50:54.660Z"
   },
   {
    "duration": 5,
    "start_time": "2024-07-12T06:50:57.639Z"
   },
   {
    "duration": 1417,
    "start_time": "2024-07-12T06:51:25.409Z"
   },
   {
    "duration": 5,
    "start_time": "2024-07-12T06:52:04.673Z"
   },
   {
    "duration": 1389,
    "start_time": "2024-07-12T06:54:48.754Z"
   },
   {
    "duration": 5,
    "start_time": "2024-07-12T06:54:52.807Z"
   },
   {
    "duration": 1437,
    "start_time": "2024-07-12T06:54:57.468Z"
   },
   {
    "duration": 4,
    "start_time": "2024-07-12T06:55:01.155Z"
   },
   {
    "duration": 1325,
    "start_time": "2024-07-12T06:55:31.155Z"
   },
   {
    "duration": 5,
    "start_time": "2024-07-12T06:55:34.006Z"
   },
   {
    "duration": 1404,
    "start_time": "2024-07-12T06:56:09.805Z"
   },
   {
    "duration": 3,
    "start_time": "2024-07-12T06:56:48.123Z"
   },
   {
    "duration": 26447,
    "start_time": "2024-07-12T07:06:38.978Z"
   },
   {
    "duration": 13,
    "start_time": "2024-07-12T07:07:21.990Z"
   },
   {
    "duration": 14,
    "start_time": "2024-07-12T07:08:00.868Z"
   },
   {
    "duration": 8,
    "start_time": "2024-07-12T07:09:14.909Z"
   },
   {
    "duration": 7,
    "start_time": "2024-07-12T07:09:34.079Z"
   },
   {
    "duration": 6,
    "start_time": "2024-07-12T07:09:48.917Z"
   },
   {
    "duration": 7,
    "start_time": "2024-07-12T07:09:55.410Z"
   },
   {
    "duration": 27444,
    "start_time": "2024-07-12T07:10:08.350Z"
   },
   {
    "duration": 5,
    "start_time": "2024-07-12T07:22:44.239Z"
   },
   {
    "duration": 3,
    "start_time": "2024-07-12T07:23:05.883Z"
   },
   {
    "duration": 8,
    "start_time": "2024-07-12T07:29:12.925Z"
   },
   {
    "duration": 1284,
    "start_time": "2024-07-12T07:29:49.073Z"
   },
   {
    "duration": 62,
    "start_time": "2024-07-12T07:29:50.359Z"
   },
   {
    "duration": 2,
    "start_time": "2024-07-12T07:29:50.423Z"
   },
   {
    "duration": 28,
    "start_time": "2024-07-12T07:29:50.426Z"
   },
   {
    "duration": 13,
    "start_time": "2024-07-12T07:29:50.457Z"
   },
   {
    "duration": 8,
    "start_time": "2024-07-12T07:29:50.472Z"
   },
   {
    "duration": 16,
    "start_time": "2024-07-12T07:29:50.482Z"
   },
   {
    "duration": 6,
    "start_time": "2024-07-12T07:29:50.500Z"
   },
   {
    "duration": 9,
    "start_time": "2024-07-12T07:29:50.507Z"
   },
   {
    "duration": 34,
    "start_time": "2024-07-12T07:29:50.517Z"
   },
   {
    "duration": 8,
    "start_time": "2024-07-12T07:29:50.553Z"
   },
   {
    "duration": 15,
    "start_time": "2024-07-12T07:29:50.563Z"
   },
   {
    "duration": 29,
    "start_time": "2024-07-12T07:29:50.579Z"
   },
   {
    "duration": 19,
    "start_time": "2024-07-12T07:29:50.612Z"
   },
   {
    "duration": 11,
    "start_time": "2024-07-12T07:29:50.632Z"
   },
   {
    "duration": 26,
    "start_time": "2024-07-12T07:29:50.645Z"
   },
   {
    "duration": 3,
    "start_time": "2024-07-12T07:29:50.673Z"
   },
   {
    "duration": 29,
    "start_time": "2024-07-12T07:29:50.678Z"
   },
   {
    "duration": 24,
    "start_time": "2024-07-12T07:29:50.708Z"
   },
   {
    "duration": 158,
    "start_time": "2024-07-12T07:29:50.734Z"
   },
   {
    "duration": 5,
    "start_time": "2024-07-12T07:29:50.894Z"
   },
   {
    "duration": 7,
    "start_time": "2024-07-12T07:29:50.900Z"
   },
   {
    "duration": 285,
    "start_time": "2024-07-12T07:29:50.908Z"
   },
   {
    "duration": 5,
    "start_time": "2024-07-12T07:29:51.194Z"
   },
   {
    "duration": 11,
    "start_time": "2024-07-12T07:29:51.200Z"
   },
   {
    "duration": 333,
    "start_time": "2024-07-12T07:29:51.212Z"
   },
   {
    "duration": 13,
    "start_time": "2024-07-12T07:29:51.546Z"
   },
   {
    "duration": 158,
    "start_time": "2024-07-12T07:29:51.560Z"
   },
   {
    "duration": 12,
    "start_time": "2024-07-12T07:29:51.719Z"
   },
   {
    "duration": 14,
    "start_time": "2024-07-12T07:29:51.732Z"
   },
   {
    "duration": 13,
    "start_time": "2024-07-12T07:29:51.748Z"
   },
   {
    "duration": 249,
    "start_time": "2024-07-12T07:29:51.762Z"
   },
   {
    "duration": 22,
    "start_time": "2024-07-12T07:29:52.013Z"
   },
   {
    "duration": 23,
    "start_time": "2024-07-12T07:29:52.037Z"
   },
   {
    "duration": 71,
    "start_time": "2024-07-12T07:29:52.062Z"
   },
   {
    "duration": 296,
    "start_time": "2024-07-12T07:29:52.135Z"
   },
   {
    "duration": 1445,
    "start_time": "2024-07-12T07:29:52.433Z"
   },
   {
    "duration": 301,
    "start_time": "2024-07-12T07:29:53.880Z"
   },
   {
    "duration": 1470,
    "start_time": "2024-07-12T07:29:54.182Z"
   },
   {
    "duration": 4,
    "start_time": "2024-07-12T07:29:55.653Z"
   },
   {
    "duration": 10,
    "start_time": "2024-07-12T07:29:55.661Z"
   },
   {
    "duration": 42,
    "start_time": "2024-07-12T07:29:55.672Z"
   },
   {
    "duration": 7,
    "start_time": "2024-07-12T07:29:55.715Z"
   },
   {
    "duration": 12,
    "start_time": "2024-07-12T07:29:55.723Z"
   },
   {
    "duration": 30,
    "start_time": "2024-07-12T07:29:55.736Z"
   },
   {
    "duration": 9,
    "start_time": "2024-07-12T07:29:55.768Z"
   },
   {
    "duration": 188,
    "start_time": "2024-07-12T07:29:55.779Z"
   },
   {
    "duration": 8,
    "start_time": "2024-07-12T07:29:55.969Z"
   },
   {
    "duration": 223,
    "start_time": "2024-07-12T07:29:55.979Z"
   },
   {
    "duration": 7,
    "start_time": "2024-07-12T07:29:56.203Z"
   },
   {
    "duration": 10,
    "start_time": "2024-07-12T07:29:56.211Z"
   },
   {
    "duration": 19,
    "start_time": "2024-07-12T07:29:56.222Z"
   },
   {
    "duration": 18,
    "start_time": "2024-07-12T07:29:56.242Z"
   },
   {
    "duration": 16,
    "start_time": "2024-07-12T07:29:56.262Z"
   },
   {
    "duration": 4,
    "start_time": "2024-07-12T07:29:56.279Z"
   },
   {
    "duration": 22,
    "start_time": "2024-07-12T07:29:56.285Z"
   },
   {
    "duration": 1358,
    "start_time": "2024-07-12T07:29:56.308Z"
   },
   {
    "duration": 5,
    "start_time": "2024-07-12T07:29:57.667Z"
   },
   {
    "duration": 13,
    "start_time": "2024-07-12T07:29:57.673Z"
   },
   {
    "duration": 112,
    "start_time": "2024-07-12T07:29:57.687Z"
   },
   {
    "duration": 26453,
    "start_time": "2024-07-12T07:29:57.800Z"
   },
   {
    "duration": 137,
    "start_time": "2024-07-12T07:40:44.644Z"
   },
   {
    "duration": 246,
    "start_time": "2024-07-12T07:40:56.440Z"
   },
   {
    "duration": 242,
    "start_time": "2024-07-12T07:43:07.037Z"
   },
   {
    "duration": 235,
    "start_time": "2024-07-12T07:43:10.251Z"
   },
   {
    "duration": 242,
    "start_time": "2024-07-12T07:43:17.637Z"
   },
   {
    "duration": 190,
    "start_time": "2024-07-12T07:43:28.272Z"
   },
   {
    "duration": 174,
    "start_time": "2024-07-12T07:43:36.188Z"
   },
   {
    "duration": 199,
    "start_time": "2024-07-12T07:43:46.868Z"
   },
   {
    "duration": 114,
    "start_time": "2024-07-12T07:43:49.381Z"
   },
   {
    "duration": 269,
    "start_time": "2024-07-12T07:43:56.617Z"
   },
   {
    "duration": 185,
    "start_time": "2024-07-12T07:44:00.520Z"
   },
   {
    "duration": 238,
    "start_time": "2024-07-12T07:44:11.685Z"
   },
   {
    "duration": 203,
    "start_time": "2024-07-12T07:44:14.893Z"
   },
   {
    "duration": 238,
    "start_time": "2024-07-12T07:44:56.586Z"
   },
   {
    "duration": 246,
    "start_time": "2024-07-12T07:45:01.774Z"
   },
   {
    "duration": 1217,
    "start_time": "2024-07-12T07:45:07.074Z"
   },
   {
    "duration": 1177,
    "start_time": "2024-07-12T07:45:13.067Z"
   },
   {
    "duration": 225,
    "start_time": "2024-07-12T07:45:19.580Z"
   },
   {
    "duration": 219,
    "start_time": "2024-07-12T07:45:22.787Z"
   },
   {
    "duration": 232,
    "start_time": "2024-07-12T07:45:31.725Z"
   },
   {
    "duration": 237,
    "start_time": "2024-07-12T07:45:39.925Z"
   },
   {
    "duration": 292,
    "start_time": "2024-07-12T07:45:43.358Z"
   },
   {
    "duration": 5,
    "start_time": "2024-07-12T07:49:27.410Z"
   },
   {
    "duration": 1038,
    "start_time": "2024-07-12T07:49:36.471Z"
   },
   {
    "duration": 63,
    "start_time": "2024-07-12T07:49:37.510Z"
   },
   {
    "duration": 4,
    "start_time": "2024-07-12T07:49:37.574Z"
   },
   {
    "duration": 36,
    "start_time": "2024-07-12T07:49:37.579Z"
   },
   {
    "duration": 13,
    "start_time": "2024-07-12T07:49:37.617Z"
   },
   {
    "duration": 11,
    "start_time": "2024-07-12T07:49:37.632Z"
   },
   {
    "duration": 79,
    "start_time": "2024-07-12T07:49:37.644Z"
   },
   {
    "duration": 8,
    "start_time": "2024-07-12T07:49:37.725Z"
   },
   {
    "duration": 13,
    "start_time": "2024-07-12T07:49:37.734Z"
   },
   {
    "duration": 21,
    "start_time": "2024-07-12T07:49:37.748Z"
   },
   {
    "duration": 4,
    "start_time": "2024-07-12T07:49:37.770Z"
   },
   {
    "duration": 7,
    "start_time": "2024-07-12T07:49:37.776Z"
   },
   {
    "duration": 6,
    "start_time": "2024-07-12T07:49:37.784Z"
   },
   {
    "duration": 5,
    "start_time": "2024-07-12T07:49:37.792Z"
   },
   {
    "duration": 47,
    "start_time": "2024-07-12T07:49:37.799Z"
   },
   {
    "duration": 29,
    "start_time": "2024-07-12T07:49:37.847Z"
   },
   {
    "duration": 4,
    "start_time": "2024-07-12T07:49:37.877Z"
   },
   {
    "duration": 19,
    "start_time": "2024-07-12T07:49:37.882Z"
   },
   {
    "duration": 31,
    "start_time": "2024-07-12T07:49:37.902Z"
   },
   {
    "duration": 137,
    "start_time": "2024-07-12T07:49:37.935Z"
   },
   {
    "duration": 6,
    "start_time": "2024-07-12T07:49:38.074Z"
   },
   {
    "duration": 19,
    "start_time": "2024-07-12T07:49:38.082Z"
   },
   {
    "duration": 288,
    "start_time": "2024-07-12T07:49:38.103Z"
   },
   {
    "duration": 6,
    "start_time": "2024-07-12T07:49:38.393Z"
   },
   {
    "duration": 17,
    "start_time": "2024-07-12T07:49:38.401Z"
   },
   {
    "duration": 330,
    "start_time": "2024-07-12T07:49:38.420Z"
   },
   {
    "duration": 7,
    "start_time": "2024-07-12T07:49:38.757Z"
   },
   {
    "duration": 151,
    "start_time": "2024-07-12T07:49:38.765Z"
   },
   {
    "duration": 14,
    "start_time": "2024-07-12T07:49:38.918Z"
   },
   {
    "duration": 26,
    "start_time": "2024-07-12T07:49:38.933Z"
   },
   {
    "duration": 7,
    "start_time": "2024-07-12T07:49:38.960Z"
   },
   {
    "duration": 253,
    "start_time": "2024-07-12T07:49:38.968Z"
   },
   {
    "duration": 40,
    "start_time": "2024-07-12T07:49:39.223Z"
   },
   {
    "duration": 11,
    "start_time": "2024-07-12T07:49:39.265Z"
   },
   {
    "duration": 66,
    "start_time": "2024-07-12T07:49:39.277Z"
   },
   {
    "duration": 286,
    "start_time": "2024-07-12T07:49:39.357Z"
   },
   {
    "duration": 1439,
    "start_time": "2024-07-12T07:49:39.645Z"
   },
   {
    "duration": 317,
    "start_time": "2024-07-12T07:49:41.085Z"
   },
   {
    "duration": 1420,
    "start_time": "2024-07-12T07:49:41.403Z"
   },
   {
    "duration": 4,
    "start_time": "2024-07-12T07:49:42.825Z"
   },
   {
    "duration": 27,
    "start_time": "2024-07-12T07:49:42.832Z"
   },
   {
    "duration": 48,
    "start_time": "2024-07-12T07:49:42.860Z"
   },
   {
    "duration": 7,
    "start_time": "2024-07-12T07:49:42.909Z"
   },
   {
    "duration": 25,
    "start_time": "2024-07-12T07:49:42.917Z"
   },
   {
    "duration": 12,
    "start_time": "2024-07-12T07:49:42.944Z"
   },
   {
    "duration": 3,
    "start_time": "2024-07-12T07:49:42.957Z"
   },
   {
    "duration": 189,
    "start_time": "2024-07-12T07:49:42.962Z"
   },
   {
    "duration": 12,
    "start_time": "2024-07-12T07:49:43.152Z"
   },
   {
    "duration": 230,
    "start_time": "2024-07-12T07:49:43.165Z"
   },
   {
    "duration": 6,
    "start_time": "2024-07-12T07:49:43.397Z"
   },
   {
    "duration": 13,
    "start_time": "2024-07-12T07:49:43.404Z"
   },
   {
    "duration": 6,
    "start_time": "2024-07-12T07:49:43.418Z"
   },
   {
    "duration": 29,
    "start_time": "2024-07-12T07:49:43.425Z"
   },
   {
    "duration": 9,
    "start_time": "2024-07-12T07:49:43.455Z"
   },
   {
    "duration": 3,
    "start_time": "2024-07-12T07:49:43.465Z"
   },
   {
    "duration": 4,
    "start_time": "2024-07-12T07:49:43.469Z"
   },
   {
    "duration": 1363,
    "start_time": "2024-07-12T07:49:43.474Z"
   },
   {
    "duration": 4,
    "start_time": "2024-07-12T07:49:44.839Z"
   },
   {
    "duration": 18,
    "start_time": "2024-07-12T07:49:44.845Z"
   },
   {
    "duration": 232,
    "start_time": "2024-07-12T07:49:44.865Z"
   },
   {
    "duration": 5,
    "start_time": "2024-07-12T07:51:17.648Z"
   },
   {
    "duration": 1040,
    "start_time": "2024-07-12T08:01:02.246Z"
   },
   {
    "duration": 63,
    "start_time": "2024-07-12T08:01:03.287Z"
   },
   {
    "duration": 3,
    "start_time": "2024-07-12T08:01:03.351Z"
   },
   {
    "duration": 18,
    "start_time": "2024-07-12T08:01:03.355Z"
   },
   {
    "duration": 10,
    "start_time": "2024-07-12T08:01:03.374Z"
   },
   {
    "duration": 18,
    "start_time": "2024-07-12T08:01:03.385Z"
   },
   {
    "duration": 14,
    "start_time": "2024-07-12T08:01:03.404Z"
   },
   {
    "duration": 5,
    "start_time": "2024-07-12T08:01:03.420Z"
   },
   {
    "duration": 15,
    "start_time": "2024-07-12T08:01:03.427Z"
   },
   {
    "duration": 7,
    "start_time": "2024-07-12T08:01:03.445Z"
   },
   {
    "duration": 18,
    "start_time": "2024-07-12T08:01:03.453Z"
   },
   {
    "duration": 7,
    "start_time": "2024-07-12T08:01:03.473Z"
   },
   {
    "duration": 11,
    "start_time": "2024-07-12T08:01:03.482Z"
   },
   {
    "duration": 19,
    "start_time": "2024-07-12T08:01:03.495Z"
   },
   {
    "duration": 11,
    "start_time": "2024-07-12T08:01:03.516Z"
   },
   {
    "duration": 38,
    "start_time": "2024-07-12T08:01:03.528Z"
   },
   {
    "duration": 5,
    "start_time": "2024-07-12T08:01:03.567Z"
   },
   {
    "duration": 23,
    "start_time": "2024-07-12T08:01:03.573Z"
   },
   {
    "duration": 24,
    "start_time": "2024-07-12T08:01:03.597Z"
   },
   {
    "duration": 159,
    "start_time": "2024-07-12T08:01:03.622Z"
   },
   {
    "duration": 6,
    "start_time": "2024-07-12T08:01:03.783Z"
   },
   {
    "duration": 7,
    "start_time": "2024-07-12T08:01:03.790Z"
   },
   {
    "duration": 226,
    "start_time": "2024-07-12T08:01:03.798Z"
   },
   {
    "duration": 5,
    "start_time": "2024-07-12T08:01:04.025Z"
   },
   {
    "duration": 8,
    "start_time": "2024-07-12T08:01:04.031Z"
   },
   {
    "duration": 298,
    "start_time": "2024-07-12T08:01:04.041Z"
   },
   {
    "duration": 7,
    "start_time": "2024-07-12T08:01:04.340Z"
   },
   {
    "duration": 151,
    "start_time": "2024-07-12T08:01:04.359Z"
   },
   {
    "duration": 13,
    "start_time": "2024-07-12T08:01:04.511Z"
   },
   {
    "duration": 11,
    "start_time": "2024-07-12T08:01:04.525Z"
   },
   {
    "duration": 32,
    "start_time": "2024-07-12T08:01:04.537Z"
   },
   {
    "duration": 253,
    "start_time": "2024-07-12T08:01:04.570Z"
   },
   {
    "duration": 20,
    "start_time": "2024-07-12T08:01:04.824Z"
   },
   {
    "duration": 31,
    "start_time": "2024-07-12T08:01:04.846Z"
   },
   {
    "duration": 66,
    "start_time": "2024-07-12T08:01:04.878Z"
   },
   {
    "duration": 279,
    "start_time": "2024-07-12T08:01:04.945Z"
   },
   {
    "duration": 1521,
    "start_time": "2024-07-12T08:01:05.226Z"
   },
   {
    "duration": 305,
    "start_time": "2024-07-12T08:01:06.748Z"
   },
   {
    "duration": 1534,
    "start_time": "2024-07-12T08:01:07.063Z"
   },
   {
    "duration": 4,
    "start_time": "2024-07-12T08:01:08.598Z"
   },
   {
    "duration": 11,
    "start_time": "2024-07-12T08:01:08.603Z"
   },
   {
    "duration": 56,
    "start_time": "2024-07-12T08:01:08.615Z"
   },
   {
    "duration": 7,
    "start_time": "2024-07-12T08:01:08.673Z"
   },
   {
    "duration": 11,
    "start_time": "2024-07-12T08:01:08.681Z"
   },
   {
    "duration": 27,
    "start_time": "2024-07-12T08:01:08.693Z"
   },
   {
    "duration": 3,
    "start_time": "2024-07-12T08:01:08.721Z"
   },
   {
    "duration": 185,
    "start_time": "2024-07-12T08:01:08.725Z"
   },
   {
    "duration": 9,
    "start_time": "2024-07-12T08:01:08.911Z"
   },
   {
    "duration": 264,
    "start_time": "2024-07-12T08:01:08.921Z"
   },
   {
    "duration": 7,
    "start_time": "2024-07-12T08:01:09.186Z"
   },
   {
    "duration": 4,
    "start_time": "2024-07-12T08:01:09.194Z"
   },
   {
    "duration": 5,
    "start_time": "2024-07-12T08:01:09.199Z"
   },
   {
    "duration": 16,
    "start_time": "2024-07-12T08:01:09.205Z"
   },
   {
    "duration": 18,
    "start_time": "2024-07-12T08:01:09.222Z"
   },
   {
    "duration": 3,
    "start_time": "2024-07-12T08:01:09.241Z"
   },
   {
    "duration": 22,
    "start_time": "2024-07-12T08:01:09.245Z"
   },
   {
    "duration": 1403,
    "start_time": "2024-07-12T08:01:09.268Z"
   },
   {
    "duration": 4,
    "start_time": "2024-07-12T08:01:10.673Z"
   },
   {
    "duration": 7,
    "start_time": "2024-07-12T08:01:10.679Z"
   },
   {
    "duration": 214,
    "start_time": "2024-07-12T08:01:10.687Z"
   },
   {
    "duration": 1049,
    "start_time": "2024-07-12T08:18:49.167Z"
   },
   {
    "duration": 70,
    "start_time": "2024-07-12T08:18:50.218Z"
   },
   {
    "duration": 3,
    "start_time": "2024-07-12T08:18:50.289Z"
   },
   {
    "duration": 27,
    "start_time": "2024-07-12T08:18:50.293Z"
   },
   {
    "duration": 10,
    "start_time": "2024-07-12T08:18:50.322Z"
   },
   {
    "duration": 17,
    "start_time": "2024-07-12T08:18:50.334Z"
   },
   {
    "duration": 21,
    "start_time": "2024-07-12T08:18:50.353Z"
   },
   {
    "duration": 14,
    "start_time": "2024-07-12T08:18:50.375Z"
   },
   {
    "duration": 27,
    "start_time": "2024-07-12T08:18:50.391Z"
   },
   {
    "duration": 10,
    "start_time": "2024-07-12T08:18:50.419Z"
   },
   {
    "duration": 37,
    "start_time": "2024-07-12T08:18:50.431Z"
   },
   {
    "duration": 10,
    "start_time": "2024-07-12T08:18:50.469Z"
   },
   {
    "duration": 15,
    "start_time": "2024-07-12T08:18:50.480Z"
   },
   {
    "duration": 11,
    "start_time": "2024-07-12T08:18:50.499Z"
   },
   {
    "duration": 5,
    "start_time": "2024-07-12T08:18:50.512Z"
   },
   {
    "duration": 17,
    "start_time": "2024-07-12T08:18:50.519Z"
   },
   {
    "duration": 4,
    "start_time": "2024-07-12T08:18:50.542Z"
   },
   {
    "duration": 4,
    "start_time": "2024-07-12T08:18:50.559Z"
   },
   {
    "duration": 12,
    "start_time": "2024-07-12T08:18:50.564Z"
   },
   {
    "duration": 143,
    "start_time": "2024-07-12T08:18:50.578Z"
   },
   {
    "duration": 6,
    "start_time": "2024-07-12T08:18:50.723Z"
   },
   {
    "duration": 19,
    "start_time": "2024-07-12T08:18:50.730Z"
   },
   {
    "duration": 288,
    "start_time": "2024-07-12T08:18:50.750Z"
   },
   {
    "duration": 5,
    "start_time": "2024-07-12T08:18:51.039Z"
   },
   {
    "duration": 35,
    "start_time": "2024-07-12T08:18:51.045Z"
   },
   {
    "duration": 293,
    "start_time": "2024-07-12T08:18:51.082Z"
   },
   {
    "duration": 7,
    "start_time": "2024-07-12T08:18:51.377Z"
   },
   {
    "duration": 157,
    "start_time": "2024-07-12T08:18:51.385Z"
   },
   {
    "duration": 27,
    "start_time": "2024-07-12T08:18:51.544Z"
   },
   {
    "duration": 13,
    "start_time": "2024-07-12T08:18:51.572Z"
   },
   {
    "duration": 18,
    "start_time": "2024-07-12T08:18:51.586Z"
   },
   {
    "duration": 311,
    "start_time": "2024-07-12T08:18:51.606Z"
   },
   {
    "duration": 22,
    "start_time": "2024-07-12T08:18:51.918Z"
   },
   {
    "duration": 27,
    "start_time": "2024-07-12T08:18:51.942Z"
   },
   {
    "duration": 75,
    "start_time": "2024-07-12T08:18:51.971Z"
   },
   {
    "duration": 325,
    "start_time": "2024-07-12T08:18:52.047Z"
   },
   {
    "duration": 1552,
    "start_time": "2024-07-12T08:18:52.374Z"
   },
   {
    "duration": 305,
    "start_time": "2024-07-12T08:18:53.927Z"
   },
   {
    "duration": 1564,
    "start_time": "2024-07-12T08:18:54.234Z"
   },
   {
    "duration": 4,
    "start_time": "2024-07-12T08:18:55.799Z"
   },
   {
    "duration": 13,
    "start_time": "2024-07-12T08:18:55.807Z"
   },
   {
    "duration": 40,
    "start_time": "2024-07-12T08:18:55.821Z"
   },
   {
    "duration": 10,
    "start_time": "2024-07-12T08:18:55.862Z"
   },
   {
    "duration": 26,
    "start_time": "2024-07-12T08:18:55.874Z"
   },
   {
    "duration": 15,
    "start_time": "2024-07-12T08:18:55.902Z"
   },
   {
    "duration": 3,
    "start_time": "2024-07-12T08:18:55.918Z"
   },
   {
    "duration": 199,
    "start_time": "2024-07-12T08:18:55.923Z"
   },
   {
    "duration": 9,
    "start_time": "2024-07-12T08:18:56.124Z"
   },
   {
    "duration": 260,
    "start_time": "2024-07-12T08:18:56.135Z"
   },
   {
    "duration": 7,
    "start_time": "2024-07-12T08:18:56.396Z"
   },
   {
    "duration": 21,
    "start_time": "2024-07-12T08:18:56.404Z"
   },
   {
    "duration": 6,
    "start_time": "2024-07-12T08:18:56.426Z"
   },
   {
    "duration": 10,
    "start_time": "2024-07-12T08:18:56.433Z"
   },
   {
    "duration": 31,
    "start_time": "2024-07-12T08:18:56.444Z"
   },
   {
    "duration": 3,
    "start_time": "2024-07-12T08:18:56.477Z"
   },
   {
    "duration": 8,
    "start_time": "2024-07-12T08:18:56.482Z"
   },
   {
    "duration": 1377,
    "start_time": "2024-07-12T08:18:56.491Z"
   },
   {
    "duration": 9,
    "start_time": "2024-07-12T08:18:57.870Z"
   },
   {
    "duration": 6,
    "start_time": "2024-07-12T08:18:57.881Z"
   },
   {
    "duration": 222,
    "start_time": "2024-07-12T08:18:57.888Z"
   },
   {
    "duration": 296,
    "start_time": "2024-07-12T08:19:04.296Z"
   },
   {
    "duration": 1026,
    "start_time": "2024-07-12T08:19:28.972Z"
   },
   {
    "duration": 71,
    "start_time": "2024-07-12T08:19:30.000Z"
   },
   {
    "duration": 3,
    "start_time": "2024-07-12T08:19:30.072Z"
   },
   {
    "duration": 55,
    "start_time": "2024-07-12T08:19:30.076Z"
   },
   {
    "duration": 116,
    "start_time": "2024-07-12T08:19:30.132Z"
   },
   {
    "duration": 48,
    "start_time": "2024-07-12T08:19:30.249Z"
   },
   {
    "duration": 80,
    "start_time": "2024-07-12T08:19:30.298Z"
   },
   {
    "duration": 95,
    "start_time": "2024-07-12T08:19:30.380Z"
   },
   {
    "duration": 56,
    "start_time": "2024-07-12T08:19:30.476Z"
   },
   {
    "duration": 118,
    "start_time": "2024-07-12T08:19:30.534Z"
   },
   {
    "duration": 69,
    "start_time": "2024-07-12T08:19:30.654Z"
   },
   {
    "duration": 56,
    "start_time": "2024-07-12T08:19:30.724Z"
   },
   {
    "duration": 58,
    "start_time": "2024-07-12T08:19:30.782Z"
   },
   {
    "duration": 71,
    "start_time": "2024-07-12T08:19:30.842Z"
   },
   {
    "duration": 121,
    "start_time": "2024-07-12T08:19:30.914Z"
   },
   {
    "duration": 58,
    "start_time": "2024-07-12T08:19:31.037Z"
   },
   {
    "duration": 19,
    "start_time": "2024-07-12T08:19:31.097Z"
   },
   {
    "duration": 70,
    "start_time": "2024-07-12T08:19:31.117Z"
   },
   {
    "duration": 33,
    "start_time": "2024-07-12T08:19:31.189Z"
   },
   {
    "duration": 178,
    "start_time": "2024-07-12T08:19:31.224Z"
   },
   {
    "duration": 6,
    "start_time": "2024-07-12T08:19:31.403Z"
   },
   {
    "duration": 95,
    "start_time": "2024-07-12T08:19:31.410Z"
   },
   {
    "duration": 295,
    "start_time": "2024-07-12T08:19:31.507Z"
   },
   {
    "duration": 5,
    "start_time": "2024-07-12T08:19:31.804Z"
   },
   {
    "duration": 38,
    "start_time": "2024-07-12T08:19:31.810Z"
   },
   {
    "duration": 298,
    "start_time": "2024-07-12T08:19:31.849Z"
   },
   {
    "duration": 15,
    "start_time": "2024-07-12T08:19:32.148Z"
   },
   {
    "duration": 157,
    "start_time": "2024-07-12T08:19:32.171Z"
   },
   {
    "duration": 13,
    "start_time": "2024-07-12T08:19:32.329Z"
   },
   {
    "duration": 33,
    "start_time": "2024-07-12T08:19:32.343Z"
   },
   {
    "duration": 8,
    "start_time": "2024-07-12T08:19:32.377Z"
   },
   {
    "duration": 244,
    "start_time": "2024-07-12T08:19:32.386Z"
   },
   {
    "duration": 41,
    "start_time": "2024-07-12T08:19:32.632Z"
   },
   {
    "duration": 11,
    "start_time": "2024-07-12T08:19:32.676Z"
   },
   {
    "duration": 82,
    "start_time": "2024-07-12T08:19:32.688Z"
   },
   {
    "duration": 269,
    "start_time": "2024-07-12T08:19:32.771Z"
   },
   {
    "duration": 1499,
    "start_time": "2024-07-12T08:19:33.042Z"
   },
   {
    "duration": 309,
    "start_time": "2024-07-12T08:19:34.542Z"
   },
   {
    "duration": 1527,
    "start_time": "2024-07-12T08:19:34.852Z"
   },
   {
    "duration": 4,
    "start_time": "2024-07-12T08:19:36.381Z"
   },
   {
    "duration": 12,
    "start_time": "2024-07-12T08:19:36.387Z"
   },
   {
    "duration": 36,
    "start_time": "2024-07-12T08:19:36.400Z"
   },
   {
    "duration": 7,
    "start_time": "2024-07-12T08:19:36.437Z"
   },
   {
    "duration": 18,
    "start_time": "2024-07-12T08:19:36.457Z"
   },
   {
    "duration": 17,
    "start_time": "2024-07-12T08:19:36.476Z"
   },
   {
    "duration": 6,
    "start_time": "2024-07-12T08:19:36.494Z"
   },
   {
    "duration": 197,
    "start_time": "2024-07-12T08:19:36.502Z"
   },
   {
    "duration": 9,
    "start_time": "2024-07-12T08:19:36.701Z"
   },
   {
    "duration": 212,
    "start_time": "2024-07-12T08:19:36.712Z"
   },
   {
    "duration": 16,
    "start_time": "2024-07-12T08:19:36.956Z"
   },
   {
    "duration": 6,
    "start_time": "2024-07-12T08:19:36.973Z"
   },
   {
    "duration": 5,
    "start_time": "2024-07-12T08:19:36.980Z"
   },
   {
    "duration": 4,
    "start_time": "2024-07-12T08:19:36.986Z"
   },
   {
    "duration": 9,
    "start_time": "2024-07-12T08:19:36.991Z"
   },
   {
    "duration": 4,
    "start_time": "2024-07-12T08:19:37.001Z"
   },
   {
    "duration": 9,
    "start_time": "2024-07-12T08:19:37.007Z"
   },
   {
    "duration": 1435,
    "start_time": "2024-07-12T08:19:37.017Z"
   },
   {
    "duration": 9,
    "start_time": "2024-07-12T08:19:38.467Z"
   },
   {
    "duration": 6,
    "start_time": "2024-07-12T08:19:38.477Z"
   },
   {
    "duration": 236,
    "start_time": "2024-07-12T08:19:38.484Z"
   },
   {
    "duration": 1068,
    "start_time": "2024-07-12T08:20:25.424Z"
   },
   {
    "duration": 63,
    "start_time": "2024-07-12T08:20:26.494Z"
   },
   {
    "duration": 9,
    "start_time": "2024-07-12T08:20:26.558Z"
   },
   {
    "duration": 21,
    "start_time": "2024-07-12T08:20:26.568Z"
   },
   {
    "duration": 14,
    "start_time": "2024-07-12T08:20:26.591Z"
   },
   {
    "duration": 13,
    "start_time": "2024-07-12T08:20:26.607Z"
   },
   {
    "duration": 17,
    "start_time": "2024-07-12T08:20:26.621Z"
   },
   {
    "duration": 15,
    "start_time": "2024-07-12T08:20:26.639Z"
   },
   {
    "duration": 15,
    "start_time": "2024-07-12T08:20:26.655Z"
   },
   {
    "duration": 8,
    "start_time": "2024-07-12T08:20:26.671Z"
   },
   {
    "duration": 5,
    "start_time": "2024-07-12T08:20:26.680Z"
   },
   {
    "duration": 7,
    "start_time": "2024-07-12T08:20:26.686Z"
   },
   {
    "duration": 5,
    "start_time": "2024-07-12T08:20:26.695Z"
   },
   {
    "duration": 3,
    "start_time": "2024-07-12T08:20:26.703Z"
   },
   {
    "duration": 4,
    "start_time": "2024-07-12T08:20:26.708Z"
   },
   {
    "duration": 58,
    "start_time": "2024-07-12T08:20:26.713Z"
   },
   {
    "duration": 4,
    "start_time": "2024-07-12T08:20:26.772Z"
   },
   {
    "duration": 5,
    "start_time": "2024-07-12T08:20:26.777Z"
   },
   {
    "duration": 18,
    "start_time": "2024-07-12T08:20:26.783Z"
   },
   {
    "duration": 137,
    "start_time": "2024-07-12T08:20:26.802Z"
   },
   {
    "duration": 6,
    "start_time": "2024-07-12T08:20:26.941Z"
   },
   {
    "duration": 24,
    "start_time": "2024-07-12T08:20:26.948Z"
   },
   {
    "duration": 230,
    "start_time": "2024-07-12T08:20:26.973Z"
   },
   {
    "duration": 6,
    "start_time": "2024-07-12T08:20:27.204Z"
   },
   {
    "duration": 17,
    "start_time": "2024-07-12T08:20:27.211Z"
   },
   {
    "duration": 321,
    "start_time": "2024-07-12T08:20:27.229Z"
   },
   {
    "duration": 17,
    "start_time": "2024-07-12T08:20:27.557Z"
   },
   {
    "duration": 151,
    "start_time": "2024-07-12T08:20:27.575Z"
   },
   {
    "duration": 11,
    "start_time": "2024-07-12T08:20:27.728Z"
   },
   {
    "duration": 56,
    "start_time": "2024-07-12T08:20:27.740Z"
   },
   {
    "duration": 6,
    "start_time": "2024-07-12T08:20:27.798Z"
   },
   {
    "duration": 268,
    "start_time": "2024-07-12T08:20:27.805Z"
   },
   {
    "duration": 23,
    "start_time": "2024-07-12T08:20:28.074Z"
   },
   {
    "duration": 10,
    "start_time": "2024-07-12T08:20:28.099Z"
   },
   {
    "duration": 87,
    "start_time": "2024-07-12T08:20:28.110Z"
   },
   {
    "duration": 307,
    "start_time": "2024-07-12T08:20:28.198Z"
   },
   {
    "duration": 1550,
    "start_time": "2024-07-12T08:20:28.507Z"
   },
   {
    "duration": 311,
    "start_time": "2024-07-12T08:20:30.075Z"
   },
   {
    "duration": 1525,
    "start_time": "2024-07-12T08:20:30.388Z"
   },
   {
    "duration": 5,
    "start_time": "2024-07-12T08:20:31.914Z"
   },
   {
    "duration": 8,
    "start_time": "2024-07-12T08:20:31.922Z"
   },
   {
    "duration": 44,
    "start_time": "2024-07-12T08:20:31.931Z"
   },
   {
    "duration": 7,
    "start_time": "2024-07-12T08:20:31.976Z"
   },
   {
    "duration": 32,
    "start_time": "2024-07-12T08:20:31.985Z"
   },
   {
    "duration": 20,
    "start_time": "2024-07-12T08:20:32.019Z"
   },
   {
    "duration": 3,
    "start_time": "2024-07-12T08:20:32.040Z"
   },
   {
    "duration": 209,
    "start_time": "2024-07-12T08:20:32.044Z"
   },
   {
    "duration": 17,
    "start_time": "2024-07-12T08:20:32.255Z"
   },
   {
    "duration": 239,
    "start_time": "2024-07-12T08:20:32.273Z"
   },
   {
    "duration": 7,
    "start_time": "2024-07-12T08:20:32.514Z"
   },
   {
    "duration": 11,
    "start_time": "2024-07-12T08:20:32.523Z"
   },
   {
    "duration": 13,
    "start_time": "2024-07-12T08:20:32.535Z"
   },
   {
    "duration": 14,
    "start_time": "2024-07-12T08:20:32.549Z"
   },
   {
    "duration": 28,
    "start_time": "2024-07-12T08:20:32.566Z"
   },
   {
    "duration": 16,
    "start_time": "2024-07-12T08:20:32.595Z"
   },
   {
    "duration": 5,
    "start_time": "2024-07-12T08:20:32.612Z"
   },
   {
    "duration": 1423,
    "start_time": "2024-07-12T08:20:32.618Z"
   },
   {
    "duration": 4,
    "start_time": "2024-07-12T08:20:34.042Z"
   },
   {
    "duration": 24,
    "start_time": "2024-07-12T08:20:34.048Z"
   },
   {
    "duration": 246,
    "start_time": "2024-07-12T08:20:34.073Z"
   },
   {
    "duration": 1072,
    "start_time": "2024-07-12T08:22:00.505Z"
   },
   {
    "duration": 64,
    "start_time": "2024-07-12T08:22:01.579Z"
   },
   {
    "duration": 3,
    "start_time": "2024-07-12T08:22:01.644Z"
   },
   {
    "duration": 32,
    "start_time": "2024-07-12T08:22:01.649Z"
   },
   {
    "duration": 48,
    "start_time": "2024-07-12T08:22:01.682Z"
   },
   {
    "duration": 66,
    "start_time": "2024-07-12T08:22:01.732Z"
   },
   {
    "duration": 17,
    "start_time": "2024-07-12T08:22:01.800Z"
   },
   {
    "duration": 12,
    "start_time": "2024-07-12T08:22:01.819Z"
   },
   {
    "duration": 13,
    "start_time": "2024-07-12T08:22:01.833Z"
   },
   {
    "duration": 22,
    "start_time": "2024-07-12T08:22:01.848Z"
   },
   {
    "duration": 4,
    "start_time": "2024-07-12T08:22:01.872Z"
   },
   {
    "duration": 8,
    "start_time": "2024-07-12T08:22:01.877Z"
   },
   {
    "duration": 27,
    "start_time": "2024-07-12T08:22:01.886Z"
   },
   {
    "duration": 8,
    "start_time": "2024-07-12T08:22:01.914Z"
   },
   {
    "duration": 13,
    "start_time": "2024-07-12T08:22:01.924Z"
   },
   {
    "duration": 29,
    "start_time": "2024-07-12T08:22:01.938Z"
   },
   {
    "duration": 4,
    "start_time": "2024-07-12T08:22:01.967Z"
   },
   {
    "duration": 29,
    "start_time": "2024-07-12T08:22:01.972Z"
   },
   {
    "duration": 16,
    "start_time": "2024-07-12T08:22:02.002Z"
   },
   {
    "duration": 170,
    "start_time": "2024-07-12T08:22:02.020Z"
   },
   {
    "duration": 6,
    "start_time": "2024-07-12T08:22:02.192Z"
   },
   {
    "duration": 23,
    "start_time": "2024-07-12T08:22:02.199Z"
   },
   {
    "duration": 303,
    "start_time": "2024-07-12T08:22:02.224Z"
   },
   {
    "duration": 4,
    "start_time": "2024-07-12T08:22:02.528Z"
   },
   {
    "duration": 8,
    "start_time": "2024-07-12T08:22:02.534Z"
   },
   {
    "duration": 313,
    "start_time": "2024-07-12T08:22:02.557Z"
   },
   {
    "duration": 10,
    "start_time": "2024-07-12T08:22:02.872Z"
   },
   {
    "duration": 151,
    "start_time": "2024-07-12T08:22:02.887Z"
   },
   {
    "duration": 31,
    "start_time": "2024-07-12T08:22:03.040Z"
   },
   {
    "duration": 12,
    "start_time": "2024-07-12T08:22:03.072Z"
   },
   {
    "duration": 6,
    "start_time": "2024-07-12T08:22:03.085Z"
   },
   {
    "duration": 226,
    "start_time": "2024-07-12T08:22:03.093Z"
   },
   {
    "duration": 61,
    "start_time": "2024-07-12T08:22:03.320Z"
   },
   {
    "duration": 10,
    "start_time": "2024-07-12T08:22:03.383Z"
   },
   {
    "duration": 88,
    "start_time": "2024-07-12T08:22:03.394Z"
   },
   {
    "duration": 292,
    "start_time": "2024-07-12T08:22:03.483Z"
   },
   {
    "duration": 1539,
    "start_time": "2024-07-12T08:22:03.777Z"
   },
   {
    "duration": 333,
    "start_time": "2024-07-12T08:22:05.317Z"
   },
   {
    "duration": 1547,
    "start_time": "2024-07-12T08:22:05.652Z"
   },
   {
    "duration": 4,
    "start_time": "2024-07-12T08:22:07.201Z"
   },
   {
    "duration": 10,
    "start_time": "2024-07-12T08:22:07.206Z"
   },
   {
    "duration": 49,
    "start_time": "2024-07-12T08:22:07.218Z"
   },
   {
    "duration": 9,
    "start_time": "2024-07-12T08:22:07.269Z"
   },
   {
    "duration": 33,
    "start_time": "2024-07-12T08:22:07.279Z"
   },
   {
    "duration": 17,
    "start_time": "2024-07-12T08:22:07.314Z"
   },
   {
    "duration": 4,
    "start_time": "2024-07-12T08:22:07.333Z"
   },
   {
    "duration": 221,
    "start_time": "2024-07-12T08:22:07.339Z"
   },
   {
    "duration": 15,
    "start_time": "2024-07-12T08:22:07.562Z"
   },
   {
    "duration": 234,
    "start_time": "2024-07-12T08:22:07.578Z"
   },
   {
    "duration": 7,
    "start_time": "2024-07-12T08:22:07.814Z"
   },
   {
    "duration": 47,
    "start_time": "2024-07-12T08:22:07.823Z"
   },
   {
    "duration": 23,
    "start_time": "2024-07-12T08:22:07.872Z"
   },
   {
    "duration": 8,
    "start_time": "2024-07-12T08:22:07.897Z"
   },
   {
    "duration": 14,
    "start_time": "2024-07-12T08:22:07.906Z"
   },
   {
    "duration": 14,
    "start_time": "2024-07-12T08:22:07.921Z"
   },
   {
    "duration": 8,
    "start_time": "2024-07-12T08:22:07.937Z"
   },
   {
    "duration": 1405,
    "start_time": "2024-07-12T08:22:07.946Z"
   },
   {
    "duration": 11,
    "start_time": "2024-07-12T08:22:09.352Z"
   },
   {
    "duration": 12,
    "start_time": "2024-07-12T08:22:09.364Z"
   },
   {
    "duration": 262,
    "start_time": "2024-07-12T08:22:09.377Z"
   },
   {
    "duration": 1166,
    "start_time": "2024-07-12T08:37:04.209Z"
   },
   {
    "duration": 69,
    "start_time": "2024-07-12T08:37:05.377Z"
   },
   {
    "duration": 3,
    "start_time": "2024-07-12T08:37:05.448Z"
   },
   {
    "duration": 15,
    "start_time": "2024-07-12T08:37:05.453Z"
   },
   {
    "duration": 32,
    "start_time": "2024-07-12T08:37:05.470Z"
   },
   {
    "duration": 11,
    "start_time": "2024-07-12T08:37:05.505Z"
   },
   {
    "duration": 16,
    "start_time": "2024-07-12T08:37:05.518Z"
   },
   {
    "duration": 7,
    "start_time": "2024-07-12T08:37:05.536Z"
   },
   {
    "duration": 22,
    "start_time": "2024-07-12T08:37:05.544Z"
   },
   {
    "duration": 7,
    "start_time": "2024-07-12T08:37:05.569Z"
   },
   {
    "duration": 14,
    "start_time": "2024-07-12T08:37:05.578Z"
   },
   {
    "duration": 15,
    "start_time": "2024-07-12T08:37:05.594Z"
   },
   {
    "duration": 6,
    "start_time": "2024-07-12T08:37:05.611Z"
   },
   {
    "duration": 5,
    "start_time": "2024-07-12T08:37:05.618Z"
   },
   {
    "duration": 5,
    "start_time": "2024-07-12T08:37:05.625Z"
   },
   {
    "duration": 52,
    "start_time": "2024-07-12T08:37:05.632Z"
   },
   {
    "duration": 5,
    "start_time": "2024-07-12T08:37:05.685Z"
   },
   {
    "duration": 4,
    "start_time": "2024-07-12T08:37:05.692Z"
   },
   {
    "duration": 5,
    "start_time": "2024-07-12T08:37:05.698Z"
   },
   {
    "duration": 198,
    "start_time": "2024-07-12T08:37:05.705Z"
   },
   {
    "duration": 7,
    "start_time": "2024-07-12T08:37:05.904Z"
   },
   {
    "duration": 13,
    "start_time": "2024-07-12T08:37:05.912Z"
   },
   {
    "duration": 307,
    "start_time": "2024-07-12T08:37:05.926Z"
   },
   {
    "duration": 6,
    "start_time": "2024-07-12T08:37:06.234Z"
   },
   {
    "duration": 33,
    "start_time": "2024-07-12T08:37:06.241Z"
   },
   {
    "duration": 353,
    "start_time": "2024-07-12T08:37:06.276Z"
   },
   {
    "duration": 10,
    "start_time": "2024-07-12T08:37:06.630Z"
   },
   {
    "duration": 183,
    "start_time": "2024-07-12T08:37:06.644Z"
   },
   {
    "duration": 14,
    "start_time": "2024-07-12T08:37:06.828Z"
   },
   {
    "duration": 26,
    "start_time": "2024-07-12T08:37:06.843Z"
   },
   {
    "duration": 8,
    "start_time": "2024-07-12T08:37:06.871Z"
   },
   {
    "duration": 270,
    "start_time": "2024-07-12T08:37:06.880Z"
   },
   {
    "duration": 36,
    "start_time": "2024-07-12T08:37:07.152Z"
   },
   {
    "duration": 12,
    "start_time": "2024-07-12T08:37:07.190Z"
   },
   {
    "duration": 116,
    "start_time": "2024-07-12T08:37:07.203Z"
   },
   {
    "duration": 363,
    "start_time": "2024-07-12T08:37:07.320Z"
   },
   {
    "duration": 1637,
    "start_time": "2024-07-12T08:37:07.685Z"
   },
   {
    "duration": 405,
    "start_time": "2024-07-12T08:37:09.323Z"
   },
   {
    "duration": 1651,
    "start_time": "2024-07-12T08:37:09.729Z"
   },
   {
    "duration": 5,
    "start_time": "2024-07-12T08:37:11.381Z"
   },
   {
    "duration": 5,
    "start_time": "2024-07-12T08:37:11.388Z"
   },
   {
    "duration": 51,
    "start_time": "2024-07-12T08:37:11.395Z"
   },
   {
    "duration": 19,
    "start_time": "2024-07-12T08:37:11.447Z"
   },
   {
    "duration": 12,
    "start_time": "2024-07-12T08:37:11.468Z"
   },
   {
    "duration": 20,
    "start_time": "2024-07-12T08:37:11.482Z"
   },
   {
    "duration": 4,
    "start_time": "2024-07-12T08:37:11.504Z"
   },
   {
    "duration": 200,
    "start_time": "2024-07-12T08:37:11.509Z"
   },
   {
    "duration": 11,
    "start_time": "2024-07-12T08:37:11.710Z"
   },
   {
    "duration": 288,
    "start_time": "2024-07-12T08:37:11.722Z"
   },
   {
    "duration": 9,
    "start_time": "2024-07-12T08:37:12.011Z"
   },
   {
    "duration": 6,
    "start_time": "2024-07-12T08:37:12.021Z"
   },
   {
    "duration": 5,
    "start_time": "2024-07-12T08:37:12.029Z"
   },
   {
    "duration": 30,
    "start_time": "2024-07-12T08:37:12.036Z"
   },
   {
    "duration": 10,
    "start_time": "2024-07-12T08:37:12.068Z"
   },
   {
    "duration": 4,
    "start_time": "2024-07-12T08:37:12.080Z"
   },
   {
    "duration": 5,
    "start_time": "2024-07-12T08:37:12.085Z"
   },
   {
    "duration": 1778,
    "start_time": "2024-07-12T08:37:12.092Z"
   },
   {
    "duration": 5,
    "start_time": "2024-07-12T08:37:13.871Z"
   },
   {
    "duration": 15,
    "start_time": "2024-07-12T08:37:13.877Z"
   },
   {
    "duration": 237,
    "start_time": "2024-07-12T08:37:13.894Z"
   },
   {
    "duration": 7,
    "start_time": "2024-07-12T08:45:44.655Z"
   },
   {
    "duration": 1228,
    "start_time": "2024-07-12T08:52:14.156Z"
   },
   {
    "duration": 69,
    "start_time": "2024-07-12T08:52:15.386Z"
   },
   {
    "duration": 3,
    "start_time": "2024-07-12T08:52:15.457Z"
   },
   {
    "duration": 20,
    "start_time": "2024-07-12T08:52:15.462Z"
   },
   {
    "duration": 24,
    "start_time": "2024-07-12T08:52:15.484Z"
   },
   {
    "duration": 14,
    "start_time": "2024-07-12T08:52:15.509Z"
   },
   {
    "duration": 18,
    "start_time": "2024-07-12T08:52:15.525Z"
   },
   {
    "duration": 9,
    "start_time": "2024-07-12T08:52:15.545Z"
   },
   {
    "duration": 18,
    "start_time": "2024-07-12T08:52:15.565Z"
   },
   {
    "duration": 26,
    "start_time": "2024-07-12T08:52:15.585Z"
   },
   {
    "duration": 22,
    "start_time": "2024-07-12T08:52:15.613Z"
   },
   {
    "duration": 8,
    "start_time": "2024-07-12T08:52:15.637Z"
   },
   {
    "duration": 16,
    "start_time": "2024-07-12T08:52:15.647Z"
   },
   {
    "duration": 8,
    "start_time": "2024-07-12T08:52:15.664Z"
   },
   {
    "duration": 5,
    "start_time": "2024-07-12T08:52:15.674Z"
   },
   {
    "duration": 20,
    "start_time": "2024-07-12T08:52:15.681Z"
   },
   {
    "duration": 4,
    "start_time": "2024-07-12T08:52:15.704Z"
   },
   {
    "duration": 14,
    "start_time": "2024-07-12T08:52:15.710Z"
   },
   {
    "duration": 14,
    "start_time": "2024-07-12T08:52:15.726Z"
   },
   {
    "duration": 188,
    "start_time": "2024-07-12T08:52:15.741Z"
   },
   {
    "duration": 8,
    "start_time": "2024-07-12T08:52:15.930Z"
   },
   {
    "duration": 27,
    "start_time": "2024-07-12T08:52:15.940Z"
   },
   {
    "duration": 286,
    "start_time": "2024-07-12T08:52:15.969Z"
   },
   {
    "duration": 6,
    "start_time": "2024-07-12T08:52:16.264Z"
   },
   {
    "duration": 24,
    "start_time": "2024-07-12T08:52:16.271Z"
   },
   {
    "duration": 387,
    "start_time": "2024-07-12T08:52:16.297Z"
   },
   {
    "duration": 8,
    "start_time": "2024-07-12T08:52:16.686Z"
   },
   {
    "duration": 193,
    "start_time": "2024-07-12T08:52:16.698Z"
   },
   {
    "duration": 14,
    "start_time": "2024-07-12T08:52:16.893Z"
   },
   {
    "duration": 13,
    "start_time": "2024-07-12T08:52:16.908Z"
   },
   {
    "duration": 11,
    "start_time": "2024-07-12T08:52:16.922Z"
   },
   {
    "duration": 301,
    "start_time": "2024-07-12T08:52:16.935Z"
   },
   {
    "duration": 36,
    "start_time": "2024-07-12T08:52:17.238Z"
   },
   {
    "duration": 12,
    "start_time": "2024-07-12T08:52:17.275Z"
   },
   {
    "duration": 22,
    "start_time": "2024-07-12T08:52:17.289Z"
   },
   {
    "duration": 444,
    "start_time": "2024-07-12T08:52:17.313Z"
   },
   {
    "duration": 1648,
    "start_time": "2024-07-12T08:52:17.758Z"
   },
   {
    "duration": 391,
    "start_time": "2024-07-12T08:52:19.408Z"
   },
   {
    "duration": 1661,
    "start_time": "2024-07-12T08:52:19.800Z"
   },
   {
    "duration": 4,
    "start_time": "2024-07-12T08:52:21.463Z"
   },
   {
    "duration": 32,
    "start_time": "2024-07-12T08:52:21.469Z"
   },
   {
    "duration": 52,
    "start_time": "2024-07-12T08:52:21.503Z"
   },
   {
    "duration": 8,
    "start_time": "2024-07-12T08:52:21.557Z"
   },
   {
    "duration": 19,
    "start_time": "2024-07-12T08:52:21.566Z"
   },
   {
    "duration": 14,
    "start_time": "2024-07-12T08:52:21.586Z"
   },
   {
    "duration": 4,
    "start_time": "2024-07-12T08:52:21.602Z"
   },
   {
    "duration": 199,
    "start_time": "2024-07-12T08:52:21.607Z"
   },
   {
    "duration": 11,
    "start_time": "2024-07-12T08:52:21.807Z"
   },
   {
    "duration": 275,
    "start_time": "2024-07-12T08:52:21.819Z"
   },
   {
    "duration": 8,
    "start_time": "2024-07-12T08:52:22.096Z"
   },
   {
    "duration": 104,
    "start_time": "2024-07-12T08:52:22.105Z"
   },
   {
    "duration": 6,
    "start_time": "2024-07-12T08:52:22.210Z"
   },
   {
    "duration": 5,
    "start_time": "2024-07-12T08:52:22.217Z"
   },
   {
    "duration": 15,
    "start_time": "2024-07-12T08:52:22.223Z"
   },
   {
    "duration": 13,
    "start_time": "2024-07-12T08:52:22.240Z"
   },
   {
    "duration": 61,
    "start_time": "2024-07-12T08:52:22.254Z"
   },
   {
    "duration": 1741,
    "start_time": "2024-07-12T08:52:22.317Z"
   },
   {
    "duration": 7,
    "start_time": "2024-07-12T08:52:24.060Z"
   },
   {
    "duration": 10,
    "start_time": "2024-07-12T08:52:24.069Z"
   },
   {
    "duration": 243,
    "start_time": "2024-07-12T08:52:24.081Z"
   },
   {
    "duration": 4,
    "start_time": "2024-07-12T09:39:37.066Z"
   },
   {
    "duration": 89,
    "start_time": "2024-07-12T09:39:49.401Z"
   },
   {
    "duration": 66,
    "start_time": "2024-07-12T09:41:05.985Z"
   },
   {
    "duration": 64,
    "start_time": "2024-07-12T09:41:10.952Z"
   },
   {
    "duration": 61,
    "start_time": "2024-07-12T09:41:13.781Z"
   },
   {
    "duration": 70,
    "start_time": "2024-07-12T09:41:27.170Z"
   },
   {
    "duration": 1079,
    "start_time": "2024-07-12T09:44:24.045Z"
   },
   {
    "duration": 63,
    "start_time": "2024-07-12T09:44:25.126Z"
   },
   {
    "duration": 2,
    "start_time": "2024-07-12T09:44:25.191Z"
   },
   {
    "duration": 18,
    "start_time": "2024-07-12T09:44:25.195Z"
   },
   {
    "duration": 10,
    "start_time": "2024-07-12T09:44:25.215Z"
   },
   {
    "duration": 16,
    "start_time": "2024-07-12T09:44:25.226Z"
   },
   {
    "duration": 18,
    "start_time": "2024-07-12T09:44:25.243Z"
   },
   {
    "duration": 7,
    "start_time": "2024-07-12T09:44:25.263Z"
   },
   {
    "duration": 29,
    "start_time": "2024-07-12T09:44:25.271Z"
   },
   {
    "duration": 6,
    "start_time": "2024-07-12T09:44:25.301Z"
   },
   {
    "duration": 4,
    "start_time": "2024-07-12T09:44:25.308Z"
   },
   {
    "duration": 89,
    "start_time": "2024-07-12T09:44:25.313Z"
   },
   {
    "duration": 0,
    "start_time": "2024-07-12T09:44:25.406Z"
   },
   {
    "duration": 0,
    "start_time": "2024-07-12T09:44:25.407Z"
   },
   {
    "duration": 0,
    "start_time": "2024-07-12T09:44:25.408Z"
   },
   {
    "duration": 0,
    "start_time": "2024-07-12T09:44:25.410Z"
   },
   {
    "duration": 0,
    "start_time": "2024-07-12T09:44:25.410Z"
   },
   {
    "duration": 0,
    "start_time": "2024-07-12T09:44:25.411Z"
   },
   {
    "duration": 0,
    "start_time": "2024-07-12T09:44:25.412Z"
   },
   {
    "duration": 0,
    "start_time": "2024-07-12T09:44:25.413Z"
   },
   {
    "duration": 0,
    "start_time": "2024-07-12T09:44:25.415Z"
   },
   {
    "duration": 0,
    "start_time": "2024-07-12T09:44:25.416Z"
   },
   {
    "duration": 0,
    "start_time": "2024-07-12T09:44:25.417Z"
   },
   {
    "duration": 0,
    "start_time": "2024-07-12T09:44:25.419Z"
   },
   {
    "duration": 0,
    "start_time": "2024-07-12T09:44:25.420Z"
   },
   {
    "duration": 0,
    "start_time": "2024-07-12T09:44:25.421Z"
   },
   {
    "duration": 0,
    "start_time": "2024-07-12T09:44:25.422Z"
   },
   {
    "duration": 0,
    "start_time": "2024-07-12T09:44:25.423Z"
   },
   {
    "duration": 0,
    "start_time": "2024-07-12T09:44:25.425Z"
   },
   {
    "duration": 0,
    "start_time": "2024-07-12T09:44:25.426Z"
   },
   {
    "duration": 0,
    "start_time": "2024-07-12T09:44:25.457Z"
   },
   {
    "duration": 0,
    "start_time": "2024-07-12T09:44:25.458Z"
   },
   {
    "duration": 0,
    "start_time": "2024-07-12T09:44:25.460Z"
   },
   {
    "duration": 0,
    "start_time": "2024-07-12T09:44:25.461Z"
   },
   {
    "duration": 0,
    "start_time": "2024-07-12T09:44:25.462Z"
   },
   {
    "duration": 0,
    "start_time": "2024-07-12T09:44:25.463Z"
   },
   {
    "duration": 0,
    "start_time": "2024-07-12T09:44:25.464Z"
   },
   {
    "duration": 0,
    "start_time": "2024-07-12T09:44:25.465Z"
   },
   {
    "duration": 0,
    "start_time": "2024-07-12T09:44:25.467Z"
   },
   {
    "duration": 0,
    "start_time": "2024-07-12T09:44:25.468Z"
   },
   {
    "duration": 0,
    "start_time": "2024-07-12T09:44:25.469Z"
   },
   {
    "duration": 0,
    "start_time": "2024-07-12T09:44:25.470Z"
   },
   {
    "duration": 0,
    "start_time": "2024-07-12T09:44:25.471Z"
   },
   {
    "duration": 0,
    "start_time": "2024-07-12T09:44:25.472Z"
   },
   {
    "duration": 0,
    "start_time": "2024-07-12T09:44:25.473Z"
   },
   {
    "duration": 0,
    "start_time": "2024-07-12T09:44:25.474Z"
   },
   {
    "duration": 0,
    "start_time": "2024-07-12T09:44:25.475Z"
   },
   {
    "duration": 0,
    "start_time": "2024-07-12T09:44:25.476Z"
   },
   {
    "duration": 0,
    "start_time": "2024-07-12T09:44:25.477Z"
   },
   {
    "duration": 0,
    "start_time": "2024-07-12T09:44:25.478Z"
   },
   {
    "duration": 0,
    "start_time": "2024-07-12T09:44:25.479Z"
   },
   {
    "duration": 1,
    "start_time": "2024-07-12T09:44:25.480Z"
   },
   {
    "duration": 0,
    "start_time": "2024-07-12T09:44:25.481Z"
   },
   {
    "duration": 0,
    "start_time": "2024-07-12T09:44:25.482Z"
   },
   {
    "duration": 0,
    "start_time": "2024-07-12T09:44:25.483Z"
   },
   {
    "duration": 0,
    "start_time": "2024-07-12T09:44:25.484Z"
   },
   {
    "duration": 0,
    "start_time": "2024-07-12T09:44:25.486Z"
   },
   {
    "duration": 0,
    "start_time": "2024-07-12T09:44:25.487Z"
   },
   {
    "duration": 0,
    "start_time": "2024-07-12T09:44:25.488Z"
   },
   {
    "duration": 0,
    "start_time": "2024-07-12T09:44:25.489Z"
   },
   {
    "duration": 0,
    "start_time": "2024-07-12T09:44:25.490Z"
   },
   {
    "duration": 129,
    "start_time": "2024-07-12T09:44:47.406Z"
   },
   {
    "duration": 1087,
    "start_time": "2024-07-12T09:45:05.520Z"
   },
   {
    "duration": 62,
    "start_time": "2024-07-12T09:45:06.609Z"
   },
   {
    "duration": 3,
    "start_time": "2024-07-12T09:45:06.672Z"
   },
   {
    "duration": 14,
    "start_time": "2024-07-12T09:45:06.676Z"
   },
   {
    "duration": 11,
    "start_time": "2024-07-12T09:45:06.692Z"
   },
   {
    "duration": 6,
    "start_time": "2024-07-12T09:45:06.704Z"
   },
   {
    "duration": 11,
    "start_time": "2024-07-12T09:45:06.712Z"
   },
   {
    "duration": 5,
    "start_time": "2024-07-12T09:45:06.724Z"
   },
   {
    "duration": 7,
    "start_time": "2024-07-12T09:45:06.731Z"
   },
   {
    "duration": 18,
    "start_time": "2024-07-12T09:45:06.739Z"
   },
   {
    "duration": 4,
    "start_time": "2024-07-12T09:45:06.758Z"
   },
   {
    "duration": 97,
    "start_time": "2024-07-12T09:45:06.763Z"
   },
   {
    "duration": 0,
    "start_time": "2024-07-12T09:45:06.862Z"
   },
   {
    "duration": 0,
    "start_time": "2024-07-12T09:45:06.863Z"
   },
   {
    "duration": 0,
    "start_time": "2024-07-12T09:45:06.864Z"
   },
   {
    "duration": 0,
    "start_time": "2024-07-12T09:45:06.866Z"
   },
   {
    "duration": 0,
    "start_time": "2024-07-12T09:45:06.867Z"
   },
   {
    "duration": 0,
    "start_time": "2024-07-12T09:45:06.868Z"
   },
   {
    "duration": 0,
    "start_time": "2024-07-12T09:45:06.869Z"
   },
   {
    "duration": 0,
    "start_time": "2024-07-12T09:45:06.869Z"
   },
   {
    "duration": 0,
    "start_time": "2024-07-12T09:45:06.870Z"
   },
   {
    "duration": 0,
    "start_time": "2024-07-12T09:45:06.871Z"
   },
   {
    "duration": 0,
    "start_time": "2024-07-12T09:45:06.872Z"
   },
   {
    "duration": 0,
    "start_time": "2024-07-12T09:45:06.873Z"
   },
   {
    "duration": 0,
    "start_time": "2024-07-12T09:45:06.874Z"
   },
   {
    "duration": 0,
    "start_time": "2024-07-12T09:45:06.875Z"
   },
   {
    "duration": 0,
    "start_time": "2024-07-12T09:45:06.876Z"
   },
   {
    "duration": 0,
    "start_time": "2024-07-12T09:45:06.877Z"
   },
   {
    "duration": 0,
    "start_time": "2024-07-12T09:45:06.877Z"
   },
   {
    "duration": 0,
    "start_time": "2024-07-12T09:45:06.879Z"
   },
   {
    "duration": 0,
    "start_time": "2024-07-12T09:45:06.880Z"
   },
   {
    "duration": 0,
    "start_time": "2024-07-12T09:45:06.881Z"
   },
   {
    "duration": 0,
    "start_time": "2024-07-12T09:45:06.882Z"
   },
   {
    "duration": 0,
    "start_time": "2024-07-12T09:45:06.884Z"
   },
   {
    "duration": 0,
    "start_time": "2024-07-12T09:45:06.884Z"
   },
   {
    "duration": 0,
    "start_time": "2024-07-12T09:45:06.885Z"
   },
   {
    "duration": 0,
    "start_time": "2024-07-12T09:45:06.886Z"
   },
   {
    "duration": 0,
    "start_time": "2024-07-12T09:45:06.887Z"
   },
   {
    "duration": 0,
    "start_time": "2024-07-12T09:45:06.889Z"
   },
   {
    "duration": 1,
    "start_time": "2024-07-12T09:45:06.890Z"
   },
   {
    "duration": 0,
    "start_time": "2024-07-12T09:45:06.891Z"
   },
   {
    "duration": 0,
    "start_time": "2024-07-12T09:45:06.892Z"
   },
   {
    "duration": 0,
    "start_time": "2024-07-12T09:45:06.893Z"
   },
   {
    "duration": 0,
    "start_time": "2024-07-12T09:45:06.894Z"
   },
   {
    "duration": 0,
    "start_time": "2024-07-12T09:45:06.895Z"
   },
   {
    "duration": 0,
    "start_time": "2024-07-12T09:45:06.896Z"
   },
   {
    "duration": 0,
    "start_time": "2024-07-12T09:45:06.897Z"
   },
   {
    "duration": 0,
    "start_time": "2024-07-12T09:45:06.898Z"
   },
   {
    "duration": 0,
    "start_time": "2024-07-12T09:45:06.899Z"
   },
   {
    "duration": 0,
    "start_time": "2024-07-12T09:45:06.899Z"
   },
   {
    "duration": 0,
    "start_time": "2024-07-12T09:45:06.900Z"
   },
   {
    "duration": 0,
    "start_time": "2024-07-12T09:45:06.900Z"
   },
   {
    "duration": 0,
    "start_time": "2024-07-12T09:45:06.901Z"
   },
   {
    "duration": 0,
    "start_time": "2024-07-12T09:45:06.901Z"
   },
   {
    "duration": 0,
    "start_time": "2024-07-12T09:45:06.902Z"
   },
   {
    "duration": 0,
    "start_time": "2024-07-12T09:45:06.957Z"
   },
   {
    "duration": 0,
    "start_time": "2024-07-12T09:45:06.958Z"
   },
   {
    "duration": 0,
    "start_time": "2024-07-12T09:45:06.959Z"
   },
   {
    "duration": 0,
    "start_time": "2024-07-12T09:45:06.960Z"
   },
   {
    "duration": 0,
    "start_time": "2024-07-12T09:45:06.961Z"
   },
   {
    "duration": 0,
    "start_time": "2024-07-12T09:45:06.962Z"
   },
   {
    "duration": 1001,
    "start_time": "2024-07-12T09:45:34.502Z"
   },
   {
    "duration": 62,
    "start_time": "2024-07-12T09:45:35.504Z"
   },
   {
    "duration": 2,
    "start_time": "2024-07-12T09:45:35.568Z"
   },
   {
    "duration": 11,
    "start_time": "2024-07-12T09:45:35.572Z"
   },
   {
    "duration": 9,
    "start_time": "2024-07-12T09:45:35.585Z"
   },
   {
    "duration": 16,
    "start_time": "2024-07-12T09:45:35.596Z"
   },
   {
    "duration": 11,
    "start_time": "2024-07-12T09:45:35.614Z"
   },
   {
    "duration": 6,
    "start_time": "2024-07-12T09:45:35.629Z"
   },
   {
    "duration": 9,
    "start_time": "2024-07-12T09:45:35.637Z"
   },
   {
    "duration": 5,
    "start_time": "2024-07-12T09:45:35.657Z"
   },
   {
    "duration": 19,
    "start_time": "2024-07-12T09:45:35.663Z"
   },
   {
    "duration": 116,
    "start_time": "2024-07-12T09:45:35.683Z"
   },
   {
    "duration": 0,
    "start_time": "2024-07-12T09:45:35.801Z"
   },
   {
    "duration": 0,
    "start_time": "2024-07-12T09:45:35.802Z"
   },
   {
    "duration": 0,
    "start_time": "2024-07-12T09:45:35.803Z"
   },
   {
    "duration": 0,
    "start_time": "2024-07-12T09:45:35.804Z"
   },
   {
    "duration": 0,
    "start_time": "2024-07-12T09:45:35.805Z"
   },
   {
    "duration": 0,
    "start_time": "2024-07-12T09:45:35.806Z"
   },
   {
    "duration": 0,
    "start_time": "2024-07-12T09:45:35.807Z"
   },
   {
    "duration": 0,
    "start_time": "2024-07-12T09:45:35.808Z"
   },
   {
    "duration": 1,
    "start_time": "2024-07-12T09:45:35.808Z"
   },
   {
    "duration": 0,
    "start_time": "2024-07-12T09:45:35.810Z"
   },
   {
    "duration": 0,
    "start_time": "2024-07-12T09:45:35.810Z"
   },
   {
    "duration": 0,
    "start_time": "2024-07-12T09:45:35.811Z"
   },
   {
    "duration": 0,
    "start_time": "2024-07-12T09:45:35.812Z"
   },
   {
    "duration": 0,
    "start_time": "2024-07-12T09:45:35.813Z"
   },
   {
    "duration": 0,
    "start_time": "2024-07-12T09:45:35.813Z"
   },
   {
    "duration": 0,
    "start_time": "2024-07-12T09:45:35.814Z"
   },
   {
    "duration": 0,
    "start_time": "2024-07-12T09:45:35.815Z"
   },
   {
    "duration": 0,
    "start_time": "2024-07-12T09:45:35.816Z"
   },
   {
    "duration": 0,
    "start_time": "2024-07-12T09:45:35.817Z"
   },
   {
    "duration": 0,
    "start_time": "2024-07-12T09:45:35.818Z"
   },
   {
    "duration": 0,
    "start_time": "2024-07-12T09:45:35.819Z"
   },
   {
    "duration": 0,
    "start_time": "2024-07-12T09:45:35.820Z"
   },
   {
    "duration": 0,
    "start_time": "2024-07-12T09:45:35.820Z"
   },
   {
    "duration": 0,
    "start_time": "2024-07-12T09:45:35.821Z"
   },
   {
    "duration": 0,
    "start_time": "2024-07-12T09:45:35.822Z"
   },
   {
    "duration": 0,
    "start_time": "2024-07-12T09:45:35.823Z"
   },
   {
    "duration": 0,
    "start_time": "2024-07-12T09:45:35.857Z"
   },
   {
    "duration": 0,
    "start_time": "2024-07-12T09:45:35.858Z"
   },
   {
    "duration": 0,
    "start_time": "2024-07-12T09:45:35.859Z"
   },
   {
    "duration": 0,
    "start_time": "2024-07-12T09:45:35.860Z"
   },
   {
    "duration": 0,
    "start_time": "2024-07-12T09:45:35.861Z"
   },
   {
    "duration": 0,
    "start_time": "2024-07-12T09:45:35.862Z"
   },
   {
    "duration": 0,
    "start_time": "2024-07-12T09:45:35.862Z"
   },
   {
    "duration": 0,
    "start_time": "2024-07-12T09:45:35.863Z"
   },
   {
    "duration": 0,
    "start_time": "2024-07-12T09:45:35.864Z"
   },
   {
    "duration": 0,
    "start_time": "2024-07-12T09:45:35.865Z"
   },
   {
    "duration": 0,
    "start_time": "2024-07-12T09:45:35.866Z"
   },
   {
    "duration": 0,
    "start_time": "2024-07-12T09:45:35.866Z"
   },
   {
    "duration": 0,
    "start_time": "2024-07-12T09:45:35.867Z"
   },
   {
    "duration": 0,
    "start_time": "2024-07-12T09:45:35.868Z"
   },
   {
    "duration": 0,
    "start_time": "2024-07-12T09:45:35.869Z"
   },
   {
    "duration": 0,
    "start_time": "2024-07-12T09:45:35.869Z"
   },
   {
    "duration": 0,
    "start_time": "2024-07-12T09:45:35.871Z"
   },
   {
    "duration": 0,
    "start_time": "2024-07-12T09:45:35.871Z"
   },
   {
    "duration": 0,
    "start_time": "2024-07-12T09:45:35.872Z"
   },
   {
    "duration": 0,
    "start_time": "2024-07-12T09:45:35.873Z"
   },
   {
    "duration": 0,
    "start_time": "2024-07-12T09:45:35.873Z"
   },
   {
    "duration": 0,
    "start_time": "2024-07-12T09:45:35.874Z"
   },
   {
    "duration": 0,
    "start_time": "2024-07-12T09:45:35.875Z"
   },
   {
    "duration": 4,
    "start_time": "2024-07-12T09:46:23.727Z"
   },
   {
    "duration": 1004,
    "start_time": "2024-07-12T09:46:30.003Z"
   },
   {
    "duration": 64,
    "start_time": "2024-07-12T09:46:31.008Z"
   },
   {
    "duration": 93,
    "start_time": "2024-07-12T09:46:31.073Z"
   },
   {
    "duration": 42,
    "start_time": "2024-07-12T09:46:31.168Z"
   },
   {
    "duration": 79,
    "start_time": "2024-07-12T09:46:31.212Z"
   },
   {
    "duration": 29,
    "start_time": "2024-07-12T09:46:31.292Z"
   },
   {
    "duration": 35,
    "start_time": "2024-07-12T09:46:31.322Z"
   },
   {
    "duration": 19,
    "start_time": "2024-07-12T09:46:31.358Z"
   },
   {
    "duration": 41,
    "start_time": "2024-07-12T09:46:31.379Z"
   },
   {
    "duration": 24,
    "start_time": "2024-07-12T09:46:31.422Z"
   },
   {
    "duration": 29,
    "start_time": "2024-07-12T09:46:31.447Z"
   },
   {
    "duration": 38,
    "start_time": "2024-07-12T09:46:31.477Z"
   },
   {
    "duration": 29,
    "start_time": "2024-07-12T09:46:31.517Z"
   },
   {
    "duration": 20,
    "start_time": "2024-07-12T09:46:31.548Z"
   },
   {
    "duration": 22,
    "start_time": "2024-07-12T09:46:31.569Z"
   },
   {
    "duration": 25,
    "start_time": "2024-07-12T09:46:31.593Z"
   },
   {
    "duration": 24,
    "start_time": "2024-07-12T09:46:31.620Z"
   },
   {
    "duration": 35,
    "start_time": "2024-07-12T09:46:31.645Z"
   },
   {
    "duration": 28,
    "start_time": "2024-07-12T09:46:31.681Z"
   },
   {
    "duration": 17,
    "start_time": "2024-07-12T09:46:31.711Z"
   },
   {
    "duration": 159,
    "start_time": "2024-07-12T09:46:31.728Z"
   },
   {
    "duration": 6,
    "start_time": "2024-07-12T09:46:31.888Z"
   },
   {
    "duration": 25,
    "start_time": "2024-07-12T09:46:31.895Z"
   },
   {
    "duration": 278,
    "start_time": "2024-07-12T09:46:31.921Z"
   },
   {
    "duration": 5,
    "start_time": "2024-07-12T09:46:32.200Z"
   },
   {
    "duration": 8,
    "start_time": "2024-07-12T09:46:32.206Z"
   },
   {
    "duration": 332,
    "start_time": "2024-07-12T09:46:32.215Z"
   },
   {
    "duration": 7,
    "start_time": "2024-07-12T09:46:32.556Z"
   },
   {
    "duration": 148,
    "start_time": "2024-07-12T09:46:32.564Z"
   },
   {
    "duration": 12,
    "start_time": "2024-07-12T09:46:32.713Z"
   },
   {
    "duration": 10,
    "start_time": "2024-07-12T09:46:32.727Z"
   },
   {
    "duration": 20,
    "start_time": "2024-07-12T09:46:32.738Z"
   },
   {
    "duration": 260,
    "start_time": "2024-07-12T09:46:32.759Z"
   },
   {
    "duration": 22,
    "start_time": "2024-07-12T09:46:33.021Z"
   },
   {
    "duration": 20,
    "start_time": "2024-07-12T09:46:33.044Z"
   },
   {
    "duration": 76,
    "start_time": "2024-07-12T09:46:33.065Z"
   },
   {
    "duration": 273,
    "start_time": "2024-07-12T09:46:33.142Z"
   },
   {
    "duration": 1408,
    "start_time": "2024-07-12T09:46:33.416Z"
   },
   {
    "duration": 295,
    "start_time": "2024-07-12T09:46:34.825Z"
   },
   {
    "duration": 1403,
    "start_time": "2024-07-12T09:46:35.121Z"
   },
   {
    "duration": 4,
    "start_time": "2024-07-12T09:46:36.526Z"
   },
   {
    "duration": 4,
    "start_time": "2024-07-12T09:46:36.531Z"
   },
   {
    "duration": 48,
    "start_time": "2024-07-12T09:46:36.536Z"
   },
   {
    "duration": 7,
    "start_time": "2024-07-12T09:46:36.585Z"
   },
   {
    "duration": 10,
    "start_time": "2024-07-12T09:46:36.593Z"
   },
   {
    "duration": 19,
    "start_time": "2024-07-12T09:46:36.604Z"
   },
   {
    "duration": 3,
    "start_time": "2024-07-12T09:46:36.624Z"
   },
   {
    "duration": 189,
    "start_time": "2024-07-12T09:46:36.629Z"
   },
   {
    "duration": 10,
    "start_time": "2024-07-12T09:46:36.819Z"
   },
   {
    "duration": 264,
    "start_time": "2024-07-12T09:46:36.830Z"
   },
   {
    "duration": 7,
    "start_time": "2024-07-12T09:46:37.095Z"
   },
   {
    "duration": 9,
    "start_time": "2024-07-12T09:46:37.103Z"
   },
   {
    "duration": 5,
    "start_time": "2024-07-12T09:46:37.113Z"
   },
   {
    "duration": 9,
    "start_time": "2024-07-12T09:46:37.119Z"
   },
   {
    "duration": 9,
    "start_time": "2024-07-12T09:46:37.130Z"
   },
   {
    "duration": 20,
    "start_time": "2024-07-12T09:46:37.157Z"
   },
   {
    "duration": 8,
    "start_time": "2024-07-12T09:46:37.178Z"
   },
   {
    "duration": 1316,
    "start_time": "2024-07-12T09:46:37.187Z"
   },
   {
    "duration": 4,
    "start_time": "2024-07-12T09:46:38.504Z"
   },
   {
    "duration": 10,
    "start_time": "2024-07-12T09:46:38.509Z"
   },
   {
    "duration": 193,
    "start_time": "2024-07-12T09:46:38.520Z"
   },
   {
    "duration": 62,
    "start_time": "2024-07-12T09:47:08.126Z"
   },
   {
    "duration": 199,
    "start_time": "2024-07-12T09:47:14.516Z"
   },
   {
    "duration": 119,
    "start_time": "2024-07-12T09:48:06.980Z"
   },
   {
    "duration": 123,
    "start_time": "2024-07-12T09:48:30.592Z"
   },
   {
    "duration": 1020,
    "start_time": "2024-07-12T09:48:36.781Z"
   },
   {
    "duration": 63,
    "start_time": "2024-07-12T09:48:37.803Z"
   },
   {
    "duration": 3,
    "start_time": "2024-07-12T09:48:37.867Z"
   },
   {
    "duration": 15,
    "start_time": "2024-07-12T09:48:37.872Z"
   },
   {
    "duration": 8,
    "start_time": "2024-07-12T09:48:37.888Z"
   },
   {
    "duration": 6,
    "start_time": "2024-07-12T09:48:37.898Z"
   },
   {
    "duration": 18,
    "start_time": "2024-07-12T09:48:37.905Z"
   },
   {
    "duration": 10,
    "start_time": "2024-07-12T09:48:37.924Z"
   },
   {
    "duration": 7,
    "start_time": "2024-07-12T09:48:37.936Z"
   },
   {
    "duration": 6,
    "start_time": "2024-07-12T09:48:37.945Z"
   },
   {
    "duration": 4,
    "start_time": "2024-07-12T09:48:37.957Z"
   },
   {
    "duration": 6,
    "start_time": "2024-07-12T09:48:37.962Z"
   },
   {
    "duration": 8,
    "start_time": "2024-07-12T09:48:37.969Z"
   },
   {
    "duration": 5,
    "start_time": "2024-07-12T09:48:37.978Z"
   },
   {
    "duration": 11,
    "start_time": "2024-07-12T09:48:37.984Z"
   },
   {
    "duration": 8,
    "start_time": "2024-07-12T09:48:37.997Z"
   },
   {
    "duration": 20,
    "start_time": "2024-07-12T09:48:38.006Z"
   },
   {
    "duration": 5,
    "start_time": "2024-07-12T09:48:38.057Z"
   },
   {
    "duration": 40,
    "start_time": "2024-07-12T09:48:38.063Z"
   },
   {
    "duration": 42,
    "start_time": "2024-07-12T09:48:38.105Z"
   },
   {
    "duration": 138,
    "start_time": "2024-07-12T09:48:38.149Z"
   },
   {
    "duration": 7,
    "start_time": "2024-07-12T09:48:38.289Z"
   },
   {
    "duration": 14,
    "start_time": "2024-07-12T09:48:38.297Z"
   },
   {
    "duration": 281,
    "start_time": "2024-07-12T09:48:38.312Z"
   },
   {
    "duration": 5,
    "start_time": "2024-07-12T09:48:38.594Z"
   },
   {
    "duration": 17,
    "start_time": "2024-07-12T09:48:38.600Z"
   },
   {
    "duration": 329,
    "start_time": "2024-07-12T09:48:38.618Z"
   },
   {
    "duration": 8,
    "start_time": "2024-07-12T09:48:38.956Z"
   },
   {
    "duration": 171,
    "start_time": "2024-07-12T09:48:38.965Z"
   },
   {
    "duration": 12,
    "start_time": "2024-07-12T09:48:39.137Z"
   },
   {
    "duration": 13,
    "start_time": "2024-07-12T09:48:39.150Z"
   },
   {
    "duration": 7,
    "start_time": "2024-07-12T09:48:39.165Z"
   },
   {
    "duration": 246,
    "start_time": "2024-07-12T09:48:39.173Z"
   },
   {
    "duration": 22,
    "start_time": "2024-07-12T09:48:39.420Z"
   },
   {
    "duration": 22,
    "start_time": "2024-07-12T09:48:39.443Z"
   },
   {
    "duration": 69,
    "start_time": "2024-07-12T09:48:39.466Z"
   },
   {
    "duration": 279,
    "start_time": "2024-07-12T09:48:39.536Z"
   },
   {
    "duration": 1420,
    "start_time": "2024-07-12T09:48:39.816Z"
   },
   {
    "duration": 292,
    "start_time": "2024-07-12T09:48:41.237Z"
   },
   {
    "duration": 1399,
    "start_time": "2024-07-12T09:48:41.531Z"
   },
   {
    "duration": 4,
    "start_time": "2024-07-12T09:48:42.932Z"
   },
   {
    "duration": 19,
    "start_time": "2024-07-12T09:48:42.938Z"
   },
   {
    "duration": 39,
    "start_time": "2024-07-12T09:48:42.959Z"
   },
   {
    "duration": 7,
    "start_time": "2024-07-12T09:48:43.000Z"
   },
   {
    "duration": 12,
    "start_time": "2024-07-12T09:48:43.008Z"
   },
   {
    "duration": 13,
    "start_time": "2024-07-12T09:48:43.022Z"
   },
   {
    "duration": 22,
    "start_time": "2024-07-12T09:48:43.037Z"
   },
   {
    "duration": 193,
    "start_time": "2024-07-12T09:48:43.061Z"
   },
   {
    "duration": 10,
    "start_time": "2024-07-12T09:48:43.255Z"
   },
   {
    "duration": 241,
    "start_time": "2024-07-12T09:48:43.267Z"
   },
   {
    "duration": 7,
    "start_time": "2024-07-12T09:48:43.509Z"
   },
   {
    "duration": 25,
    "start_time": "2024-07-12T09:48:43.518Z"
   },
   {
    "duration": 14,
    "start_time": "2024-07-12T09:48:43.544Z"
   },
   {
    "duration": 14,
    "start_time": "2024-07-12T09:48:43.559Z"
   },
   {
    "duration": 9,
    "start_time": "2024-07-12T09:48:43.575Z"
   },
   {
    "duration": 3,
    "start_time": "2024-07-12T09:48:43.586Z"
   },
   {
    "duration": 4,
    "start_time": "2024-07-12T09:48:43.590Z"
   },
   {
    "duration": 1333,
    "start_time": "2024-07-12T09:48:43.596Z"
   },
   {
    "duration": 4,
    "start_time": "2024-07-12T09:48:44.930Z"
   },
   {
    "duration": 5,
    "start_time": "2024-07-12T09:48:44.936Z"
   },
   {
    "duration": 252,
    "start_time": "2024-07-12T09:48:44.942Z"
   },
   {
    "duration": 154,
    "start_time": "2024-07-12T09:52:16.997Z"
   },
   {
    "duration": 53,
    "start_time": "2024-07-12T09:52:20.287Z"
   },
   {
    "duration": 53,
    "start_time": "2024-07-12T09:52:45.238Z"
   },
   {
    "duration": 68,
    "start_time": "2024-07-12T09:53:03.040Z"
   },
   {
    "duration": 69,
    "start_time": "2024-07-12T09:53:58.068Z"
   },
   {
    "duration": 64,
    "start_time": "2024-07-12T09:54:05.728Z"
   },
   {
    "duration": 76,
    "start_time": "2024-07-12T09:54:18.067Z"
   },
   {
    "duration": 61,
    "start_time": "2024-07-12T09:54:20.309Z"
   },
   {
    "duration": 146,
    "start_time": "2024-07-12T09:54:24.349Z"
   },
   {
    "duration": 57,
    "start_time": "2024-07-12T09:54:51.407Z"
   },
   {
    "duration": 65,
    "start_time": "2024-07-12T09:55:30.264Z"
   },
   {
    "duration": 61,
    "start_time": "2024-07-12T09:55:59.365Z"
   },
   {
    "duration": 62,
    "start_time": "2024-07-12T09:56:44.207Z"
   },
   {
    "duration": 63,
    "start_time": "2024-07-12T09:57:01.175Z"
   },
   {
    "duration": 68,
    "start_time": "2024-07-12T09:57:08.716Z"
   },
   {
    "duration": 59,
    "start_time": "2024-07-12T09:57:23.504Z"
   },
   {
    "duration": 1012,
    "start_time": "2024-07-12T09:57:30.698Z"
   },
   {
    "duration": 65,
    "start_time": "2024-07-12T09:57:31.712Z"
   },
   {
    "duration": 13,
    "start_time": "2024-07-12T09:57:31.779Z"
   },
   {
    "duration": 18,
    "start_time": "2024-07-12T09:57:31.794Z"
   },
   {
    "duration": 62,
    "start_time": "2024-07-12T09:57:31.814Z"
   },
   {
    "duration": 88,
    "start_time": "2024-07-12T09:57:31.878Z"
   },
   {
    "duration": 33,
    "start_time": "2024-07-12T09:57:31.967Z"
   },
   {
    "duration": 11,
    "start_time": "2024-07-12T09:57:32.001Z"
   },
   {
    "duration": 15,
    "start_time": "2024-07-12T09:57:32.013Z"
   },
   {
    "duration": 7,
    "start_time": "2024-07-12T09:57:32.030Z"
   },
   {
    "duration": 7,
    "start_time": "2024-07-12T09:57:32.038Z"
   },
   {
    "duration": 21,
    "start_time": "2024-07-12T09:57:32.046Z"
   },
   {
    "duration": 47,
    "start_time": "2024-07-12T09:57:32.068Z"
   },
   {
    "duration": 61,
    "start_time": "2024-07-12T09:57:32.118Z"
   },
   {
    "duration": 23,
    "start_time": "2024-07-12T09:57:32.181Z"
   },
   {
    "duration": 6,
    "start_time": "2024-07-12T09:57:32.205Z"
   },
   {
    "duration": 17,
    "start_time": "2024-07-12T09:57:32.213Z"
   },
   {
    "duration": 4,
    "start_time": "2024-07-12T09:57:32.232Z"
   },
   {
    "duration": 18,
    "start_time": "2024-07-12T09:57:32.238Z"
   },
   {
    "duration": 6,
    "start_time": "2024-07-12T09:57:32.257Z"
   },
   {
    "duration": 143,
    "start_time": "2024-07-12T09:57:32.264Z"
   },
   {
    "duration": 7,
    "start_time": "2024-07-12T09:57:32.408Z"
   },
   {
    "duration": 83,
    "start_time": "2024-07-12T09:57:32.416Z"
   },
   {
    "duration": 7,
    "start_time": "2024-07-12T09:57:32.500Z"
   },
   {
    "duration": 267,
    "start_time": "2024-07-12T09:57:32.508Z"
   },
   {
    "duration": 4,
    "start_time": "2024-07-12T09:57:32.777Z"
   },
   {
    "duration": 7,
    "start_time": "2024-07-12T09:57:32.782Z"
   },
   {
    "duration": 342,
    "start_time": "2024-07-12T09:57:32.790Z"
   },
   {
    "duration": 7,
    "start_time": "2024-07-12T09:57:33.133Z"
   },
   {
    "duration": 153,
    "start_time": "2024-07-12T09:57:33.141Z"
   },
   {
    "duration": 12,
    "start_time": "2024-07-12T09:57:33.295Z"
   },
   {
    "duration": 12,
    "start_time": "2024-07-12T09:57:33.308Z"
   },
   {
    "duration": 6,
    "start_time": "2024-07-12T09:57:33.321Z"
   },
   {
    "duration": 281,
    "start_time": "2024-07-12T09:57:33.328Z"
   },
   {
    "duration": 22,
    "start_time": "2024-07-12T09:57:33.610Z"
   },
   {
    "duration": 25,
    "start_time": "2024-07-12T09:57:33.633Z"
   },
   {
    "duration": 71,
    "start_time": "2024-07-12T09:57:33.659Z"
   },
   {
    "duration": 277,
    "start_time": "2024-07-12T09:57:33.731Z"
   },
   {
    "duration": 1411,
    "start_time": "2024-07-12T09:57:34.009Z"
   },
   {
    "duration": 296,
    "start_time": "2024-07-12T09:57:35.421Z"
   },
   {
    "duration": 1422,
    "start_time": "2024-07-12T09:57:35.722Z"
   },
   {
    "duration": 4,
    "start_time": "2024-07-12T09:57:37.146Z"
   },
   {
    "duration": 9,
    "start_time": "2024-07-12T09:57:37.157Z"
   },
   {
    "duration": 51,
    "start_time": "2024-07-12T09:57:37.168Z"
   },
   {
    "duration": 8,
    "start_time": "2024-07-12T09:57:37.220Z"
   },
   {
    "duration": 29,
    "start_time": "2024-07-12T09:57:37.229Z"
   },
   {
    "duration": 13,
    "start_time": "2024-07-12T09:57:37.259Z"
   },
   {
    "duration": 3,
    "start_time": "2024-07-12T09:57:37.274Z"
   },
   {
    "duration": 193,
    "start_time": "2024-07-12T09:57:37.279Z"
   },
   {
    "duration": 10,
    "start_time": "2024-07-12T09:57:37.474Z"
   },
   {
    "duration": 217,
    "start_time": "2024-07-12T09:57:37.486Z"
   },
   {
    "duration": 7,
    "start_time": "2024-07-12T09:57:37.704Z"
   },
   {
    "duration": 5,
    "start_time": "2024-07-12T09:57:37.713Z"
   },
   {
    "duration": 9,
    "start_time": "2024-07-12T09:57:37.719Z"
   },
   {
    "duration": 4,
    "start_time": "2024-07-12T09:57:37.729Z"
   },
   {
    "duration": 9,
    "start_time": "2024-07-12T09:57:37.757Z"
   },
   {
    "duration": 6,
    "start_time": "2024-07-12T09:57:37.768Z"
   },
   {
    "duration": 5,
    "start_time": "2024-07-12T09:57:37.775Z"
   },
   {
    "duration": 1381,
    "start_time": "2024-07-12T09:57:37.782Z"
   },
   {
    "duration": 6,
    "start_time": "2024-07-12T09:57:39.165Z"
   },
   {
    "duration": 6,
    "start_time": "2024-07-12T09:57:39.173Z"
   },
   {
    "duration": 222,
    "start_time": "2024-07-12T09:57:39.180Z"
   },
   {
    "duration": 176,
    "start_time": "2024-07-12T10:03:17.749Z"
   },
   {
    "duration": 60,
    "start_time": "2024-07-12T10:03:22.042Z"
   },
   {
    "duration": 64,
    "start_time": "2024-07-12T10:03:54.321Z"
   },
   {
    "duration": 62,
    "start_time": "2024-07-12T10:03:57.570Z"
   },
   {
    "duration": 257,
    "start_time": "2024-07-12T10:09:35.326Z"
   },
   {
    "duration": 260,
    "start_time": "2024-07-12T10:10:22.949Z"
   },
   {
    "duration": 254,
    "start_time": "2024-07-12T10:10:44.009Z"
   },
   {
    "duration": 222,
    "start_time": "2024-07-12T10:11:18.400Z"
   },
   {
    "duration": 247,
    "start_time": "2024-07-12T10:11:23.562Z"
   },
   {
    "duration": 288,
    "start_time": "2024-07-12T10:12:38.347Z"
   },
   {
    "duration": 244,
    "start_time": "2024-07-12T10:12:50.568Z"
   },
   {
    "duration": 314,
    "start_time": "2024-07-12T10:12:55.412Z"
   },
   {
    "duration": 214,
    "start_time": "2024-07-12T10:15:24.913Z"
   },
   {
    "duration": 230,
    "start_time": "2024-07-12T10:15:30.100Z"
   },
   {
    "duration": 243,
    "start_time": "2024-07-12T10:16:54.795Z"
   },
   {
    "duration": 270,
    "start_time": "2024-07-12T10:17:27.266Z"
   },
   {
    "duration": 6,
    "start_time": "2024-07-12T10:17:28.660Z"
   },
   {
    "duration": 8,
    "start_time": "2024-07-12T10:17:32.624Z"
   },
   {
    "duration": 319,
    "start_time": "2024-07-12T10:17:51.082Z"
   },
   {
    "duration": 327,
    "start_time": "2024-07-12T10:18:17.638Z"
   },
   {
    "duration": 76,
    "start_time": "2024-07-12T10:20:14.105Z"
   },
   {
    "duration": 78,
    "start_time": "2024-07-12T10:20:30.760Z"
   },
   {
    "duration": 321,
    "start_time": "2024-07-12T10:20:58.694Z"
   },
   {
    "duration": 7,
    "start_time": "2024-07-12T10:21:15.597Z"
   },
   {
    "duration": 247,
    "start_time": "2024-07-12T10:21:16.145Z"
   },
   {
    "duration": 190,
    "start_time": "2024-07-12T10:21:52.916Z"
   },
   {
    "duration": 1037,
    "start_time": "2024-07-12T10:22:13.342Z"
   },
   {
    "duration": 67,
    "start_time": "2024-07-12T10:22:14.380Z"
   },
   {
    "duration": 3,
    "start_time": "2024-07-12T10:22:14.448Z"
   },
   {
    "duration": 22,
    "start_time": "2024-07-12T10:22:14.453Z"
   },
   {
    "duration": 14,
    "start_time": "2024-07-12T10:22:14.476Z"
   },
   {
    "duration": 20,
    "start_time": "2024-07-12T10:22:14.492Z"
   },
   {
    "duration": 15,
    "start_time": "2024-07-12T10:22:14.513Z"
   },
   {
    "duration": 6,
    "start_time": "2024-07-12T10:22:14.530Z"
   },
   {
    "duration": 28,
    "start_time": "2024-07-12T10:22:14.537Z"
   },
   {
    "duration": 9,
    "start_time": "2024-07-12T10:22:14.568Z"
   },
   {
    "duration": 5,
    "start_time": "2024-07-12T10:22:14.578Z"
   },
   {
    "duration": 4,
    "start_time": "2024-07-12T10:22:14.585Z"
   },
   {
    "duration": 11,
    "start_time": "2024-07-12T10:22:14.591Z"
   },
   {
    "duration": 7,
    "start_time": "2024-07-12T10:22:14.603Z"
   },
   {
    "duration": 5,
    "start_time": "2024-07-12T10:22:14.611Z"
   },
   {
    "duration": 43,
    "start_time": "2024-07-12T10:22:14.618Z"
   },
   {
    "duration": 19,
    "start_time": "2024-07-12T10:22:14.663Z"
   },
   {
    "duration": 4,
    "start_time": "2024-07-12T10:22:14.684Z"
   },
   {
    "duration": 8,
    "start_time": "2024-07-12T10:22:14.690Z"
   },
   {
    "duration": 5,
    "start_time": "2024-07-12T10:22:14.699Z"
   },
   {
    "duration": 172,
    "start_time": "2024-07-12T10:22:14.705Z"
   },
   {
    "duration": 6,
    "start_time": "2024-07-12T10:22:14.879Z"
   },
   {
    "duration": 72,
    "start_time": "2024-07-12T10:22:14.886Z"
   },
   {
    "duration": 6,
    "start_time": "2024-07-12T10:22:14.960Z"
   },
   {
    "duration": 264,
    "start_time": "2024-07-12T10:22:14.967Z"
   },
   {
    "duration": 5,
    "start_time": "2024-07-12T10:22:15.233Z"
   },
   {
    "duration": 21,
    "start_time": "2024-07-12T10:22:15.239Z"
   },
   {
    "duration": 388,
    "start_time": "2024-07-12T10:22:15.264Z"
   },
   {
    "duration": 9,
    "start_time": "2024-07-12T10:22:15.653Z"
   },
   {
    "duration": 175,
    "start_time": "2024-07-12T10:22:15.663Z"
   },
   {
    "duration": 28,
    "start_time": "2024-07-12T10:22:15.840Z"
   },
   {
    "duration": 15,
    "start_time": "2024-07-12T10:22:15.870Z"
   },
   {
    "duration": 8,
    "start_time": "2024-07-12T10:22:15.887Z"
   },
   {
    "duration": 275,
    "start_time": "2024-07-12T10:22:15.896Z"
   },
   {
    "duration": 22,
    "start_time": "2024-07-12T10:22:16.173Z"
   },
   {
    "duration": 9,
    "start_time": "2024-07-12T10:22:16.197Z"
   },
   {
    "duration": 126,
    "start_time": "2024-07-12T10:22:16.207Z"
   },
   {
    "duration": 290,
    "start_time": "2024-07-12T10:22:16.335Z"
   },
   {
    "duration": 1471,
    "start_time": "2024-07-12T10:22:16.627Z"
   },
   {
    "duration": 329,
    "start_time": "2024-07-12T10:22:18.099Z"
   },
   {
    "duration": 1518,
    "start_time": "2024-07-12T10:22:18.430Z"
   },
   {
    "duration": 9,
    "start_time": "2024-07-12T10:22:19.950Z"
   },
   {
    "duration": 16,
    "start_time": "2024-07-12T10:22:19.961Z"
   },
   {
    "duration": 48,
    "start_time": "2024-07-12T10:22:19.979Z"
   },
   {
    "duration": 6,
    "start_time": "2024-07-12T10:22:20.029Z"
   },
   {
    "duration": 15,
    "start_time": "2024-07-12T10:22:20.036Z"
   },
   {
    "duration": 15,
    "start_time": "2024-07-12T10:22:20.052Z"
   },
   {
    "duration": 4,
    "start_time": "2024-07-12T10:22:20.068Z"
   },
   {
    "duration": 184,
    "start_time": "2024-07-12T10:22:20.073Z"
   },
   {
    "duration": 9,
    "start_time": "2024-07-12T10:22:20.258Z"
   },
   {
    "duration": 241,
    "start_time": "2024-07-12T10:22:20.269Z"
   },
   {
    "duration": 7,
    "start_time": "2024-07-12T10:22:20.512Z"
   },
   {
    "duration": 11,
    "start_time": "2024-07-12T10:22:20.520Z"
   },
   {
    "duration": 12,
    "start_time": "2024-07-12T10:22:20.533Z"
   },
   {
    "duration": 12,
    "start_time": "2024-07-12T10:22:20.546Z"
   },
   {
    "duration": 11,
    "start_time": "2024-07-12T10:22:20.559Z"
   },
   {
    "duration": 10,
    "start_time": "2024-07-12T10:22:20.571Z"
   },
   {
    "duration": 24,
    "start_time": "2024-07-12T10:22:20.582Z"
   },
   {
    "duration": 1371,
    "start_time": "2024-07-12T10:22:20.608Z"
   },
   {
    "duration": 5,
    "start_time": "2024-07-12T10:22:21.981Z"
   },
   {
    "duration": 10,
    "start_time": "2024-07-12T10:22:21.988Z"
   },
   {
    "duration": 222,
    "start_time": "2024-07-12T10:22:21.999Z"
   },
   {
    "duration": 1007,
    "start_time": "2024-07-12T11:08:32.094Z"
   },
   {
    "duration": 73,
    "start_time": "2024-07-12T11:08:33.103Z"
   },
   {
    "duration": 2,
    "start_time": "2024-07-12T11:08:33.178Z"
   },
   {
    "duration": 12,
    "start_time": "2024-07-12T11:08:33.182Z"
   },
   {
    "duration": 9,
    "start_time": "2024-07-12T11:08:33.195Z"
   },
   {
    "duration": 11,
    "start_time": "2024-07-12T11:08:33.205Z"
   },
   {
    "duration": 18,
    "start_time": "2024-07-12T11:08:33.217Z"
   },
   {
    "duration": 6,
    "start_time": "2024-07-12T11:08:33.237Z"
   },
   {
    "duration": 8,
    "start_time": "2024-07-12T11:08:33.244Z"
   },
   {
    "duration": 9,
    "start_time": "2024-07-12T11:08:33.255Z"
   },
   {
    "duration": 4,
    "start_time": "2024-07-12T11:08:33.265Z"
   },
   {
    "duration": 7,
    "start_time": "2024-07-12T11:08:33.271Z"
   },
   {
    "duration": 7,
    "start_time": "2024-07-12T11:08:33.280Z"
   },
   {
    "duration": 4,
    "start_time": "2024-07-12T11:08:33.289Z"
   },
   {
    "duration": 16,
    "start_time": "2024-07-12T11:08:33.294Z"
   },
   {
    "duration": 9,
    "start_time": "2024-07-12T11:08:33.311Z"
   },
   {
    "duration": 39,
    "start_time": "2024-07-12T11:08:33.321Z"
   },
   {
    "duration": 4,
    "start_time": "2024-07-12T11:08:33.361Z"
   },
   {
    "duration": 5,
    "start_time": "2024-07-12T11:08:33.366Z"
   },
   {
    "duration": 13,
    "start_time": "2024-07-12T11:08:33.373Z"
   },
   {
    "duration": 146,
    "start_time": "2024-07-12T11:08:33.387Z"
   },
   {
    "duration": 6,
    "start_time": "2024-07-12T11:08:33.534Z"
   },
   {
    "duration": 69,
    "start_time": "2024-07-12T11:08:33.541Z"
   },
   {
    "duration": 6,
    "start_time": "2024-07-12T11:08:33.612Z"
   },
   {
    "duration": 285,
    "start_time": "2024-07-12T11:08:33.619Z"
   },
   {
    "duration": 5,
    "start_time": "2024-07-12T11:08:33.905Z"
   },
   {
    "duration": 7,
    "start_time": "2024-07-12T11:08:33.912Z"
   },
   {
    "duration": 343,
    "start_time": "2024-07-12T11:08:33.923Z"
   },
   {
    "duration": 7,
    "start_time": "2024-07-12T11:08:34.267Z"
   },
   {
    "duration": 184,
    "start_time": "2024-07-12T11:08:34.275Z"
   },
   {
    "duration": 12,
    "start_time": "2024-07-12T11:08:34.460Z"
   },
   {
    "duration": 1,
    "start_time": "2024-07-12T11:08:34.474Z"
   },
   {
    "duration": 10,
    "start_time": "2024-07-12T11:08:34.477Z"
   },
   {
    "duration": 235,
    "start_time": "2024-07-12T11:08:34.488Z"
   },
   {
    "duration": 34,
    "start_time": "2024-07-12T11:08:34.724Z"
   },
   {
    "duration": 10,
    "start_time": "2024-07-12T11:08:34.759Z"
   },
   {
    "duration": 67,
    "start_time": "2024-07-12T11:08:34.771Z"
   },
   {
    "duration": 281,
    "start_time": "2024-07-12T11:08:34.839Z"
   },
   {
    "duration": 1422,
    "start_time": "2024-07-12T11:08:35.122Z"
   },
   {
    "duration": 289,
    "start_time": "2024-07-12T11:08:36.546Z"
   },
   {
    "duration": 1382,
    "start_time": "2024-07-12T11:08:36.836Z"
   },
   {
    "duration": 3,
    "start_time": "2024-07-12T11:08:38.220Z"
   },
   {
    "duration": 13,
    "start_time": "2024-07-12T11:08:38.225Z"
   },
   {
    "duration": 41,
    "start_time": "2024-07-12T11:08:38.239Z"
   },
   {
    "duration": 8,
    "start_time": "2024-07-12T11:08:38.281Z"
   },
   {
    "duration": 15,
    "start_time": "2024-07-12T11:08:38.291Z"
   },
   {
    "duration": 18,
    "start_time": "2024-07-12T11:08:38.308Z"
   },
   {
    "duration": 4,
    "start_time": "2024-07-12T11:08:38.328Z"
   },
   {
    "duration": 258,
    "start_time": "2024-07-12T11:08:38.333Z"
   },
   {
    "duration": 9,
    "start_time": "2024-07-12T11:08:38.592Z"
   },
   {
    "duration": 201,
    "start_time": "2024-07-12T11:08:38.603Z"
   },
   {
    "duration": 7,
    "start_time": "2024-07-12T11:08:38.805Z"
   },
   {
    "duration": 11,
    "start_time": "2024-07-12T11:08:38.813Z"
   },
   {
    "duration": 4,
    "start_time": "2024-07-12T11:08:38.857Z"
   },
   {
    "duration": 4,
    "start_time": "2024-07-12T11:08:38.862Z"
   },
   {
    "duration": 10,
    "start_time": "2024-07-12T11:08:38.867Z"
   },
   {
    "duration": 4,
    "start_time": "2024-07-12T11:08:38.878Z"
   },
   {
    "duration": 5,
    "start_time": "2024-07-12T11:08:38.884Z"
   },
   {
    "duration": 1397,
    "start_time": "2024-07-12T11:08:38.890Z"
   },
   {
    "duration": 4,
    "start_time": "2024-07-12T11:08:40.289Z"
   },
   {
    "duration": 33,
    "start_time": "2024-07-12T11:08:40.295Z"
   },
   {
    "duration": 238,
    "start_time": "2024-07-12T11:08:40.330Z"
   },
   {
    "duration": 1042,
    "start_time": "2024-07-12T11:10:00.773Z"
   },
   {
    "duration": 64,
    "start_time": "2024-07-12T11:10:01.816Z"
   },
   {
    "duration": 3,
    "start_time": "2024-07-12T11:10:01.882Z"
   },
   {
    "duration": 57,
    "start_time": "2024-07-12T11:10:01.886Z"
   },
   {
    "duration": 11,
    "start_time": "2024-07-12T11:10:01.944Z"
   },
   {
    "duration": 21,
    "start_time": "2024-07-12T11:10:01.956Z"
   },
   {
    "duration": 20,
    "start_time": "2024-07-12T11:10:01.979Z"
   },
   {
    "duration": 6,
    "start_time": "2024-07-12T11:10:02.001Z"
   },
   {
    "duration": 13,
    "start_time": "2024-07-12T11:10:02.008Z"
   },
   {
    "duration": 10,
    "start_time": "2024-07-12T11:10:02.023Z"
   },
   {
    "duration": 8,
    "start_time": "2024-07-12T11:10:02.034Z"
   },
   {
    "duration": 7,
    "start_time": "2024-07-12T11:10:02.043Z"
   },
   {
    "duration": 16,
    "start_time": "2024-07-12T11:10:02.051Z"
   },
   {
    "duration": 9,
    "start_time": "2024-07-12T11:10:02.068Z"
   },
   {
    "duration": 26,
    "start_time": "2024-07-12T11:10:02.078Z"
   },
   {
    "duration": 8,
    "start_time": "2024-07-12T11:10:02.105Z"
   },
   {
    "duration": 19,
    "start_time": "2024-07-12T11:10:02.115Z"
   },
   {
    "duration": 34,
    "start_time": "2024-07-12T11:10:02.135Z"
   },
   {
    "duration": 10,
    "start_time": "2024-07-12T11:10:02.171Z"
   },
   {
    "duration": 49,
    "start_time": "2024-07-12T11:10:02.182Z"
   },
   {
    "duration": 233,
    "start_time": "2024-07-12T11:10:02.232Z"
   },
   {
    "duration": 6,
    "start_time": "2024-07-12T11:10:02.466Z"
   },
   {
    "duration": 62,
    "start_time": "2024-07-12T11:10:02.473Z"
   },
   {
    "duration": 23,
    "start_time": "2024-07-12T11:10:02.536Z"
   },
   {
    "duration": 262,
    "start_time": "2024-07-12T11:10:02.560Z"
   },
   {
    "duration": 4,
    "start_time": "2024-07-12T11:10:02.824Z"
   },
   {
    "duration": 17,
    "start_time": "2024-07-12T11:10:02.829Z"
   },
   {
    "duration": 346,
    "start_time": "2024-07-12T11:10:02.861Z"
   },
   {
    "duration": 7,
    "start_time": "2024-07-12T11:10:03.209Z"
   },
   {
    "duration": 177,
    "start_time": "2024-07-12T11:10:03.218Z"
   },
   {
    "duration": 13,
    "start_time": "2024-07-12T11:10:03.396Z"
   },
   {
    "duration": 2,
    "start_time": "2024-07-12T11:10:03.410Z"
   },
   {
    "duration": 14,
    "start_time": "2024-07-12T11:10:03.413Z"
   },
   {
    "duration": 276,
    "start_time": "2024-07-12T11:10:03.427Z"
   },
   {
    "duration": 22,
    "start_time": "2024-07-12T11:10:03.704Z"
   },
   {
    "duration": 9,
    "start_time": "2024-07-12T11:10:03.727Z"
   },
   {
    "duration": 89,
    "start_time": "2024-07-12T11:10:03.738Z"
   },
   {
    "duration": 277,
    "start_time": "2024-07-12T11:10:03.829Z"
   },
   {
    "duration": 1425,
    "start_time": "2024-07-12T11:10:04.108Z"
   },
   {
    "duration": 294,
    "start_time": "2024-07-12T11:10:05.535Z"
   },
   {
    "duration": 1410,
    "start_time": "2024-07-12T11:10:05.830Z"
   },
   {
    "duration": 4,
    "start_time": "2024-07-12T11:10:07.241Z"
   },
   {
    "duration": 11,
    "start_time": "2024-07-12T11:10:07.247Z"
   },
   {
    "duration": 39,
    "start_time": "2024-07-12T11:10:07.259Z"
   },
   {
    "duration": 7,
    "start_time": "2024-07-12T11:10:07.299Z"
   },
   {
    "duration": 21,
    "start_time": "2024-07-12T11:10:07.307Z"
   },
   {
    "duration": 14,
    "start_time": "2024-07-12T11:10:07.329Z"
   },
   {
    "duration": 4,
    "start_time": "2024-07-12T11:10:07.344Z"
   },
   {
    "duration": 198,
    "start_time": "2024-07-12T11:10:07.357Z"
   },
   {
    "duration": 10,
    "start_time": "2024-07-12T11:10:07.556Z"
   },
   {
    "duration": 226,
    "start_time": "2024-07-12T11:10:07.567Z"
   },
   {
    "duration": 6,
    "start_time": "2024-07-12T11:10:07.794Z"
   },
   {
    "duration": 12,
    "start_time": "2024-07-12T11:10:07.801Z"
   },
   {
    "duration": 15,
    "start_time": "2024-07-12T11:10:07.814Z"
   },
   {
    "duration": 11,
    "start_time": "2024-07-12T11:10:07.830Z"
   },
   {
    "duration": 12,
    "start_time": "2024-07-12T11:10:07.842Z"
   },
   {
    "duration": 4,
    "start_time": "2024-07-12T11:10:07.855Z"
   },
   {
    "duration": 14,
    "start_time": "2024-07-12T11:10:07.861Z"
   },
   {
    "duration": 1357,
    "start_time": "2024-07-12T11:10:07.876Z"
   },
   {
    "duration": 5,
    "start_time": "2024-07-12T11:10:09.235Z"
   },
   {
    "duration": 7,
    "start_time": "2024-07-12T11:10:09.241Z"
   },
   {
    "duration": 347,
    "start_time": "2024-07-12T11:10:09.257Z"
   },
   {
    "duration": 11,
    "start_time": "2024-07-12T11:10:29.269Z"
   },
   {
    "duration": 1034,
    "start_time": "2024-07-12T11:10:42.765Z"
   },
   {
    "duration": 63,
    "start_time": "2024-07-12T11:10:43.801Z"
   },
   {
    "duration": 2,
    "start_time": "2024-07-12T11:10:43.866Z"
   },
   {
    "duration": 40,
    "start_time": "2024-07-12T11:10:43.870Z"
   },
   {
    "duration": 22,
    "start_time": "2024-07-12T11:10:43.911Z"
   },
   {
    "duration": 23,
    "start_time": "2024-07-12T11:10:43.935Z"
   },
   {
    "duration": 23,
    "start_time": "2024-07-12T11:10:43.960Z"
   },
   {
    "duration": 29,
    "start_time": "2024-07-12T11:10:43.985Z"
   },
   {
    "duration": 14,
    "start_time": "2024-07-12T11:10:44.016Z"
   },
   {
    "duration": 20,
    "start_time": "2024-07-12T11:10:44.032Z"
   },
   {
    "duration": 15,
    "start_time": "2024-07-12T11:10:44.053Z"
   },
   {
    "duration": 25,
    "start_time": "2024-07-12T11:10:44.070Z"
   },
   {
    "duration": 41,
    "start_time": "2024-07-12T11:10:44.097Z"
   },
   {
    "duration": 8,
    "start_time": "2024-07-12T11:10:44.139Z"
   },
   {
    "duration": 10,
    "start_time": "2024-07-12T11:10:44.148Z"
   },
   {
    "duration": 17,
    "start_time": "2024-07-12T11:10:44.160Z"
   },
   {
    "duration": 32,
    "start_time": "2024-07-12T11:10:44.179Z"
   },
   {
    "duration": 4,
    "start_time": "2024-07-12T11:10:44.212Z"
   },
   {
    "duration": 6,
    "start_time": "2024-07-12T11:10:44.217Z"
   },
   {
    "duration": 18,
    "start_time": "2024-07-12T11:10:44.224Z"
   },
   {
    "duration": 150,
    "start_time": "2024-07-12T11:10:44.243Z"
   },
   {
    "duration": 7,
    "start_time": "2024-07-12T11:10:44.395Z"
   },
   {
    "duration": 75,
    "start_time": "2024-07-12T11:10:44.403Z"
   },
   {
    "duration": 7,
    "start_time": "2024-07-12T11:10:44.480Z"
   },
   {
    "duration": 290,
    "start_time": "2024-07-12T11:10:44.489Z"
   },
   {
    "duration": 5,
    "start_time": "2024-07-12T11:10:44.781Z"
   },
   {
    "duration": 23,
    "start_time": "2024-07-12T11:10:44.787Z"
   },
   {
    "duration": 345,
    "start_time": "2024-07-12T11:10:44.814Z"
   },
   {
    "duration": 7,
    "start_time": "2024-07-12T11:10:45.160Z"
   },
   {
    "duration": 225,
    "start_time": "2024-07-12T11:10:45.168Z"
   },
   {
    "duration": 12,
    "start_time": "2024-07-12T11:10:45.394Z"
   },
   {
    "duration": 39,
    "start_time": "2024-07-12T11:10:45.407Z"
   },
   {
    "duration": 18,
    "start_time": "2024-07-12T11:10:45.447Z"
   },
   {
    "duration": 263,
    "start_time": "2024-07-12T11:10:45.466Z"
   },
   {
    "duration": 30,
    "start_time": "2024-07-12T11:10:45.731Z"
   },
   {
    "duration": 9,
    "start_time": "2024-07-12T11:10:45.763Z"
   },
   {
    "duration": 71,
    "start_time": "2024-07-12T11:10:45.773Z"
   },
   {
    "duration": 293,
    "start_time": "2024-07-12T11:10:45.846Z"
   },
   {
    "duration": 1464,
    "start_time": "2024-07-12T11:10:46.141Z"
   },
   {
    "duration": 304,
    "start_time": "2024-07-12T11:10:47.606Z"
   },
   {
    "duration": 1434,
    "start_time": "2024-07-12T11:10:47.911Z"
   },
   {
    "duration": 10,
    "start_time": "2024-07-12T11:10:49.347Z"
   },
   {
    "duration": 3,
    "start_time": "2024-07-12T11:10:49.359Z"
   },
   {
    "duration": 43,
    "start_time": "2024-07-12T11:10:49.364Z"
   },
   {
    "duration": 7,
    "start_time": "2024-07-12T11:10:49.409Z"
   },
   {
    "duration": 12,
    "start_time": "2024-07-12T11:10:49.417Z"
   },
   {
    "duration": 42,
    "start_time": "2024-07-12T11:10:49.430Z"
   },
   {
    "duration": 4,
    "start_time": "2024-07-12T11:10:49.474Z"
   },
   {
    "duration": 193,
    "start_time": "2024-07-12T11:10:49.479Z"
   },
   {
    "duration": 10,
    "start_time": "2024-07-12T11:10:49.673Z"
   },
   {
    "duration": 225,
    "start_time": "2024-07-12T11:10:49.684Z"
   },
   {
    "duration": 7,
    "start_time": "2024-07-12T11:10:49.910Z"
   },
   {
    "duration": 9,
    "start_time": "2024-07-12T11:10:49.918Z"
   },
   {
    "duration": 12,
    "start_time": "2024-07-12T11:10:49.928Z"
   },
   {
    "duration": 17,
    "start_time": "2024-07-12T11:10:49.941Z"
   },
   {
    "duration": 10,
    "start_time": "2024-07-12T11:10:49.959Z"
   },
   {
    "duration": 6,
    "start_time": "2024-07-12T11:10:49.971Z"
   },
   {
    "duration": 9,
    "start_time": "2024-07-12T11:10:49.978Z"
   },
   {
    "duration": 1384,
    "start_time": "2024-07-12T11:10:49.989Z"
   },
   {
    "duration": 5,
    "start_time": "2024-07-12T11:10:51.375Z"
   },
   {
    "duration": 16,
    "start_time": "2024-07-12T11:10:51.382Z"
   },
   {
    "duration": 203,
    "start_time": "2024-07-12T11:10:51.400Z"
   },
   {
    "duration": 375,
    "start_time": "2024-07-12T11:24:15.076Z"
   },
   {
    "duration": 21,
    "start_time": "2024-07-12T11:29:25.155Z"
   },
   {
    "duration": 90,
    "start_time": "2024-07-12T11:29:40.773Z"
   },
   {
    "duration": 3,
    "start_time": "2024-07-12T11:29:45.495Z"
   },
   {
    "duration": 68,
    "start_time": "2024-07-12T11:29:53.958Z"
   },
   {
    "duration": 1170,
    "start_time": "2024-07-12T11:29:56.380Z"
   },
   {
    "duration": 991,
    "start_time": "2024-07-12T11:29:58.042Z"
   },
   {
    "duration": 3,
    "start_time": "2024-07-12T11:30:03.801Z"
   },
   {
    "duration": 13,
    "start_time": "2024-07-12T11:31:17.069Z"
   },
   {
    "duration": 16,
    "start_time": "2024-07-12T11:31:23.390Z"
   },
   {
    "duration": 7,
    "start_time": "2024-07-12T11:31:26.720Z"
   },
   {
    "duration": 3,
    "start_time": "2024-07-12T11:31:52.665Z"
   },
   {
    "duration": 3,
    "start_time": "2024-07-12T11:33:53.341Z"
   },
   {
    "duration": 3,
    "start_time": "2024-07-12T11:34:06.845Z"
   },
   {
    "duration": 3,
    "start_time": "2024-07-12T11:34:22.587Z"
   },
   {
    "duration": 17,
    "start_time": "2024-07-12T11:34:48.880Z"
   },
   {
    "duration": 14,
    "start_time": "2024-07-12T11:34:55.006Z"
   },
   {
    "duration": 16,
    "start_time": "2024-07-12T11:35:22.316Z"
   },
   {
    "duration": 15,
    "start_time": "2024-07-12T11:35:46.671Z"
   },
   {
    "duration": 15,
    "start_time": "2024-07-12T11:35:57.426Z"
   },
   {
    "duration": 18,
    "start_time": "2024-07-12T11:36:03.593Z"
   },
   {
    "duration": 13,
    "start_time": "2024-07-12T11:36:15.251Z"
   },
   {
    "duration": 18,
    "start_time": "2024-07-12T11:36:19.017Z"
   },
   {
    "duration": 106,
    "start_time": "2024-07-12T11:36:25.792Z"
   },
   {
    "duration": 19,
    "start_time": "2024-07-12T11:36:32.258Z"
   },
   {
    "duration": 1041,
    "start_time": "2024-07-12T11:38:43.051Z"
   },
   {
    "duration": 63,
    "start_time": "2024-07-12T11:38:44.094Z"
   },
   {
    "duration": 3,
    "start_time": "2024-07-12T11:38:44.159Z"
   },
   {
    "duration": 15,
    "start_time": "2024-07-12T11:38:44.164Z"
   },
   {
    "duration": 10,
    "start_time": "2024-07-12T11:38:44.181Z"
   },
   {
    "duration": 12,
    "start_time": "2024-07-12T11:38:44.192Z"
   },
   {
    "duration": 8,
    "start_time": "2024-07-12T11:38:44.206Z"
   },
   {
    "duration": 6,
    "start_time": "2024-07-12T11:38:44.215Z"
   },
   {
    "duration": 7,
    "start_time": "2024-07-12T11:38:44.222Z"
   },
   {
    "duration": 7,
    "start_time": "2024-07-12T11:38:44.259Z"
   },
   {
    "duration": 4,
    "start_time": "2024-07-12T11:38:44.267Z"
   },
   {
    "duration": 4,
    "start_time": "2024-07-12T11:38:44.273Z"
   },
   {
    "duration": 11,
    "start_time": "2024-07-12T11:38:44.278Z"
   },
   {
    "duration": 6,
    "start_time": "2024-07-12T11:38:44.291Z"
   },
   {
    "duration": 8,
    "start_time": "2024-07-12T11:38:44.298Z"
   },
   {
    "duration": 5,
    "start_time": "2024-07-12T11:38:44.308Z"
   },
   {
    "duration": 55,
    "start_time": "2024-07-12T11:38:44.314Z"
   },
   {
    "duration": 4,
    "start_time": "2024-07-12T11:38:44.376Z"
   },
   {
    "duration": 10,
    "start_time": "2024-07-12T11:38:44.382Z"
   },
   {
    "duration": 6,
    "start_time": "2024-07-12T11:38:44.393Z"
   },
   {
    "duration": 164,
    "start_time": "2024-07-12T11:38:44.400Z"
   },
   {
    "duration": 11,
    "start_time": "2024-07-12T11:38:44.565Z"
   },
   {
    "duration": 62,
    "start_time": "2024-07-12T11:38:44.577Z"
   },
   {
    "duration": 7,
    "start_time": "2024-07-12T11:38:44.657Z"
   },
   {
    "duration": 266,
    "start_time": "2024-07-12T11:38:44.665Z"
   },
   {
    "duration": 4,
    "start_time": "2024-07-12T11:38:44.932Z"
   },
   {
    "duration": 22,
    "start_time": "2024-07-12T11:38:44.938Z"
   },
   {
    "duration": 330,
    "start_time": "2024-07-12T11:38:44.963Z"
   },
   {
    "duration": 7,
    "start_time": "2024-07-12T11:38:45.294Z"
   },
   {
    "duration": 282,
    "start_time": "2024-07-12T11:38:45.303Z"
   },
   {
    "duration": 13,
    "start_time": "2024-07-12T11:38:45.587Z"
   },
   {
    "duration": 12,
    "start_time": "2024-07-12T11:38:45.602Z"
   },
   {
    "duration": 46,
    "start_time": "2024-07-12T11:38:45.615Z"
   },
   {
    "duration": 22,
    "start_time": "2024-07-12T11:38:45.662Z"
   },
   {
    "duration": 9,
    "start_time": "2024-07-12T11:38:45.686Z"
   },
   {
    "duration": 28,
    "start_time": "2024-07-12T11:38:45.696Z"
   },
   {
    "duration": 357,
    "start_time": "2024-07-12T11:38:45.726Z"
   },
   {
    "duration": 1665,
    "start_time": "2024-07-12T11:38:46.085Z"
   },
   {
    "duration": 333,
    "start_time": "2024-07-12T11:38:47.752Z"
   },
   {
    "duration": 1519,
    "start_time": "2024-07-12T11:38:48.086Z"
   },
   {
    "duration": 3,
    "start_time": "2024-07-12T11:38:49.607Z"
   },
   {
    "duration": 4,
    "start_time": "2024-07-12T11:38:49.612Z"
   },
   {
    "duration": 48,
    "start_time": "2024-07-12T11:38:49.617Z"
   },
   {
    "duration": 8,
    "start_time": "2024-07-12T11:38:49.667Z"
   },
   {
    "duration": 36,
    "start_time": "2024-07-12T11:38:49.676Z"
   },
   {
    "duration": 19,
    "start_time": "2024-07-12T11:38:49.713Z"
   },
   {
    "duration": 3,
    "start_time": "2024-07-12T11:38:49.733Z"
   },
   {
    "duration": 179,
    "start_time": "2024-07-12T11:38:49.738Z"
   },
   {
    "duration": 9,
    "start_time": "2024-07-12T11:38:49.918Z"
   },
   {
    "duration": 271,
    "start_time": "2024-07-12T11:38:49.929Z"
   },
   {
    "duration": 8,
    "start_time": "2024-07-12T11:38:50.201Z"
   },
   {
    "duration": 6,
    "start_time": "2024-07-12T11:38:50.211Z"
   },
   {
    "duration": 15,
    "start_time": "2024-07-12T11:38:50.218Z"
   },
   {
    "duration": 25,
    "start_time": "2024-07-12T11:38:50.234Z"
   },
   {
    "duration": 11,
    "start_time": "2024-07-12T11:38:50.260Z"
   },
   {
    "duration": 35,
    "start_time": "2024-07-12T11:38:50.272Z"
   },
   {
    "duration": 6,
    "start_time": "2024-07-12T11:38:50.308Z"
   },
   {
    "duration": 1508,
    "start_time": "2024-07-12T11:38:50.315Z"
   },
   {
    "duration": 5,
    "start_time": "2024-07-12T11:38:51.824Z"
   },
   {
    "duration": 14,
    "start_time": "2024-07-12T11:38:51.831Z"
   },
   {
    "duration": 264,
    "start_time": "2024-07-12T11:38:51.846Z"
   },
   {
    "duration": 404,
    "start_time": "2024-07-12T11:39:52.297Z"
   },
   {
    "duration": 293,
    "start_time": "2024-07-12T11:40:23.060Z"
   },
   {
    "duration": 1023,
    "start_time": "2024-07-12T11:40:31.908Z"
   },
   {
    "duration": 66,
    "start_time": "2024-07-12T11:40:32.932Z"
   },
   {
    "duration": 2,
    "start_time": "2024-07-12T11:40:33.000Z"
   },
   {
    "duration": 17,
    "start_time": "2024-07-12T11:40:33.004Z"
   },
   {
    "duration": 8,
    "start_time": "2024-07-12T11:40:33.022Z"
   },
   {
    "duration": 15,
    "start_time": "2024-07-12T11:40:33.032Z"
   },
   {
    "duration": 10,
    "start_time": "2024-07-12T11:40:33.048Z"
   },
   {
    "duration": 13,
    "start_time": "2024-07-12T11:40:33.060Z"
   },
   {
    "duration": 13,
    "start_time": "2024-07-12T11:40:33.075Z"
   },
   {
    "duration": 9,
    "start_time": "2024-07-12T11:40:33.091Z"
   },
   {
    "duration": 5,
    "start_time": "2024-07-12T11:40:33.101Z"
   },
   {
    "duration": 8,
    "start_time": "2024-07-12T11:40:33.108Z"
   },
   {
    "duration": 31,
    "start_time": "2024-07-12T11:40:33.117Z"
   },
   {
    "duration": 22,
    "start_time": "2024-07-12T11:40:33.150Z"
   },
   {
    "duration": 5,
    "start_time": "2024-07-12T11:40:33.174Z"
   },
   {
    "duration": 18,
    "start_time": "2024-07-12T11:40:33.180Z"
   },
   {
    "duration": 43,
    "start_time": "2024-07-12T11:40:33.199Z"
   },
   {
    "duration": 3,
    "start_time": "2024-07-12T11:40:33.243Z"
   },
   {
    "duration": 6,
    "start_time": "2024-07-12T11:40:33.248Z"
   },
   {
    "duration": 8,
    "start_time": "2024-07-12T11:40:33.255Z"
   },
   {
    "duration": 165,
    "start_time": "2024-07-12T11:40:33.265Z"
   },
   {
    "duration": 6,
    "start_time": "2024-07-12T11:40:33.432Z"
   },
   {
    "duration": 80,
    "start_time": "2024-07-12T11:40:33.439Z"
   },
   {
    "duration": 6,
    "start_time": "2024-07-12T11:40:33.521Z"
   },
   {
    "duration": 311,
    "start_time": "2024-07-12T11:40:33.528Z"
   },
   {
    "duration": 5,
    "start_time": "2024-07-12T11:40:33.840Z"
   },
   {
    "duration": 19,
    "start_time": "2024-07-12T11:40:33.846Z"
   },
   {
    "duration": 332,
    "start_time": "2024-07-12T11:40:33.868Z"
   },
   {
    "duration": 6,
    "start_time": "2024-07-12T11:40:34.201Z"
   },
   {
    "duration": 268,
    "start_time": "2024-07-12T11:40:34.208Z"
   },
   {
    "duration": 17,
    "start_time": "2024-07-12T11:40:34.478Z"
   },
   {
    "duration": 13,
    "start_time": "2024-07-12T11:40:34.497Z"
   },
   {
    "duration": 98,
    "start_time": "2024-07-12T11:40:34.512Z"
   },
   {
    "duration": 17,
    "start_time": "2024-07-12T11:40:34.612Z"
   },
   {
    "duration": 8,
    "start_time": "2024-07-12T11:40:34.631Z"
   },
   {
    "duration": 35,
    "start_time": "2024-07-12T11:40:34.641Z"
   },
   {
    "duration": 322,
    "start_time": "2024-07-12T11:40:34.678Z"
   },
   {
    "duration": 1633,
    "start_time": "2024-07-12T11:40:35.001Z"
   },
   {
    "duration": 314,
    "start_time": "2024-07-12T11:40:36.635Z"
   },
   {
    "duration": 1609,
    "start_time": "2024-07-12T11:40:36.951Z"
   },
   {
    "duration": 4,
    "start_time": "2024-07-12T11:40:38.562Z"
   },
   {
    "duration": 45,
    "start_time": "2024-07-12T11:40:38.568Z"
   },
   {
    "duration": 50,
    "start_time": "2024-07-12T11:40:38.615Z"
   },
   {
    "duration": 30,
    "start_time": "2024-07-12T11:40:38.666Z"
   },
   {
    "duration": 33,
    "start_time": "2024-07-12T11:40:38.697Z"
   },
   {
    "duration": 47,
    "start_time": "2024-07-12T11:40:38.731Z"
   },
   {
    "duration": 15,
    "start_time": "2024-07-12T11:40:38.780Z"
   },
   {
    "duration": 217,
    "start_time": "2024-07-12T11:40:38.796Z"
   },
   {
    "duration": 9,
    "start_time": "2024-07-12T11:40:39.014Z"
   },
   {
    "duration": 283,
    "start_time": "2024-07-12T11:40:39.024Z"
   },
   {
    "duration": 7,
    "start_time": "2024-07-12T11:40:39.308Z"
   },
   {
    "duration": 21,
    "start_time": "2024-07-12T11:40:39.316Z"
   },
   {
    "duration": 31,
    "start_time": "2024-07-12T11:40:39.338Z"
   },
   {
    "duration": 18,
    "start_time": "2024-07-12T11:40:39.371Z"
   },
   {
    "duration": 27,
    "start_time": "2024-07-12T11:40:39.390Z"
   },
   {
    "duration": 21,
    "start_time": "2024-07-12T11:40:39.419Z"
   },
   {
    "duration": 10,
    "start_time": "2024-07-12T11:40:39.442Z"
   },
   {
    "duration": 1407,
    "start_time": "2024-07-12T11:40:39.453Z"
   },
   {
    "duration": 7,
    "start_time": "2024-07-12T11:40:40.862Z"
   },
   {
    "duration": 7,
    "start_time": "2024-07-12T11:40:40.870Z"
   },
   {
    "duration": 339,
    "start_time": "2024-07-12T11:40:40.878Z"
   },
   {
    "duration": 343,
    "start_time": "2024-07-12T11:41:00.343Z"
   },
   {
    "duration": 300,
    "start_time": "2024-07-12T11:41:07.539Z"
   },
   {
    "duration": 304,
    "start_time": "2024-07-12T11:42:23.401Z"
   },
   {
    "duration": 312,
    "start_time": "2024-07-12T11:42:27.480Z"
   },
   {
    "duration": 1025,
    "start_time": "2024-07-12T11:42:42.565Z"
   },
   {
    "duration": 62,
    "start_time": "2024-07-12T11:42:43.592Z"
   },
   {
    "duration": 3,
    "start_time": "2024-07-12T11:42:43.656Z"
   },
   {
    "duration": 18,
    "start_time": "2024-07-12T11:42:43.662Z"
   },
   {
    "duration": 9,
    "start_time": "2024-07-12T11:42:43.681Z"
   },
   {
    "duration": 9,
    "start_time": "2024-07-12T11:42:43.692Z"
   },
   {
    "duration": 12,
    "start_time": "2024-07-12T11:42:43.702Z"
   },
   {
    "duration": 7,
    "start_time": "2024-07-12T11:42:43.716Z"
   },
   {
    "duration": 39,
    "start_time": "2024-07-12T11:42:43.725Z"
   },
   {
    "duration": 8,
    "start_time": "2024-07-12T11:42:43.766Z"
   },
   {
    "duration": 4,
    "start_time": "2024-07-12T11:42:43.775Z"
   },
   {
    "duration": 6,
    "start_time": "2024-07-12T11:42:43.781Z"
   },
   {
    "duration": 21,
    "start_time": "2024-07-12T11:42:43.788Z"
   },
   {
    "duration": 5,
    "start_time": "2024-07-12T11:42:43.810Z"
   },
   {
    "duration": 6,
    "start_time": "2024-07-12T11:42:43.816Z"
   },
   {
    "duration": 9,
    "start_time": "2024-07-12T11:42:43.824Z"
   },
   {
    "duration": 41,
    "start_time": "2024-07-12T11:42:43.834Z"
   },
   {
    "duration": 4,
    "start_time": "2024-07-12T11:42:43.879Z"
   },
   {
    "duration": 8,
    "start_time": "2024-07-12T11:42:43.884Z"
   },
   {
    "duration": 7,
    "start_time": "2024-07-12T11:42:43.893Z"
   },
   {
    "duration": 169,
    "start_time": "2024-07-12T11:42:43.901Z"
   },
   {
    "duration": 7,
    "start_time": "2024-07-12T11:42:44.072Z"
   },
   {
    "duration": 66,
    "start_time": "2024-07-12T11:42:44.080Z"
   },
   {
    "duration": 9,
    "start_time": "2024-07-12T11:42:44.159Z"
   },
   {
    "duration": 280,
    "start_time": "2024-07-12T11:42:44.169Z"
   },
   {
    "duration": 11,
    "start_time": "2024-07-12T11:42:44.450Z"
   },
   {
    "duration": 13,
    "start_time": "2024-07-12T11:42:44.463Z"
   },
   {
    "duration": 334,
    "start_time": "2024-07-12T11:42:44.480Z"
   },
   {
    "duration": 7,
    "start_time": "2024-07-12T11:42:44.815Z"
   },
   {
    "duration": 297,
    "start_time": "2024-07-12T11:42:44.823Z"
   },
   {
    "duration": 12,
    "start_time": "2024-07-12T11:42:45.121Z"
   },
   {
    "duration": 14,
    "start_time": "2024-07-12T11:42:45.134Z"
   },
   {
    "duration": 72,
    "start_time": "2024-07-12T11:42:45.157Z"
   },
   {
    "duration": 28,
    "start_time": "2024-07-12T11:42:45.230Z"
   },
   {
    "duration": 10,
    "start_time": "2024-07-12T11:42:45.259Z"
   },
   {
    "duration": 19,
    "start_time": "2024-07-12T11:42:45.271Z"
   },
   {
    "duration": 307,
    "start_time": "2024-07-12T11:42:45.291Z"
   },
   {
    "duration": 1519,
    "start_time": "2024-07-12T11:42:45.600Z"
   },
   {
    "duration": 314,
    "start_time": "2024-07-12T11:42:47.120Z"
   },
   {
    "duration": 1600,
    "start_time": "2024-07-12T11:42:47.435Z"
   },
   {
    "duration": 4,
    "start_time": "2024-07-12T11:42:49.036Z"
   },
   {
    "duration": 12,
    "start_time": "2024-07-12T11:42:49.041Z"
   },
   {
    "duration": 39,
    "start_time": "2024-07-12T11:42:49.057Z"
   },
   {
    "duration": 7,
    "start_time": "2024-07-12T11:42:49.097Z"
   },
   {
    "duration": 11,
    "start_time": "2024-07-12T11:42:49.105Z"
   },
   {
    "duration": 14,
    "start_time": "2024-07-12T11:42:49.117Z"
   },
   {
    "duration": 3,
    "start_time": "2024-07-12T11:42:49.133Z"
   },
   {
    "duration": 237,
    "start_time": "2024-07-12T11:42:49.137Z"
   },
   {
    "duration": 12,
    "start_time": "2024-07-12T11:42:49.378Z"
   },
   {
    "duration": 230,
    "start_time": "2024-07-12T11:42:49.391Z"
   },
   {
    "duration": 8,
    "start_time": "2024-07-12T11:42:49.623Z"
   },
   {
    "duration": 8,
    "start_time": "2024-07-12T11:42:49.659Z"
   },
   {
    "duration": 28,
    "start_time": "2024-07-12T11:42:49.668Z"
   },
   {
    "duration": 24,
    "start_time": "2024-07-12T11:42:49.697Z"
   },
   {
    "duration": 30,
    "start_time": "2024-07-12T11:42:49.723Z"
   },
   {
    "duration": 13,
    "start_time": "2024-07-12T11:42:49.755Z"
   },
   {
    "duration": 10,
    "start_time": "2024-07-12T11:42:49.770Z"
   },
   {
    "duration": 1559,
    "start_time": "2024-07-12T11:42:49.782Z"
   },
   {
    "duration": 5,
    "start_time": "2024-07-12T11:42:51.342Z"
   },
   {
    "duration": 21,
    "start_time": "2024-07-12T11:42:51.348Z"
   },
   {
    "duration": 339,
    "start_time": "2024-07-12T11:42:51.371Z"
   },
   {
    "duration": 338,
    "start_time": "2024-07-12T11:44:17.156Z"
   },
   {
    "duration": 320,
    "start_time": "2024-07-12T11:44:33.693Z"
   },
   {
    "duration": 111,
    "start_time": "2024-07-12T11:45:00.324Z"
   },
   {
    "duration": 14,
    "start_time": "2024-07-12T11:45:13.694Z"
   },
   {
    "duration": 15,
    "start_time": "2024-07-12T11:45:19.711Z"
   },
   {
    "duration": 1148,
    "start_time": "2024-07-12T11:45:37.069Z"
   },
   {
    "duration": 65,
    "start_time": "2024-07-12T11:45:38.219Z"
   },
   {
    "duration": 2,
    "start_time": "2024-07-12T11:45:38.286Z"
   },
   {
    "duration": 15,
    "start_time": "2024-07-12T11:45:38.290Z"
   },
   {
    "duration": 10,
    "start_time": "2024-07-12T11:45:38.307Z"
   },
   {
    "duration": 10,
    "start_time": "2024-07-12T11:45:38.318Z"
   },
   {
    "duration": 21,
    "start_time": "2024-07-12T11:45:38.329Z"
   },
   {
    "duration": 9,
    "start_time": "2024-07-12T11:45:38.351Z"
   },
   {
    "duration": 27,
    "start_time": "2024-07-12T11:45:38.361Z"
   },
   {
    "duration": 8,
    "start_time": "2024-07-12T11:45:38.391Z"
   },
   {
    "duration": 15,
    "start_time": "2024-07-12T11:45:38.400Z"
   },
   {
    "duration": 10,
    "start_time": "2024-07-12T11:45:38.417Z"
   },
   {
    "duration": 9,
    "start_time": "2024-07-12T11:45:38.429Z"
   },
   {
    "duration": 6,
    "start_time": "2024-07-12T11:45:38.439Z"
   },
   {
    "duration": 11,
    "start_time": "2024-07-12T11:45:38.446Z"
   },
   {
    "duration": 8,
    "start_time": "2024-07-12T11:45:38.460Z"
   },
   {
    "duration": 19,
    "start_time": "2024-07-12T11:45:38.470Z"
   },
   {
    "duration": 3,
    "start_time": "2024-07-12T11:45:38.496Z"
   },
   {
    "duration": 15,
    "start_time": "2024-07-12T11:45:38.500Z"
   },
   {
    "duration": 14,
    "start_time": "2024-07-12T11:45:38.516Z"
   },
   {
    "duration": 161,
    "start_time": "2024-07-12T11:45:38.531Z"
   },
   {
    "duration": 6,
    "start_time": "2024-07-12T11:45:38.694Z"
   },
   {
    "duration": 82,
    "start_time": "2024-07-12T11:45:38.701Z"
   },
   {
    "duration": 6,
    "start_time": "2024-07-12T11:45:38.785Z"
   },
   {
    "duration": 283,
    "start_time": "2024-07-12T11:45:38.793Z"
   },
   {
    "duration": 5,
    "start_time": "2024-07-12T11:45:39.077Z"
   },
   {
    "duration": 8,
    "start_time": "2024-07-12T11:45:39.084Z"
   },
   {
    "duration": 387,
    "start_time": "2024-07-12T11:45:39.095Z"
   },
   {
    "duration": 8,
    "start_time": "2024-07-12T11:45:39.484Z"
   },
   {
    "duration": 324,
    "start_time": "2024-07-12T11:45:39.493Z"
   },
   {
    "duration": 12,
    "start_time": "2024-07-12T11:45:39.819Z"
   },
   {
    "duration": 11,
    "start_time": "2024-07-12T11:45:39.832Z"
   },
   {
    "duration": 93,
    "start_time": "2024-07-12T11:45:39.844Z"
   },
   {
    "duration": 29,
    "start_time": "2024-07-12T11:45:39.938Z"
   },
   {
    "duration": 10,
    "start_time": "2024-07-12T11:45:39.969Z"
   },
   {
    "duration": 30,
    "start_time": "2024-07-12T11:45:39.980Z"
   },
   {
    "duration": 320,
    "start_time": "2024-07-12T11:45:40.011Z"
   },
   {
    "duration": 1629,
    "start_time": "2024-07-12T11:45:40.332Z"
   },
   {
    "duration": 342,
    "start_time": "2024-07-12T11:45:41.962Z"
   },
   {
    "duration": 1616,
    "start_time": "2024-07-12T11:45:42.306Z"
   },
   {
    "duration": 3,
    "start_time": "2024-07-12T11:45:43.923Z"
   },
   {
    "duration": 5,
    "start_time": "2024-07-12T11:45:43.927Z"
   },
   {
    "duration": 54,
    "start_time": "2024-07-12T11:45:43.933Z"
   },
   {
    "duration": 6,
    "start_time": "2024-07-12T11:45:43.989Z"
   },
   {
    "duration": 11,
    "start_time": "2024-07-12T11:45:43.996Z"
   },
   {
    "duration": 13,
    "start_time": "2024-07-12T11:45:44.008Z"
   },
   {
    "duration": 3,
    "start_time": "2024-07-12T11:45:44.022Z"
   },
   {
    "duration": 210,
    "start_time": "2024-07-12T11:45:44.026Z"
   },
   {
    "duration": 8,
    "start_time": "2024-07-12T11:45:44.237Z"
   },
   {
    "duration": 263,
    "start_time": "2024-07-12T11:45:44.246Z"
   },
   {
    "duration": 8,
    "start_time": "2024-07-12T11:45:44.511Z"
   },
   {
    "duration": 5,
    "start_time": "2024-07-12T11:45:44.520Z"
   },
   {
    "duration": 7,
    "start_time": "2024-07-12T11:45:44.526Z"
   },
   {
    "duration": 28,
    "start_time": "2024-07-12T11:45:44.534Z"
   },
   {
    "duration": 12,
    "start_time": "2024-07-12T11:45:44.563Z"
   },
   {
    "duration": 4,
    "start_time": "2024-07-12T11:45:44.577Z"
   },
   {
    "duration": 3,
    "start_time": "2024-07-12T11:45:44.582Z"
   },
   {
    "duration": 1431,
    "start_time": "2024-07-12T11:45:44.586Z"
   },
   {
    "duration": 5,
    "start_time": "2024-07-12T11:45:46.018Z"
   },
   {
    "duration": 8,
    "start_time": "2024-07-12T11:45:46.024Z"
   },
   {
    "duration": 346,
    "start_time": "2024-07-12T11:45:46.033Z"
   },
   {
    "duration": 1545,
    "start_time": "2024-07-12T11:46:24.614Z"
   },
   {
    "duration": 1559,
    "start_time": "2024-07-12T11:46:37.084Z"
   },
   {
    "duration": 1662,
    "start_time": "2024-07-12T11:46:48.835Z"
   },
   {
    "duration": 1547,
    "start_time": "2024-07-12T11:47:49.024Z"
   },
   {
    "duration": 1607,
    "start_time": "2024-07-12T11:47:56.441Z"
   },
   {
    "duration": 340,
    "start_time": "2024-07-12T11:48:20.771Z"
   },
   {
    "duration": 292,
    "start_time": "2024-07-12T11:48:28.629Z"
   },
   {
    "duration": 1179,
    "start_time": "2024-07-12T11:48:44.040Z"
   },
   {
    "duration": 70,
    "start_time": "2024-07-12T11:48:45.221Z"
   },
   {
    "duration": 3,
    "start_time": "2024-07-12T11:48:45.292Z"
   },
   {
    "duration": 26,
    "start_time": "2024-07-12T11:48:45.297Z"
   },
   {
    "duration": 22,
    "start_time": "2024-07-12T11:48:45.324Z"
   },
   {
    "duration": 7,
    "start_time": "2024-07-12T11:48:45.348Z"
   },
   {
    "duration": 26,
    "start_time": "2024-07-12T11:48:45.356Z"
   },
   {
    "duration": 8,
    "start_time": "2024-07-12T11:48:45.383Z"
   },
   {
    "duration": 16,
    "start_time": "2024-07-12T11:48:45.393Z"
   },
   {
    "duration": 13,
    "start_time": "2024-07-12T11:48:45.412Z"
   },
   {
    "duration": 6,
    "start_time": "2024-07-12T11:48:45.427Z"
   },
   {
    "duration": 7,
    "start_time": "2024-07-12T11:48:45.435Z"
   },
   {
    "duration": 7,
    "start_time": "2024-07-12T11:48:45.443Z"
   },
   {
    "duration": 17,
    "start_time": "2024-07-12T11:48:45.452Z"
   },
   {
    "duration": 13,
    "start_time": "2024-07-12T11:48:45.470Z"
   },
   {
    "duration": 17,
    "start_time": "2024-07-12T11:48:45.484Z"
   },
   {
    "duration": 28,
    "start_time": "2024-07-12T11:48:45.502Z"
   },
   {
    "duration": 4,
    "start_time": "2024-07-12T11:48:45.531Z"
   },
   {
    "duration": 5,
    "start_time": "2024-07-12T11:48:45.537Z"
   },
   {
    "duration": 6,
    "start_time": "2024-07-12T11:48:45.543Z"
   },
   {
    "duration": 148,
    "start_time": "2024-07-12T11:48:45.550Z"
   },
   {
    "duration": 6,
    "start_time": "2024-07-12T11:48:45.699Z"
   },
   {
    "duration": 81,
    "start_time": "2024-07-12T11:48:45.707Z"
   },
   {
    "duration": 7,
    "start_time": "2024-07-12T11:48:45.789Z"
   },
   {
    "duration": 298,
    "start_time": "2024-07-12T11:48:45.797Z"
   },
   {
    "duration": 4,
    "start_time": "2024-07-12T11:48:46.097Z"
   },
   {
    "duration": 9,
    "start_time": "2024-07-12T11:48:46.102Z"
   },
   {
    "duration": 376,
    "start_time": "2024-07-12T11:48:46.113Z"
   },
   {
    "duration": 10,
    "start_time": "2024-07-12T11:48:46.491Z"
   },
   {
    "duration": 304,
    "start_time": "2024-07-12T11:48:46.503Z"
   },
   {
    "duration": 13,
    "start_time": "2024-07-12T11:48:46.808Z"
   },
   {
    "duration": 11,
    "start_time": "2024-07-12T11:48:46.822Z"
   },
   {
    "duration": 97,
    "start_time": "2024-07-12T11:48:46.834Z"
   },
   {
    "duration": 17,
    "start_time": "2024-07-12T11:48:46.932Z"
   },
   {
    "duration": 15,
    "start_time": "2024-07-12T11:48:46.950Z"
   },
   {
    "duration": 21,
    "start_time": "2024-07-12T11:48:46.967Z"
   },
   {
    "duration": 315,
    "start_time": "2024-07-12T11:48:46.989Z"
   },
   {
    "duration": 1634,
    "start_time": "2024-07-12T11:48:47.305Z"
   },
   {
    "duration": 337,
    "start_time": "2024-07-12T11:48:48.940Z"
   },
   {
    "duration": 1582,
    "start_time": "2024-07-12T11:48:49.279Z"
   },
   {
    "duration": 12,
    "start_time": "2024-07-12T11:48:50.862Z"
   },
   {
    "duration": 8,
    "start_time": "2024-07-12T11:48:50.876Z"
   },
   {
    "duration": 63,
    "start_time": "2024-07-12T11:48:50.886Z"
   },
   {
    "duration": 6,
    "start_time": "2024-07-12T11:48:50.951Z"
   },
   {
    "duration": 30,
    "start_time": "2024-07-12T11:48:50.959Z"
   },
   {
    "duration": 34,
    "start_time": "2024-07-12T11:48:50.990Z"
   },
   {
    "duration": 4,
    "start_time": "2024-07-12T11:48:51.025Z"
   },
   {
    "duration": 188,
    "start_time": "2024-07-12T11:48:51.030Z"
   },
   {
    "duration": 8,
    "start_time": "2024-07-12T11:48:51.219Z"
   },
   {
    "duration": 270,
    "start_time": "2024-07-12T11:48:51.228Z"
   },
   {
    "duration": 6,
    "start_time": "2024-07-12T11:48:51.499Z"
   },
   {
    "duration": 16,
    "start_time": "2024-07-12T11:48:51.506Z"
   },
   {
    "duration": 25,
    "start_time": "2024-07-12T11:48:51.523Z"
   },
   {
    "duration": 10,
    "start_time": "2024-07-12T11:48:51.549Z"
   },
   {
    "duration": 15,
    "start_time": "2024-07-12T11:48:51.560Z"
   },
   {
    "duration": 5,
    "start_time": "2024-07-12T11:48:51.576Z"
   },
   {
    "duration": 16,
    "start_time": "2024-07-12T11:48:51.582Z"
   },
   {
    "duration": 1449,
    "start_time": "2024-07-12T11:48:51.600Z"
   },
   {
    "duration": 7,
    "start_time": "2024-07-12T11:48:53.051Z"
   },
   {
    "duration": 6,
    "start_time": "2024-07-12T11:48:53.059Z"
   },
   {
    "duration": 341,
    "start_time": "2024-07-12T11:48:53.066Z"
   },
   {
    "duration": 315,
    "start_time": "2024-07-12T11:48:58.908Z"
   },
   {
    "duration": 1065,
    "start_time": "2024-07-12T11:49:03.538Z"
   },
   {
    "duration": 63,
    "start_time": "2024-07-12T11:49:04.605Z"
   },
   {
    "duration": 4,
    "start_time": "2024-07-12T11:49:04.669Z"
   },
   {
    "duration": 16,
    "start_time": "2024-07-12T11:49:04.674Z"
   },
   {
    "duration": 9,
    "start_time": "2024-07-12T11:49:04.692Z"
   },
   {
    "duration": 7,
    "start_time": "2024-07-12T11:49:04.702Z"
   },
   {
    "duration": 11,
    "start_time": "2024-07-12T11:49:04.711Z"
   },
   {
    "duration": 5,
    "start_time": "2024-07-12T11:49:04.723Z"
   },
   {
    "duration": 16,
    "start_time": "2024-07-12T11:49:04.729Z"
   },
   {
    "duration": 24,
    "start_time": "2024-07-12T11:49:04.746Z"
   },
   {
    "duration": 5,
    "start_time": "2024-07-12T11:49:04.771Z"
   },
   {
    "duration": 4,
    "start_time": "2024-07-12T11:49:04.777Z"
   },
   {
    "duration": 7,
    "start_time": "2024-07-12T11:49:04.783Z"
   },
   {
    "duration": 23,
    "start_time": "2024-07-12T11:49:04.792Z"
   },
   {
    "duration": 19,
    "start_time": "2024-07-12T11:49:04.816Z"
   },
   {
    "duration": 5,
    "start_time": "2024-07-12T11:49:04.836Z"
   },
   {
    "duration": 17,
    "start_time": "2024-07-12T11:49:04.842Z"
   },
   {
    "duration": 4,
    "start_time": "2024-07-12T11:49:04.860Z"
   },
   {
    "duration": 9,
    "start_time": "2024-07-12T11:49:04.865Z"
   },
   {
    "duration": 7,
    "start_time": "2024-07-12T11:49:04.876Z"
   },
   {
    "duration": 174,
    "start_time": "2024-07-12T11:49:04.884Z"
   },
   {
    "duration": 9,
    "start_time": "2024-07-12T11:49:05.061Z"
   },
   {
    "duration": 87,
    "start_time": "2024-07-12T11:49:05.071Z"
   },
   {
    "duration": 9,
    "start_time": "2024-07-12T11:49:05.160Z"
   },
   {
    "duration": 269,
    "start_time": "2024-07-12T11:49:05.172Z"
   },
   {
    "duration": 5,
    "start_time": "2024-07-12T11:49:05.442Z"
   },
   {
    "duration": 7,
    "start_time": "2024-07-12T11:49:05.460Z"
   },
   {
    "duration": 332,
    "start_time": "2024-07-12T11:49:05.469Z"
   },
   {
    "duration": 8,
    "start_time": "2024-07-12T11:49:05.803Z"
   },
   {
    "duration": 295,
    "start_time": "2024-07-12T11:49:05.812Z"
   },
   {
    "duration": 13,
    "start_time": "2024-07-12T11:49:06.109Z"
   },
   {
    "duration": 16,
    "start_time": "2024-07-12T11:49:06.124Z"
   },
   {
    "duration": 96,
    "start_time": "2024-07-12T11:49:06.142Z"
   },
   {
    "duration": 25,
    "start_time": "2024-07-12T11:49:06.239Z"
   },
   {
    "duration": 14,
    "start_time": "2024-07-12T11:49:06.265Z"
   },
   {
    "duration": 20,
    "start_time": "2024-07-12T11:49:06.280Z"
   },
   {
    "duration": 311,
    "start_time": "2024-07-12T11:49:06.302Z"
   },
   {
    "duration": 1525,
    "start_time": "2024-07-12T11:49:06.615Z"
   },
   {
    "duration": 339,
    "start_time": "2024-07-12T11:49:08.141Z"
   },
   {
    "duration": 1478,
    "start_time": "2024-07-12T11:49:08.482Z"
   },
   {
    "duration": 5,
    "start_time": "2024-07-12T11:49:09.964Z"
   },
   {
    "duration": 4,
    "start_time": "2024-07-12T11:49:09.971Z"
   },
   {
    "duration": 36,
    "start_time": "2024-07-12T11:49:09.977Z"
   },
   {
    "duration": 7,
    "start_time": "2024-07-12T11:49:10.014Z"
   },
   {
    "duration": 36,
    "start_time": "2024-07-12T11:49:10.022Z"
   },
   {
    "duration": 13,
    "start_time": "2024-07-12T11:49:10.060Z"
   },
   {
    "duration": 28,
    "start_time": "2024-07-12T11:49:10.075Z"
   },
   {
    "duration": 214,
    "start_time": "2024-07-12T11:49:10.105Z"
   },
   {
    "duration": 11,
    "start_time": "2024-07-12T11:49:10.322Z"
   },
   {
    "duration": 259,
    "start_time": "2024-07-12T11:49:10.334Z"
   },
   {
    "duration": 6,
    "start_time": "2024-07-12T11:49:10.595Z"
   },
   {
    "duration": 57,
    "start_time": "2024-07-12T11:49:10.602Z"
   },
   {
    "duration": 8,
    "start_time": "2024-07-12T11:49:10.661Z"
   },
   {
    "duration": 5,
    "start_time": "2024-07-12T11:49:10.671Z"
   },
   {
    "duration": 34,
    "start_time": "2024-07-12T11:49:10.678Z"
   },
   {
    "duration": 10,
    "start_time": "2024-07-12T11:49:10.713Z"
   },
   {
    "duration": 11,
    "start_time": "2024-07-12T11:49:10.724Z"
   },
   {
    "duration": 1487,
    "start_time": "2024-07-12T11:49:10.737Z"
   },
   {
    "duration": 4,
    "start_time": "2024-07-12T11:49:12.226Z"
   },
   {
    "duration": 13,
    "start_time": "2024-07-12T11:49:12.231Z"
   },
   {
    "duration": 354,
    "start_time": "2024-07-12T11:49:12.246Z"
   },
   {
    "duration": 16,
    "start_time": "2024-07-12T11:52:17.604Z"
   },
   {
    "duration": 1444,
    "start_time": "2024-07-12T11:55:53.521Z"
   },
   {
    "duration": 307,
    "start_time": "2024-07-12T11:56:01.900Z"
   },
   {
    "duration": 63,
    "start_time": "2024-07-12T11:56:12.616Z"
   },
   {
    "duration": 1669,
    "start_time": "2024-07-12T11:56:15.509Z"
   },
   {
    "duration": 59,
    "start_time": "2024-07-12T11:56:19.881Z"
   },
   {
    "duration": 1624,
    "start_time": "2024-07-12T11:56:22.323Z"
   },
   {
    "duration": 1620,
    "start_time": "2024-07-12T11:57:02.570Z"
   },
   {
    "duration": 1579,
    "start_time": "2024-07-12T11:57:10.242Z"
   },
   {
    "duration": 1075,
    "start_time": "2024-07-12T12:00:58.464Z"
   },
   {
    "duration": 67,
    "start_time": "2024-07-12T12:00:59.541Z"
   },
   {
    "duration": 2,
    "start_time": "2024-07-12T12:00:59.610Z"
   },
   {
    "duration": 11,
    "start_time": "2024-07-12T12:00:59.615Z"
   },
   {
    "duration": 12,
    "start_time": "2024-07-12T12:00:59.627Z"
   },
   {
    "duration": 9,
    "start_time": "2024-07-12T12:00:59.641Z"
   },
   {
    "duration": 15,
    "start_time": "2024-07-12T12:00:59.651Z"
   },
   {
    "duration": 7,
    "start_time": "2024-07-12T12:00:59.668Z"
   },
   {
    "duration": 22,
    "start_time": "2024-07-12T12:00:59.677Z"
   },
   {
    "duration": 6,
    "start_time": "2024-07-12T12:00:59.702Z"
   },
   {
    "duration": 7,
    "start_time": "2024-07-12T12:00:59.709Z"
   },
   {
    "duration": 5,
    "start_time": "2024-07-12T12:00:59.718Z"
   },
   {
    "duration": 7,
    "start_time": "2024-07-12T12:00:59.724Z"
   },
   {
    "duration": 4,
    "start_time": "2024-07-12T12:00:59.732Z"
   },
   {
    "duration": 4,
    "start_time": "2024-07-12T12:00:59.757Z"
   },
   {
    "duration": 9,
    "start_time": "2024-07-12T12:00:59.762Z"
   },
   {
    "duration": 19,
    "start_time": "2024-07-12T12:00:59.773Z"
   },
   {
    "duration": 3,
    "start_time": "2024-07-12T12:00:59.794Z"
   },
   {
    "duration": 15,
    "start_time": "2024-07-12T12:00:59.798Z"
   },
   {
    "duration": 10,
    "start_time": "2024-07-12T12:00:59.814Z"
   },
   {
    "duration": 157,
    "start_time": "2024-07-12T12:00:59.859Z"
   },
   {
    "duration": 6,
    "start_time": "2024-07-12T12:01:00.018Z"
   },
   {
    "duration": 148,
    "start_time": "2024-07-12T12:01:00.026Z"
   },
   {
    "duration": 9,
    "start_time": "2024-07-12T12:01:00.176Z"
   },
   {
    "duration": 446,
    "start_time": "2024-07-12T12:01:00.186Z"
   },
   {
    "duration": 5,
    "start_time": "2024-07-12T12:01:00.634Z"
   },
   {
    "duration": 136,
    "start_time": "2024-07-12T12:01:00.640Z"
   },
   {
    "duration": 402,
    "start_time": "2024-07-12T12:01:00.780Z"
   },
   {
    "duration": 8,
    "start_time": "2024-07-12T12:01:01.184Z"
   },
   {
    "duration": 309,
    "start_time": "2024-07-12T12:01:01.193Z"
   },
   {
    "duration": 12,
    "start_time": "2024-07-12T12:01:01.503Z"
   },
   {
    "duration": 12,
    "start_time": "2024-07-12T12:01:01.517Z"
   },
   {
    "duration": 109,
    "start_time": "2024-07-12T12:01:01.530Z"
   },
   {
    "duration": 29,
    "start_time": "2024-07-12T12:01:01.641Z"
   },
   {
    "duration": 11,
    "start_time": "2024-07-12T12:01:01.672Z"
   },
   {
    "duration": 42,
    "start_time": "2024-07-12T12:01:01.684Z"
   },
   {
    "duration": 315,
    "start_time": "2024-07-12T12:01:01.727Z"
   },
   {
    "duration": 1683,
    "start_time": "2024-07-12T12:01:02.044Z"
   },
   {
    "duration": 356,
    "start_time": "2024-07-12T12:01:03.729Z"
   },
   {
    "duration": 1662,
    "start_time": "2024-07-12T12:01:04.087Z"
   },
   {
    "duration": 8,
    "start_time": "2024-07-12T12:01:05.750Z"
   },
   {
    "duration": 42,
    "start_time": "2024-07-12T12:01:05.759Z"
   },
   {
    "duration": 55,
    "start_time": "2024-07-12T12:01:05.803Z"
   },
   {
    "duration": 6,
    "start_time": "2024-07-12T12:01:05.860Z"
   },
   {
    "duration": 22,
    "start_time": "2024-07-12T12:01:05.867Z"
   },
   {
    "duration": 14,
    "start_time": "2024-07-12T12:01:05.890Z"
   },
   {
    "duration": 3,
    "start_time": "2024-07-12T12:01:05.906Z"
   },
   {
    "duration": 198,
    "start_time": "2024-07-12T12:01:05.910Z"
   },
   {
    "duration": 9,
    "start_time": "2024-07-12T12:01:06.109Z"
   },
   {
    "duration": 265,
    "start_time": "2024-07-12T12:01:06.120Z"
   },
   {
    "duration": 6,
    "start_time": "2024-07-12T12:01:06.387Z"
   },
   {
    "duration": 11,
    "start_time": "2024-07-12T12:01:06.394Z"
   },
   {
    "duration": 13,
    "start_time": "2024-07-12T12:01:06.406Z"
   },
   {
    "duration": 4,
    "start_time": "2024-07-12T12:01:06.420Z"
   },
   {
    "duration": 42,
    "start_time": "2024-07-12T12:01:06.426Z"
   },
   {
    "duration": 5,
    "start_time": "2024-07-12T12:01:06.469Z"
   },
   {
    "duration": 8,
    "start_time": "2024-07-12T12:01:06.476Z"
   },
   {
    "duration": 1413,
    "start_time": "2024-07-12T12:01:06.485Z"
   },
   {
    "duration": 5,
    "start_time": "2024-07-12T12:01:07.899Z"
   },
   {
    "duration": 9,
    "start_time": "2024-07-12T12:01:07.905Z"
   },
   {
    "duration": 344,
    "start_time": "2024-07-12T12:01:07.915Z"
   },
   {
    "duration": 1587,
    "start_time": "2024-07-12T12:03:56.101Z"
   },
   {
    "duration": 1059,
    "start_time": "2024-07-12T12:14:52.640Z"
   },
   {
    "duration": 63,
    "start_time": "2024-07-12T12:14:53.701Z"
   },
   {
    "duration": 3,
    "start_time": "2024-07-12T12:14:53.765Z"
   },
   {
    "duration": 43,
    "start_time": "2024-07-12T12:14:53.769Z"
   },
   {
    "duration": 21,
    "start_time": "2024-07-12T12:14:53.813Z"
   },
   {
    "duration": 9,
    "start_time": "2024-07-12T12:14:53.835Z"
   },
   {
    "duration": 20,
    "start_time": "2024-07-12T12:14:53.845Z"
   },
   {
    "duration": 6,
    "start_time": "2024-07-12T12:14:53.866Z"
   },
   {
    "duration": 13,
    "start_time": "2024-07-12T12:14:53.873Z"
   },
   {
    "duration": 34,
    "start_time": "2024-07-12T12:14:53.888Z"
   },
   {
    "duration": 9,
    "start_time": "2024-07-12T12:14:53.924Z"
   },
   {
    "duration": 20,
    "start_time": "2024-07-12T12:14:53.934Z"
   },
   {
    "duration": 8,
    "start_time": "2024-07-12T12:14:53.955Z"
   },
   {
    "duration": 26,
    "start_time": "2024-07-12T12:14:53.965Z"
   },
   {
    "duration": 8,
    "start_time": "2024-07-12T12:14:53.992Z"
   },
   {
    "duration": 34,
    "start_time": "2024-07-12T12:14:54.001Z"
   },
   {
    "duration": 36,
    "start_time": "2024-07-12T12:14:54.036Z"
   },
   {
    "duration": 6,
    "start_time": "2024-07-12T12:14:54.073Z"
   },
   {
    "duration": 29,
    "start_time": "2024-07-12T12:14:54.080Z"
   },
   {
    "duration": 25,
    "start_time": "2024-07-12T12:14:54.110Z"
   },
   {
    "duration": 163,
    "start_time": "2024-07-12T12:14:54.136Z"
   },
   {
    "duration": 7,
    "start_time": "2024-07-12T12:14:54.300Z"
   },
   {
    "duration": 95,
    "start_time": "2024-07-12T12:14:54.308Z"
   },
   {
    "duration": 7,
    "start_time": "2024-07-12T12:14:54.404Z"
   },
   {
    "duration": 297,
    "start_time": "2024-07-12T12:14:54.412Z"
   },
   {
    "duration": 5,
    "start_time": "2024-07-12T12:14:54.710Z"
   },
   {
    "duration": 12,
    "start_time": "2024-07-12T12:14:54.716Z"
   },
   {
    "duration": 346,
    "start_time": "2024-07-12T12:14:54.731Z"
   },
   {
    "duration": 7,
    "start_time": "2024-07-12T12:14:55.078Z"
   },
   {
    "duration": 272,
    "start_time": "2024-07-12T12:14:55.086Z"
   },
   {
    "duration": 11,
    "start_time": "2024-07-12T12:14:55.360Z"
   },
   {
    "duration": 14,
    "start_time": "2024-07-12T12:14:55.372Z"
   },
   {
    "duration": 83,
    "start_time": "2024-07-12T12:14:55.387Z"
   },
   {
    "duration": 20,
    "start_time": "2024-07-12T12:14:55.471Z"
   },
   {
    "duration": 8,
    "start_time": "2024-07-12T12:14:55.492Z"
   },
   {
    "duration": 23,
    "start_time": "2024-07-12T12:14:55.502Z"
   },
   {
    "duration": 299,
    "start_time": "2024-07-12T12:14:55.526Z"
   },
   {
    "duration": 1456,
    "start_time": "2024-07-12T12:14:55.827Z"
   },
   {
    "duration": 295,
    "start_time": "2024-07-12T12:14:57.285Z"
   },
   {
    "duration": 1438,
    "start_time": "2024-07-12T12:14:57.581Z"
   },
   {
    "duration": 4,
    "start_time": "2024-07-12T12:14:59.020Z"
   },
   {
    "duration": 8,
    "start_time": "2024-07-12T12:14:59.025Z"
   },
   {
    "duration": 41,
    "start_time": "2024-07-12T12:14:59.034Z"
   },
   {
    "duration": 6,
    "start_time": "2024-07-12T12:14:59.076Z"
   },
   {
    "duration": 22,
    "start_time": "2024-07-12T12:14:59.083Z"
   },
   {
    "duration": 20,
    "start_time": "2024-07-12T12:14:59.107Z"
   },
   {
    "duration": 2,
    "start_time": "2024-07-12T12:14:59.128Z"
   },
   {
    "duration": 173,
    "start_time": "2024-07-12T12:14:59.132Z"
   },
   {
    "duration": 9,
    "start_time": "2024-07-12T12:14:59.306Z"
   },
   {
    "duration": 193,
    "start_time": "2024-07-12T12:14:59.317Z"
   },
   {
    "duration": 49,
    "start_time": "2024-07-12T12:14:59.512Z"
   },
   {
    "duration": 6,
    "start_time": "2024-07-12T12:14:59.563Z"
   },
   {
    "duration": 9,
    "start_time": "2024-07-12T12:14:59.570Z"
   },
   {
    "duration": 6,
    "start_time": "2024-07-12T12:14:59.580Z"
   },
   {
    "duration": 9,
    "start_time": "2024-07-12T12:14:59.587Z"
   },
   {
    "duration": 4,
    "start_time": "2024-07-12T12:14:59.598Z"
   },
   {
    "duration": 4,
    "start_time": "2024-07-12T12:14:59.604Z"
   },
   {
    "duration": 1417,
    "start_time": "2024-07-12T12:14:59.609Z"
   },
   {
    "duration": 5,
    "start_time": "2024-07-12T12:15:01.027Z"
   },
   {
    "duration": 93,
    "start_time": "2024-07-12T12:15:01.033Z"
   },
   {
    "duration": 363,
    "start_time": "2024-07-12T12:15:01.128Z"
   },
   {
    "duration": 1017,
    "start_time": "2024-07-12T12:16:11.978Z"
   },
   {
    "duration": 64,
    "start_time": "2024-07-12T12:16:12.997Z"
   },
   {
    "duration": 4,
    "start_time": "2024-07-12T12:16:13.062Z"
   },
   {
    "duration": 15,
    "start_time": "2024-07-12T12:16:13.068Z"
   },
   {
    "duration": 17,
    "start_time": "2024-07-12T12:16:13.085Z"
   },
   {
    "duration": 6,
    "start_time": "2024-07-12T12:16:13.103Z"
   },
   {
    "duration": 14,
    "start_time": "2024-07-12T12:16:13.111Z"
   },
   {
    "duration": 11,
    "start_time": "2024-07-12T12:16:13.127Z"
   },
   {
    "duration": 8,
    "start_time": "2024-07-12T12:16:13.139Z"
   },
   {
    "duration": 13,
    "start_time": "2024-07-12T12:16:13.149Z"
   },
   {
    "duration": 5,
    "start_time": "2024-07-12T12:16:13.163Z"
   },
   {
    "duration": 6,
    "start_time": "2024-07-12T12:16:13.169Z"
   },
   {
    "duration": 12,
    "start_time": "2024-07-12T12:16:13.176Z"
   },
   {
    "duration": 12,
    "start_time": "2024-07-12T12:16:13.189Z"
   },
   {
    "duration": 7,
    "start_time": "2024-07-12T12:16:13.203Z"
   },
   {
    "duration": 5,
    "start_time": "2024-07-12T12:16:13.211Z"
   },
   {
    "duration": 43,
    "start_time": "2024-07-12T12:16:13.217Z"
   },
   {
    "duration": 4,
    "start_time": "2024-07-12T12:16:13.262Z"
   },
   {
    "duration": 5,
    "start_time": "2024-07-12T12:16:13.267Z"
   },
   {
    "duration": 7,
    "start_time": "2024-07-12T12:16:13.273Z"
   },
   {
    "duration": 144,
    "start_time": "2024-07-12T12:16:13.281Z"
   },
   {
    "duration": 6,
    "start_time": "2024-07-12T12:16:13.426Z"
   },
   {
    "duration": 73,
    "start_time": "2024-07-12T12:16:13.433Z"
   },
   {
    "duration": 6,
    "start_time": "2024-07-12T12:16:13.507Z"
   },
   {
    "duration": 296,
    "start_time": "2024-07-12T12:16:13.515Z"
   },
   {
    "duration": 5,
    "start_time": "2024-07-12T12:16:13.812Z"
   },
   {
    "duration": 15,
    "start_time": "2024-07-12T12:16:13.818Z"
   },
   {
    "duration": 340,
    "start_time": "2024-07-12T12:16:13.836Z"
   },
   {
    "duration": 7,
    "start_time": "2024-07-12T12:16:14.177Z"
   },
   {
    "duration": 283,
    "start_time": "2024-07-12T12:16:14.185Z"
   },
   {
    "duration": 13,
    "start_time": "2024-07-12T12:16:14.470Z"
   },
   {
    "duration": 11,
    "start_time": "2024-07-12T12:16:14.484Z"
   },
   {
    "duration": 84,
    "start_time": "2024-07-12T12:16:14.496Z"
   },
   {
    "duration": 18,
    "start_time": "2024-07-12T12:16:14.582Z"
   },
   {
    "duration": 8,
    "start_time": "2024-07-12T12:16:14.601Z"
   },
   {
    "duration": 18,
    "start_time": "2024-07-12T12:16:14.610Z"
   },
   {
    "duration": 300,
    "start_time": "2024-07-12T12:16:14.629Z"
   },
   {
    "duration": 1491,
    "start_time": "2024-07-12T12:16:14.930Z"
   },
   {
    "duration": 314,
    "start_time": "2024-07-12T12:16:16.422Z"
   },
   {
    "duration": 1474,
    "start_time": "2024-07-12T12:16:16.737Z"
   },
   {
    "duration": 4,
    "start_time": "2024-07-12T12:16:18.212Z"
   },
   {
    "duration": 4,
    "start_time": "2024-07-12T12:16:18.217Z"
   },
   {
    "duration": 50,
    "start_time": "2024-07-12T12:16:18.222Z"
   },
   {
    "duration": 7,
    "start_time": "2024-07-12T12:16:18.273Z"
   },
   {
    "duration": 23,
    "start_time": "2024-07-12T12:16:18.282Z"
   },
   {
    "duration": 19,
    "start_time": "2024-07-12T12:16:18.307Z"
   },
   {
    "duration": 4,
    "start_time": "2024-07-12T12:16:18.328Z"
   },
   {
    "duration": 218,
    "start_time": "2024-07-12T12:16:18.333Z"
   },
   {
    "duration": 12,
    "start_time": "2024-07-12T12:16:18.552Z"
   },
   {
    "duration": 225,
    "start_time": "2024-07-12T12:16:18.566Z"
   },
   {
    "duration": 8,
    "start_time": "2024-07-12T12:16:18.792Z"
   },
   {
    "duration": 18,
    "start_time": "2024-07-12T12:16:18.801Z"
   },
   {
    "duration": 6,
    "start_time": "2024-07-12T12:16:18.821Z"
   },
   {
    "duration": 4,
    "start_time": "2024-07-12T12:16:18.828Z"
   },
   {
    "duration": 29,
    "start_time": "2024-07-12T12:16:18.834Z"
   },
   {
    "duration": 4,
    "start_time": "2024-07-12T12:16:18.864Z"
   },
   {
    "duration": 4,
    "start_time": "2024-07-12T12:16:18.870Z"
   },
   {
    "duration": 1392,
    "start_time": "2024-07-12T12:16:18.876Z"
   },
   {
    "duration": 5,
    "start_time": "2024-07-12T12:16:20.269Z"
   },
   {
    "duration": 4,
    "start_time": "2024-07-12T12:16:20.276Z"
   },
   {
    "duration": 326,
    "start_time": "2024-07-12T12:16:20.282Z"
   },
   {
    "duration": 1080,
    "start_time": "2024-07-12T12:18:21.614Z"
   },
   {
    "duration": 65,
    "start_time": "2024-07-12T12:18:22.696Z"
   },
   {
    "duration": 9,
    "start_time": "2024-07-12T12:18:22.763Z"
   },
   {
    "duration": 58,
    "start_time": "2024-07-12T12:18:22.775Z"
   },
   {
    "duration": 16,
    "start_time": "2024-07-12T12:18:22.835Z"
   },
   {
    "duration": 14,
    "start_time": "2024-07-12T12:18:22.853Z"
   },
   {
    "duration": 25,
    "start_time": "2024-07-12T12:18:22.868Z"
   },
   {
    "duration": 8,
    "start_time": "2024-07-12T12:18:22.895Z"
   },
   {
    "duration": 17,
    "start_time": "2024-07-12T12:18:22.904Z"
   },
   {
    "duration": 11,
    "start_time": "2024-07-12T12:18:22.924Z"
   },
   {
    "duration": 5,
    "start_time": "2024-07-12T12:18:22.937Z"
   },
   {
    "duration": 12,
    "start_time": "2024-07-12T12:18:22.945Z"
   },
   {
    "duration": 11,
    "start_time": "2024-07-12T12:18:22.959Z"
   },
   {
    "duration": 8,
    "start_time": "2024-07-12T12:18:22.971Z"
   },
   {
    "duration": 12,
    "start_time": "2024-07-12T12:18:22.980Z"
   },
   {
    "duration": 5,
    "start_time": "2024-07-12T12:18:22.995Z"
   },
   {
    "duration": 56,
    "start_time": "2024-07-12T12:18:23.002Z"
   },
   {
    "duration": 5,
    "start_time": "2024-07-12T12:18:23.060Z"
   },
   {
    "duration": 12,
    "start_time": "2024-07-12T12:18:23.066Z"
   },
   {
    "duration": 23,
    "start_time": "2024-07-12T12:18:23.080Z"
   },
   {
    "duration": 153,
    "start_time": "2024-07-12T12:18:23.104Z"
   },
   {
    "duration": 7,
    "start_time": "2024-07-12T12:18:23.259Z"
   },
   {
    "duration": 113,
    "start_time": "2024-07-12T12:18:23.268Z"
   },
   {
    "duration": 9,
    "start_time": "2024-07-12T12:18:23.383Z"
   },
   {
    "duration": 354,
    "start_time": "2024-07-12T12:18:23.393Z"
   },
   {
    "duration": 11,
    "start_time": "2024-07-12T12:18:23.749Z"
   },
   {
    "duration": 25,
    "start_time": "2024-07-12T12:18:23.762Z"
   },
   {
    "duration": 362,
    "start_time": "2024-07-12T12:18:23.791Z"
   },
   {
    "duration": 10,
    "start_time": "2024-07-12T12:18:24.157Z"
   },
   {
    "duration": 311,
    "start_time": "2024-07-12T12:18:24.169Z"
   },
   {
    "duration": 14,
    "start_time": "2024-07-12T12:18:24.481Z"
   },
   {
    "duration": 21,
    "start_time": "2024-07-12T12:18:24.496Z"
   },
   {
    "duration": 98,
    "start_time": "2024-07-12T12:18:24.519Z"
   },
   {
    "duration": 23,
    "start_time": "2024-07-12T12:18:24.619Z"
   },
   {
    "duration": 21,
    "start_time": "2024-07-12T12:18:24.644Z"
   },
   {
    "duration": 25,
    "start_time": "2024-07-12T12:18:24.666Z"
   },
   {
    "duration": 313,
    "start_time": "2024-07-12T12:18:24.692Z"
   },
   {
    "duration": 1610,
    "start_time": "2024-07-12T12:18:25.007Z"
   },
   {
    "duration": 310,
    "start_time": "2024-07-12T12:18:26.618Z"
   },
   {
    "duration": 1681,
    "start_time": "2024-07-12T12:18:26.929Z"
   },
   {
    "duration": 6,
    "start_time": "2024-07-12T12:18:28.613Z"
   },
   {
    "duration": 12,
    "start_time": "2024-07-12T12:18:28.620Z"
   },
   {
    "duration": 42,
    "start_time": "2024-07-12T12:18:28.633Z"
   },
   {
    "duration": 7,
    "start_time": "2024-07-12T12:18:28.678Z"
   },
   {
    "duration": 12,
    "start_time": "2024-07-12T12:18:28.687Z"
   },
   {
    "duration": 19,
    "start_time": "2024-07-12T12:18:28.700Z"
   },
   {
    "duration": 4,
    "start_time": "2024-07-12T12:18:28.721Z"
   },
   {
    "duration": 209,
    "start_time": "2024-07-12T12:18:28.726Z"
   },
   {
    "duration": 13,
    "start_time": "2024-07-12T12:18:28.937Z"
   },
   {
    "duration": 258,
    "start_time": "2024-07-12T12:18:28.958Z"
   },
   {
    "duration": 8,
    "start_time": "2024-07-12T12:18:29.218Z"
   },
   {
    "duration": 23,
    "start_time": "2024-07-12T12:18:29.228Z"
   },
   {
    "duration": 7,
    "start_time": "2024-07-12T12:18:29.257Z"
   },
   {
    "duration": 19,
    "start_time": "2024-07-12T12:18:29.266Z"
   },
   {
    "duration": 14,
    "start_time": "2024-07-12T12:18:29.287Z"
   },
   {
    "duration": 6,
    "start_time": "2024-07-12T12:18:29.302Z"
   },
   {
    "duration": 5,
    "start_time": "2024-07-12T12:18:29.309Z"
   },
   {
    "duration": 1403,
    "start_time": "2024-07-12T12:18:29.316Z"
   },
   {
    "duration": 6,
    "start_time": "2024-07-12T12:18:30.721Z"
   },
   {
    "duration": 40,
    "start_time": "2024-07-12T12:18:30.729Z"
   },
   {
    "duration": 337,
    "start_time": "2024-07-12T12:18:30.771Z"
   },
   {
    "duration": 1074,
    "start_time": "2024-07-12T12:21:39.554Z"
   },
   {
    "duration": 67,
    "start_time": "2024-07-12T12:21:40.629Z"
   },
   {
    "duration": 3,
    "start_time": "2024-07-12T12:21:40.697Z"
   },
   {
    "duration": 15,
    "start_time": "2024-07-12T12:21:40.702Z"
   },
   {
    "duration": 18,
    "start_time": "2024-07-12T12:21:40.718Z"
   },
   {
    "duration": 7,
    "start_time": "2024-07-12T12:21:40.737Z"
   },
   {
    "duration": 11,
    "start_time": "2024-07-12T12:21:40.745Z"
   },
   {
    "duration": 26,
    "start_time": "2024-07-12T12:21:40.757Z"
   },
   {
    "duration": 64,
    "start_time": "2024-07-12T12:21:40.785Z"
   },
   {
    "duration": 11,
    "start_time": "2024-07-12T12:21:40.852Z"
   },
   {
    "duration": 5,
    "start_time": "2024-07-12T12:21:40.865Z"
   },
   {
    "duration": 5,
    "start_time": "2024-07-12T12:21:40.872Z"
   },
   {
    "duration": 8,
    "start_time": "2024-07-12T12:21:40.878Z"
   },
   {
    "duration": 10,
    "start_time": "2024-07-12T12:21:40.888Z"
   },
   {
    "duration": 5,
    "start_time": "2024-07-12T12:21:40.899Z"
   },
   {
    "duration": 6,
    "start_time": "2024-07-12T12:21:40.905Z"
   },
   {
    "duration": 50,
    "start_time": "2024-07-12T12:21:40.912Z"
   },
   {
    "duration": 5,
    "start_time": "2024-07-12T12:21:40.967Z"
   },
   {
    "duration": 5,
    "start_time": "2024-07-12T12:21:40.974Z"
   },
   {
    "duration": 4,
    "start_time": "2024-07-12T12:21:40.981Z"
   },
   {
    "duration": 159,
    "start_time": "2024-07-12T12:21:40.986Z"
   },
   {
    "duration": 12,
    "start_time": "2024-07-12T12:21:41.147Z"
   },
   {
    "duration": 72,
    "start_time": "2024-07-12T12:21:41.161Z"
   },
   {
    "duration": 9,
    "start_time": "2024-07-12T12:21:41.235Z"
   },
   {
    "duration": 296,
    "start_time": "2024-07-12T12:21:41.245Z"
   },
   {
    "duration": 4,
    "start_time": "2024-07-12T12:21:41.542Z"
   },
   {
    "duration": 9,
    "start_time": "2024-07-12T12:21:41.560Z"
   },
   {
    "duration": 337,
    "start_time": "2024-07-12T12:21:41.573Z"
   },
   {
    "duration": 7,
    "start_time": "2024-07-12T12:21:41.911Z"
   },
   {
    "duration": 294,
    "start_time": "2024-07-12T12:21:41.919Z"
   },
   {
    "duration": 14,
    "start_time": "2024-07-12T12:21:42.214Z"
   },
   {
    "duration": 30,
    "start_time": "2024-07-12T12:21:42.229Z"
   },
   {
    "duration": 28,
    "start_time": "2024-07-12T12:21:42.261Z"
   },
   {
    "duration": 21,
    "start_time": "2024-07-12T12:21:42.291Z"
   },
   {
    "duration": 14,
    "start_time": "2024-07-12T12:21:42.314Z"
   },
   {
    "duration": 43,
    "start_time": "2024-07-12T12:21:42.330Z"
   },
   {
    "duration": 365,
    "start_time": "2024-07-12T12:21:42.374Z"
   },
   {
    "duration": 1585,
    "start_time": "2024-07-12T12:21:42.741Z"
   },
   {
    "duration": 312,
    "start_time": "2024-07-12T12:21:44.328Z"
   },
   {
    "duration": 1528,
    "start_time": "2024-07-12T12:21:44.642Z"
   },
   {
    "duration": 5,
    "start_time": "2024-07-12T12:21:46.172Z"
   },
   {
    "duration": 7,
    "start_time": "2024-07-12T12:21:46.178Z"
   },
   {
    "duration": 48,
    "start_time": "2024-07-12T12:21:46.186Z"
   },
   {
    "duration": 8,
    "start_time": "2024-07-12T12:21:46.236Z"
   },
   {
    "duration": 26,
    "start_time": "2024-07-12T12:21:46.245Z"
   },
   {
    "duration": 16,
    "start_time": "2024-07-12T12:21:46.273Z"
   },
   {
    "duration": 9,
    "start_time": "2024-07-12T12:21:46.291Z"
   },
   {
    "duration": 220,
    "start_time": "2024-07-12T12:21:46.301Z"
   },
   {
    "duration": 8,
    "start_time": "2024-07-12T12:21:46.523Z"
   },
   {
    "duration": 267,
    "start_time": "2024-07-12T12:21:46.533Z"
   },
   {
    "duration": 7,
    "start_time": "2024-07-12T12:21:46.801Z"
   },
   {
    "duration": 26,
    "start_time": "2024-07-12T12:21:46.809Z"
   },
   {
    "duration": 4,
    "start_time": "2024-07-12T12:21:46.837Z"
   },
   {
    "duration": 7,
    "start_time": "2024-07-12T12:21:46.842Z"
   },
   {
    "duration": 10,
    "start_time": "2024-07-12T12:21:46.851Z"
   },
   {
    "duration": 19,
    "start_time": "2024-07-12T12:21:46.862Z"
   },
   {
    "duration": 8,
    "start_time": "2024-07-12T12:21:46.882Z"
   },
   {
    "duration": 1349,
    "start_time": "2024-07-12T12:21:46.892Z"
   },
   {
    "duration": 4,
    "start_time": "2024-07-12T12:21:48.242Z"
   },
   {
    "duration": 13,
    "start_time": "2024-07-12T12:21:48.258Z"
   },
   {
    "duration": 240,
    "start_time": "2024-07-12T12:21:48.272Z"
   },
   {
    "duration": 1019,
    "start_time": "2024-07-12T12:24:15.437Z"
   },
   {
    "duration": 996,
    "start_time": "2024-07-12T12:24:49.512Z"
   },
   {
    "duration": 72,
    "start_time": "2024-07-12T12:24:50.510Z"
   },
   {
    "duration": 4,
    "start_time": "2024-07-12T12:24:50.585Z"
   },
   {
    "duration": 30,
    "start_time": "2024-07-12T12:24:50.592Z"
   },
   {
    "duration": 29,
    "start_time": "2024-07-12T12:24:50.624Z"
   },
   {
    "duration": 30,
    "start_time": "2024-07-12T12:24:50.654Z"
   },
   {
    "duration": 12,
    "start_time": "2024-07-12T12:24:50.685Z"
   },
   {
    "duration": 47,
    "start_time": "2024-07-12T12:24:50.698Z"
   },
   {
    "duration": 29,
    "start_time": "2024-07-12T12:24:50.746Z"
   },
   {
    "duration": 12,
    "start_time": "2024-07-12T12:24:50.777Z"
   },
   {
    "duration": 51,
    "start_time": "2024-07-12T12:24:50.792Z"
   },
   {
    "duration": 5,
    "start_time": "2024-07-12T12:24:50.844Z"
   },
   {
    "duration": 34,
    "start_time": "2024-07-12T12:24:50.850Z"
   },
   {
    "duration": 10,
    "start_time": "2024-07-12T12:24:50.886Z"
   },
   {
    "duration": 36,
    "start_time": "2024-07-12T12:24:50.897Z"
   },
   {
    "duration": 9,
    "start_time": "2024-07-12T12:24:50.934Z"
   },
   {
    "duration": 35,
    "start_time": "2024-07-12T12:24:50.944Z"
   },
   {
    "duration": 8,
    "start_time": "2024-07-12T12:24:50.980Z"
   },
   {
    "duration": 21,
    "start_time": "2024-07-12T12:24:50.989Z"
   },
   {
    "duration": 31,
    "start_time": "2024-07-12T12:24:51.012Z"
   },
   {
    "duration": 163,
    "start_time": "2024-07-12T12:24:51.044Z"
   },
   {
    "duration": 7,
    "start_time": "2024-07-12T12:24:51.209Z"
   },
   {
    "duration": 78,
    "start_time": "2024-07-12T12:24:51.217Z"
   },
   {
    "duration": 9,
    "start_time": "2024-07-12T12:24:51.297Z"
   },
   {
    "duration": 349,
    "start_time": "2024-07-12T12:24:51.307Z"
   },
   {
    "duration": 20,
    "start_time": "2024-07-12T12:24:51.669Z"
   },
   {
    "duration": 11,
    "start_time": "2024-07-12T12:24:51.690Z"
   },
   {
    "duration": 383,
    "start_time": "2024-07-12T12:24:51.704Z"
   },
   {
    "duration": 7,
    "start_time": "2024-07-12T12:24:52.092Z"
   },
   {
    "duration": 383,
    "start_time": "2024-07-12T12:24:52.100Z"
   },
   {
    "duration": 17,
    "start_time": "2024-07-12T12:24:52.484Z"
   },
   {
    "duration": 15,
    "start_time": "2024-07-12T12:24:52.502Z"
   },
   {
    "duration": 92,
    "start_time": "2024-07-12T12:24:52.518Z"
   },
   {
    "duration": 28,
    "start_time": "2024-07-12T12:24:52.612Z"
   },
   {
    "duration": 42,
    "start_time": "2024-07-12T12:24:52.641Z"
   },
   {
    "duration": 20,
    "start_time": "2024-07-12T12:24:52.692Z"
   },
   {
    "duration": 306,
    "start_time": "2024-07-12T12:24:52.714Z"
   },
   {
    "duration": 1766,
    "start_time": "2024-07-12T12:24:53.022Z"
   },
   {
    "duration": 339,
    "start_time": "2024-07-12T12:24:54.789Z"
   },
   {
    "duration": 1712,
    "start_time": "2024-07-12T12:24:55.129Z"
   },
   {
    "duration": 4,
    "start_time": "2024-07-12T12:24:56.843Z"
   },
   {
    "duration": 1432,
    "start_time": "2024-07-12T12:24:56.848Z"
   },
   {
    "duration": 170,
    "start_time": "2024-07-12T12:24:58.282Z"
   },
   {
    "duration": 22,
    "start_time": "2024-07-12T12:24:58.454Z"
   },
   {
    "duration": 25,
    "start_time": "2024-07-12T12:24:58.477Z"
   },
   {
    "duration": 19,
    "start_time": "2024-07-12T12:24:58.503Z"
   },
   {
    "duration": 4,
    "start_time": "2024-07-12T12:24:58.524Z"
   },
   {
    "duration": 254,
    "start_time": "2024-07-12T12:24:58.530Z"
   },
   {
    "duration": 5,
    "start_time": "2024-07-12T12:24:58.786Z"
   },
   {
    "duration": 20,
    "start_time": "2024-07-12T12:24:58.792Z"
   },
   {
    "duration": 222,
    "start_time": "2024-07-12T12:24:58.813Z"
   },
   {
    "duration": 35,
    "start_time": "2024-07-12T12:24:59.037Z"
   },
   {
    "duration": 15,
    "start_time": "2024-07-12T12:24:59.074Z"
   },
   {
    "duration": 7,
    "start_time": "2024-07-12T12:24:59.090Z"
   },
   {
    "duration": 8,
    "start_time": "2024-07-12T12:24:59.099Z"
   },
   {
    "duration": 14,
    "start_time": "2024-07-12T12:24:59.110Z"
   },
   {
    "duration": 5,
    "start_time": "2024-07-12T12:24:59.125Z"
   },
   {
    "duration": 4,
    "start_time": "2024-07-12T12:24:59.131Z"
   },
   {
    "duration": 1464,
    "start_time": "2024-07-12T12:24:59.137Z"
   },
   {
    "duration": 5,
    "start_time": "2024-07-12T12:25:00.603Z"
   },
   {
    "duration": 121,
    "start_time": "2024-07-12T12:25:00.609Z"
   },
   {
    "duration": 567,
    "start_time": "2024-07-12T12:25:00.732Z"
   },
   {
    "duration": 1033,
    "start_time": "2024-07-12T12:25:21.980Z"
   },
   {
    "duration": 69,
    "start_time": "2024-07-12T12:25:23.015Z"
   },
   {
    "duration": 3,
    "start_time": "2024-07-12T12:25:23.085Z"
   },
   {
    "duration": 10,
    "start_time": "2024-07-12T12:25:23.089Z"
   },
   {
    "duration": 8,
    "start_time": "2024-07-12T12:25:23.101Z"
   },
   {
    "duration": 8,
    "start_time": "2024-07-12T12:25:23.111Z"
   },
   {
    "duration": 12,
    "start_time": "2024-07-12T12:25:23.120Z"
   },
   {
    "duration": 8,
    "start_time": "2024-07-12T12:25:23.134Z"
   },
   {
    "duration": 9,
    "start_time": "2024-07-12T12:25:23.143Z"
   },
   {
    "duration": 27,
    "start_time": "2024-07-12T12:25:23.153Z"
   },
   {
    "duration": 13,
    "start_time": "2024-07-12T12:25:23.181Z"
   },
   {
    "duration": 3,
    "start_time": "2024-07-12T12:25:23.196Z"
   },
   {
    "duration": 11,
    "start_time": "2024-07-12T12:25:23.201Z"
   },
   {
    "duration": 4,
    "start_time": "2024-07-12T12:25:23.214Z"
   },
   {
    "duration": 4,
    "start_time": "2024-07-12T12:25:23.219Z"
   },
   {
    "duration": 19,
    "start_time": "2024-07-12T12:25:23.224Z"
   },
   {
    "duration": 35,
    "start_time": "2024-07-12T12:25:23.244Z"
   },
   {
    "duration": 4,
    "start_time": "2024-07-12T12:25:23.280Z"
   },
   {
    "duration": 8,
    "start_time": "2024-07-12T12:25:23.285Z"
   },
   {
    "duration": 13,
    "start_time": "2024-07-12T12:25:23.294Z"
   },
   {
    "duration": 143,
    "start_time": "2024-07-12T12:25:23.308Z"
   },
   {
    "duration": 15,
    "start_time": "2024-07-12T12:25:23.452Z"
   },
   {
    "duration": 69,
    "start_time": "2024-07-12T12:25:23.469Z"
   },
   {
    "duration": 5,
    "start_time": "2024-07-12T12:25:23.540Z"
   },
   {
    "duration": 270,
    "start_time": "2024-07-12T12:25:23.547Z"
   },
   {
    "duration": 4,
    "start_time": "2024-07-12T12:25:23.819Z"
   },
   {
    "duration": 8,
    "start_time": "2024-07-12T12:25:23.824Z"
   },
   {
    "duration": 341,
    "start_time": "2024-07-12T12:25:23.833Z"
   },
   {
    "duration": 9,
    "start_time": "2024-07-12T12:25:24.175Z"
   },
   {
    "duration": 296,
    "start_time": "2024-07-12T12:25:24.185Z"
   },
   {
    "duration": 12,
    "start_time": "2024-07-12T12:25:24.483Z"
   },
   {
    "duration": 15,
    "start_time": "2024-07-12T12:25:24.496Z"
   },
   {
    "duration": 80,
    "start_time": "2024-07-12T12:25:24.512Z"
   },
   {
    "duration": 18,
    "start_time": "2024-07-12T12:25:24.593Z"
   },
   {
    "duration": 9,
    "start_time": "2024-07-12T12:25:24.612Z"
   },
   {
    "duration": 23,
    "start_time": "2024-07-12T12:25:24.622Z"
   },
   {
    "duration": 305,
    "start_time": "2024-07-12T12:25:24.646Z"
   },
   {
    "duration": 1625,
    "start_time": "2024-07-12T12:25:24.953Z"
   },
   {
    "duration": 316,
    "start_time": "2024-07-12T12:25:26.580Z"
   },
   {
    "duration": 1656,
    "start_time": "2024-07-12T12:25:26.898Z"
   },
   {
    "duration": 20,
    "start_time": "2024-07-12T12:25:28.559Z"
   },
   {
    "duration": 4,
    "start_time": "2024-07-12T12:25:28.583Z"
   },
   {
    "duration": 41,
    "start_time": "2024-07-12T12:25:28.588Z"
   },
   {
    "duration": 7,
    "start_time": "2024-07-12T12:25:28.631Z"
   },
   {
    "duration": 10,
    "start_time": "2024-07-12T12:25:28.639Z"
   },
   {
    "duration": 32,
    "start_time": "2024-07-12T12:25:28.650Z"
   },
   {
    "duration": 5,
    "start_time": "2024-07-12T12:25:28.683Z"
   },
   {
    "duration": 194,
    "start_time": "2024-07-12T12:25:28.689Z"
   },
   {
    "duration": 5,
    "start_time": "2024-07-12T12:25:28.885Z"
   },
   {
    "duration": 19,
    "start_time": "2024-07-12T12:25:28.891Z"
   },
   {
    "duration": 13,
    "start_time": "2024-07-12T12:25:28.911Z"
   },
   {
    "duration": 238,
    "start_time": "2024-07-12T12:25:28.925Z"
   },
   {
    "duration": 16,
    "start_time": "2024-07-12T12:25:29.164Z"
   },
   {
    "duration": 17,
    "start_time": "2024-07-12T12:25:29.181Z"
   },
   {
    "duration": 14,
    "start_time": "2024-07-12T12:25:29.199Z"
   },
   {
    "duration": 3,
    "start_time": "2024-07-12T12:25:29.214Z"
   },
   {
    "duration": 11,
    "start_time": "2024-07-12T12:25:29.218Z"
   },
   {
    "duration": 5,
    "start_time": "2024-07-12T12:25:29.230Z"
   },
   {
    "duration": 4,
    "start_time": "2024-07-12T12:25:29.236Z"
   },
   {
    "duration": 1339,
    "start_time": "2024-07-12T12:25:29.242Z"
   },
   {
    "duration": 5,
    "start_time": "2024-07-12T12:25:30.582Z"
   },
   {
    "duration": 40,
    "start_time": "2024-07-12T12:25:30.588Z"
   },
   {
    "duration": 373,
    "start_time": "2024-07-12T12:25:30.629Z"
   },
   {
    "duration": 241,
    "start_time": "2024-07-12T12:25:45.961Z"
   },
   {
    "duration": 1104,
    "start_time": "2024-07-12T12:25:49.692Z"
   },
   {
    "duration": 1065,
    "start_time": "2024-07-12T12:26:28.331Z"
   },
   {
    "duration": 78,
    "start_time": "2024-07-12T12:26:29.399Z"
   },
   {
    "duration": 7,
    "start_time": "2024-07-12T12:26:29.479Z"
   },
   {
    "duration": 35,
    "start_time": "2024-07-12T12:26:29.488Z"
   },
   {
    "duration": 10,
    "start_time": "2024-07-12T12:26:29.524Z"
   },
   {
    "duration": 14,
    "start_time": "2024-07-12T12:26:29.536Z"
   },
   {
    "duration": 20,
    "start_time": "2024-07-12T12:26:29.552Z"
   },
   {
    "duration": 14,
    "start_time": "2024-07-12T12:26:29.575Z"
   },
   {
    "duration": 9,
    "start_time": "2024-07-12T12:26:29.590Z"
   },
   {
    "duration": 8,
    "start_time": "2024-07-12T12:26:29.601Z"
   },
   {
    "duration": 4,
    "start_time": "2024-07-12T12:26:29.611Z"
   },
   {
    "duration": 5,
    "start_time": "2024-07-12T12:26:29.617Z"
   },
   {
    "duration": 8,
    "start_time": "2024-07-12T12:26:29.623Z"
   },
   {
    "duration": 5,
    "start_time": "2024-07-12T12:26:29.632Z"
   },
   {
    "duration": 42,
    "start_time": "2024-07-12T12:26:29.638Z"
   },
   {
    "duration": 11,
    "start_time": "2024-07-12T12:26:29.681Z"
   },
   {
    "duration": 23,
    "start_time": "2024-07-12T12:26:29.694Z"
   },
   {
    "duration": 5,
    "start_time": "2024-07-12T12:26:29.718Z"
   },
   {
    "duration": 9,
    "start_time": "2024-07-12T12:26:29.724Z"
   },
   {
    "duration": 5,
    "start_time": "2024-07-12T12:26:29.735Z"
   },
   {
    "duration": 165,
    "start_time": "2024-07-12T12:26:29.741Z"
   },
   {
    "duration": 6,
    "start_time": "2024-07-12T12:26:29.907Z"
   },
   {
    "duration": 80,
    "start_time": "2024-07-12T12:26:29.915Z"
   },
   {
    "duration": 7,
    "start_time": "2024-07-12T12:26:29.996Z"
   },
   {
    "duration": 341,
    "start_time": "2024-07-12T12:26:30.005Z"
   },
   {
    "duration": 5,
    "start_time": "2024-07-12T12:26:30.347Z"
   },
   {
    "duration": 37,
    "start_time": "2024-07-12T12:26:30.353Z"
   },
   {
    "duration": 389,
    "start_time": "2024-07-12T12:26:30.394Z"
   },
   {
    "duration": 7,
    "start_time": "2024-07-12T12:26:30.788Z"
   },
   {
    "duration": 380,
    "start_time": "2024-07-12T12:26:30.797Z"
   },
   {
    "duration": 17,
    "start_time": "2024-07-12T12:26:31.178Z"
   },
   {
    "duration": 66,
    "start_time": "2024-07-12T12:26:31.196Z"
   },
   {
    "duration": 113,
    "start_time": "2024-07-12T12:26:31.278Z"
   },
   {
    "duration": 19,
    "start_time": "2024-07-12T12:26:31.393Z"
   },
   {
    "duration": 40,
    "start_time": "2024-07-12T12:26:31.413Z"
   },
   {
    "duration": 55,
    "start_time": "2024-07-12T12:26:31.454Z"
   },
   {
    "duration": 314,
    "start_time": "2024-07-12T12:26:31.510Z"
   },
   {
    "duration": 1727,
    "start_time": "2024-07-12T12:26:31.826Z"
   },
   {
    "duration": 336,
    "start_time": "2024-07-12T12:26:33.555Z"
   },
   {
    "duration": 1741,
    "start_time": "2024-07-12T12:26:33.892Z"
   },
   {
    "duration": 4,
    "start_time": "2024-07-12T12:26:35.635Z"
   },
   {
    "duration": 16,
    "start_time": "2024-07-12T12:26:35.641Z"
   },
   {
    "duration": 42,
    "start_time": "2024-07-12T12:26:35.661Z"
   },
   {
    "duration": 6,
    "start_time": "2024-07-12T12:26:35.705Z"
   },
   {
    "duration": 27,
    "start_time": "2024-07-12T12:26:35.713Z"
   },
   {
    "duration": 28,
    "start_time": "2024-07-12T12:26:35.741Z"
   },
   {
    "duration": 3,
    "start_time": "2024-07-12T12:26:35.770Z"
   },
   {
    "duration": 10,
    "start_time": "2024-07-12T12:26:35.774Z"
   },
   {
    "duration": 9,
    "start_time": "2024-07-12T12:26:35.787Z"
   },
   {
    "duration": 9,
    "start_time": "2024-07-12T12:26:35.797Z"
   },
   {
    "duration": 217,
    "start_time": "2024-07-12T12:26:35.807Z"
   },
   {
    "duration": 7,
    "start_time": "2024-07-12T12:26:36.025Z"
   },
   {
    "duration": 24,
    "start_time": "2024-07-12T12:26:36.033Z"
   },
   {
    "duration": 32,
    "start_time": "2024-07-12T12:26:36.058Z"
   },
   {
    "duration": 11,
    "start_time": "2024-07-12T12:26:36.092Z"
   },
   {
    "duration": 12,
    "start_time": "2024-07-12T12:26:36.104Z"
   },
   {
    "duration": 4,
    "start_time": "2024-07-12T12:26:36.118Z"
   },
   {
    "duration": 6,
    "start_time": "2024-07-12T12:26:36.123Z"
   },
   {
    "duration": 1435,
    "start_time": "2024-07-12T12:26:36.131Z"
   },
   {
    "duration": 6,
    "start_time": "2024-07-12T12:26:37.581Z"
   },
   {
    "duration": 36,
    "start_time": "2024-07-12T12:26:37.588Z"
   },
   {
    "duration": 305,
    "start_time": "2024-07-12T12:26:37.625Z"
   },
   {
    "duration": 1015,
    "start_time": "2024-07-12T12:26:47.484Z"
   },
   {
    "duration": 1009,
    "start_time": "2024-07-12T12:27:01.111Z"
   },
   {
    "duration": 73,
    "start_time": "2024-07-12T12:27:02.122Z"
   },
   {
    "duration": 3,
    "start_time": "2024-07-12T12:27:02.196Z"
   },
   {
    "duration": 25,
    "start_time": "2024-07-12T12:27:02.201Z"
   },
   {
    "duration": 22,
    "start_time": "2024-07-12T12:27:02.227Z"
   },
   {
    "duration": 6,
    "start_time": "2024-07-12T12:27:02.250Z"
   },
   {
    "duration": 29,
    "start_time": "2024-07-12T12:27:02.258Z"
   },
   {
    "duration": 22,
    "start_time": "2024-07-12T12:27:02.288Z"
   },
   {
    "duration": 35,
    "start_time": "2024-07-12T12:27:02.311Z"
   },
   {
    "duration": 7,
    "start_time": "2024-07-12T12:27:02.348Z"
   },
   {
    "duration": 19,
    "start_time": "2024-07-12T12:27:02.356Z"
   },
   {
    "duration": 4,
    "start_time": "2024-07-12T12:27:02.377Z"
   },
   {
    "duration": 21,
    "start_time": "2024-07-12T12:27:02.383Z"
   },
   {
    "duration": 16,
    "start_time": "2024-07-12T12:27:02.405Z"
   },
   {
    "duration": 41,
    "start_time": "2024-07-12T12:27:02.422Z"
   },
   {
    "duration": 5,
    "start_time": "2024-07-12T12:27:02.468Z"
   },
   {
    "duration": 48,
    "start_time": "2024-07-12T12:27:02.474Z"
   },
   {
    "duration": 12,
    "start_time": "2024-07-12T12:27:02.524Z"
   },
   {
    "duration": 5,
    "start_time": "2024-07-12T12:27:02.537Z"
   },
   {
    "duration": 34,
    "start_time": "2024-07-12T12:27:02.543Z"
   },
   {
    "duration": 146,
    "start_time": "2024-07-12T12:27:02.578Z"
   },
   {
    "duration": 6,
    "start_time": "2024-07-12T12:27:02.725Z"
   },
   {
    "duration": 70,
    "start_time": "2024-07-12T12:27:02.732Z"
   },
   {
    "duration": 6,
    "start_time": "2024-07-12T12:27:02.804Z"
   },
   {
    "duration": 316,
    "start_time": "2024-07-12T12:27:02.811Z"
   },
   {
    "duration": 5,
    "start_time": "2024-07-12T12:27:03.129Z"
   },
   {
    "duration": 8,
    "start_time": "2024-07-12T12:27:03.135Z"
   },
   {
    "duration": 332,
    "start_time": "2024-07-12T12:27:03.159Z"
   },
   {
    "duration": 7,
    "start_time": "2024-07-12T12:27:03.493Z"
   },
   {
    "duration": 271,
    "start_time": "2024-07-12T12:27:03.501Z"
   },
   {
    "duration": 13,
    "start_time": "2024-07-12T12:27:03.773Z"
   },
   {
    "duration": 33,
    "start_time": "2024-07-12T12:27:03.787Z"
   },
   {
    "duration": 70,
    "start_time": "2024-07-12T12:27:03.821Z"
   },
   {
    "duration": 19,
    "start_time": "2024-07-12T12:27:03.892Z"
   },
   {
    "duration": 8,
    "start_time": "2024-07-12T12:27:03.912Z"
   },
   {
    "duration": 27,
    "start_time": "2024-07-12T12:27:03.921Z"
   },
   {
    "duration": 308,
    "start_time": "2024-07-12T12:27:03.963Z"
   },
   {
    "duration": 1605,
    "start_time": "2024-07-12T12:27:04.273Z"
   },
   {
    "duration": 303,
    "start_time": "2024-07-12T12:27:05.880Z"
   },
   {
    "duration": 1533,
    "start_time": "2024-07-12T12:27:06.185Z"
   },
   {
    "duration": 4,
    "start_time": "2024-07-12T12:27:07.720Z"
   },
   {
    "duration": 8,
    "start_time": "2024-07-12T12:27:07.725Z"
   },
   {
    "duration": 44,
    "start_time": "2024-07-12T12:27:07.734Z"
   },
   {
    "duration": 7,
    "start_time": "2024-07-12T12:27:07.779Z"
   },
   {
    "duration": 23,
    "start_time": "2024-07-12T12:27:07.787Z"
   },
   {
    "duration": 11,
    "start_time": "2024-07-12T12:27:07.811Z"
   },
   {
    "duration": 2,
    "start_time": "2024-07-12T12:27:07.823Z"
   },
   {
    "duration": 27,
    "start_time": "2024-07-12T12:27:07.826Z"
   },
   {
    "duration": 20,
    "start_time": "2024-07-12T12:27:07.854Z"
   },
   {
    "duration": 12,
    "start_time": "2024-07-12T12:27:07.875Z"
   },
   {
    "duration": 225,
    "start_time": "2024-07-12T12:27:07.888Z"
   },
   {
    "duration": 6,
    "start_time": "2024-07-12T12:27:08.114Z"
   },
   {
    "duration": 5,
    "start_time": "2024-07-12T12:27:08.121Z"
   },
   {
    "duration": 7,
    "start_time": "2024-07-12T12:27:08.127Z"
   },
   {
    "duration": 4,
    "start_time": "2024-07-12T12:27:08.135Z"
   },
   {
    "duration": 38,
    "start_time": "2024-07-12T12:27:08.140Z"
   },
   {
    "duration": 22,
    "start_time": "2024-07-12T12:27:08.179Z"
   },
   {
    "duration": 5,
    "start_time": "2024-07-12T12:27:08.202Z"
   },
   {
    "duration": 1371,
    "start_time": "2024-07-12T12:27:08.208Z"
   },
   {
    "duration": 6,
    "start_time": "2024-07-12T12:27:09.580Z"
   },
   {
    "duration": 46,
    "start_time": "2024-07-12T12:27:09.587Z"
   },
   {
    "duration": 274,
    "start_time": "2024-07-12T12:27:09.634Z"
   },
   {
    "duration": 1028,
    "start_time": "2024-07-12T12:30:07.975Z"
   },
   {
    "duration": 61,
    "start_time": "2024-07-12T12:30:09.005Z"
   },
   {
    "duration": 3,
    "start_time": "2024-07-12T12:30:09.067Z"
   },
   {
    "duration": 11,
    "start_time": "2024-07-12T12:30:09.072Z"
   },
   {
    "duration": 9,
    "start_time": "2024-07-12T12:30:09.084Z"
   },
   {
    "duration": 16,
    "start_time": "2024-07-12T12:30:09.094Z"
   },
   {
    "duration": 41,
    "start_time": "2024-07-12T12:30:09.111Z"
   },
   {
    "duration": 20,
    "start_time": "2024-07-12T12:30:09.154Z"
   },
   {
    "duration": 11,
    "start_time": "2024-07-12T12:30:09.175Z"
   },
   {
    "duration": 7,
    "start_time": "2024-07-12T12:30:09.189Z"
   },
   {
    "duration": 23,
    "start_time": "2024-07-12T12:30:09.197Z"
   },
   {
    "duration": 4,
    "start_time": "2024-07-12T12:30:09.221Z"
   },
   {
    "duration": 17,
    "start_time": "2024-07-12T12:30:09.226Z"
   },
   {
    "duration": 5,
    "start_time": "2024-07-12T12:30:09.244Z"
   },
   {
    "duration": 6,
    "start_time": "2024-07-12T12:30:09.250Z"
   },
   {
    "duration": 23,
    "start_time": "2024-07-12T12:30:09.257Z"
   },
   {
    "duration": 34,
    "start_time": "2024-07-12T12:30:09.281Z"
   },
   {
    "duration": 9,
    "start_time": "2024-07-12T12:30:09.317Z"
   },
   {
    "duration": 15,
    "start_time": "2024-07-12T12:30:09.327Z"
   },
   {
    "duration": 15,
    "start_time": "2024-07-12T12:30:09.343Z"
   },
   {
    "duration": 153,
    "start_time": "2024-07-12T12:30:09.359Z"
   },
   {
    "duration": 6,
    "start_time": "2024-07-12T12:30:09.514Z"
   },
   {
    "duration": 72,
    "start_time": "2024-07-12T12:30:09.521Z"
   },
   {
    "duration": 6,
    "start_time": "2024-07-12T12:30:09.595Z"
   },
   {
    "duration": 304,
    "start_time": "2024-07-12T12:30:09.602Z"
   },
   {
    "duration": 5,
    "start_time": "2024-07-12T12:30:09.908Z"
   },
   {
    "duration": 41,
    "start_time": "2024-07-12T12:30:09.914Z"
   },
   {
    "duration": 320,
    "start_time": "2024-07-12T12:30:09.959Z"
   },
   {
    "duration": 7,
    "start_time": "2024-07-12T12:30:10.280Z"
   },
   {
    "duration": 270,
    "start_time": "2024-07-12T12:30:10.289Z"
   },
   {
    "duration": 12,
    "start_time": "2024-07-12T12:30:10.561Z"
   },
   {
    "duration": 12,
    "start_time": "2024-07-12T12:30:10.574Z"
   },
   {
    "duration": 84,
    "start_time": "2024-07-12T12:30:10.587Z"
   },
   {
    "duration": 17,
    "start_time": "2024-07-12T12:30:10.673Z"
   },
   {
    "duration": 8,
    "start_time": "2024-07-12T12:30:10.691Z"
   },
   {
    "duration": 25,
    "start_time": "2024-07-12T12:30:10.700Z"
   },
   {
    "duration": 384,
    "start_time": "2024-07-12T12:30:10.727Z"
   },
   {
    "duration": 1640,
    "start_time": "2024-07-12T12:30:11.112Z"
   },
   {
    "duration": 299,
    "start_time": "2024-07-12T12:30:12.753Z"
   },
   {
    "duration": 1436,
    "start_time": "2024-07-12T12:30:13.054Z"
   },
   {
    "duration": 4,
    "start_time": "2024-07-12T12:30:14.491Z"
   },
   {
    "duration": 16,
    "start_time": "2024-07-12T12:30:14.496Z"
   },
   {
    "duration": 40,
    "start_time": "2024-07-12T12:30:14.513Z"
   },
   {
    "duration": 6,
    "start_time": "2024-07-12T12:30:14.555Z"
   },
   {
    "duration": 18,
    "start_time": "2024-07-12T12:30:14.562Z"
   },
   {
    "duration": 24,
    "start_time": "2024-07-12T12:30:14.581Z"
   },
   {
    "duration": 19,
    "start_time": "2024-07-12T12:30:14.606Z"
   },
   {
    "duration": 32,
    "start_time": "2024-07-12T12:30:14.626Z"
   },
   {
    "duration": 234,
    "start_time": "2024-07-12T12:30:14.659Z"
   },
   {
    "duration": 6,
    "start_time": "2024-07-12T12:30:14.895Z"
   },
   {
    "duration": 28,
    "start_time": "2024-07-12T12:30:14.902Z"
   },
   {
    "duration": 10,
    "start_time": "2024-07-12T12:30:14.931Z"
   },
   {
    "duration": 6,
    "start_time": "2024-07-12T12:30:14.942Z"
   },
   {
    "duration": 8,
    "start_time": "2024-07-12T12:30:14.949Z"
   },
   {
    "duration": 11,
    "start_time": "2024-07-12T12:30:14.958Z"
   },
   {
    "duration": 6,
    "start_time": "2024-07-12T12:30:14.970Z"
   },
   {
    "duration": 1304,
    "start_time": "2024-07-12T12:30:14.977Z"
   },
   {
    "duration": 6,
    "start_time": "2024-07-12T12:30:16.282Z"
   },
   {
    "duration": 20,
    "start_time": "2024-07-12T12:30:16.289Z"
   },
   {
    "duration": 304,
    "start_time": "2024-07-12T12:30:16.310Z"
   },
   {
    "duration": 3,
    "start_time": "2024-07-12T12:50:53.319Z"
   },
   {
    "duration": 265,
    "start_time": "2024-07-12T12:56:58.257Z"
   },
   {
    "duration": 1096,
    "start_time": "2024-07-12T13:01:13.924Z"
   },
   {
    "duration": 65,
    "start_time": "2024-07-12T13:01:15.021Z"
   },
   {
    "duration": 2,
    "start_time": "2024-07-12T13:01:15.087Z"
   },
   {
    "duration": 39,
    "start_time": "2024-07-12T13:01:15.091Z"
   },
   {
    "duration": 43,
    "start_time": "2024-07-12T13:01:15.131Z"
   },
   {
    "duration": 26,
    "start_time": "2024-07-12T13:01:15.175Z"
   },
   {
    "duration": 62,
    "start_time": "2024-07-12T13:01:15.202Z"
   },
   {
    "duration": 13,
    "start_time": "2024-07-12T13:01:15.265Z"
   },
   {
    "duration": 41,
    "start_time": "2024-07-12T13:01:15.280Z"
   },
   {
    "duration": 51,
    "start_time": "2024-07-12T13:01:15.323Z"
   },
   {
    "duration": 17,
    "start_time": "2024-07-12T13:01:15.376Z"
   },
   {
    "duration": 32,
    "start_time": "2024-07-12T13:01:15.394Z"
   },
   {
    "duration": 22,
    "start_time": "2024-07-12T13:01:15.427Z"
   },
   {
    "duration": 5,
    "start_time": "2024-07-12T13:01:15.450Z"
   },
   {
    "duration": 5,
    "start_time": "2024-07-12T13:01:15.456Z"
   },
   {
    "duration": 6,
    "start_time": "2024-07-12T13:01:15.462Z"
   },
   {
    "duration": 20,
    "start_time": "2024-07-12T13:01:15.469Z"
   },
   {
    "duration": 3,
    "start_time": "2024-07-12T13:01:15.491Z"
   },
   {
    "duration": 9,
    "start_time": "2024-07-12T13:01:15.495Z"
   },
   {
    "duration": 12,
    "start_time": "2024-07-12T13:01:15.505Z"
   },
   {
    "duration": 156,
    "start_time": "2024-07-12T13:01:15.518Z"
   },
   {
    "duration": 6,
    "start_time": "2024-07-12T13:01:15.675Z"
   },
   {
    "duration": 70,
    "start_time": "2024-07-12T13:01:15.682Z"
   },
   {
    "duration": 8,
    "start_time": "2024-07-12T13:01:15.753Z"
   },
   {
    "duration": 259,
    "start_time": "2024-07-12T13:01:15.762Z"
   },
   {
    "duration": 5,
    "start_time": "2024-07-12T13:01:16.022Z"
   },
   {
    "duration": 7,
    "start_time": "2024-07-12T13:01:16.028Z"
   },
   {
    "duration": 333,
    "start_time": "2024-07-12T13:01:16.039Z"
   },
   {
    "duration": 7,
    "start_time": "2024-07-12T13:01:16.373Z"
   },
   {
    "duration": 293,
    "start_time": "2024-07-12T13:01:16.382Z"
   },
   {
    "duration": 12,
    "start_time": "2024-07-12T13:01:16.676Z"
   },
   {
    "duration": 10,
    "start_time": "2024-07-12T13:01:16.689Z"
   },
   {
    "duration": 82,
    "start_time": "2024-07-12T13:01:16.700Z"
   },
   {
    "duration": 18,
    "start_time": "2024-07-12T13:01:16.784Z"
   },
   {
    "duration": 10,
    "start_time": "2024-07-12T13:01:16.803Z"
   },
   {
    "duration": 19,
    "start_time": "2024-07-12T13:01:16.814Z"
   },
   {
    "duration": 306,
    "start_time": "2024-07-12T13:01:16.857Z"
   },
   {
    "duration": 1537,
    "start_time": "2024-07-12T13:01:17.168Z"
   },
   {
    "duration": 320,
    "start_time": "2024-07-12T13:01:18.707Z"
   },
   {
    "duration": 1512,
    "start_time": "2024-07-12T13:01:19.028Z"
   },
   {
    "duration": 3,
    "start_time": "2024-07-12T13:01:20.542Z"
   },
   {
    "duration": 49,
    "start_time": "2024-07-12T13:01:20.546Z"
   },
   {
    "duration": 7,
    "start_time": "2024-07-12T13:01:20.596Z"
   },
   {
    "duration": 15,
    "start_time": "2024-07-12T13:01:20.605Z"
   },
   {
    "duration": 12,
    "start_time": "2024-07-12T13:01:20.621Z"
   },
   {
    "duration": 12,
    "start_time": "2024-07-12T13:01:20.634Z"
   },
   {
    "duration": 22,
    "start_time": "2024-07-12T13:01:20.647Z"
   },
   {
    "duration": 258,
    "start_time": "2024-07-12T13:01:20.671Z"
   },
   {
    "duration": 6,
    "start_time": "2024-07-12T13:01:20.930Z"
   },
   {
    "duration": 30,
    "start_time": "2024-07-12T13:01:20.937Z"
   },
   {
    "duration": 5,
    "start_time": "2024-07-12T13:01:20.968Z"
   },
   {
    "duration": 6,
    "start_time": "2024-07-12T13:01:20.974Z"
   },
   {
    "duration": 13,
    "start_time": "2024-07-12T13:01:20.981Z"
   },
   {
    "duration": 3,
    "start_time": "2024-07-12T13:01:20.995Z"
   },
   {
    "duration": 3,
    "start_time": "2024-07-12T13:01:21.000Z"
   },
   {
    "duration": 1403,
    "start_time": "2024-07-12T13:01:21.004Z"
   },
   {
    "duration": 4,
    "start_time": "2024-07-12T13:01:22.409Z"
   },
   {
    "duration": 25,
    "start_time": "2024-07-12T13:01:22.414Z"
   },
   {
    "duration": 341,
    "start_time": "2024-07-12T13:01:22.440Z"
   },
   {
    "duration": 343,
    "start_time": "2024-07-12T13:03:10.333Z"
   },
   {
    "duration": 242,
    "start_time": "2024-07-12T13:03:41.471Z"
   },
   {
    "duration": 7,
    "start_time": "2024-07-12T13:03:58.831Z"
   },
   {
    "duration": 1378,
    "start_time": "2024-07-12T13:32:35.780Z"
   },
   {
    "duration": 4,
    "start_time": "2024-07-12T13:32:39.220Z"
   },
   {
    "duration": 1403,
    "start_time": "2024-07-12T13:32:45.992Z"
   },
   {
    "duration": 4,
    "start_time": "2024-07-12T13:32:48.916Z"
   },
   {
    "duration": 5,
    "start_time": "2024-07-12T13:33:08.584Z"
   },
   {
    "duration": 1407,
    "start_time": "2024-07-12T13:33:10.436Z"
   },
   {
    "duration": 4,
    "start_time": "2024-07-12T13:33:11.845Z"
   },
   {
    "duration": 1386,
    "start_time": "2024-07-12T13:34:30.367Z"
   },
   {
    "duration": 1413,
    "start_time": "2024-07-12T13:36:59.567Z"
   },
   {
    "duration": 1412,
    "start_time": "2024-07-12T13:37:58.939Z"
   },
   {
    "duration": 1403,
    "start_time": "2024-07-12T13:39:58.433Z"
   },
   {
    "duration": 1398,
    "start_time": "2024-07-12T13:40:12.123Z"
   },
   {
    "duration": 255,
    "start_time": "2024-07-12T13:46:03.271Z"
   },
   {
    "duration": 1080,
    "start_time": "2024-07-12T13:46:17.407Z"
   },
   {
    "duration": 64,
    "start_time": "2024-07-12T13:46:18.493Z"
   },
   {
    "duration": 7,
    "start_time": "2024-07-12T13:46:18.564Z"
   },
   {
    "duration": 11,
    "start_time": "2024-07-12T13:46:18.580Z"
   },
   {
    "duration": 10,
    "start_time": "2024-07-12T13:46:18.592Z"
   },
   {
    "duration": 7,
    "start_time": "2024-07-12T13:46:18.603Z"
   },
   {
    "duration": 9,
    "start_time": "2024-07-12T13:46:18.611Z"
   },
   {
    "duration": 5,
    "start_time": "2024-07-12T13:46:18.622Z"
   },
   {
    "duration": 45,
    "start_time": "2024-07-12T13:46:18.628Z"
   },
   {
    "duration": 39,
    "start_time": "2024-07-12T13:46:18.679Z"
   },
   {
    "duration": 9,
    "start_time": "2024-07-12T13:46:18.719Z"
   },
   {
    "duration": 8,
    "start_time": "2024-07-12T13:46:18.767Z"
   },
   {
    "duration": 19,
    "start_time": "2024-07-12T13:46:18.776Z"
   },
   {
    "duration": 14,
    "start_time": "2024-07-12T13:46:18.797Z"
   },
   {
    "duration": 9,
    "start_time": "2024-07-12T13:46:18.812Z"
   },
   {
    "duration": 5,
    "start_time": "2024-07-12T13:46:18.822Z"
   },
   {
    "duration": 35,
    "start_time": "2024-07-12T13:46:18.828Z"
   },
   {
    "duration": 16,
    "start_time": "2024-07-12T13:46:18.864Z"
   },
   {
    "duration": 10,
    "start_time": "2024-07-12T13:46:18.882Z"
   },
   {
    "duration": 4,
    "start_time": "2024-07-12T13:46:18.894Z"
   },
   {
    "duration": 240,
    "start_time": "2024-07-12T13:46:18.900Z"
   },
   {
    "duration": 8,
    "start_time": "2024-07-12T13:46:19.141Z"
   },
   {
    "duration": 94,
    "start_time": "2024-07-12T13:46:19.150Z"
   },
   {
    "duration": 7,
    "start_time": "2024-07-12T13:46:19.245Z"
   },
   {
    "duration": 286,
    "start_time": "2024-07-12T13:46:19.253Z"
   },
   {
    "duration": 4,
    "start_time": "2024-07-12T13:46:19.541Z"
   },
   {
    "duration": 35,
    "start_time": "2024-07-12T13:46:19.546Z"
   },
   {
    "duration": 322,
    "start_time": "2024-07-12T13:46:19.585Z"
   },
   {
    "duration": 7,
    "start_time": "2024-07-12T13:46:19.908Z"
   },
   {
    "duration": 279,
    "start_time": "2024-07-12T13:46:19.916Z"
   },
   {
    "duration": 12,
    "start_time": "2024-07-12T13:46:20.197Z"
   },
   {
    "duration": 34,
    "start_time": "2024-07-12T13:46:20.210Z"
   },
   {
    "duration": 86,
    "start_time": "2024-07-12T13:46:20.245Z"
   },
   {
    "duration": 17,
    "start_time": "2024-07-12T13:46:20.333Z"
   },
   {
    "duration": 38,
    "start_time": "2024-07-12T13:46:20.351Z"
   },
   {
    "duration": 21,
    "start_time": "2024-07-12T13:46:20.391Z"
   },
   {
    "duration": 299,
    "start_time": "2024-07-12T13:46:20.413Z"
   },
   {
    "duration": 1667,
    "start_time": "2024-07-12T13:46:20.714Z"
   },
   {
    "duration": 343,
    "start_time": "2024-07-12T13:46:22.382Z"
   },
   {
    "duration": 1656,
    "start_time": "2024-07-12T13:46:22.727Z"
   },
   {
    "duration": 3,
    "start_time": "2024-07-12T13:46:24.385Z"
   },
   {
    "duration": 39,
    "start_time": "2024-07-12T13:46:24.389Z"
   },
   {
    "duration": 6,
    "start_time": "2024-07-12T13:46:24.430Z"
   },
   {
    "duration": 14,
    "start_time": "2024-07-12T13:46:24.437Z"
   },
   {
    "duration": 27,
    "start_time": "2024-07-12T13:46:24.453Z"
   },
   {
    "duration": 8,
    "start_time": "2024-07-12T13:46:24.481Z"
   },
   {
    "duration": 15,
    "start_time": "2024-07-12T13:46:24.492Z"
   },
   {
    "duration": 219,
    "start_time": "2024-07-12T13:46:24.508Z"
   },
   {
    "duration": 8,
    "start_time": "2024-07-12T13:46:24.728Z"
   },
   {
    "duration": 52,
    "start_time": "2024-07-12T13:46:24.737Z"
   },
   {
    "duration": 5,
    "start_time": "2024-07-12T13:46:24.792Z"
   },
   {
    "duration": 7,
    "start_time": "2024-07-12T13:46:24.798Z"
   },
   {
    "duration": 11,
    "start_time": "2024-07-12T13:46:24.806Z"
   },
   {
    "duration": 9,
    "start_time": "2024-07-12T13:46:24.818Z"
   },
   {
    "duration": 6,
    "start_time": "2024-07-12T13:46:24.829Z"
   },
   {
    "duration": 1440,
    "start_time": "2024-07-12T13:46:24.836Z"
   },
   {
    "duration": 6,
    "start_time": "2024-07-12T13:46:26.287Z"
   },
   {
    "duration": 22,
    "start_time": "2024-07-12T13:46:26.294Z"
   },
   {
    "duration": 324,
    "start_time": "2024-07-12T13:46:26.317Z"
   },
   {
    "duration": 1028,
    "start_time": "2024-07-12T13:53:07.688Z"
   },
   {
    "duration": 65,
    "start_time": "2024-07-12T13:53:08.717Z"
   },
   {
    "duration": 3,
    "start_time": "2024-07-12T13:53:08.783Z"
   },
   {
    "duration": 17,
    "start_time": "2024-07-12T13:53:08.787Z"
   },
   {
    "duration": 8,
    "start_time": "2024-07-12T13:53:08.806Z"
   },
   {
    "duration": 10,
    "start_time": "2024-07-12T13:53:08.816Z"
   },
   {
    "duration": 11,
    "start_time": "2024-07-12T13:53:08.827Z"
   },
   {
    "duration": 8,
    "start_time": "2024-07-12T13:53:08.839Z"
   },
   {
    "duration": 10,
    "start_time": "2024-07-12T13:53:08.848Z"
   },
   {
    "duration": 15,
    "start_time": "2024-07-12T13:53:08.861Z"
   },
   {
    "duration": 9,
    "start_time": "2024-07-12T13:53:08.878Z"
   },
   {
    "duration": 3,
    "start_time": "2024-07-12T13:53:08.889Z"
   },
   {
    "duration": 12,
    "start_time": "2024-07-12T13:53:08.893Z"
   },
   {
    "duration": 26,
    "start_time": "2024-07-12T13:53:08.906Z"
   },
   {
    "duration": 34,
    "start_time": "2024-07-12T13:53:08.933Z"
   },
   {
    "duration": 8,
    "start_time": "2024-07-12T13:53:08.968Z"
   },
   {
    "duration": 32,
    "start_time": "2024-07-12T13:53:08.977Z"
   },
   {
    "duration": 4,
    "start_time": "2024-07-12T13:53:09.011Z"
   },
   {
    "duration": 36,
    "start_time": "2024-07-12T13:53:09.016Z"
   },
   {
    "duration": 37,
    "start_time": "2024-07-12T13:53:09.053Z"
   },
   {
    "duration": 147,
    "start_time": "2024-07-12T13:53:09.091Z"
   },
   {
    "duration": 6,
    "start_time": "2024-07-12T13:53:09.239Z"
   },
   {
    "duration": 106,
    "start_time": "2024-07-12T13:53:09.246Z"
   },
   {
    "duration": 15,
    "start_time": "2024-07-12T13:53:09.354Z"
   },
   {
    "duration": 265,
    "start_time": "2024-07-12T13:53:09.370Z"
   },
   {
    "duration": 4,
    "start_time": "2024-07-12T13:53:09.637Z"
   },
   {
    "duration": 25,
    "start_time": "2024-07-12T13:53:09.643Z"
   },
   {
    "duration": 316,
    "start_time": "2024-07-12T13:53:09.672Z"
   },
   {
    "duration": 7,
    "start_time": "2024-07-12T13:53:09.989Z"
   },
   {
    "duration": 273,
    "start_time": "2024-07-12T13:53:09.997Z"
   },
   {
    "duration": 12,
    "start_time": "2024-07-12T13:53:10.271Z"
   },
   {
    "duration": 11,
    "start_time": "2024-07-12T13:53:10.284Z"
   },
   {
    "duration": 88,
    "start_time": "2024-07-12T13:53:10.297Z"
   },
   {
    "duration": 17,
    "start_time": "2024-07-12T13:53:10.386Z"
   },
   {
    "duration": 17,
    "start_time": "2024-07-12T13:53:10.404Z"
   },
   {
    "duration": 33,
    "start_time": "2024-07-12T13:53:10.422Z"
   },
   {
    "duration": 292,
    "start_time": "2024-07-12T13:53:10.457Z"
   },
   {
    "duration": 1527,
    "start_time": "2024-07-12T13:53:10.751Z"
   },
   {
    "duration": 328,
    "start_time": "2024-07-12T13:53:12.280Z"
   },
   {
    "duration": 1520,
    "start_time": "2024-07-12T13:53:12.610Z"
   },
   {
    "duration": 3,
    "start_time": "2024-07-12T13:53:14.131Z"
   },
   {
    "duration": 73,
    "start_time": "2024-07-12T13:53:14.136Z"
   },
   {
    "duration": 9,
    "start_time": "2024-07-12T13:53:14.211Z"
   },
   {
    "duration": 35,
    "start_time": "2024-07-12T13:53:14.222Z"
   },
   {
    "duration": 12,
    "start_time": "2024-07-12T13:53:14.268Z"
   },
   {
    "duration": 6,
    "start_time": "2024-07-12T13:53:14.281Z"
   },
   {
    "duration": 25,
    "start_time": "2024-07-12T13:53:14.289Z"
   },
   {
    "duration": 215,
    "start_time": "2024-07-12T13:53:14.315Z"
   },
   {
    "duration": 17,
    "start_time": "2024-07-12T13:53:14.556Z"
   },
   {
    "duration": 5,
    "start_time": "2024-07-12T13:53:14.575Z"
   },
   {
    "duration": 5,
    "start_time": "2024-07-12T13:53:14.581Z"
   },
   {
    "duration": 6,
    "start_time": "2024-07-12T13:53:14.587Z"
   },
   {
    "duration": 9,
    "start_time": "2024-07-12T13:53:14.594Z"
   },
   {
    "duration": 3,
    "start_time": "2024-07-12T13:53:14.604Z"
   },
   {
    "duration": 6,
    "start_time": "2024-07-12T13:53:14.608Z"
   },
   {
    "duration": 1401,
    "start_time": "2024-07-12T13:53:14.615Z"
   },
   {
    "duration": 5,
    "start_time": "2024-07-12T13:53:16.017Z"
   },
   {
    "duration": 5,
    "start_time": "2024-07-12T13:53:16.024Z"
   },
   {
    "duration": 342,
    "start_time": "2024-07-12T13:53:16.031Z"
   },
   {
    "duration": 1894,
    "start_time": "2024-07-12T13:56:17.294Z"
   },
   {
    "duration": 1510,
    "start_time": "2024-07-12T13:56:26.014Z"
   },
   {
    "duration": 1041,
    "start_time": "2024-07-12T13:59:59.682Z"
   },
   {
    "duration": 67,
    "start_time": "2024-07-12T14:00:00.725Z"
   },
   {
    "duration": 15,
    "start_time": "2024-07-12T14:00:00.794Z"
   },
   {
    "duration": 103,
    "start_time": "2024-07-12T14:00:00.811Z"
   },
   {
    "duration": 72,
    "start_time": "2024-07-12T14:00:00.916Z"
   },
   {
    "duration": 38,
    "start_time": "2024-07-12T14:00:00.989Z"
   },
   {
    "duration": 47,
    "start_time": "2024-07-12T14:00:01.029Z"
   },
   {
    "duration": 79,
    "start_time": "2024-07-12T14:00:01.078Z"
   },
   {
    "duration": 84,
    "start_time": "2024-07-12T14:00:01.158Z"
   },
   {
    "duration": 128,
    "start_time": "2024-07-12T14:00:01.244Z"
   },
   {
    "duration": 61,
    "start_time": "2024-07-12T14:00:01.373Z"
   },
   {
    "duration": 71,
    "start_time": "2024-07-12T14:00:01.435Z"
   },
   {
    "duration": 65,
    "start_time": "2024-07-12T14:00:01.508Z"
   },
   {
    "duration": 28,
    "start_time": "2024-07-12T14:00:01.575Z"
   },
   {
    "duration": 66,
    "start_time": "2024-07-12T14:00:01.604Z"
   },
   {
    "duration": 41,
    "start_time": "2024-07-12T14:00:01.672Z"
   },
   {
    "duration": 139,
    "start_time": "2024-07-12T14:00:01.715Z"
   },
   {
    "duration": 14,
    "start_time": "2024-07-12T14:00:01.855Z"
   },
   {
    "duration": 33,
    "start_time": "2024-07-12T14:00:01.871Z"
   },
   {
    "duration": 20,
    "start_time": "2024-07-12T14:00:01.906Z"
   },
   {
    "duration": 166,
    "start_time": "2024-07-12T14:00:01.927Z"
   },
   {
    "duration": 6,
    "start_time": "2024-07-12T14:00:02.094Z"
   },
   {
    "duration": 91,
    "start_time": "2024-07-12T14:00:02.102Z"
   },
   {
    "duration": 6,
    "start_time": "2024-07-12T14:00:02.194Z"
   },
   {
    "duration": 300,
    "start_time": "2024-07-12T14:00:02.201Z"
   },
   {
    "duration": 4,
    "start_time": "2024-07-12T14:00:02.503Z"
   },
   {
    "duration": 33,
    "start_time": "2024-07-12T14:00:02.509Z"
   },
   {
    "duration": 328,
    "start_time": "2024-07-12T14:00:02.546Z"
   },
   {
    "duration": 6,
    "start_time": "2024-07-12T14:00:02.876Z"
   },
   {
    "duration": 269,
    "start_time": "2024-07-12T14:00:02.883Z"
   },
   {
    "duration": 17,
    "start_time": "2024-07-12T14:00:03.159Z"
   },
   {
    "duration": 26,
    "start_time": "2024-07-12T14:00:03.178Z"
   },
   {
    "duration": 70,
    "start_time": "2024-07-12T14:00:03.206Z"
   },
   {
    "duration": 18,
    "start_time": "2024-07-12T14:00:03.278Z"
   },
   {
    "duration": 41,
    "start_time": "2024-07-12T14:00:03.297Z"
   },
   {
    "duration": 28,
    "start_time": "2024-07-12T14:00:03.340Z"
   },
   {
    "duration": 302,
    "start_time": "2024-07-12T14:00:03.369Z"
   },
   {
    "duration": 1527,
    "start_time": "2024-07-12T14:00:03.672Z"
   },
   {
    "duration": 308,
    "start_time": "2024-07-12T14:00:05.201Z"
   },
   {
    "duration": 1527,
    "start_time": "2024-07-12T14:00:05.511Z"
   },
   {
    "duration": 3,
    "start_time": "2024-07-12T14:00:07.040Z"
   },
   {
    "duration": 41,
    "start_time": "2024-07-12T14:00:07.044Z"
   },
   {
    "duration": 6,
    "start_time": "2024-07-12T14:00:07.086Z"
   },
   {
    "duration": 83,
    "start_time": "2024-07-12T14:00:07.093Z"
   },
   {
    "duration": 33,
    "start_time": "2024-07-12T14:00:07.178Z"
   },
   {
    "duration": 15,
    "start_time": "2024-07-12T14:00:07.212Z"
   },
   {
    "duration": 113,
    "start_time": "2024-07-12T14:00:07.228Z"
   },
   {
    "duration": 282,
    "start_time": "2024-07-12T14:00:07.342Z"
   },
   {
    "duration": 6,
    "start_time": "2024-07-12T14:00:07.626Z"
   },
   {
    "duration": 5,
    "start_time": "2024-07-12T14:00:07.633Z"
   },
   {
    "duration": 28,
    "start_time": "2024-07-12T14:00:07.639Z"
   },
   {
    "duration": 3,
    "start_time": "2024-07-12T14:00:07.668Z"
   },
   {
    "duration": 29,
    "start_time": "2024-07-12T14:00:07.673Z"
   },
   {
    "duration": 16,
    "start_time": "2024-07-12T14:00:07.703Z"
   },
   {
    "duration": 5,
    "start_time": "2024-07-12T14:00:07.720Z"
   },
   {
    "duration": 1388,
    "start_time": "2024-07-12T14:00:07.727Z"
   },
   {
    "duration": 4,
    "start_time": "2024-07-12T14:00:09.117Z"
   },
   {
    "duration": 22,
    "start_time": "2024-07-12T14:00:09.122Z"
   },
   {
    "duration": 361,
    "start_time": "2024-07-12T14:00:09.145Z"
   },
   {
    "duration": 1072,
    "start_time": "2024-07-12T14:02:59.832Z"
   },
   {
    "duration": 64,
    "start_time": "2024-07-12T14:03:00.905Z"
   },
   {
    "duration": 27,
    "start_time": "2024-07-12T14:03:00.971Z"
   },
   {
    "duration": 95,
    "start_time": "2024-07-12T14:03:01.000Z"
   },
   {
    "duration": 35,
    "start_time": "2024-07-12T14:03:01.096Z"
   },
   {
    "duration": 57,
    "start_time": "2024-07-12T14:03:01.133Z"
   },
   {
    "duration": 38,
    "start_time": "2024-07-12T14:03:01.191Z"
   },
   {
    "duration": 34,
    "start_time": "2024-07-12T14:03:01.230Z"
   },
   {
    "duration": 143,
    "start_time": "2024-07-12T14:03:01.266Z"
   },
   {
    "duration": 31,
    "start_time": "2024-07-12T14:03:01.413Z"
   },
   {
    "duration": 54,
    "start_time": "2024-07-12T14:03:01.445Z"
   },
   {
    "duration": 37,
    "start_time": "2024-07-12T14:03:01.500Z"
   },
   {
    "duration": 74,
    "start_time": "2024-07-12T14:03:01.538Z"
   },
   {
    "duration": 66,
    "start_time": "2024-07-12T14:03:01.614Z"
   },
   {
    "duration": 48,
    "start_time": "2024-07-12T14:03:01.681Z"
   },
   {
    "duration": 50,
    "start_time": "2024-07-12T14:03:01.730Z"
   },
   {
    "duration": 68,
    "start_time": "2024-07-12T14:03:01.781Z"
   },
   {
    "duration": 25,
    "start_time": "2024-07-12T14:03:01.851Z"
   },
   {
    "duration": 43,
    "start_time": "2024-07-12T14:03:01.877Z"
   },
   {
    "duration": 74,
    "start_time": "2024-07-12T14:03:01.921Z"
   },
   {
    "duration": 162,
    "start_time": "2024-07-12T14:03:01.996Z"
   },
   {
    "duration": 7,
    "start_time": "2024-07-12T14:03:02.168Z"
   },
   {
    "duration": 79,
    "start_time": "2024-07-12T14:03:02.177Z"
   },
   {
    "duration": 9,
    "start_time": "2024-07-12T14:03:02.270Z"
   },
   {
    "duration": 267,
    "start_time": "2024-07-12T14:03:02.280Z"
   },
   {
    "duration": 15,
    "start_time": "2024-07-12T14:03:02.557Z"
   },
   {
    "duration": 16,
    "start_time": "2024-07-12T14:03:02.574Z"
   },
   {
    "duration": 399,
    "start_time": "2024-07-12T14:03:02.593Z"
   },
   {
    "duration": 8,
    "start_time": "2024-07-12T14:03:02.994Z"
   },
   {
    "duration": 344,
    "start_time": "2024-07-12T14:03:03.003Z"
   },
   {
    "duration": 20,
    "start_time": "2024-07-12T14:03:03.348Z"
   },
   {
    "duration": 14,
    "start_time": "2024-07-12T14:03:03.369Z"
   },
   {
    "duration": 88,
    "start_time": "2024-07-12T14:03:03.384Z"
   },
   {
    "duration": 19,
    "start_time": "2024-07-12T14:03:03.474Z"
   },
   {
    "duration": 8,
    "start_time": "2024-07-12T14:03:03.495Z"
   },
   {
    "duration": 25,
    "start_time": "2024-07-12T14:03:03.504Z"
   },
   {
    "duration": 318,
    "start_time": "2024-07-12T14:03:03.531Z"
   },
   {
    "duration": 1537,
    "start_time": "2024-07-12T14:03:03.850Z"
   },
   {
    "duration": 312,
    "start_time": "2024-07-12T14:03:05.389Z"
   },
   {
    "duration": 1513,
    "start_time": "2024-07-12T14:03:05.702Z"
   },
   {
    "duration": 2,
    "start_time": "2024-07-12T14:03:07.217Z"
   },
   {
    "duration": 46,
    "start_time": "2024-07-12T14:03:07.221Z"
   },
   {
    "duration": 8,
    "start_time": "2024-07-12T14:03:07.269Z"
   },
   {
    "duration": 11,
    "start_time": "2024-07-12T14:03:07.278Z"
   },
   {
    "duration": 11,
    "start_time": "2024-07-12T14:03:07.290Z"
   },
   {
    "duration": 4,
    "start_time": "2024-07-12T14:03:07.302Z"
   },
   {
    "duration": 9,
    "start_time": "2024-07-12T14:03:07.307Z"
   },
   {
    "duration": 296,
    "start_time": "2024-07-12T14:03:07.317Z"
   },
   {
    "duration": 8,
    "start_time": "2024-07-12T14:03:07.614Z"
   },
   {
    "duration": 5,
    "start_time": "2024-07-12T14:03:07.624Z"
   },
   {
    "duration": 21,
    "start_time": "2024-07-12T14:03:07.631Z"
   },
   {
    "duration": 16,
    "start_time": "2024-07-12T14:03:07.653Z"
   },
   {
    "duration": 12,
    "start_time": "2024-07-12T14:03:07.672Z"
   },
   {
    "duration": 6,
    "start_time": "2024-07-12T14:03:07.686Z"
   },
   {
    "duration": 7,
    "start_time": "2024-07-12T14:03:07.693Z"
   },
   {
    "duration": 1388,
    "start_time": "2024-07-12T14:03:07.701Z"
   },
   {
    "duration": 6,
    "start_time": "2024-07-12T14:03:09.090Z"
   },
   {
    "duration": 10,
    "start_time": "2024-07-12T14:03:09.097Z"
   },
   {
    "duration": 312,
    "start_time": "2024-07-12T14:03:09.108Z"
   },
   {
    "duration": 1164,
    "start_time": "2024-07-12T15:27:20.402Z"
   },
   {
    "duration": 69,
    "start_time": "2024-07-12T15:27:21.568Z"
   },
   {
    "duration": 3,
    "start_time": "2024-07-12T15:27:21.639Z"
   },
   {
    "duration": 22,
    "start_time": "2024-07-12T15:27:21.644Z"
   },
   {
    "duration": 15,
    "start_time": "2024-07-12T15:27:21.667Z"
   },
   {
    "duration": 20,
    "start_time": "2024-07-12T15:27:21.684Z"
   },
   {
    "duration": 14,
    "start_time": "2024-07-12T15:27:21.705Z"
   },
   {
    "duration": 6,
    "start_time": "2024-07-12T15:27:21.721Z"
   },
   {
    "duration": 25,
    "start_time": "2024-07-12T15:27:21.729Z"
   },
   {
    "duration": 10,
    "start_time": "2024-07-12T15:27:21.757Z"
   },
   {
    "duration": 10,
    "start_time": "2024-07-12T15:27:21.769Z"
   },
   {
    "duration": 8,
    "start_time": "2024-07-12T15:27:21.781Z"
   },
   {
    "duration": 21,
    "start_time": "2024-07-12T15:27:21.790Z"
   },
   {
    "duration": 6,
    "start_time": "2024-07-12T15:27:21.812Z"
   },
   {
    "duration": 14,
    "start_time": "2024-07-12T15:27:21.819Z"
   },
   {
    "duration": 18,
    "start_time": "2024-07-12T15:27:21.834Z"
   },
   {
    "duration": 31,
    "start_time": "2024-07-12T15:27:21.854Z"
   },
   {
    "duration": 5,
    "start_time": "2024-07-12T15:27:21.886Z"
   },
   {
    "duration": 66,
    "start_time": "2024-07-12T15:27:21.892Z"
   },
   {
    "duration": 29,
    "start_time": "2024-07-12T15:27:21.959Z"
   },
   {
    "duration": 237,
    "start_time": "2024-07-12T15:27:21.989Z"
   },
   {
    "duration": 7,
    "start_time": "2024-07-12T15:27:22.228Z"
   },
   {
    "duration": 83,
    "start_time": "2024-07-12T15:27:22.236Z"
   },
   {
    "duration": 31,
    "start_time": "2024-07-12T15:27:22.320Z"
   },
   {
    "duration": 318,
    "start_time": "2024-07-12T15:27:22.352Z"
   },
   {
    "duration": 6,
    "start_time": "2024-07-12T15:27:22.672Z"
   },
   {
    "duration": 21,
    "start_time": "2024-07-12T15:27:22.680Z"
   },
   {
    "duration": 388,
    "start_time": "2024-07-12T15:27:22.706Z"
   },
   {
    "duration": 9,
    "start_time": "2024-07-12T15:27:23.096Z"
   },
   {
    "duration": 293,
    "start_time": "2024-07-12T15:27:23.106Z"
   },
   {
    "duration": 13,
    "start_time": "2024-07-12T15:27:23.401Z"
   },
   {
    "duration": 37,
    "start_time": "2024-07-12T15:27:23.415Z"
   },
   {
    "duration": 97,
    "start_time": "2024-07-12T15:27:23.453Z"
   },
   {
    "duration": 26,
    "start_time": "2024-07-12T15:27:23.552Z"
   },
   {
    "duration": 25,
    "start_time": "2024-07-12T15:27:23.579Z"
   },
   {
    "duration": 22,
    "start_time": "2024-07-12T15:27:23.605Z"
   },
   {
    "duration": 378,
    "start_time": "2024-07-12T15:27:23.628Z"
   },
   {
    "duration": 1595,
    "start_time": "2024-07-12T15:27:24.007Z"
   },
   {
    "duration": 403,
    "start_time": "2024-07-12T15:27:25.604Z"
   },
   {
    "duration": 1593,
    "start_time": "2024-07-12T15:27:26.009Z"
   },
   {
    "duration": 4,
    "start_time": "2024-07-12T15:27:27.604Z"
   },
   {
    "duration": 56,
    "start_time": "2024-07-12T15:27:27.609Z"
   },
   {
    "duration": 8,
    "start_time": "2024-07-12T15:27:27.667Z"
   },
   {
    "duration": 11,
    "start_time": "2024-07-12T15:27:27.677Z"
   },
   {
    "duration": 14,
    "start_time": "2024-07-12T15:27:27.689Z"
   },
   {
    "duration": 5,
    "start_time": "2024-07-12T15:27:27.705Z"
   },
   {
    "duration": 12,
    "start_time": "2024-07-12T15:27:27.711Z"
   },
   {
    "duration": 357,
    "start_time": "2024-07-12T15:27:27.724Z"
   },
   {
    "duration": 10,
    "start_time": "2024-07-12T15:27:28.083Z"
   },
   {
    "duration": 7,
    "start_time": "2024-07-12T15:27:28.095Z"
   },
   {
    "duration": 6,
    "start_time": "2024-07-12T15:27:28.103Z"
   },
   {
    "duration": 5,
    "start_time": "2024-07-12T15:27:28.111Z"
   },
   {
    "duration": 49,
    "start_time": "2024-07-12T15:27:28.118Z"
   },
   {
    "duration": 5,
    "start_time": "2024-07-12T15:27:28.169Z"
   },
   {
    "duration": 5,
    "start_time": "2024-07-12T15:27:28.176Z"
   },
   {
    "duration": 1755,
    "start_time": "2024-07-12T15:27:28.183Z"
   },
   {
    "duration": 6,
    "start_time": "2024-07-12T15:27:29.939Z"
   },
   {
    "duration": 18,
    "start_time": "2024-07-12T15:27:29.946Z"
   },
   {
    "duration": 395,
    "start_time": "2024-07-12T15:27:29.966Z"
   },
   {
    "duration": 1156,
    "start_time": "2024-07-12T15:39:17.158Z"
   },
   {
    "duration": 277,
    "start_time": "2024-07-12T15:39:18.316Z"
   },
   {
    "duration": 2,
    "start_time": "2024-07-12T15:39:18.594Z"
   },
   {
    "duration": 24,
    "start_time": "2024-07-12T15:39:18.598Z"
   },
   {
    "duration": 9,
    "start_time": "2024-07-12T15:39:18.623Z"
   },
   {
    "duration": 25,
    "start_time": "2024-07-12T15:39:18.634Z"
   },
   {
    "duration": 59,
    "start_time": "2024-07-12T15:39:18.661Z"
   },
   {
    "duration": 19,
    "start_time": "2024-07-12T15:39:18.721Z"
   },
   {
    "duration": 26,
    "start_time": "2024-07-12T15:39:18.741Z"
   },
   {
    "duration": 16,
    "start_time": "2024-07-12T15:39:18.770Z"
   },
   {
    "duration": 4,
    "start_time": "2024-07-12T15:39:18.787Z"
   },
   {
    "duration": 4,
    "start_time": "2024-07-12T15:39:18.793Z"
   },
   {
    "duration": 21,
    "start_time": "2024-07-12T15:39:18.798Z"
   },
   {
    "duration": 4,
    "start_time": "2024-07-12T15:39:18.820Z"
   },
   {
    "duration": 6,
    "start_time": "2024-07-12T15:39:18.825Z"
   },
   {
    "duration": 19,
    "start_time": "2024-07-12T15:39:18.832Z"
   },
   {
    "duration": 23,
    "start_time": "2024-07-12T15:39:18.852Z"
   },
   {
    "duration": 3,
    "start_time": "2024-07-12T15:39:18.876Z"
   },
   {
    "duration": 4,
    "start_time": "2024-07-12T15:39:18.880Z"
   },
   {
    "duration": 5,
    "start_time": "2024-07-12T15:39:18.885Z"
   },
   {
    "duration": 151,
    "start_time": "2024-07-12T15:39:18.891Z"
   },
   {
    "duration": 5,
    "start_time": "2024-07-12T15:39:19.044Z"
   },
   {
    "duration": 72,
    "start_time": "2024-07-12T15:39:19.051Z"
   },
   {
    "duration": 8,
    "start_time": "2024-07-12T15:39:19.125Z"
   },
   {
    "duration": 321,
    "start_time": "2024-07-12T15:39:19.134Z"
   },
   {
    "duration": 4,
    "start_time": "2024-07-12T15:39:19.457Z"
   },
   {
    "duration": 8,
    "start_time": "2024-07-12T15:39:19.462Z"
   },
   {
    "duration": 341,
    "start_time": "2024-07-12T15:39:19.473Z"
   },
   {
    "duration": 6,
    "start_time": "2024-07-12T15:39:19.816Z"
   },
   {
    "duration": 270,
    "start_time": "2024-07-12T15:39:19.823Z"
   },
   {
    "duration": 26,
    "start_time": "2024-07-12T15:39:20.094Z"
   },
   {
    "duration": 11,
    "start_time": "2024-07-12T15:39:20.121Z"
   },
   {
    "duration": 81,
    "start_time": "2024-07-12T15:39:20.133Z"
   },
   {
    "duration": 17,
    "start_time": "2024-07-12T15:39:20.215Z"
   },
   {
    "duration": 32,
    "start_time": "2024-07-12T15:39:20.233Z"
   },
   {
    "duration": 28,
    "start_time": "2024-07-12T15:39:20.266Z"
   },
   {
    "duration": 287,
    "start_time": "2024-07-12T15:39:20.296Z"
   },
   {
    "duration": 1486,
    "start_time": "2024-07-12T15:39:20.585Z"
   },
   {
    "duration": 301,
    "start_time": "2024-07-12T15:39:22.072Z"
   },
   {
    "duration": 1479,
    "start_time": "2024-07-12T15:39:22.374Z"
   },
   {
    "duration": 3,
    "start_time": "2024-07-12T15:39:23.855Z"
   },
   {
    "duration": 57,
    "start_time": "2024-07-12T15:39:23.859Z"
   },
   {
    "duration": 9,
    "start_time": "2024-07-12T15:39:23.918Z"
   },
   {
    "duration": 21,
    "start_time": "2024-07-12T15:39:23.928Z"
   },
   {
    "duration": 12,
    "start_time": "2024-07-12T15:39:23.950Z"
   },
   {
    "duration": 4,
    "start_time": "2024-07-12T15:39:23.963Z"
   },
   {
    "duration": 13,
    "start_time": "2024-07-12T15:39:23.968Z"
   },
   {
    "duration": 271,
    "start_time": "2024-07-12T15:39:23.982Z"
   },
   {
    "duration": 6,
    "start_time": "2024-07-12T15:39:24.255Z"
   },
   {
    "duration": 4,
    "start_time": "2024-07-12T15:39:24.262Z"
   },
   {
    "duration": 11,
    "start_time": "2024-07-12T15:39:24.267Z"
   },
   {
    "duration": 35,
    "start_time": "2024-07-12T15:39:24.279Z"
   },
   {
    "duration": 10,
    "start_time": "2024-07-12T15:39:24.315Z"
   },
   {
    "duration": 4,
    "start_time": "2024-07-12T15:39:24.326Z"
   },
   {
    "duration": 5,
    "start_time": "2024-07-12T15:39:24.331Z"
   },
   {
    "duration": 1692,
    "start_time": "2024-07-12T15:39:24.337Z"
   },
   {
    "duration": 4,
    "start_time": "2024-07-12T15:39:26.031Z"
   },
   {
    "duration": 11,
    "start_time": "2024-07-12T15:39:26.036Z"
   },
   {
    "duration": 375,
    "start_time": "2024-07-12T15:39:26.049Z"
   }
  ],
  "kernelspec": {
   "display_name": "Python 3 (ipykernel)",
   "language": "python",
   "name": "python3"
  },
  "language_info": {
   "codemirror_mode": {
    "name": "ipython",
    "version": 3
   },
   "file_extension": ".py",
   "mimetype": "text/x-python",
   "name": "python",
   "nbconvert_exporter": "python",
   "pygments_lexer": "ipython3",
   "version": "3.11.9"
  },
  "toc": {
   "base_numbering": 1,
   "nav_menu": {},
   "number_sections": true,
   "sideBar": true,
   "skip_h1_title": true,
   "title_cell": "Table of Contents",
   "title_sidebar": "Contents",
   "toc_cell": false,
   "toc_position": {
    "height": "618px",
    "left": "64px",
    "top": "111.141px",
    "width": "165px"
   },
   "toc_section_display": true,
   "toc_window_display": true
  }
 },
 "nbformat": 4,
 "nbformat_minor": 5
}
