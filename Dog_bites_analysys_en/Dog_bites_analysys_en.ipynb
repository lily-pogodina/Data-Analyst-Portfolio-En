{
 "cells": [
  {
   "cell_type": "markdown",
   "id": "7dd9e5a2-fef0-4d6c-8030-d9b1e416a2f8",
   "metadata": {},
   "source": [
    "## New York City Dog Bite Data Study.\n",
    "\n",
    "We have a dataset containing historical data on dog bites reported in New York City from 2015-2022.\n",
    "\n",
    "The data are provided by the New York City Department of Health and Mental Hygiene (DOHMH). Data is collected from reports received online, mail, fax or by phone to 311 or NYC DOHMH Animal Bite Unit. Each record represents a single dog bite incident. Information on breed, age, gender and Spayed or Neutered status have not been verified by DOHMH and is listed only as reported to DOHMH. A blank space in the dataset means no data was available.\n",
    "\n",
    "\n",
    "**Study Objective**\n",
    "* Identify areas of the city where the problem of dog attacks is most acute\n",
    "* Test the hypothesis that seasonality affects the number of bites\n",
    "* Identify aggressive breeds\n",
    "\n",
    "**Data Description**\n",
    "\n",
    "* `UniqueID` — unique case number\n",
    "* `DateOfBite` — case date\n",
    "* `Species` — animal specie\n",
    "* `Breed` — breed\n",
    "* `Age` — age\n",
    "* `Gender` — sex\n",
    "* `SpayNeuter` — spay or neuter status\n",
    "* `Borough` — <a href=\"https://en.wikipedia.org/wiki/Boroughs_of_New_York_City\">Borough (district) New York</a>\n",
    "* `ZipCode` — ZIP code\n",
    "\n",
    "**Research plan**\n",
    "\n",
    "We obtained the data from a file provided by the DOHMH Animal Bite Unit. The quality of the data is not yet known.\n",
    "Therefore, before conducting the exploratory analysis and testing the hypotheses, we will need a review of the data.\n",
    "\n",
    "The study will be conducted in several stages:\n",
    "\n",
    "1 — Data Review\\\n",
    "2 — Data Preprocessing\\\n",
    "3 — Exploratory Analysis\\\n",
    "4 — General Conclusion\n"
   ]
  },
  {
   "cell_type": "markdown",
   "id": "b1fe225c-a01c-42a9-8781-fb024a2ec8fe",
   "metadata": {},
   "source": [
    "### Loading and examination of data\n"
   ]
  },
  {
   "cell_type": "code",
   "execution_count": 1,
   "id": "3f3ea412-ed3a-4cf5-afc3-ce6404776ca6",
   "metadata": {},
   "outputs": [],
   "source": [
    "#importing Python libraries\n",
    "import pandas as pd\n",
    "import matplotlib.pyplot as plt\n",
    "from datetime import datetime, timedelta\n",
    "import numpy as np\n",
    "import seaborn as sns\n",
    "import warnings\n",
    "from IPython.display import display_html "
   ]
  },
  {
   "cell_type": "code",
   "execution_count": 2,
   "id": "00a81b3f-8dcf-47aa-8cf7-4e994b353e7a",
   "metadata": {},
   "outputs": [],
   "source": [
    "warnings.filterwarnings('ignore')#disable warnings about changes in libraries\n",
    "sns.set_palette(\"Set2\")#setting colors for the seaborn library\n",
    "data = pd.read_csv('DOHMH_Dog_Bite_Data.csv')#save data into variable"
   ]
  },
  {
   "cell_type": "markdown",
   "id": "67971d03-7b5e-4579-96b5-ed429e63c457",
   "metadata": {},
   "source": [
    "Let's display the first 5 rows of the table and apply the info() method"
   ]
  },
  {
   "cell_type": "code",
   "execution_count": 3,
   "id": "88e1d8cb-9db7-49b6-a9d9-525ef4a5700c",
   "metadata": {},
   "outputs": [
    {
     "data": {
      "text/html": [
       "<div>\n",
       "<style scoped>\n",
       "    .dataframe tbody tr th:only-of-type {\n",
       "        vertical-align: middle;\n",
       "    }\n",
       "\n",
       "    .dataframe tbody tr th {\n",
       "        vertical-align: top;\n",
       "    }\n",
       "\n",
       "    .dataframe thead th {\n",
       "        text-align: right;\n",
       "    }\n",
       "</style>\n",
       "<table border=\"1\" class=\"dataframe\">\n",
       "  <thead>\n",
       "    <tr style=\"text-align: right;\">\n",
       "      <th></th>\n",
       "      <th>UniqueID</th>\n",
       "      <th>DateOfBite</th>\n",
       "      <th>Species</th>\n",
       "      <th>Breed</th>\n",
       "      <th>Age</th>\n",
       "      <th>Gender</th>\n",
       "      <th>SpayNeuter</th>\n",
       "      <th>Borough</th>\n",
       "      <th>ZipCode</th>\n",
       "    </tr>\n",
       "  </thead>\n",
       "  <tbody>\n",
       "    <tr>\n",
       "      <th>0</th>\n",
       "      <td>1</td>\n",
       "      <td>January 01 2018</td>\n",
       "      <td>DOG</td>\n",
       "      <td>UNKNOWN</td>\n",
       "      <td>NaN</td>\n",
       "      <td>U</td>\n",
       "      <td>False</td>\n",
       "      <td>Brooklyn</td>\n",
       "      <td>11220</td>\n",
       "    </tr>\n",
       "    <tr>\n",
       "      <th>1</th>\n",
       "      <td>2</td>\n",
       "      <td>January 04 2018</td>\n",
       "      <td>DOG</td>\n",
       "      <td>UNKNOWN</td>\n",
       "      <td>NaN</td>\n",
       "      <td>U</td>\n",
       "      <td>False</td>\n",
       "      <td>Brooklyn</td>\n",
       "      <td>NaN</td>\n",
       "    </tr>\n",
       "    <tr>\n",
       "      <th>2</th>\n",
       "      <td>3</td>\n",
       "      <td>January 06 2018</td>\n",
       "      <td>DOG</td>\n",
       "      <td>Pit Bull</td>\n",
       "      <td>NaN</td>\n",
       "      <td>U</td>\n",
       "      <td>False</td>\n",
       "      <td>Brooklyn</td>\n",
       "      <td>11224</td>\n",
       "    </tr>\n",
       "    <tr>\n",
       "      <th>3</th>\n",
       "      <td>4</td>\n",
       "      <td>January 08 2018</td>\n",
       "      <td>DOG</td>\n",
       "      <td>Mixed/Other</td>\n",
       "      <td>4</td>\n",
       "      <td>M</td>\n",
       "      <td>False</td>\n",
       "      <td>Brooklyn</td>\n",
       "      <td>11231</td>\n",
       "    </tr>\n",
       "    <tr>\n",
       "      <th>4</th>\n",
       "      <td>5</td>\n",
       "      <td>January 09 2018</td>\n",
       "      <td>DOG</td>\n",
       "      <td>Pit Bull</td>\n",
       "      <td>NaN</td>\n",
       "      <td>U</td>\n",
       "      <td>False</td>\n",
       "      <td>Brooklyn</td>\n",
       "      <td>11224</td>\n",
       "    </tr>\n",
       "  </tbody>\n",
       "</table>\n",
       "</div>"
      ],
      "text/plain": [
       "   UniqueID       DateOfBite Species        Breed  Age Gender  SpayNeuter  \\\n",
       "0         1  January 01 2018     DOG      UNKNOWN  NaN      U       False   \n",
       "1         2  January 04 2018     DOG      UNKNOWN  NaN      U       False   \n",
       "2         3  January 06 2018     DOG     Pit Bull  NaN      U       False   \n",
       "3         4  January 08 2018     DOG  Mixed/Other    4      M       False   \n",
       "4         5  January 09 2018     DOG     Pit Bull  NaN      U       False   \n",
       "\n",
       "    Borough ZipCode  \n",
       "0  Brooklyn   11220  \n",
       "1  Brooklyn     NaN  \n",
       "2  Brooklyn   11224  \n",
       "3  Brooklyn   11231  \n",
       "4  Brooklyn   11224  "
      ]
     },
     "metadata": {},
     "output_type": "display_data"
    },
    {
     "name": "stdout",
     "output_type": "stream",
     "text": [
      "<class 'pandas.core.frame.DataFrame'>\n",
      "RangeIndex: 26127 entries, 0 to 26126\n",
      "Data columns (total 9 columns):\n",
      " #   Column      Non-Null Count  Dtype \n",
      "---  ------      --------------  ----- \n",
      " 0   UniqueID    26127 non-null  int64 \n",
      " 1   DateOfBite  26127 non-null  object\n",
      " 2   Species     26127 non-null  object\n",
      " 3   Breed       23864 non-null  object\n",
      " 4   Age         12868 non-null  object\n",
      " 5   Gender      26127 non-null  object\n",
      " 6   SpayNeuter  26127 non-null  bool  \n",
      " 7   Borough     26127 non-null  object\n",
      " 8   ZipCode     18960 non-null  object\n",
      "dtypes: bool(1), int64(1), object(7)\n",
      "memory usage: 1.6+ MB\n"
     ]
    }
   ],
   "source": [
    "display(data.head())\n",
    "data.info()"
   ]
  },
  {
   "cell_type": "markdown",
   "id": "ece79a77-3f2e-453d-b8b9-f0cda933ff34",
   "metadata": {},
   "source": [
    "#### Interim conclusion\n",
    "\n",
    "* Some columns, such as `UniqueID` and `Species`, `ZipCode` are not needed for the study. We can remove them from the dataframe\n",
    "* There is a lot of missing data in the columns `Breed`, `Age`, `ZipCode`\n",
    "* Column names have uppercase letters, it's better to convert all the names to snake case\n",
    "* `DateOfBite` column type should be changed. We will change the object type to datetime64\n",
    "* Data should be checked for exact and partial duplicates\n",
    "\n",
    "Below, we will remove unnecessary columns, clarify the presence of duplicates in the rows, correct the column names and data types, and work with missing data."
   ]
  },
  {
   "cell_type": "markdown",
   "id": "dc7f7f66-c417-40da-a2b2-7941c31500e8",
   "metadata": {},
   "source": [
    "### Data preprocessing"
   ]
  },
  {
   "cell_type": "markdown",
   "id": "2145dd16-468f-4e1d-a8ec-ee4a007370b9",
   "metadata": {},
   "source": [
    "#### Finding and removing duplicate records\n",
    "First, let's check the dataset for exact duplicate rows:"
   ]
  },
  {
   "cell_type": "code",
   "execution_count": 4,
   "id": "7a9a47c4-cc30-4654-9f3a-02b04bfe0fe1",
   "metadata": {},
   "outputs": [
    {
     "data": {
      "text/plain": [
       "0"
      ]
     },
     "metadata": {},
     "output_type": "display_data"
    }
   ],
   "source": [
    "display(data.duplicated().sum())"
   ]
  },
  {
   "cell_type": "markdown",
   "id": "e85ca5fe-d43d-4337-8ff7-51e98671cc83",
   "metadata": {},
   "source": [
    "There are no such rows, now let's move on to searching for partial duplicates that may be found in the string columns `borough`, `gender` and `breed`.\n",
    "Let's start with the `Borough` column"
   ]
  },
  {
   "cell_type": "code",
   "execution_count": 5,
   "id": "37827ef4-a71b-45f5-a6ca-5b96befc3e7f",
   "metadata": {},
   "outputs": [
    {
     "data": {
      "text/plain": [
       "Borough\n",
       "Queens           6693\n",
       "Manhattan        6081\n",
       "Brooklyn         5698\n",
       "Bronx            4375\n",
       "Staten Island    2140\n",
       "Other            1140\n",
       "Name: count, dtype: int64"
      ]
     },
     "metadata": {},
     "output_type": "display_data"
    }
   ],
   "source": [
    "display(data['Borough'].value_counts())#counting unique values in a column"
   ]
  },
  {
   "cell_type": "markdown",
   "id": "43240caa-d536-4f6f-879a-35e499ffee4c",
   "metadata": {},
   "source": [
    "1140 rows with the value `Other`. Since there are only 5 boroughs in New York City, we can assume that this category includes cases that either occurred outside the city or the location was unknown. Either way, let's filter these rows out to leave only information with known boroughs. Otherwise, the borough names are spelled correctly."
   ]
  },
  {
   "cell_type": "code",
   "execution_count": 6,
   "id": "e0e2f5fd-ed2f-4bf4-a88f-5e25706429c0",
   "metadata": {},
   "outputs": [],
   "source": [
    "data = data.query('Borough != \"Other\"')#remove lines with Borough = Other"
   ]
  },
  {
   "cell_type": "markdown",
   "id": "79a0096b-c0ff-4bc1-bff1-6a851a86ae25",
   "metadata": {},
   "source": [
    "Now let's check the `Gender` column"
   ]
  },
  {
   "cell_type": "code",
   "execution_count": 7,
   "id": "c19bbdc7-2895-4501-9745-103de7a422a0",
   "metadata": {},
   "outputs": [
    {
     "data": {
      "text/plain": [
       "['U', 'M', 'F']"
      ]
     },
     "execution_count": 7,
     "metadata": {},
     "output_type": "execute_result"
    }
   ],
   "source": [
    "data['Gender'].unique().tolist()#list unique values of 'Gender' column"
   ]
  },
  {
   "cell_type": "markdown",
   "id": "247c5ab9-899f-447b-a17a-113163b08886",
   "metadata": {},
   "source": [
    "There are only three values in the column. There are no partial duplicates.\n",
    "\n",
    "Now let's check the `Breed` column"
   ]
  },
  {
   "cell_type": "code",
   "execution_count": 8,
   "id": "3bb22152-9892-488c-ac60-d539aa689dda",
   "metadata": {},
   "outputs": [
    {
     "data": {
      "text/plain": [
       "1702"
      ]
     },
     "execution_count": 8,
     "metadata": {},
     "output_type": "execute_result"
    }
   ],
   "source": [
    "len(data['Breed'].unique())#count unique values of 'Gender' column"
   ]
  },
  {
   "cell_type": "markdown",
   "id": "e98ef00c-0a8f-4cfd-948c-6235f7de7838",
   "metadata": {},
   "source": [
    "In total, the dataset contains 1702 unique breed names\n",
    "\n",
    "Let's see which of them are most common:"
   ]
  },
  {
   "cell_type": "code",
   "execution_count": 9,
   "id": "9dc45894-fc14-4bce-b18d-34071018fc13",
   "metadata": {},
   "outputs": [
    {
     "data": {
      "text/plain": [
       "Breed\n",
       "Pit Bull                                4450\n",
       "UNKNOWN                                 3217\n",
       "Shih Tzu                                 768\n",
       "Chihuahua                                711\n",
       "German Shepherd                          681\n",
       "American Pit Bull Mix / Pit Bull Mix     551\n",
       "Mixed/Other                              530\n",
       "Yorkshire Terrier                        524\n",
       "American Pit Bull Terrier/Pit Bull       521\n",
       "MIXED                                    485\n",
       "Name: count, dtype: int64"
      ]
     },
     "execution_count": 9,
     "metadata": {},
     "output_type": "execute_result"
    }
   ],
   "source": [
    "data['Breed'].value_counts().head(10)#list top 10 by frequency unique values of 'Gender' column "
   ]
  },
  {
   "cell_type": "code",
   "execution_count": 10,
   "id": "47f5f728-b087-4573-9168-475d13d0fc6f",
   "metadata": {},
   "outputs": [
    {
     "data": {
      "text/plain": [
       "Breed\n",
       "LABRADOR/SHAR-PEI MIX         1\n",
       "RAT TERRIER / SHIH TZU MIX    1\n",
       "HOUND / LAB MIX               1\n",
       "DOBERMAN AND LABRADOR         1\n",
       "MALTESE / WESTIE MIX          1\n",
       "PITBULL BOXER MIX             1\n",
       "ROTTWEILER/HUSKY MIX          1\n",
       "MALTI-POO                     1\n",
       "JACK RUSSELL/MALTESE MIX      1\n",
       "SHIH TZU / POMERANIAN         1\n",
       "Name: count, dtype: int64"
      ]
     },
     "execution_count": 10,
     "metadata": {},
     "output_type": "execute_result"
    }
   ],
   "source": [
    "data['Breed'].value_counts().tail(10)#list last 10 by frequency unique values of 'Gender' column"
   ]
  },
  {
   "cell_type": "markdown",
   "id": "fbbaa79f-deef-4a3c-96cb-c485f98c9916",
   "metadata": {},
   "source": [
    "**Observations**\n",
    "\n",
    "The column contains raw data.\n",
    "\n",
    "* Breed names are written in different ways (for example, `American Pit Bull Mix / Pit Bull Mix` and `American Pit Bull Terrier/Pit Bull`), with typos and in different cases\n",
    "* The second most common value is `UNKNOWN` (English \"unknown\"), also in the top 20 there is `MIXED`, which means any crossbreed.\n",
    "\n",
    "For now, we will leave this column as is and come back to it later."
   ]
  },
  {
   "cell_type": "markdown",
   "id": "3f5e84d9-6381-4105-bf58-fee4f9f9b4a9",
   "metadata": {},
   "source": [
    "#### Removing unnecessary columns\n",
    "\n",
    "The following columns are not needed for the study:\n",
    "\n",
    "`UniqueID` — duplicates the internal numbering in the dataframe\\\n",
    "`Species` — the data is about dog bites only, so the species is always `DOG`\\\n",
    "`ZipCode` — we are only interested in the distribution by districts (boroughs)\\\n",
    "`Age` — this column has data missing (only 12 868 of 26 127 rows are filled). Also, given that the data for this column is a rough estimate, it is difficult to use this data for any conclusions."
   ]
  },
  {
   "cell_type": "code",
   "execution_count": 11,
   "id": "82aae7a1-37ad-4f66-94d5-b6b6cabd3b50",
   "metadata": {},
   "outputs": [],
   "source": [
    "#removing extra columns\n",
    "data = data.drop(columns=['UniqueID','Species','ZipCode','Age'])"
   ]
  },
  {
   "cell_type": "markdown",
   "id": "7d691025-fc88-4dd1-86c7-7ee27107d873",
   "metadata": {},
   "source": [
    "#### Converting column names to snake case"
   ]
  },
  {
   "cell_type": "code",
   "execution_count": 12,
   "id": "ab6201e6-a01f-4eae-8437-bd65910d8b58",
   "metadata": {},
   "outputs": [],
   "source": [
    "data.columns = data.columns.str.lower()\n",
    "data = data.rename(columns={'dateofbite': 'date_of_bite','spayneuter': 'spay_or_neuter'})"
   ]
  },
  {
   "cell_type": "markdown",
   "id": "54b97afb-c1e6-48e6-adf6-715504a5e6c2",
   "metadata": {},
   "source": [
    "Look at just the first 5 rows"
   ]
  },
  {
   "cell_type": "code",
   "execution_count": 13,
   "id": "a97da355-82c0-47f0-881e-f82629dbd2c7",
   "metadata": {},
   "outputs": [
    {
     "data": {
      "text/html": [
       "<div>\n",
       "<style scoped>\n",
       "    .dataframe tbody tr th:only-of-type {\n",
       "        vertical-align: middle;\n",
       "    }\n",
       "\n",
       "    .dataframe tbody tr th {\n",
       "        vertical-align: top;\n",
       "    }\n",
       "\n",
       "    .dataframe thead th {\n",
       "        text-align: right;\n",
       "    }\n",
       "</style>\n",
       "<table border=\"1\" class=\"dataframe\">\n",
       "  <thead>\n",
       "    <tr style=\"text-align: right;\">\n",
       "      <th></th>\n",
       "      <th>date_of_bite</th>\n",
       "      <th>breed</th>\n",
       "      <th>gender</th>\n",
       "      <th>spay_or_neuter</th>\n",
       "      <th>borough</th>\n",
       "    </tr>\n",
       "  </thead>\n",
       "  <tbody>\n",
       "    <tr>\n",
       "      <th>0</th>\n",
       "      <td>January 01 2018</td>\n",
       "      <td>UNKNOWN</td>\n",
       "      <td>U</td>\n",
       "      <td>False</td>\n",
       "      <td>Brooklyn</td>\n",
       "    </tr>\n",
       "    <tr>\n",
       "      <th>1</th>\n",
       "      <td>January 04 2018</td>\n",
       "      <td>UNKNOWN</td>\n",
       "      <td>U</td>\n",
       "      <td>False</td>\n",
       "      <td>Brooklyn</td>\n",
       "    </tr>\n",
       "    <tr>\n",
       "      <th>2</th>\n",
       "      <td>January 06 2018</td>\n",
       "      <td>Pit Bull</td>\n",
       "      <td>U</td>\n",
       "      <td>False</td>\n",
       "      <td>Brooklyn</td>\n",
       "    </tr>\n",
       "    <tr>\n",
       "      <th>3</th>\n",
       "      <td>January 08 2018</td>\n",
       "      <td>Mixed/Other</td>\n",
       "      <td>M</td>\n",
       "      <td>False</td>\n",
       "      <td>Brooklyn</td>\n",
       "    </tr>\n",
       "    <tr>\n",
       "      <th>4</th>\n",
       "      <td>January 09 2018</td>\n",
       "      <td>Pit Bull</td>\n",
       "      <td>U</td>\n",
       "      <td>False</td>\n",
       "      <td>Brooklyn</td>\n",
       "    </tr>\n",
       "  </tbody>\n",
       "</table>\n",
       "</div>"
      ],
      "text/plain": [
       "      date_of_bite        breed gender  spay_or_neuter   borough\n",
       "0  January 01 2018      UNKNOWN      U           False  Brooklyn\n",
       "1  January 04 2018      UNKNOWN      U           False  Brooklyn\n",
       "2  January 06 2018     Pit Bull      U           False  Brooklyn\n",
       "3  January 08 2018  Mixed/Other      M           False  Brooklyn\n",
       "4  January 09 2018     Pit Bull      U           False  Brooklyn"
      ]
     },
     "execution_count": 13,
     "metadata": {},
     "output_type": "execute_result"
    }
   ],
   "source": [
    "data.head()"
   ]
  },
  {
   "cell_type": "markdown",
   "id": "8c0213a3-9f8b-4fdd-9d97-7bfac9c240e9",
   "metadata": {},
   "source": [
    "#### Changing data types and adding new columns\n",
    "\n",
    "* Change the `date_of_bite` column type to datetime64\n",
    "\n",
    "Add several columns based on the `date_of_bite` column:\n",
    "* `month_of_bite` — month name as an abbreviation\n",
    "* `month_of_bite_number` — month of the case as a number\n",
    "* `year_of_bite` — year of the case"
   ]
  },
  {
   "cell_type": "code",
   "execution_count": 14,
   "id": "bba9087c-1c40-4b3c-a67c-d04e54e30f68",
   "metadata": {},
   "outputs": [],
   "source": [
    "#data type conversion\n",
    "data['date_of_bite'] = pd.to_datetime(data['date_of_bite'])"
   ]
  },
  {
   "cell_type": "code",
   "execution_count": 15,
   "id": "0fe0e249-e34f-4801-809b-5174772ae6c0",
   "metadata": {},
   "outputs": [
    {
     "data": {
      "text/html": [
       "<div>\n",
       "<style scoped>\n",
       "    .dataframe tbody tr th:only-of-type {\n",
       "        vertical-align: middle;\n",
       "    }\n",
       "\n",
       "    .dataframe tbody tr th {\n",
       "        vertical-align: top;\n",
       "    }\n",
       "\n",
       "    .dataframe thead th {\n",
       "        text-align: right;\n",
       "    }\n",
       "</style>\n",
       "<table border=\"1\" class=\"dataframe\">\n",
       "  <thead>\n",
       "    <tr style=\"text-align: right;\">\n",
       "      <th></th>\n",
       "      <th>date_of_bite</th>\n",
       "      <th>breed</th>\n",
       "      <th>gender</th>\n",
       "      <th>spay_or_neuter</th>\n",
       "      <th>borough</th>\n",
       "      <th>month_of_bite</th>\n",
       "      <th>month_of_bite_number</th>\n",
       "      <th>year_of_bite</th>\n",
       "    </tr>\n",
       "  </thead>\n",
       "  <tbody>\n",
       "    <tr>\n",
       "      <th>0</th>\n",
       "      <td>2018-01-01</td>\n",
       "      <td>UNKNOWN</td>\n",
       "      <td>U</td>\n",
       "      <td>False</td>\n",
       "      <td>Brooklyn</td>\n",
       "      <td>Jan</td>\n",
       "      <td>1</td>\n",
       "      <td>2018</td>\n",
       "    </tr>\n",
       "    <tr>\n",
       "      <th>1</th>\n",
       "      <td>2018-01-04</td>\n",
       "      <td>UNKNOWN</td>\n",
       "      <td>U</td>\n",
       "      <td>False</td>\n",
       "      <td>Brooklyn</td>\n",
       "      <td>Jan</td>\n",
       "      <td>1</td>\n",
       "      <td>2018</td>\n",
       "    </tr>\n",
       "    <tr>\n",
       "      <th>2</th>\n",
       "      <td>2018-01-06</td>\n",
       "      <td>Pit Bull</td>\n",
       "      <td>U</td>\n",
       "      <td>False</td>\n",
       "      <td>Brooklyn</td>\n",
       "      <td>Jan</td>\n",
       "      <td>1</td>\n",
       "      <td>2018</td>\n",
       "    </tr>\n",
       "    <tr>\n",
       "      <th>3</th>\n",
       "      <td>2018-01-08</td>\n",
       "      <td>Mixed/Other</td>\n",
       "      <td>M</td>\n",
       "      <td>False</td>\n",
       "      <td>Brooklyn</td>\n",
       "      <td>Jan</td>\n",
       "      <td>1</td>\n",
       "      <td>2018</td>\n",
       "    </tr>\n",
       "    <tr>\n",
       "      <th>4</th>\n",
       "      <td>2018-01-09</td>\n",
       "      <td>Pit Bull</td>\n",
       "      <td>U</td>\n",
       "      <td>False</td>\n",
       "      <td>Brooklyn</td>\n",
       "      <td>Jan</td>\n",
       "      <td>1</td>\n",
       "      <td>2018</td>\n",
       "    </tr>\n",
       "  </tbody>\n",
       "</table>\n",
       "</div>"
      ],
      "text/plain": [
       "  date_of_bite        breed gender  spay_or_neuter   borough month_of_bite  \\\n",
       "0   2018-01-01      UNKNOWN      U           False  Brooklyn           Jan   \n",
       "1   2018-01-04      UNKNOWN      U           False  Brooklyn           Jan   \n",
       "2   2018-01-06     Pit Bull      U           False  Brooklyn           Jan   \n",
       "3   2018-01-08  Mixed/Other      M           False  Brooklyn           Jan   \n",
       "4   2018-01-09     Pit Bull      U           False  Brooklyn           Jan   \n",
       "\n",
       "   month_of_bite_number  year_of_bite  \n",
       "0                     1          2018  \n",
       "1                     1          2018  \n",
       "2                     1          2018  \n",
       "3                     1          2018  \n",
       "4                     1          2018  "
      ]
     },
     "execution_count": 15,
     "metadata": {},
     "output_type": "execute_result"
    }
   ],
   "source": [
    "#adding new columns\n",
    "data['month_of_bite'] = data['date_of_bite'].dt.strftime('%b')\n",
    "data['month_of_bite_number'] = pd.DatetimeIndex(data['date_of_bite']).month \n",
    "data['year_of_bite'] = pd.DatetimeIndex(data['date_of_bite']).year \n",
    "\n",
    "data.head()"
   ]
  },
  {
   "cell_type": "markdown",
   "id": "5aab6c60-a628-4525-ad10-ade8b5f6cefc",
   "metadata": {},
   "source": [
    "#### Filling in missing values"
   ]
  },
  {
   "cell_type": "code",
   "execution_count": 16,
   "id": "bfd4fa2e-7a90-4c06-b84f-4af254ee823b",
   "metadata": {},
   "outputs": [
    {
     "name": "stdout",
     "output_type": "stream",
     "text": [
      "<class 'pandas.core.frame.DataFrame'>\n",
      "Index: 24987 entries, 0 to 26126\n",
      "Data columns (total 8 columns):\n",
      " #   Column                Non-Null Count  Dtype         \n",
      "---  ------                --------------  -----         \n",
      " 0   date_of_bite          24987 non-null  datetime64[ns]\n",
      " 1   breed                 22861 non-null  object        \n",
      " 2   gender                24987 non-null  object        \n",
      " 3   spay_or_neuter        24987 non-null  bool          \n",
      " 4   borough               24987 non-null  object        \n",
      " 5   month_of_bite         24987 non-null  object        \n",
      " 6   month_of_bite_number  24987 non-null  int32         \n",
      " 7   year_of_bite          24987 non-null  int32         \n",
      "dtypes: bool(1), datetime64[ns](1), int32(2), object(4)\n",
      "memory usage: 1.4+ MB\n"
     ]
    }
   ],
   "source": [
    "data.info()#applying info() method to the updated table"
   ]
  },
  {
   "cell_type": "markdown",
   "id": "1e92ebea-2b77-406a-9e8e-559475e3bdd8",
   "metadata": {},
   "source": [
    "There is only one column left in the dataset that contains gaps — `breed`.\n",
    "Above, we found out that one of the most frequent values ​​in the column is `UNKNOWN`, which in this case is a synonym for missing data.\n",
    "Let's replace all the gaps in the column with `UNKNOWN`."
   ]
  },
  {
   "cell_type": "code",
   "execution_count": 17,
   "id": "98fc8f7d-3738-4080-aa4f-0c1b84504ea4",
   "metadata": {},
   "outputs": [
    {
     "data": {
      "text/plain": [
       "0"
      ]
     },
     "execution_count": 17,
     "metadata": {},
     "output_type": "execute_result"
    }
   ],
   "source": [
    "#filling missing values with UNKNOWN\n",
    "data['breed'] = data['breed'].fillna(value='UNKNOWN')\n",
    "#counting missing values\n",
    "data['breed'].isna().sum()"
   ]
  },
  {
   "cell_type": "markdown",
   "id": "e549759f-3e16-4c55-af46-c70c0c15ecad",
   "metadata": {},
   "source": [
    "#### Interim conclusion\n",
    "We prepared the data for work:\n",
    "\n",
    "* removed unnecessary columns\n",
    "* changed the column names to snake case\n",
    "* checked the dataset for missing values and filled the gaps with suitable values\n",
    "* checked the dataset for exact and partial duplicates, found that `breed` column contains raw data\n",
    "* changed the data type in the `date_of_bite` column to a suitable one and added additional columns with the month and year of the case based on it."
   ]
  },
  {
   "cell_type": "markdown",
   "id": "b5db096a-e0b3-4529-a9df-d3aa451a99f4",
   "metadata": {},
   "source": [
    "### Seasonality Analysis\n",
    "\n",
    "Let's check the time period that the dataset covers:"
   ]
  },
  {
   "cell_type": "code",
   "execution_count": 18,
   "id": "b16928e2-825b-4079-a501-4e87c469c25b",
   "metadata": {},
   "outputs": [
    {
     "name": "stdout",
     "output_type": "stream",
     "text": [
      "Earliest date in the dataset: 2015-01-01 00:00:00\n",
      "Latest date in the dataset: 2022-12-31 00:00:00\n"
     ]
    }
   ],
   "source": [
    "print ('Earliest date in the dataset:',data['date_of_bite'].min())\n",
    "print ('Latest date in the dataset:',data['date_of_bite'].max())"
   ]
  },
  {
   "cell_type": "markdown",
   "id": "08213b83-f010-4ef0-877f-2eda70ec0d10",
   "metadata": {},
   "source": [
    "As stated in the data description, the dataset covers 8 years. From January 1, 2015 to December 31, 2022.\n",
    "\n",
    "Let's group the cases by year and month:"
   ]
  },
  {
   "cell_type": "code",
   "execution_count": 19,
   "id": "36cbfb99-3c0a-4d14-87de-370f39fad447",
   "metadata": {},
   "outputs": [
    {
     "data": {
      "text/html": [
       "<style type=\"text/css\">\n",
       "</style>\n",
       "<table id=\"T_55c60\" style='display:inline'>\n",
       "  <caption><b>Distribution of dog bite cases by year</b></caption>\n",
       "  <thead>\n",
       "    <tr>\n",
       "      <th class=\"blank level0\" >&nbsp;</th>\n",
       "      <th id=\"T_55c60_level0_col0\" class=\"col_heading level0 col0\" >year_of_bite</th>\n",
       "      <th id=\"T_55c60_level0_col1\" class=\"col_heading level0 col1\" >total</th>\n",
       "    </tr>\n",
       "  </thead>\n",
       "  <tbody>\n",
       "    <tr>\n",
       "      <th id=\"T_55c60_level0_row0\" class=\"row_heading level0 row0\" >0</th>\n",
       "      <td id=\"T_55c60_row0_col0\" class=\"data row0 col0\" >2015</td>\n",
       "      <td id=\"T_55c60_row0_col1\" class=\"data row0 col1\" >3390</td>\n",
       "    </tr>\n",
       "    <tr>\n",
       "      <th id=\"T_55c60_level0_row1\" class=\"row_heading level0 row1\" >1</th>\n",
       "      <td id=\"T_55c60_row1_col0\" class=\"data row1 col0\" >2016</td>\n",
       "      <td id=\"T_55c60_row1_col1\" class=\"data row1 col1\" >3085</td>\n",
       "    </tr>\n",
       "    <tr>\n",
       "      <th id=\"T_55c60_level0_row2\" class=\"row_heading level0 row2\" >2</th>\n",
       "      <td id=\"T_55c60_row2_col0\" class=\"data row2 col0\" >2017</td>\n",
       "      <td id=\"T_55c60_row2_col1\" class=\"data row2 col1\" >3368</td>\n",
       "    </tr>\n",
       "    <tr>\n",
       "      <th id=\"T_55c60_level0_row3\" class=\"row_heading level0 row3\" >3</th>\n",
       "      <td id=\"T_55c60_row3_col0\" class=\"data row3 col0\" >2018</td>\n",
       "      <td id=\"T_55c60_row3_col1\" class=\"data row3 col1\" >3238</td>\n",
       "    </tr>\n",
       "    <tr>\n",
       "      <th id=\"T_55c60_level0_row4\" class=\"row_heading level0 row4\" >4</th>\n",
       "      <td id=\"T_55c60_row4_col0\" class=\"data row4 col0\" >2019</td>\n",
       "      <td id=\"T_55c60_row4_col1\" class=\"data row4 col1\" >3389</td>\n",
       "    </tr>\n",
       "    <tr>\n",
       "      <th id=\"T_55c60_level0_row5\" class=\"row_heading level0 row5\" >5</th>\n",
       "      <td id=\"T_55c60_row5_col0\" class=\"data row5 col0\" >2020</td>\n",
       "      <td id=\"T_55c60_row5_col1\" class=\"data row5 col1\" >2424</td>\n",
       "    </tr>\n",
       "    <tr>\n",
       "      <th id=\"T_55c60_level0_row6\" class=\"row_heading level0 row6\" >6</th>\n",
       "      <td id=\"T_55c60_row6_col0\" class=\"data row6 col0\" >2021</td>\n",
       "      <td id=\"T_55c60_row6_col1\" class=\"data row6 col1\" >2788</td>\n",
       "    </tr>\n",
       "    <tr>\n",
       "      <th id=\"T_55c60_level0_row7\" class=\"row_heading level0 row7\" >7</th>\n",
       "      <td id=\"T_55c60_row7_col0\" class=\"data row7 col0\" >2022</td>\n",
       "      <td id=\"T_55c60_row7_col1\" class=\"data row7 col1\" >3305</td>\n",
       "    </tr>\n",
       "  </tbody>\n",
       "</table>\n",
       "&nbsp&nbsp&nbsp&nbsp&nbsp&nbsp&nbsp&nbsp&nbsp&nbsp&nbsp&nbsp&nbsp&nbsp&nbsp<style type=\"text/css\">\n",
       "</style>\n",
       "<table id=\"T_3077c\" style='display:inline'>\n",
       "  <caption><b>Distribution of dog bite cases by month</b></caption>\n",
       "  <thead>\n",
       "    <tr>\n",
       "      <th class=\"blank level0\" >&nbsp;</th>\n",
       "      <th id=\"T_3077c_level0_col0\" class=\"col_heading level0 col0\" >month_of_bite</th>\n",
       "      <th id=\"T_3077c_level0_col1\" class=\"col_heading level0 col1\" >total</th>\n",
       "    </tr>\n",
       "  </thead>\n",
       "  <tbody>\n",
       "    <tr>\n",
       "      <th id=\"T_3077c_level0_row0\" class=\"row_heading level0 row0\" >0</th>\n",
       "      <td id=\"T_3077c_row0_col0\" class=\"data row0 col0\" >Jan</td>\n",
       "      <td id=\"T_3077c_row0_col1\" class=\"data row0 col1\" >1613</td>\n",
       "    </tr>\n",
       "    <tr>\n",
       "      <th id=\"T_3077c_level0_row1\" class=\"row_heading level0 row1\" >1</th>\n",
       "      <td id=\"T_3077c_row1_col0\" class=\"data row1 col0\" >Feb</td>\n",
       "      <td id=\"T_3077c_row1_col1\" class=\"data row1 col1\" >1660</td>\n",
       "    </tr>\n",
       "    <tr>\n",
       "      <th id=\"T_3077c_level0_row2\" class=\"row_heading level0 row2\" >2</th>\n",
       "      <td id=\"T_3077c_row2_col0\" class=\"data row2 col0\" >Mar</td>\n",
       "      <td id=\"T_3077c_row2_col1\" class=\"data row2 col1\" >1795</td>\n",
       "    </tr>\n",
       "    <tr>\n",
       "      <th id=\"T_3077c_level0_row3\" class=\"row_heading level0 row3\" >3</th>\n",
       "      <td id=\"T_3077c_row3_col0\" class=\"data row3 col0\" >Apr</td>\n",
       "      <td id=\"T_3077c_row3_col1\" class=\"data row3 col1\" >2127</td>\n",
       "    </tr>\n",
       "    <tr>\n",
       "      <th id=\"T_3077c_level0_row4\" class=\"row_heading level0 row4\" >4</th>\n",
       "      <td id=\"T_3077c_row4_col0\" class=\"data row4 col0\" >May</td>\n",
       "      <td id=\"T_3077c_row4_col1\" class=\"data row4 col1\" >2372</td>\n",
       "    </tr>\n",
       "    <tr>\n",
       "      <th id=\"T_3077c_level0_row5\" class=\"row_heading level0 row5\" >5</th>\n",
       "      <td id=\"T_3077c_row5_col0\" class=\"data row5 col0\" >Jun</td>\n",
       "      <td id=\"T_3077c_row5_col1\" class=\"data row5 col1\" >2556</td>\n",
       "    </tr>\n",
       "    <tr>\n",
       "      <th id=\"T_3077c_level0_row6\" class=\"row_heading level0 row6\" >6</th>\n",
       "      <td id=\"T_3077c_row6_col0\" class=\"data row6 col0\" >Jul</td>\n",
       "      <td id=\"T_3077c_row6_col1\" class=\"data row6 col1\" >2578</td>\n",
       "    </tr>\n",
       "    <tr>\n",
       "      <th id=\"T_3077c_level0_row7\" class=\"row_heading level0 row7\" >7</th>\n",
       "      <td id=\"T_3077c_row7_col0\" class=\"data row7 col0\" >Aug</td>\n",
       "      <td id=\"T_3077c_row7_col1\" class=\"data row7 col1\" >2486</td>\n",
       "    </tr>\n",
       "    <tr>\n",
       "      <th id=\"T_3077c_level0_row8\" class=\"row_heading level0 row8\" >8</th>\n",
       "      <td id=\"T_3077c_row8_col0\" class=\"data row8 col0\" >Sep</td>\n",
       "      <td id=\"T_3077c_row8_col1\" class=\"data row8 col1\" >2195</td>\n",
       "    </tr>\n",
       "    <tr>\n",
       "      <th id=\"T_3077c_level0_row9\" class=\"row_heading level0 row9\" >9</th>\n",
       "      <td id=\"T_3077c_row9_col0\" class=\"data row9 col0\" >Oct</td>\n",
       "      <td id=\"T_3077c_row9_col1\" class=\"data row9 col1\" >2003</td>\n",
       "    </tr>\n",
       "    <tr>\n",
       "      <th id=\"T_3077c_level0_row10\" class=\"row_heading level0 row10\" >10</th>\n",
       "      <td id=\"T_3077c_row10_col0\" class=\"data row10 col0\" >Nov</td>\n",
       "      <td id=\"T_3077c_row10_col1\" class=\"data row10 col1\" >1884</td>\n",
       "    </tr>\n",
       "    <tr>\n",
       "      <th id=\"T_3077c_level0_row11\" class=\"row_heading level0 row11\" >11</th>\n",
       "      <td id=\"T_3077c_row11_col0\" class=\"data row11 col0\" >Dec</td>\n",
       "      <td id=\"T_3077c_row11_col1\" class=\"data row11 col1\" >1718</td>\n",
       "    </tr>\n",
       "  </tbody>\n",
       "</table>\n"
      ]
     },
     "metadata": {},
     "output_type": "display_data"
    }
   ],
   "source": [
    "#creating a pivot table with grouping by years\n",
    "bites_per_year = data.groupby('year_of_bite')['date_of_bite'].count().to_frame().reset_index()\n",
    "bites_per_year.columns = ['year_of_bite','total']\n",
    "\n",
    "#creating a pivot table with grouping by months\n",
    "bites_per_month = data.pivot_table(index=['month_of_bite_number','month_of_bite'],\n",
    "                                          values='date_of_bite',\n",
    "                                          aggfunc=['count']).droplevel('month_of_bite_number', axis=0)\n",
    "#rename the column and reset the index\n",
    "bites_per_month.columns = ['total']\n",
    "bites_per_month = bites_per_month.reset_index()\n",
    "\n",
    "#look at both tables\n",
    "df1_styler = bites_per_year.style.set_table_attributes(\"style='display:inline'\").set_caption('<b>Distribution of dog bite cases by year</b>')\n",
    "df2_styler = bites_per_month.style.set_table_attributes(\"style='display:inline'\").set_caption('<b>Distribution of dog bite cases by month</b>')\n",
    "display_html(df1_styler._repr_html_()+15*'&nbsp' +df2_styler._repr_html_(), raw=True)"
   ]
  },
  {
   "cell_type": "code",
   "execution_count": 20,
   "id": "527a9fc8-2bbd-45eb-8bdb-29b60eb0b567",
   "metadata": {},
   "outputs": [
    {
     "name": "stdout",
     "output_type": "stream",
     "text": [
      "difference between the number of cases in summer and winter — 34.50%\n"
     ]
    }
   ],
   "source": [
    "#counting the average number of events in the summer\n",
    "summer_months = bites_per_month.sort_values(by='total',ascending=False)['total'][:3]\n",
    "summer_months_mean = summer_months.sum()/3\n",
    "\n",
    "#counting the average number of events in the winter\n",
    "winter_months = bites_per_month.sort_values(by='total',ascending=False)['total'][-3:]\n",
    "winter_months_mean = winter_months.sum()/3\n",
    "\n",
    "#calculating the difference between the number of cases in summer and winter as a percentage \n",
    "print('difference between the number of cases in summer and winter —',\n",
    "      \"{0:.2f}%\".format(100 - round(winter_months_mean/summer_months_mean*100,2)))"
   ]
  },
  {
   "cell_type": "markdown",
   "id": "c87d30da-5eb9-46b1-90ea-0c51dc178601",
   "metadata": {},
   "source": [
    "**Visualizing pivot tables on a graph**"
   ]
  },
  {
   "cell_type": "code",
   "execution_count": 21,
   "id": "ea25b360-d373-472b-a739-9e0744d499f1",
   "metadata": {},
   "outputs": [
    {
     "data": {
      "image/png": "[encoded data removed]",
      "text/plain": [
       "<Figure size 2000x500 with 2 Axes>"
      ]
     },
     "metadata": {},
     "output_type": "display_data"
    }
   ],
   "source": [
    "#creating plots\n",
    "fig, axes= plt.subplots(1, 2)\n",
    "fig.set_size_inches(20, 5)\n",
    "\n",
    "sns.barplot(ax=axes[0],data=bites_per_year, x='year_of_bite', y='total', errorbar=None)\n",
    "axes[0].set_title('Distribution of dog bite cases by year')\n",
    "axes[0].set_xlabel('Year')\n",
    "axes[0].set_ylabel('Number of registered cases')\n",
    "\n",
    "sns.barplot(ax=axes[1],data=bites_per_month, x='month_of_bite', y='total', errorbar=None)\n",
    "axes[1].set_title('Distribution of dog bite cases by month')\n",
    "axes[1].set_xlabel('Month (data for 2015-2022)')\n",
    "axes[1].set_ylabel('Number of registered cases');"
   ]
  },
  {
   "cell_type": "markdown",
   "id": "5bc08617-f826-4e92-8e27-fb5984d94df2",
   "metadata": {},
   "source": [
    "#### Interim conclusion\n",
    "\n",
    "* The least number of cases were recorded in 2020 and 2021. This may be due to the coronavirus pandemic and the period of self-isolation rules in the city. These are the only years during the study period in which fewer than 3,000 cases were observed.\n",
    "* The most number of cases were recorded in 2015 (3 390 cases)\n",
    "* There is a pronounced seasonality of events: in the winter months, on average, 34.5% fewer cases were recorded than in the summer"
   ]
  },
  {
   "cell_type": "markdown",
   "id": "7226a1dc-4b39-4940-812d-57267fcf1459",
   "metadata": {},
   "source": [
    "### Distribution of cases by borough"
   ]
  },
  {
   "cell_type": "markdown",
   "id": "1e983ad0-878f-4607-bfb4-dcbcae308fbc",
   "metadata": {},
   "source": [
    "There are five major governmental districts (boroughs) in New York:\n",
    "\n",
    "1. `Manhattan`\n",
    "2. `Brooklyn`\n",
    "3. `Queens` \n",
    "4. `Bronx`\n",
    "5. `Staten Island`\n",
    "\n",
    "Let's create a pivot table with grouping by districts and months:"
   ]
  },
  {
   "cell_type": "code",
   "execution_count": 22,
   "id": "12f97c08-9b89-4c5e-86c0-3d9358fefc01",
   "metadata": {},
   "outputs": [
    {
     "data": {
      "text/html": [
       "<div>\n",
       "<style scoped>\n",
       "    .dataframe tbody tr th:only-of-type {\n",
       "        vertical-align: middle;\n",
       "    }\n",
       "\n",
       "    .dataframe tbody tr th {\n",
       "        vertical-align: top;\n",
       "    }\n",
       "\n",
       "    .dataframe thead th {\n",
       "        text-align: right;\n",
       "    }\n",
       "</style>\n",
       "<table border=\"1\" class=\"dataframe\">\n",
       "  <thead>\n",
       "    <tr style=\"text-align: right;\">\n",
       "      <th>borough</th>\n",
       "      <th>Bronx</th>\n",
       "      <th>Brooklyn</th>\n",
       "      <th>Manhattan</th>\n",
       "      <th>Queens</th>\n",
       "      <th>Staten Island</th>\n",
       "    </tr>\n",
       "    <tr>\n",
       "      <th>month_of_bite</th>\n",
       "      <th></th>\n",
       "      <th></th>\n",
       "      <th></th>\n",
       "      <th></th>\n",
       "      <th></th>\n",
       "    </tr>\n",
       "  </thead>\n",
       "  <tbody>\n",
       "    <tr>\n",
       "      <th>Jan</th>\n",
       "      <td>322</td>\n",
       "      <td>353</td>\n",
       "      <td>419</td>\n",
       "      <td>370</td>\n",
       "      <td>149</td>\n",
       "    </tr>\n",
       "    <tr>\n",
       "      <th>Feb</th>\n",
       "      <td>297</td>\n",
       "      <td>370</td>\n",
       "      <td>440</td>\n",
       "      <td>415</td>\n",
       "      <td>138</td>\n",
       "    </tr>\n",
       "    <tr>\n",
       "      <th>Mar</th>\n",
       "      <td>345</td>\n",
       "      <td>378</td>\n",
       "      <td>443</td>\n",
       "      <td>469</td>\n",
       "      <td>160</td>\n",
       "    </tr>\n",
       "    <tr>\n",
       "      <th>Apr</th>\n",
       "      <td>357</td>\n",
       "      <td>500</td>\n",
       "      <td>521</td>\n",
       "      <td>560</td>\n",
       "      <td>189</td>\n",
       "    </tr>\n",
       "    <tr>\n",
       "      <th>May</th>\n",
       "      <td>405</td>\n",
       "      <td>527</td>\n",
       "      <td>609</td>\n",
       "      <td>625</td>\n",
       "      <td>206</td>\n",
       "    </tr>\n",
       "    <tr>\n",
       "      <th>Jun</th>\n",
       "      <td>392</td>\n",
       "      <td>626</td>\n",
       "      <td>578</td>\n",
       "      <td>751</td>\n",
       "      <td>209</td>\n",
       "    </tr>\n",
       "    <tr>\n",
       "      <th>Jul</th>\n",
       "      <td>448</td>\n",
       "      <td>613</td>\n",
       "      <td>534</td>\n",
       "      <td>751</td>\n",
       "      <td>232</td>\n",
       "    </tr>\n",
       "    <tr>\n",
       "      <th>Aug</th>\n",
       "      <td>398</td>\n",
       "      <td>586</td>\n",
       "      <td>599</td>\n",
       "      <td>708</td>\n",
       "      <td>195</td>\n",
       "    </tr>\n",
       "    <tr>\n",
       "      <th>Sep</th>\n",
       "      <td>378</td>\n",
       "      <td>519</td>\n",
       "      <td>527</td>\n",
       "      <td>588</td>\n",
       "      <td>183</td>\n",
       "    </tr>\n",
       "    <tr>\n",
       "      <th>Oct</th>\n",
       "      <td>349</td>\n",
       "      <td>446</td>\n",
       "      <td>494</td>\n",
       "      <td>535</td>\n",
       "      <td>179</td>\n",
       "    </tr>\n",
       "    <tr>\n",
       "      <th>Nov</th>\n",
       "      <td>359</td>\n",
       "      <td>421</td>\n",
       "      <td>484</td>\n",
       "      <td>465</td>\n",
       "      <td>155</td>\n",
       "    </tr>\n",
       "    <tr>\n",
       "      <th>Dec</th>\n",
       "      <td>325</td>\n",
       "      <td>359</td>\n",
       "      <td>433</td>\n",
       "      <td>456</td>\n",
       "      <td>145</td>\n",
       "    </tr>\n",
       "  </tbody>\n",
       "</table>\n",
       "</div>"
      ],
      "text/plain": [
       "borough        Bronx  Brooklyn  Manhattan  Queens  Staten Island\n",
       "month_of_bite                                                   \n",
       "Jan              322       353        419     370            149\n",
       "Feb              297       370        440     415            138\n",
       "Mar              345       378        443     469            160\n",
       "Apr              357       500        521     560            189\n",
       "May              405       527        609     625            206\n",
       "Jun              392       626        578     751            209\n",
       "Jul              448       613        534     751            232\n",
       "Aug              398       586        599     708            195\n",
       "Sep              378       519        527     588            183\n",
       "Oct              349       446        494     535            179\n",
       "Nov              359       421        484     465            155\n",
       "Dec              325       359        433     456            145"
      ]
     },
     "execution_count": 22,
     "metadata": {},
     "output_type": "execute_result"
    }
   ],
   "source": [
    "#creating a pivot table with grouping by months and boroughs\n",
    "monthly_bites_by_borough = data.pivot_table(index=['month_of_bite_number','month_of_bite'],\n",
    "                        columns='borough',\n",
    "                                          values='date_of_bite',\n",
    "                                          aggfunc=['count'])\n",
    "\n",
    "monthly_bites_by_borough.columns = monthly_bites_by_borough.columns.droplevel()\n",
    "monthly_bites_by_borough.index = monthly_bites_by_borough.index.droplevel()\n",
    "monthly_bites_by_borough"
   ]
  },
  {
   "cell_type": "markdown",
   "id": "70518051-1010-4649-8e56-81c3b7c34904",
   "metadata": {},
   "source": [
    "Let's visualize the resulting table on a heat map"
   ]
  },
  {
   "cell_type": "code",
   "execution_count": 23,
   "id": "11f5b1c9-afbf-4c45-a8db-b75cf09fce08",
   "metadata": {},
   "outputs": [
    {
     "data": {
      "image/png": "[encoded data removed]",
      "text/plain": [
       "<Figure size 2000x500 with 2 Axes>"
      ]
     },
     "metadata": {},
     "output_type": "display_data"
    }
   ],
   "source": [
    "#creating heatmap\n",
    "plt.figure(figsize=(20, 5))\n",
    "\n",
    "sns.heatmap(\n",
    "    monthly_bites_by_borough, ax=plt.subplot(1, 2, 1), cmap=\"coolwarm\", annot=True, fmt='.0f',cbar_kws={'label': '\\n number of events over 8 years'}\n",
    ")\n",
    "plt.yticks(rotation=0)\n",
    "\n",
    "#assigning axes and titles\n",
    "plt.title('Distribution of bite cases by district and month \\n total numbers of cases over 8 years')\n",
    "plt.xlabel('New York Boroughs') \n",
    "plt.ylabel('Month (data for 2015-2022)');"
   ]
  },
  {
   "cell_type": "markdown",
   "id": "55e5baa6-d000-4df3-a91e-618e9f2082d9",
   "metadata": {},
   "source": [
    "**Observations:**\n",
    "\n",
    "* The seasonality of cases, which we noted above, is clearly visible\n",
    "* The least number of events occur in the Staten Island borough, the most number of cases occur in Queens\n",
    "\n",
    "Could we assume from this that Queens is the most dangerous in terms of bites, and Staten Island is the safest? We did not take into account the population of the boroughs in our calculations.\n",
    "Next, we will calculate the number of bites per borough resident.\n",
    "\n",
    "----\n",
    "\n",
    "The <a href=\"https://en.wikipedia.org/wiki/Demographics_of_New_York_City#cite_note-41:~:text=New%20York%20City%27s%20five%20boroughs\">Wikipedia page</a> contains data on the latest US census in 2020. Let's take the data from this source and save it into a variable:"
   ]
  },
  {
   "cell_type": "code",
   "execution_count": 24,
   "id": "e6783ef0-583a-459a-a89a-71b6b1d9e332",
   "metadata": {},
   "outputs": [
    {
     "data": {
      "text/plain": [
       "{'Bronx': 1.472654,\n",
       " 'Brooklyn': 2.736074,\n",
       " 'Manhattan': 1.694251,\n",
       " 'Queens': 2.405464,\n",
       " 'Staten Island': 0.495747}"
      ]
     },
     "execution_count": 24,
     "metadata": {},
     "output_type": "execute_result"
    }
   ],
   "source": [
    "#creating a dictionary with census data  (millions of residents)\n",
    "population = {\n",
    "  \"Bronx\": 1.472654,\n",
    "  \"Brooklyn\": 2.736074,\n",
    "  \"Manhattan\": 1.694251,\n",
    "   \"Queens\": 2.405464,\n",
    "  \"Staten Island\": 0.495747 \n",
    "}\n",
    "population"
   ]
  },
  {
   "cell_type": "code",
   "execution_count": 25,
   "id": "0934aeb1-5c4e-43e7-a7db-71f738bf43e5",
   "metadata": {},
   "outputs": [
    {
     "data": {
      "text/html": [
       "<div>\n",
       "<style scoped>\n",
       "    .dataframe tbody tr th:only-of-type {\n",
       "        vertical-align: middle;\n",
       "    }\n",
       "\n",
       "    .dataframe tbody tr th {\n",
       "        vertical-align: top;\n",
       "    }\n",
       "\n",
       "    .dataframe thead th {\n",
       "        text-align: right;\n",
       "    }\n",
       "</style>\n",
       "<table border=\"1\" class=\"dataframe\">\n",
       "  <thead>\n",
       "    <tr style=\"text-align: right;\">\n",
       "      <th>borough</th>\n",
       "      <th>Bronx</th>\n",
       "      <th>Brooklyn</th>\n",
       "      <th>Manhattan</th>\n",
       "      <th>Queens</th>\n",
       "      <th>Staten Island</th>\n",
       "    </tr>\n",
       "    <tr>\n",
       "      <th>month_of_bite</th>\n",
       "      <th></th>\n",
       "      <th></th>\n",
       "      <th></th>\n",
       "      <th></th>\n",
       "      <th></th>\n",
       "    </tr>\n",
       "  </thead>\n",
       "  <tbody>\n",
       "    <tr>\n",
       "      <th>Jan</th>\n",
       "      <td>218.65</td>\n",
       "      <td>129.02</td>\n",
       "      <td>247.31</td>\n",
       "      <td>153.82</td>\n",
       "      <td>300.56</td>\n",
       "    </tr>\n",
       "    <tr>\n",
       "      <th>Feb</th>\n",
       "      <td>201.68</td>\n",
       "      <td>135.23</td>\n",
       "      <td>259.70</td>\n",
       "      <td>172.52</td>\n",
       "      <td>278.37</td>\n",
       "    </tr>\n",
       "    <tr>\n",
       "      <th>Mar</th>\n",
       "      <td>234.27</td>\n",
       "      <td>138.15</td>\n",
       "      <td>261.47</td>\n",
       "      <td>194.97</td>\n",
       "      <td>322.75</td>\n",
       "    </tr>\n",
       "    <tr>\n",
       "      <th>Apr</th>\n",
       "      <td>242.42</td>\n",
       "      <td>182.74</td>\n",
       "      <td>307.51</td>\n",
       "      <td>232.80</td>\n",
       "      <td>381.24</td>\n",
       "    </tr>\n",
       "    <tr>\n",
       "      <th>May</th>\n",
       "      <td>275.01</td>\n",
       "      <td>192.61</td>\n",
       "      <td>359.45</td>\n",
       "      <td>259.83</td>\n",
       "      <td>415.53</td>\n",
       "    </tr>\n",
       "    <tr>\n",
       "      <th>Jun</th>\n",
       "      <td>266.19</td>\n",
       "      <td>228.79</td>\n",
       "      <td>341.15</td>\n",
       "      <td>312.21</td>\n",
       "      <td>421.59</td>\n",
       "    </tr>\n",
       "    <tr>\n",
       "      <th>Jul</th>\n",
       "      <td>304.21</td>\n",
       "      <td>224.04</td>\n",
       "      <td>315.18</td>\n",
       "      <td>312.21</td>\n",
       "      <td>467.98</td>\n",
       "    </tr>\n",
       "    <tr>\n",
       "      <th>Aug</th>\n",
       "      <td>270.26</td>\n",
       "      <td>214.18</td>\n",
       "      <td>353.55</td>\n",
       "      <td>294.33</td>\n",
       "      <td>393.35</td>\n",
       "    </tr>\n",
       "    <tr>\n",
       "      <th>Sep</th>\n",
       "      <td>256.68</td>\n",
       "      <td>189.69</td>\n",
       "      <td>311.05</td>\n",
       "      <td>244.44</td>\n",
       "      <td>369.14</td>\n",
       "    </tr>\n",
       "    <tr>\n",
       "      <th>Oct</th>\n",
       "      <td>236.99</td>\n",
       "      <td>163.01</td>\n",
       "      <td>291.57</td>\n",
       "      <td>222.41</td>\n",
       "      <td>361.07</td>\n",
       "    </tr>\n",
       "    <tr>\n",
       "      <th>Nov</th>\n",
       "      <td>243.78</td>\n",
       "      <td>153.87</td>\n",
       "      <td>285.67</td>\n",
       "      <td>193.31</td>\n",
       "      <td>312.66</td>\n",
       "    </tr>\n",
       "    <tr>\n",
       "      <th>Dec</th>\n",
       "      <td>220.69</td>\n",
       "      <td>131.21</td>\n",
       "      <td>255.57</td>\n",
       "      <td>189.57</td>\n",
       "      <td>292.49</td>\n",
       "    </tr>\n",
       "  </tbody>\n",
       "</table>\n",
       "</div>"
      ],
      "text/plain": [
       "borough         Bronx  Brooklyn  Manhattan  Queens  Staten Island\n",
       "month_of_bite                                                    \n",
       "Jan            218.65    129.02     247.31  153.82         300.56\n",
       "Feb            201.68    135.23     259.70  172.52         278.37\n",
       "Mar            234.27    138.15     261.47  194.97         322.75\n",
       "Apr            242.42    182.74     307.51  232.80         381.24\n",
       "May            275.01    192.61     359.45  259.83         415.53\n",
       "Jun            266.19    228.79     341.15  312.21         421.59\n",
       "Jul            304.21    224.04     315.18  312.21         467.98\n",
       "Aug            270.26    214.18     353.55  294.33         393.35\n",
       "Sep            256.68    189.69     311.05  244.44         369.14\n",
       "Oct            236.99    163.01     291.57  222.41         361.07\n",
       "Nov            243.78    153.87     285.67  193.31         312.66\n",
       "Dec            220.69    131.21     255.57  189.57         292.49"
      ]
     },
     "execution_count": 25,
     "metadata": {},
     "output_type": "execute_result"
    }
   ],
   "source": [
    "#creating a copy of the dataset monthly_bites_by_borough\n",
    "bites_per_population = monthly_bites_by_borough.copy()\n",
    "\n",
    "#dividing the values in dataset by the corresponding number of millions of residents, rounding to 2 decimal places\n",
    "for i in bites_per_population:\n",
    "    bites_per_population[i] = round(bites_per_population[i]/population[i],2)\n",
    "\n",
    "bites_per_population"
   ]
  },
  {
   "cell_type": "markdown",
   "id": "6870823f-bd6e-4eeb-a9f3-aa92e78e8afb",
   "metadata": {},
   "source": [
    "**Visualizing new table on a heat map:**"
   ]
  },
  {
   "cell_type": "code",
   "execution_count": 26,
   "id": "7acd54d2-1eeb-4834-aba6-83fdbec2250d",
   "metadata": {},
   "outputs": [
    {
     "data": {
      "image/png": "[encoded data removed]",
      "text/plain": [
       "<Figure size 2000x500 with 2 Axes>"
      ]
     },
     "metadata": {},
     "output_type": "display_data"
    }
   ],
   "source": [
    "#creating heatmap\n",
    "plt.figure(figsize=(20, 5))\n",
    "\n",
    "sns.heatmap(\n",
    "    bites_per_population, ax=plt.subplot(1, 2, 1),  cmap=\"coolwarm\", annot=True, fmt='.0f',cbar_kws={'label': '\\n number of cases over 8 years per 1 million residents'}\n",
    ")\n",
    "\n",
    "plt.yticks(rotation=0)\n",
    "\n",
    "#assigning axes and titles\n",
    "plt.title('Distribution of bite cases by district and month\\n per 1 million residents\\n')\n",
    "plt.xlabel('New York Boroughs') \n",
    "plt.ylabel('Month (data for 2015-2022)');"
   ]
  },
  {
   "cell_type": "markdown",
   "id": "81277cc5-ee59-41a3-8e38-6a959849336b",
   "metadata": {},
   "source": [
    "Let's find out how many bites are registered on average per year in the leading borough of Staten Island."
   ]
  },
  {
   "cell_type": "code",
   "execution_count": 27,
   "id": "04335dd7-350d-4bd9-bb0b-e3eaa0c23d95",
   "metadata": {},
   "outputs": [
    {
     "data": {
      "text/plain": [
       "539.59125"
      ]
     },
     "execution_count": 27,
     "metadata": {},
     "output_type": "execute_result"
    }
   ],
   "source": [
    "#divide the sum of the 'Staten Island' column by 8 years\n",
    "bites_per_population['Staten Island'].sum()/8"
   ]
  },
  {
   "cell_type": "markdown",
   "id": "10aaceac-e4f3-4aab-9cf1-f3e7d02d9482",
   "metadata": {},
   "source": [
    "**Observations:**\n",
    "\n",
    "The situation has changed. Since Staten Island has the smallest population, the borough has become the first in terms of events per resident (540 per 1 million people per year)"
   ]
  },
  {
   "cell_type": "markdown",
   "id": "53e2886a-c9df-494d-b9a8-9fc82c67ef00",
   "metadata": {},
   "source": [
    "#### Interim conclusion\n",
    "\n",
    "* The largest number of events per capita occur in Staten Island\n",
    "* Fewest number of events per capita occur in Brooklyn"
   ]
  },
  {
   "cell_type": "markdown",
   "id": "d7c4aa83-dffb-49ec-a407-c47bd010f016",
   "metadata": {},
   "source": [
    "### Identifying aggressive breeds\n",
    "\n",
    "Information about the dog breed is contained in the `breed` column. We found out that this column contains raw data, lets try to correct it at least partially in order to understand the main trends."
   ]
  },
  {
   "cell_type": "code",
   "execution_count": 28,
   "id": "d6231049-636f-4ebe-9757-23e3582c848d",
   "metadata": {},
   "outputs": [
    {
     "name": "stdout",
     "output_type": "stream",
     "text": [
      "Number of unique breeds before data cleaning — 1701\n"
     ]
    }
   ],
   "source": [
    "print('Number of unique breeds before data cleaning —', len(data['breed'].unique().tolist()))"
   ]
  },
  {
   "cell_type": "code",
   "execution_count": 29,
   "id": "050c8a7e-380a-4c8a-8625-1701c07ffc6e",
   "metadata": {},
   "outputs": [
    {
     "name": "stdout",
     "output_type": "stream",
     "text": [
      "Number of unique breeds after data cleaning — 1521\n"
     ]
    }
   ],
   "source": [
    "#converting all names to lowercase\n",
    "data['breed'] = data['breed'].str.lower()\n",
    "#unifying the spelling of mixed breeds\n",
    "data['breed'] = data['breed'].str.replace(' x', '')\n",
    "data['breed'] = data['breed'].str.replace(' / ', '/')\n",
    "data['breed'] = data['breed'].str.replace('/ ', '/')\n",
    "data['breed'] = data['breed'].str.replace(' /', '/')\n",
    "data['breed'] = data['breed'].str.replace('mix/other', 'unknown')\n",
    "data['breed'] = data['breed'].str.replace('mixed', 'unknown')\n",
    "data['breed'] = data['breed'].str.replace('mixed/other', 'unknown')\n",
    "data['breed'] = data['breed'].str.replace('mixed breed', 'unknown')\n",
    "data['breed'] = data['breed'].str.replace('unknown breed', 'unknown')\n",
    "data['breed'] = data['breed'].str.replace('unknown/other', 'unknown')\n",
    "data['breed'] = data['breed'].str.replace('american pit bull terrier/pit bull', 'american pit bull/pit bull mix')\n",
    "data['breed'] = data['breed'].str.replace('american pit bull mix/pit bull mix', 'american pit bull/pit bull mix')\n",
    "\n",
    "print('Number of unique breeds after data cleaning —', len(data['breed'].unique().tolist()))"
   ]
  },
  {
   "cell_type": "markdown",
   "id": "79d22457-1890-45eb-a28b-f0c09261ad5a",
   "metadata": {},
   "source": [
    "We managed to eliminate 180 duplicates in the names, but the data is still quite littered, let's look, for example, the options with the word \"german\", since the word \"shepherd\" is often written with typos. We will count the number of variations and look at the first 15 of them."
   ]
  },
  {
   "cell_type": "code",
   "execution_count": 30,
   "id": "ddeab8a7-dcaa-440a-ae6a-8a465e289e97",
   "metadata": {},
   "outputs": [
    {
     "data": {
      "text/plain": [
       "['german shepherd',\n",
       " 'german shepherd crossbreed',\n",
       " 'german shepherd/golden retriever',\n",
       " 'german shepherd/labrador mix',\n",
       " 'german pinscher',\n",
       " 'german shep, pit bull & husky mix',\n",
       " 'pit bull/german shepherd mix',\n",
       " 'german shepherd/siberian husky mix',\n",
       " 'german shepherd mix',\n",
       " 'german sheperd/pitbull',\n",
       " 'husky/german shepherd mix',\n",
       " 'german shepher mix',\n",
       " 'astralian cattle/german pointer mix',\n",
       " 'golden retreiver/german shepherd',\n",
       " 'german shepard mix']"
      ]
     },
     "metadata": {},
     "output_type": "display_data"
    },
    {
     "name": "stdout",
     "output_type": "stream",
     "text": [
      "\n",
      " Amount of unique variations with word 'german' 50\n"
     ]
    }
   ],
   "source": [
    "myvar = 'german'\n",
    "display(data.loc[data['breed'].str.contains(myvar)]['breed'].unique().tolist()[:15])\n",
    "print('\\n Amount of unique variations with word \\'german\\'', len(data.loc[data['breed'].str.contains(myvar)]['breed'].unique().tolist()))"
   ]
  },
  {
   "cell_type": "markdown",
   "id": "e159438d-3145-436a-9308-cfb04cf23d25",
   "metadata": {},
   "source": [
    "So, with German Shepherds alone, there are 50 spelling variations and mixed breeds.\n",
    "\n",
    "So we can't draw any precise conclusions from the breed information in the dataframe.\n",
    "But we can look at the top breeds by frequency:"
   ]
  },
  {
   "cell_type": "code",
   "execution_count": 31,
   "id": "bf3db829-ed68-4c70-8759-246c287aae4b",
   "metadata": {},
   "outputs": [
    {
     "data": {
      "text/plain": [
       "breed\n",
       "unknown                           27.01\n",
       "pit bull                          17.86\n",
       "american pit bull/pit bull mix     4.29\n",
       "shih tzu                           3.14\n",
       "chihuahua                          2.86\n",
       "german shepherd                    2.73\n",
       "yorkshire terrier                  2.11\n",
       "maltese                            1.64\n",
       "rottweiler                         1.42\n",
       "siberian husky                     1.38\n",
       "labrador retriever                 1.18\n",
       "poodle, standard                   1.11\n",
       "bull dog                           0.98\n",
       "jack russ                          0.78\n",
       "terrier                            0.76\n",
       "cocker spaniel                     0.68\n",
       "labrador retriever crossbreed      0.66\n",
       "beagle                             0.64\n",
       "golden retriever                   0.60\n",
       "shiba inu                          0.56\n",
       "Name: proportion, dtype: float64"
      ]
     },
     "execution_count": 31,
     "metadata": {},
     "output_type": "execute_result"
    }
   ],
   "source": [
    "#look at the top 20 most common breeds excluding 'unknown'. show the relative frequencies of the unique values\n",
    "\n",
    "breed_top = data['breed'].value_counts().head(21)[1:]\n",
    "breed_top = breed_top.to_frame().reset_index()\n",
    "round(data['breed'].value_counts(normalize=True).head(20)*100,2)"
   ]
  },
  {
   "cell_type": "markdown",
   "id": "b8793ff4-b135-4d12-bf9c-8a0677939bde",
   "metadata": {},
   "source": [
    "**Observations:**\n",
    "\n",
    "* in 17% of cases, the breed is `pit bull`, also the next most popular (4%) is a pit bull crossbreed.\n",
    "\n",
    "Even taking into account that the data in the column is not perfect, it can be assumed that this breed is in the lead by a large margin.\n",
    "Just in case, let's clarify the top breeds in New York.\n",
    "\n",
    "Data for 2021 is available on the <a href=\"https://www.akc.org/expert-advice/news/most-popular-dog-breeds-city-2021/\">American Kennel Club</a> website — a registry of purebred dog pedigrees in the United States. According to this organization, the top 5 most popular breeds in New York are:\n",
    "\n",
    "1 — `French Bulldog`\\\n",
    "2 — `Poodle`\\\n",
    "3 — `Golden Retriever`\\\n",
    "4 — `Bulldog`\\\n",
    "5 — `Labrador Retriever`\n",
    "\n",
    "Thus, pit bulls are the leaders in attacks, despite the fact that they are not in the top 5 popular breeds.\n",
    "\n",
    "**Let's look at the division by breeds on the graph (for the top 20 most common breeds, excluding `unknown`)**"
   ]
  },
  {
   "cell_type": "code",
   "execution_count": 32,
   "id": "85625503-827b-4def-aebf-09885a28a271",
   "metadata": {},
   "outputs": [
    {
     "data": {
      "image/png": "[encoded data removed]",
      "text/plain": [
       "<Figure size 1000x500 with 1 Axes>"
      ]
     },
     "metadata": {},
     "output_type": "display_data"
    }
   ],
   "source": [
    "#creating plot\n",
    "plt.figure(figsize=(10, 5))\n",
    "sns.barplot(data=breed_top, x='count', y='breed', errorbar=None)\n",
    "\n",
    "#assigning axes and titles\n",
    "plt.title('Distribution of cases by breed')\n",
    "plt.xlabel('Number of registered cases (data for 2015-2022)') \n",
    "plt.ylabel('Breed');"
   ]
  },
  {
   "cell_type": "markdown",
   "id": "79adcdf0-61e4-4c94-9701-f2e794c30e17",
   "metadata": {},
   "source": [
    "**Let's evaluate the distribution of cases by gender**"
   ]
  },
  {
   "cell_type": "code",
   "execution_count": 33,
   "id": "1deb1448-247b-46fa-ba5f-122b4d269ff2",
   "metadata": {},
   "outputs": [
    {
     "data": {
      "text/plain": [
       "gender\n",
       "U    47.728819\n",
       "M    37.803658\n",
       "F    14.467523\n",
       "Name: proportion, dtype: float64"
      ]
     },
     "execution_count": 33,
     "metadata": {},
     "output_type": "execute_result"
    }
   ],
   "source": [
    "data['gender'].value_counts(normalize=True)*100 #counting unique values in a column and counting percentage"
   ]
  },
  {
   "cell_type": "markdown",
   "id": "8b60ca1b-7e24-4af5-bdef-6de48273b183",
   "metadata": {},
   "source": [
    "**Observations:**\n",
    "\n",
    "* in 48% of cases the sex of the animal remained unknown\n",
    "* in cases where the sex of the animal was indicated, males were found 2.64 times more often than females"
   ]
  },
  {
   "cell_type": "markdown",
   "id": "d37693b7-f229-44b6-85bf-5a5f08a87b9b",
   "metadata": {},
   "source": [
    "#### Interim conclusion\n",
    "\n",
    "We analyzed the `breed` and `gender` columns and made the following conclusions:\n",
    "\n",
    "* in cases where the animal's gender was specified, males are encountered 2.64 times more often\n",
    "* pit bulls lead in the number of cases by a fairly large margin (14% of all attacks)\n",
    "* we found out that for a more accurate study of breed aggressiveness, the data in the column is too polluted with errors and duplicates, and we also do not have accurate information on the number of dogs of each breed in the city."
   ]
  },
  {
   "cell_type": "markdown",
   "id": "bfafc54a-a280-41ab-964e-a2a3b14f84f5",
   "metadata": {},
   "source": [
    "### Research Results"
   ]
  },
  {
   "cell_type": "markdown",
   "id": "fc54e404-e1bb-4a2f-b8f2-3a45f6e3c013",
   "metadata": {},
   "source": [
    "Progress of the study::\n",
    "\n",
    "**`Data preprocessing:`**\n",
    "\n",
    "* removed unnecessary columns and brought the names to a single spelling\n",
    "* checked the dataset for missing data and filled it with suitable values\n",
    "* checked the dataset for exact and partial duplicates, found that breed column contains raw data\n",
    "* changed the data type in the 'date_of_bite' column to the appropriate one, and added additional columns with the month and year of the case.\n",
    "\n",
    "**`Exploratory data analysis and the following conclusions:`**\n",
    "\n",
    "* **The hypothesis that seasonality affects the number of attacks was confirmed.** In the winter months, on average, 34.5% fewer cases were recorded than in summer.\n",
    "* Found out **the leading borough in terms of the number of cases is Staten Island**, where there are an average of 540 attacks per million residents per year.\n",
    "* In cases where the animal's gender was specified, **males are 2.64 times more common than females**\n",
    "* **Pit bull terriers lead in the number of attacks by a fairly large margin (14% of all attacks)**, but we cannot draw more detailed conclusions from the available data\n",
    "\n",
    "The publication of the results of the analysis can help raise awareness among people about the risks associated with dog bites and encourage them to treat animals more responsibly."
   ]
  }
 ],
 "metadata": {
  "kernelspec": {
   "display_name": "Python 3 (ipykernel)",
   "language": "python",
   "name": "python3"
  },
  "language_info": {
   "codemirror_mode": {
    "name": "ipython",
    "version": 3
   },
   "file_extension": ".py",
   "mimetype": "text/x-python",
   "name": "python",
   "nbconvert_exporter": "python",
   "pygments_lexer": "ipython3",
   "version": "3.11.9"
  }
 },
 "nbformat": 4,
 "nbformat_minor": 5
}
